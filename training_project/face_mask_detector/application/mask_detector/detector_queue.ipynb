{
 "cells": [
  {
   "cell_type": "code",
   "execution_count": null,
   "metadata": {
    "collapsed": true,
    "pycharm": {
     "is_executing": true
    }
   },
   "outputs": [],
   "source": [
    "import time\n",
    "# import mtcnn\n",
    "import cv2\n",
    "import imutils\n",
    "import numpy as np\n",
    "from imutils.video import WebcamVideoStream\n",
    "from keras.applications.mobilenet_v2 import preprocess_input\n",
    "from keras.models import load_model\n",
    "from keras.preprocessing.image import img_to_array\n",
    "from queue import Queue\n",
    "from threading import Thread, enumerate\n",
    "\n",
    "import random"
   ]
  },
  {
   "cell_type": "code",
   "execution_count": 2,
   "outputs": [],
   "source": [
    "def detect_and_predict_mask(frame, mask_net):\n",
    "    faces = []\n",
    "    locs = []\n",
    "    preds = []\n",
    "\n",
    "    # detector = mtcnn.MTCNN()\n",
    "    # rgb = cv2.cvtColor(frame, cv2.COLOR_BGR2RGB)\n",
    "    # img_h, img_w = rgb.shape[:2]\n",
    "    # bboxes = detector.detect_faces(rgb)\n",
    "    # for bbox in bboxes:\n",
    "    #     (x, y, w, h) = bbox['box']\n",
    "    #     padding = 35\n",
    "    #     (crop_x0, crop_x1) = (x - padding if x > padding else 0, x + w + padding if x + w + padding < img_w else img_w)\n",
    "    #     (crop_y0, crop_y1) = (y - padding if y > padding else 0, y + h + padding if y + h + padding < img_h else img_h)\n",
    "    #     face = rgb[crop_y0:crop_y1, crop_x0:crop_x1]\n",
    "    #     face = cv2.resize(face, (224, 224))\n",
    "    #\n",
    "    #     face = img_to_array(face)\n",
    "    #     face = preprocess_input(face)\n",
    "    #\n",
    "    #     faces.append(face)\n",
    "    #     locs.append((x, y, x + w, y + h))\n",
    "    #\n",
    "    # if len(faces) > 0:\n",
    "    #     faces = np.array(faces, dtype=\"float32\")\n",
    "    #     preds = mask_net.predict(faces, batch_size=32)\n",
    "    #\n",
    "    # return (locs, preds)"
   ],
   "metadata": {
    "collapsed": false,
    "pycharm": {
     "name": "#%%\n"
    }
   }
  },
  {
   "cell_type": "code",
   "execution_count": 3,
   "outputs": [],
   "source": [
    "def set_saved_video(input_video, output_video, size):\n",
    "    fourcc = cv2.VideoWriter_fourcc(*\"MJPG\")\n",
    "    fps = int(input_video.get(cv2.CAP_PROP_FPS))\n",
    "    video = cv2.VideoWriter(output_video, fourcc, fps, size)\n",
    "    return video"
   ],
   "metadata": {
    "collapsed": false,
    "pycharm": {
     "name": "#%%\n"
    }
   }
  },
  {
   "cell_type": "code",
   "execution_count": 4,
   "outputs": [],
   "source": [
    "def video_capture(frame_queue):\n",
    "    while cap.isOpened():\n",
    "        print('put frame')\n",
    "        ret, frame = cap.read()\n",
    "        if not ret:\n",
    "            break\n",
    "        frame_resized = cv2.resize(frame, (video_width, video_height),\n",
    "                       interpolation=cv2.INTER_LINEAR)\n",
    "        frame_queue.put(frame_resized)\n",
    "    cap.release()"
   ],
   "metadata": {
    "collapsed": false,
    "pycharm": {
     "name": "#%%\n"
    }
   }
  },
  {
   "cell_type": "code",
   "execution_count": 5,
   "outputs": [],
   "source": [
    "def inference(frame_queue, detections_queue, fps_queue):\n",
    "    frame = frame_queue.get()\n",
    "    prev_time = time.time()\n",
    "    # (locs, preds) = detect_and_predict_mask(frame=frame, mask_net=maskNet)\n",
    "    # detections_queue.put((locs, preds))\n",
    "    fps = int(1/(time.time() - prev_time))\n",
    "    fps_queue.put(fps)\n",
    "    print(\"FPS: {}\".format(fps))\n",
    "    cap.release()"
   ],
   "metadata": {
    "collapsed": false,
    "pycharm": {
     "name": "#%%\n"
    }
   }
  },
  {
   "cell_type": "code",
   "execution_count": 6,
   "outputs": [],
   "source": [
    "def drawing(frame_queue, detections_queue, fps_queue):\n",
    "    random.seed(3)  # deterministic bbox colors\n",
    "    video = set_saved_video(cap, 'output.avi', (640, 480))\n",
    "\n",
    "    while cap.isOpened():\n",
    "        fps = fps_queue.get()\n",
    "        frame = frame_queue.get()\n",
    "        # (locs, preds) = detections_queue.get()\n",
    "        # loop over the recognized faces\n",
    "        # for (box, pred) in zip(locs, preds):\n",
    "        #     (startX, startY, endX, endY) = box\n",
    "        #     (mask, withoutMask) = pred\n",
    "        #\n",
    "        #     (label, color) = (\"Mask\", (0, 255, 0)) if mask > withoutMask else (\"No Mask\", (0, 0, 255))\n",
    "        #     label = \"{}: {:.2f}%\".format(label, max(mask, withoutMask) * 100)\n",
    "        #\n",
    "        #     cv2.putText(frame, label, (startX, startY - 10), cv2.FONT_HERSHEY_SIMPLEX, 0.45, color, 2)\n",
    "        #     cv2.rectangle(frame, (startX, startY), (endX, endY), color, 2)\n",
    "        cv2.imshow('Inference', frame)\n",
    "        video.write(frame)\n",
    "        if cv2.waitKey(fps) == 27:\n",
    "            break\n",
    "    cap.release()\n",
    "    video.release()\n",
    "    cv2.destroyAllWindows()"
   ],
   "metadata": {
    "collapsed": false,
    "pycharm": {
     "name": "#%%\n"
    }
   }
  },
  {
   "cell_type": "code",
   "execution_count": 7,
   "outputs": [],
   "source": [
    "def load_stream():\n",
    "    print(\"[INFO] starting video stream...\")\n",
    "    cap = cv2.VideoCapture(r'sample2.mp4')\n",
    "\n",
    "    return cap"
   ],
   "metadata": {
    "collapsed": false,
    "pycharm": {
     "name": "#%%\n"
    }
   }
  },
  {
   "cell_type": "code",
   "execution_count": 8,
   "outputs": [
    {
     "name": "stdout",
     "output_type": "stream",
     "text": [
      "[INFO] starting video stream...\n",
      "put frame\n"
     ]
    }
   ],
   "source": [
    "display_option=1\n",
    "\n",
    "cap = load_stream()\n",
    "# threading.Thread(target = timetout, args=(30,)).start()\n",
    "maskNet = load_model(r'../../saved_model/model')\n",
    "\n",
    "frame_queue = Queue()\n",
    "# darknet_image_queue = Queue(maxsize=1)\n",
    "detections_queue = Queue(maxsize=1)\n",
    "fps_queue = Queue(maxsize=1)\n",
    "video_width = 640\n",
    "video_height = 480\n",
    "Thread(target=video_capture, args=(frame_queue,)).start()\n",
    "Thread(target=inference, args=(frame_queue, detections_queue, fps_queue)).start()\n",
    "Thread(target=drawing, args=(frame_queue, detections_queue, fps_queue)).start()\n"
   ],
   "metadata": {
    "collapsed": false,
    "pycharm": {
     "name": "#%%\n"
    }
   }
  }
 ],
 "metadata": {
  "kernelspec": {
   "display_name": "Python 3",
   "language": "python",
   "name": "python3"
  },
  "language_info": {
   "codemirror_mode": {
    "name": "ipython",
    "version": 2
   },
   "file_extension": ".py",
   "mimetype": "text/x-python",
   "name": "python",
   "nbconvert_exporter": "python",
   "pygments_lexer": "ipython2",
   "version": "2.7.6"
  }
 },
 "nbformat": 4,
 "nbformat_minor": 0
}