{
 "cells": [
  {
   "cell_type": "code",
   "execution_count": 1,
   "metadata": {
    "collapsed": true
   },
   "outputs": [],
   "source": [
    "import argparse\n",
    "import time\n",
    "import mtcnn\n",
    "import cv2\n",
    "import imutils\n",
    "import numpy as np\n",
    "from imutils.video import WebcamVideoStream\n",
    "from keras.applications.mobilenet_v2 import preprocess_input\n",
    "from keras.models import load_model\n",
    "from keras.preprocessing.image import img_to_array"
   ]
  },
  {
   "cell_type": "code",
   "execution_count": 2,
   "outputs": [],
   "source": [
    "def detect_and_predict_mask(frame, mask_net):\n",
    "    faces = []\n",
    "    locs = []\n",
    "    preds = []\n",
    "\n",
    "    detector = mtcnn.MTCNN()\n",
    "    rgb = cv2.cvtColor(frame, cv2.COLOR_BGR2RGB)\n",
    "    img_h, img_w = rgb.shape[:2]\n",
    "    bboxes = detector.detect_faces(rgb)\n",
    "    for bbox in bboxes:\n",
    "        (x, y, w, h) = bbox['box']\n",
    "        padding = 35\n",
    "        (crop_x0, crop_x1) = (x - padding if x > padding else 0, x + w + padding if x + w + padding < img_w else img_w)\n",
    "        (crop_y0, crop_y1) = (y - padding if y > padding else 0, y + h + padding if y + h + padding < img_h else img_h)\n",
    "        face = rgb[crop_y0:crop_y1, crop_x0:crop_x1]\n",
    "        face = cv2.resize(face, (224, 224))\n",
    "\n",
    "        face = img_to_array(face)\n",
    "        face = preprocess_input(face)\n",
    "\n",
    "        faces.append(face)\n",
    "        locs.append((x, y, x + w, y + h))\n",
    "\n",
    "    if len(faces) > 0:\n",
    "        faces = np.array(faces, dtype=\"float32\")\n",
    "        preds = mask_net.predict(faces, batch_size=32)\n",
    "\n",
    "\n",
    "\n",
    "    return (locs, preds)"
   ],
   "metadata": {
    "collapsed": false,
    "pycharm": {
     "name": "#%%\n"
    }
   }
  },
  {
   "cell_type": "code",
   "execution_count": 3,
   "outputs": [
    {
     "name": "stdout",
     "output_type": "stream",
     "text": [
      "[INFO] starting video stream...\n"
     ]
    }
   ],
   "source": [
    "from imutils.video import FileVideoStream\n",
    "maskNet = load_model(r'../../saved_model/model')\n",
    "\n",
    "\n",
    "\n",
    "# initialize the video stream and pointer to output video file, then\n",
    "# allow the camera sensor to warm up\n",
    "print(\"[INFO] starting video stream...\")\n",
    "\n",
    "def load_stream(from_cam=False):\n",
    "\n",
    "    if from_cam:\n",
    "        # 啟動WebCam\n",
    "        vs = WebcamVideoStream().start()\n",
    "        time.sleep(2.0)\n",
    "    else:\n",
    "        vs = FileVideoStream(r'sample2.mp4').start()\n",
    "        time.sleep(2.0)\n",
    "\n",
    "    return vs"
   ],
   "metadata": {
    "collapsed": false,
    "pycharm": {
     "name": "#%%\n"
    }
   }
  },
  {
   "cell_type": "code",
   "execution_count": null,
   "outputs": [
    {
     "name": "stdout",
     "output_type": "stream",
     "text": [
      "WARNING:tensorflow:5 out of the last 11 calls to <function Model.make_predict_function.<locals>.predict_function at 0x000002E3D846BA60> triggered tf.function retracing. Tracing is expensive and the excessive number of tracings could be due to (1) creating @tf.function repeatedly in a loop, (2) passing tensors with different shapes, (3) passing Python objects instead of tensors. For (1), please define your @tf.function outside of the loop. For (2), @tf.function has experimental_relax_shapes=True option that relaxes argument shapes that can avoid unnecessary retracing. For (3), please refer to https://www.tensorflow.org/guide/function#controlling_retracing and https://www.tensorflow.org/api_docs/python/tf/function for  more details.\n",
      "WARNING:tensorflow:5 out of the last 11 calls to <function Model.make_predict_function.<locals>.predict_function at 0x000002E3D1F124C0> triggered tf.function retracing. Tracing is expensive and the excessive number of tracings could be due to (1) creating @tf.function repeatedly in a loop, (2) passing tensors with different shapes, (3) passing Python objects instead of tensors. For (1), please define your @tf.function outside of the loop. For (2), @tf.function has experimental_relax_shapes=True option that relaxes argument shapes that can avoid unnecessary retracing. For (3), please refer to https://www.tensorflow.org/guide/function#controlling_retracing and https://www.tensorflow.org/api_docs/python/tf/function for  more details.\n"
     ]
    }
   ],
   "source": [
    "display_option=1\n",
    "\n",
    "vs = load_stream(from_cam=False)\n",
    "# threading.Thread(target = timetout, args=(30,)).start()\n",
    "\n",
    "out = cv2.VideoWriter('output.avi', -1, 20.0, (640,480))\n",
    "\n",
    "while True:\n",
    "    frame = vs.read()\n",
    "    frame = imutils.resize(frame, width=480,height=640)\n",
    "\n",
    "    (locs, preds) = detect_and_predict_mask(frame, maskNet)\n",
    "    # loop over the recognized faces\n",
    "    for (box, pred) in zip(locs, preds):\n",
    "        (startX, startY, endX, endY) = box\n",
    "        (mask, withoutMask) = pred\n",
    "\n",
    "        (label, color) = (\"Mask\", (0, 255, 0)) if mask > withoutMask else (\"No Mask\", (0, 0, 255))\n",
    "        label = \"{}: {:.2f}%\".format(label, max(mask, withoutMask) * 100)\n",
    "\n",
    "        cv2.putText(frame, label, (startX, startY - 10), cv2.FONT_HERSHEY_SIMPLEX, 0.45, color, 2)\n",
    "        cv2.rectangle(frame, (startX, startY), (endX, endY), color, 2)\n",
    "    cv2.imshow(\"Frame\", frame)\n",
    "    out.write(frame)\n",
    "    if cv2.waitKey(1) & 0xFF == ord(\"q\"):\n",
    "       break\n",
    "cv2.destroyAllWindows()\n",
    "out.release()\n",
    "vs.stop()"
   ],
   "metadata": {
    "collapsed": false,
    "pycharm": {
     "name": "#%%\n",
     "is_executing": true
    }
   }
  }
 ],
 "metadata": {
  "kernelspec": {
   "display_name": "Python 3",
   "language": "python",
   "name": "python3"
  },
  "language_info": {
   "codemirror_mode": {
    "name": "ipython",
    "version": 2
   },
   "file_extension": ".py",
   "mimetype": "text/x-python",
   "name": "python",
   "nbconvert_exporter": "python",
   "pygments_lexer": "ipython2",
   "version": "2.7.6"
  }
 },
 "nbformat": 4,
 "nbformat_minor": 0
}