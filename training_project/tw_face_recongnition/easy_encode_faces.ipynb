{
 "cells": [
  {
   "cell_type": "code",
   "execution_count": 1,
   "outputs": [],
   "source": [
    "# USAGE\n",
    "# python encode_faces.py\n",
    "\n",
    "# import the necessary packages\n",
    "from imutils import paths\n",
    "import face_recognition\n",
    "# import argparse\n",
    "import pickle\n",
    "import cv2\n",
    "import os"
   ],
   "metadata": {
    "collapsed": false,
    "pycharm": {
     "name": "#%%\n"
    }
   }
  },
  {
   "cell_type": "code",
   "execution_count": 2,
   "metadata": {
    "collapsed": true
   },
   "outputs": [
    {
     "name": "stdout",
     "output_type": "stream",
     "text": [
      "[INFO] quantifying faces...\n",
      "[INFO] processing image 1/35\n",
      "[INFO] processing image 2/35\n",
      "[INFO] processing image 3/35\n",
      "[INFO] processing image 4/35\n",
      "[INFO] processing image 5/35\n",
      "[INFO] processing image 6/35\n",
      "[INFO] processing image 7/35\n",
      "[INFO] processing image 8/35\n",
      "[INFO] processing image 9/35\n",
      "[INFO] processing image 10/35\n",
      "[INFO] processing image 11/35\n",
      "[INFO] processing image 12/35\n",
      "[INFO] processing image 13/35\n",
      "[INFO] processing image 14/35\n",
      "[INFO] processing image 15/35\n",
      "[INFO] processing image 16/35\n",
      "[INFO] processing image 17/35\n",
      "[INFO] processing image 18/35\n",
      "[INFO] processing image 19/35\n",
      "[INFO] processing image 20/35\n",
      "[INFO] processing image 21/35\n",
      "[INFO] processing image 22/35\n",
      "[INFO] processing image 23/35\n",
      "[INFO] processing image 24/35\n",
      "[INFO] processing image 25/35\n",
      "[INFO] processing image 26/35\n",
      "[INFO] processing image 27/35\n",
      "[INFO] processing image 28/35\n",
      "[INFO] processing image 29/35\n",
      "[INFO] processing image 30/35\n",
      "[INFO] processing image 31/35\n",
      "[INFO] processing image 32/35\n",
      "[INFO] processing image 33/35\n",
      "[INFO] processing image 34/35\n",
      "[INFO] processing image 35/35\n",
      "[INFO] serializing encodings...\n"
     ]
    }
   ],
   "source": [
    "dataset_path='dataset'\n",
    "encoding_filename='encodings.pickle'\n",
    "detection_method='cnn'\n",
    "# construct the argument parser and parse the arguments\n",
    "'''\n",
    "ap = argparse.ArgumentParser()\n",
    "ap.add_argument(\"-i\", \"--dataset\", required=True,\n",
    "\thelp=\"path to input directory of faces + images\")\n",
    "ap.add_argument(\"-e\", \"--encodings\", required=True,\n",
    "\thelp=\"path to serialized db of facial encodings\")\n",
    "ap.add_argument(\"-d\", \"--detection-method\", type=str, default=\"cnn\",\n",
    "\thelp=\"face detection model to use: either `hog` or `cnn`\")\n",
    "args = vars(ap.parse_args())\n",
    "'''\n",
    "# grab the paths to the input images in our dataset\n",
    "print(\"[INFO] quantifying faces...\")\n",
    "imagePaths = list(paths.list_images(dataset_path))\n",
    "# print('imagePaths=',imagePaths)\n",
    "\n",
    "# initialize the list of known encodings and known names\n",
    "knownEncodings = []\n",
    "knownNames = []\n",
    "\n",
    "# loop over the image paths\n",
    "for (i, imagePath) in enumerate(imagePaths):\n",
    "    # extract the person name from the image path\n",
    "    print(\"[INFO] processing image {}/{}\".format(i + 1,\n",
    "        len(imagePaths)))\n",
    "    name = imagePath.split(os.path.sep)[-2]\n",
    "    # test_name = imagePath.split(os.path.sep)[1]\n",
    "\n",
    "    # load the input image and convert it from RGB (OpenCV ordering)\n",
    "    # to dlib ordering (RGB)\n",
    "    # print('test_name=', test_name)\n",
    "    image = cv2.imread(imagePath)\n",
    "    rgb = cv2.cvtColor(image, cv2.COLOR_BGR2RGB)\n",
    "\n",
    "    # detect the (x, y)-coordinates of the bounding boxes\n",
    "    # corresponding to each face in the input image\n",
    "    boxes = face_recognition.face_locations(rgb,\n",
    "\t\tmodel=detection_method)\n",
    "\n",
    "    # compute the facial embedding for the face\n",
    "    encodings = face_recognition.face_encodings(rgb, boxes)\n",
    "\n",
    "    # loop over the encodings\n",
    "    for encoding in encodings:\n",
    "        # add each encoding + name to our set of known names and\n",
    "        # encodings\n",
    "        knownEncodings.append(encoding)\n",
    "        knownNames.append(name)\n",
    "\n",
    "# dump the facial encodings + names to disk\n",
    "print(\"[INFO] serializing encodings...\")\n",
    "data = {\"encodings\": knownEncodings, \"names\": knownNames}\n",
    "f = open(encoding_filename, \"wb\")\n",
    "f.write(pickle.dumps(data))\n",
    "f.close()"
   ]
  }
 ],
 "metadata": {
  "kernelspec": {
   "display_name": "Python 3",
   "language": "python",
   "name": "python3"
  },
  "language_info": {
   "codemirror_mode": {
    "name": "ipython",
    "version": 2
   },
   "file_extension": ".py",
   "mimetype": "text/x-python",
   "name": "python",
   "nbconvert_exporter": "python",
   "pygments_lexer": "ipython2",
   "version": "2.7.6"
  }
 },
 "nbformat": 4,
 "nbformat_minor": 0
}