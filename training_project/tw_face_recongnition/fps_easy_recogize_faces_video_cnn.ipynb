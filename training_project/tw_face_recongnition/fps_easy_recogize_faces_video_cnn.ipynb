{
 "cells": [
  {
   "cell_type": "code",
   "execution_count": 7,
   "outputs": [],
   "source": [
    "# USAGE\n",
    "# python recognize_faces_video.py\n",
    "# import the necessary packages\n",
    "from imutils.video import FileVideoStream\n",
    "import face_recognition\n",
    "# import argparse\n",
    "import imutils\n",
    "from imutils.video import FPS\n",
    "import pickle\n",
    "import time\n",
    "import cv2"
   ],
   "metadata": {
    "collapsed": false,
    "pycharm": {
     "name": "#%%\n"
    }
   }
  },
  {
   "cell_type": "code",
   "execution_count": 14,
   "metadata": {
    "collapsed": true
   },
   "outputs": [
    {
     "name": "stdout",
     "output_type": "stream",
     "text": [
      "[INFO] loading encodings...\n",
      "[INFO] starting video stream...\n"
     ]
    }
   ],
   "source": [
    "encodings_file='encodings.pickle'\n",
    "detection_method='cnn'\n",
    "display_option=1\n",
    "\n",
    "\n",
    "# load the known faces and embeddings\n",
    "print(\"[INFO] loading encodings...\")\n",
    "data = pickle.loads(open(encodings_file, \"rb\").read())\n",
    "\n",
    "# initialize the video stream and pointer to output video file, then\n",
    "# allow the camera sensor to warm up\n",
    "print(\"[INFO] starting video stream...\")\n",
    "vs = FileVideoStream(r'./data/sample.mp4').start()\n",
    "writer = None\n",
    "time.sleep(2.0)\n",
    "# start the FPS counter\n",
    "fps = FPS().start()\n"
   ]
  },
  {
   "cell_type": "code",
   "execution_count": null,
   "outputs": [
    {
     "name": "stderr",
     "output_type": "stream",
     "text": [
      "The X11 connection broke (error 1). Did the X11 server die?\n"
     ]
    }
   ],
   "source": [
    "# loop over frames from the video file stream\n",
    "while True:\n",
    "\t# grab the frame from the threaded video stream\n",
    "    frame = vs.read()\n",
    "\n",
    "\t# convert the input frame from BGR to RGB then resize it to have\n",
    "\t# a width of 750px (to speedup processing)\n",
    "    rgb = cv2.cvtColor(frame, cv2.COLOR_BGR2RGB)\n",
    "    rgb = imutils.resize(frame, width=750)\n",
    "    r = frame.shape[1] / float(rgb.shape[1])\n",
    "\n",
    "\t# detect the (x, y)-coordinates of the bounding boxes\n",
    "\t# corresponding to each face in the input frame, then compute\n",
    "\t# the facial embeddings for each face\n",
    "    boxes = face_recognition.face_locations(rgb,\n",
    "\t\tmodel=detection_method)\n",
    "    encodings = face_recognition.face_encodings(rgb, boxes)\n",
    "    names = []\n",
    "\n",
    "\t# loop over the facial embeddings\n",
    "    for encoding in encodings:\n",
    "\t\t# attempt to match each face in the input image to our known\n",
    "\t\t# encodings\n",
    "        matches = face_recognition.compare_faces(data[\"encodings\"],\n",
    "\t\t\tencoding, tolerance=0.45)\n",
    "        name = \"Unknown\"\n",
    "\n",
    "\t\t# check to see if we have found a match\n",
    "        if True in matches:\n",
    "\t\t\t# find the indexes of all matched faces then initialize a\n",
    "\t\t\t# dictionary to count the total number of times each face\n",
    "\t\t\t# was matched\n",
    "            matchedIdxs = [i for (i, b) in enumerate(matches) if b]\n",
    "            counts = {}\n",
    "\n",
    "\t\t\t# loop over the matched indexes and maintain a count for\n",
    "\t\t\t# each recognized face face\n",
    "            for i in matchedIdxs:\n",
    "                name = data[\"names\"][i]\n",
    "                counts[name] = counts.get(name, 0) + 1\n",
    "\n",
    "\t\t\t# determine the recognized face with the largest number\n",
    "\t\t\t# of votes (note: in the event of an unlikely tie Python\n",
    "\t\t\t# will select first entry in the dictionary)\n",
    "            name = max(counts, key=counts.get)\n",
    "\n",
    "\t\t# update the list of names\n",
    "        names.append(name)\n",
    "\n",
    "\t# loop over the recognized faces\n",
    "    for ((top, right, bottom, left), name) in zip(boxes, names):\n",
    "\t\t# rescale the face coordinates\n",
    "        top = int(top * r)\n",
    "        right = int(right * r)\n",
    "        bottom = int(bottom * r)\n",
    "        left = int(left * r)\n",
    "\n",
    "\t\t# draw the predicted face name on the image\n",
    "        cv2.rectangle(frame, (left, top), (right, bottom),\n",
    "\t\t\t(0, 255, 0), 2)\n",
    "        y = top - 15 if top - 15 > 15 else top + 15\n",
    "        cv2.putText(frame, name, (left, y), cv2.FONT_HERSHEY_SIMPLEX,\n",
    "\t\t\t0.75, (0, 255, 0), 2)\n",
    "\n",
    "    # check to see if we are supposed to display the output frame to\n",
    "    # the screen\n",
    "    if display_option > 0:\n",
    "        cv2.imshow(\"Frame\", frame)\n",
    "        key = cv2.waitKey(1) & 0xFF\n",
    "\n",
    "\t\t# if the `q` key was pressed, break from the loop\n",
    "        if key == ord(\"q\"):\n",
    "            break\n",
    "    # update the FPS counter\n",
    "    fps.update()\n",
    "\n",
    "# stop the timer and display FPS information\n",
    "fps.stop()\n",
    "print(\"[INFO] elapsed time: {:.2f}\".format(fps.elapsed()))\n",
    "print(\"[INFO] approx. FPS: {:.2f}\".format(fps.fps()))\n",
    "\n",
    "# do a bit of cleanup\n",
    "cv2.destroyAllWindows()\n",
    "vs.stop()\n",
    "\n",
    "# check to see if the video writer point needs to be released\n",
    "if writer is not None:\n",
    "\twriter.release()"
   ],
   "metadata": {
    "collapsed": false,
    "pycharm": {
     "name": "#%%\n",
     "is_executing": true
    }
   }
  },
  {
   "cell_type": "code",
   "execution_count": null,
   "outputs": [],
   "source": [],
   "metadata": {
    "collapsed": false,
    "pycharm": {
     "name": "#%%\n"
    }
   }
  }
 ],
 "metadata": {
  "kernelspec": {
   "display_name": "Python 3",
   "language": "python",
   "name": "python3"
  },
  "language_info": {
   "codemirror_mode": {
    "name": "ipython",
    "version": 2
   },
   "file_extension": ".py",
   "mimetype": "text/x-python",
   "name": "python",
   "nbconvert_exporter": "python",
   "pygments_lexer": "ipython2",
   "version": "2.7.6"
  }
 },
 "nbformat": 4,
 "nbformat_minor": 0
}