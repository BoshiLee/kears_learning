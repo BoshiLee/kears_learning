{
 "cells": [
  {
   "cell_type": "markdown",
   "id": "c01c797c",
   "metadata": {
    "papermill": {
     "duration": 0.060692,
     "end_time": "2022-04-08T15:43:58.874700",
     "exception": false,
     "start_time": "2022-04-08T15:43:58.814008",
     "status": "completed"
    },
    "tags": []
   },
   "source": [
    "# Introduction\n",
    "Hey, thanks for viewing my Kernel!\n",
    "\n",
    "If you like my work, please, leave an upvote: it will be really appreciated and it will motivate me in offering more content to the Kaggle community ! :)\n",
    "\n",
    "EDA was done in this [notebook](https://www.kaggle.com/code/hasanbasriakcay/tpsapr22-eda-fe-baseline)</br>\n",
    "Pseudo Labeling was done in this [notebook](https://www.kaggle.com/code/hasanbasriakcay/tpsapr22-fe-pseudo-labels-baseline)</br>\n",
    "Prediction without NN is in this [notebook](https://www.kaggle.com/code/hasanbasriakcay/tpsapr22-optuna-lgbm-blend)"
   ]
  },
  {
   "cell_type": "code",
   "execution_count": 1,
   "id": "54c25939",
   "metadata": {
    "execution": {
     "iopub.execute_input": "2022-04-08T15:43:58.986136Z",
     "iopub.status.busy": "2022-04-08T15:43:58.984079Z",
     "iopub.status.idle": "2022-04-08T15:44:12.284689Z",
     "shell.execute_reply": "2022-04-08T15:44:12.285250Z",
     "shell.execute_reply.started": "2022-04-08T01:01:55.681105Z"
    },
    "papermill": {
     "duration": 13.365935,
     "end_time": "2022-04-08T15:44:12.285544",
     "exception": false,
     "start_time": "2022-04-08T15:43:58.919609",
     "status": "completed"
    },
    "tags": []
   },
   "outputs": [
    {
     "data": {
      "text/html": [
       "<div>\n",
       "<style scoped>\n",
       "    .dataframe tbody tr th:only-of-type {\n",
       "        vertical-align: middle;\n",
       "    }\n",
       "\n",
       "    .dataframe tbody tr th {\n",
       "        vertical-align: top;\n",
       "    }\n",
       "\n",
       "    .dataframe thead th {\n",
       "        text-align: right;\n",
       "    }\n",
       "</style>\n",
       "<table border=\"1\" class=\"dataframe\">\n",
       "  <thead>\n",
       "    <tr style=\"text-align: right;\">\n",
       "      <th></th>\n",
       "      <th>sequence</th>\n",
       "      <th>subject</th>\n",
       "      <th>step</th>\n",
       "      <th>sensor_00</th>\n",
       "      <th>sensor_01</th>\n",
       "      <th>sensor_02</th>\n",
       "      <th>sensor_03</th>\n",
       "      <th>sensor_04</th>\n",
       "      <th>sensor_05</th>\n",
       "      <th>sensor_06</th>\n",
       "      <th>sensor_07</th>\n",
       "      <th>sensor_08</th>\n",
       "      <th>sensor_09</th>\n",
       "      <th>sensor_10</th>\n",
       "      <th>sensor_11</th>\n",
       "      <th>sensor_12</th>\n",
       "    </tr>\n",
       "  </thead>\n",
       "  <tbody>\n",
       "    <tr>\n",
       "      <th>0</th>\n",
       "      <td>0</td>\n",
       "      <td>47</td>\n",
       "      <td>0</td>\n",
       "      <td>-0.196291</td>\n",
       "      <td>0.112395</td>\n",
       "      <td>1.0</td>\n",
       "      <td>0.329204</td>\n",
       "      <td>-1.004660</td>\n",
       "      <td>-0.131638</td>\n",
       "      <td>-0.127505</td>\n",
       "      <td>0.368702</td>\n",
       "      <td>-0.1</td>\n",
       "      <td>-0.963873</td>\n",
       "      <td>-0.985069</td>\n",
       "      <td>0.531893</td>\n",
       "      <td>4.751492</td>\n",
       "    </tr>\n",
       "    <tr>\n",
       "      <th>1</th>\n",
       "      <td>0</td>\n",
       "      <td>47</td>\n",
       "      <td>1</td>\n",
       "      <td>-0.447450</td>\n",
       "      <td>0.134454</td>\n",
       "      <td>1.0</td>\n",
       "      <td>-0.658407</td>\n",
       "      <td>0.162495</td>\n",
       "      <td>0.340314</td>\n",
       "      <td>-0.209472</td>\n",
       "      <td>-0.867176</td>\n",
       "      <td>0.2</td>\n",
       "      <td>-0.301301</td>\n",
       "      <td>0.082733</td>\n",
       "      <td>-0.231481</td>\n",
       "      <td>0.454390</td>\n",
       "    </tr>\n",
       "    <tr>\n",
       "      <th>2</th>\n",
       "      <td>0</td>\n",
       "      <td>47</td>\n",
       "      <td>2</td>\n",
       "      <td>0.326893</td>\n",
       "      <td>-0.694328</td>\n",
       "      <td>1.0</td>\n",
       "      <td>0.330088</td>\n",
       "      <td>0.473678</td>\n",
       "      <td>1.280479</td>\n",
       "      <td>-0.094718</td>\n",
       "      <td>0.535878</td>\n",
       "      <td>1.4</td>\n",
       "      <td>1.002168</td>\n",
       "      <td>0.449221</td>\n",
       "      <td>-0.586420</td>\n",
       "      <td>-4.736147</td>\n",
       "    </tr>\n",
       "    <tr>\n",
       "      <th>3</th>\n",
       "      <td>0</td>\n",
       "      <td>47</td>\n",
       "      <td>3</td>\n",
       "      <td>0.523184</td>\n",
       "      <td>0.751050</td>\n",
       "      <td>1.0</td>\n",
       "      <td>0.976991</td>\n",
       "      <td>-0.563287</td>\n",
       "      <td>-0.720269</td>\n",
       "      <td>0.793260</td>\n",
       "      <td>0.951145</td>\n",
       "      <td>-0.3</td>\n",
       "      <td>-0.995665</td>\n",
       "      <td>-0.434290</td>\n",
       "      <td>1.344650</td>\n",
       "      <td>0.429241</td>\n",
       "    </tr>\n",
       "    <tr>\n",
       "      <th>4</th>\n",
       "      <td>0</td>\n",
       "      <td>47</td>\n",
       "      <td>4</td>\n",
       "      <td>0.272025</td>\n",
       "      <td>1.074580</td>\n",
       "      <td>1.0</td>\n",
       "      <td>-0.136283</td>\n",
       "      <td>0.398579</td>\n",
       "      <td>0.044877</td>\n",
       "      <td>0.560109</td>\n",
       "      <td>-0.541985</td>\n",
       "      <td>-0.9</td>\n",
       "      <td>1.055636</td>\n",
       "      <td>0.812631</td>\n",
       "      <td>0.123457</td>\n",
       "      <td>-0.223359</td>\n",
       "    </tr>\n",
       "  </tbody>\n",
       "</table>\n",
       "</div>"
      ],
      "text/plain": [
       "   sequence  subject  step  sensor_00  sensor_01  sensor_02  sensor_03  \\\n",
       "0         0       47     0  -0.196291   0.112395        1.0   0.329204   \n",
       "1         0       47     1  -0.447450   0.134454        1.0  -0.658407   \n",
       "2         0       47     2   0.326893  -0.694328        1.0   0.330088   \n",
       "3         0       47     3   0.523184   0.751050        1.0   0.976991   \n",
       "4         0       47     4   0.272025   1.074580        1.0  -0.136283   \n",
       "\n",
       "   sensor_04  sensor_05  sensor_06  sensor_07  sensor_08  sensor_09  \\\n",
       "0  -1.004660  -0.131638  -0.127505   0.368702       -0.1  -0.963873   \n",
       "1   0.162495   0.340314  -0.209472  -0.867176        0.2  -0.301301   \n",
       "2   0.473678   1.280479  -0.094718   0.535878        1.4   1.002168   \n",
       "3  -0.563287  -0.720269   0.793260   0.951145       -0.3  -0.995665   \n",
       "4   0.398579   0.044877   0.560109  -0.541985       -0.9   1.055636   \n",
       "\n",
       "   sensor_10  sensor_11  sensor_12  \n",
       "0  -0.985069   0.531893   4.751492  \n",
       "1   0.082733  -0.231481   0.454390  \n",
       "2   0.449221  -0.586420  -4.736147  \n",
       "3  -0.434290   1.344650   0.429241  \n",
       "4   0.812631   0.123457  -0.223359  "
      ]
     },
     "metadata": {},
     "output_type": "display_data"
    },
    {
     "data": {
      "text/html": [
       "<div>\n",
       "<style scoped>\n",
       "    .dataframe tbody tr th:only-of-type {\n",
       "        vertical-align: middle;\n",
       "    }\n",
       "\n",
       "    .dataframe tbody tr th {\n",
       "        vertical-align: top;\n",
       "    }\n",
       "\n",
       "    .dataframe thead th {\n",
       "        text-align: right;\n",
       "    }\n",
       "</style>\n",
       "<table border=\"1\" class=\"dataframe\">\n",
       "  <thead>\n",
       "    <tr style=\"text-align: right;\">\n",
       "      <th></th>\n",
       "      <th>sequence</th>\n",
       "      <th>subject</th>\n",
       "      <th>step</th>\n",
       "      <th>sensor_00</th>\n",
       "      <th>sensor_01</th>\n",
       "      <th>sensor_02</th>\n",
       "      <th>sensor_03</th>\n",
       "      <th>sensor_04</th>\n",
       "      <th>sensor_05</th>\n",
       "      <th>sensor_06</th>\n",
       "      <th>sensor_07</th>\n",
       "      <th>sensor_08</th>\n",
       "      <th>sensor_09</th>\n",
       "      <th>sensor_10</th>\n",
       "      <th>sensor_11</th>\n",
       "      <th>sensor_12</th>\n",
       "    </tr>\n",
       "  </thead>\n",
       "  <tbody>\n",
       "    <tr>\n",
       "      <th>0</th>\n",
       "      <td>25968</td>\n",
       "      <td>684</td>\n",
       "      <td>0</td>\n",
       "      <td>2.427357</td>\n",
       "      <td>19.639706</td>\n",
       "      <td>1.0</td>\n",
       "      <td>-1.466372</td>\n",
       "      <td>-1.289973</td>\n",
       "      <td>-4.207928</td>\n",
       "      <td>2.486339</td>\n",
       "      <td>-2.493893</td>\n",
       "      <td>8.0</td>\n",
       "      <td>-1.123555</td>\n",
       "      <td>-1.673048</td>\n",
       "      <td>10.980453</td>\n",
       "      <td>0.419011</td>\n",
       "    </tr>\n",
       "    <tr>\n",
       "      <th>1</th>\n",
       "      <td>25968</td>\n",
       "      <td>684</td>\n",
       "      <td>1</td>\n",
       "      <td>-4.950541</td>\n",
       "      <td>-21.747899</td>\n",
       "      <td>1.0</td>\n",
       "      <td>0.983186</td>\n",
       "      <td>-0.569053</td>\n",
       "      <td>1.845924</td>\n",
       "      <td>-3.887978</td>\n",
       "      <td>1.727481</td>\n",
       "      <td>-2.9</td>\n",
       "      <td>0.395231</td>\n",
       "      <td>-0.882233</td>\n",
       "      <td>-1.871399</td>\n",
       "      <td>-0.008525</td>\n",
       "    </tr>\n",
       "    <tr>\n",
       "      <th>2</th>\n",
       "      <td>25968</td>\n",
       "      <td>684</td>\n",
       "      <td>2</td>\n",
       "      <td>1.136012</td>\n",
       "      <td>-10.756303</td>\n",
       "      <td>1.0</td>\n",
       "      <td>1.016814</td>\n",
       "      <td>0.964157</td>\n",
       "      <td>2.454749</td>\n",
       "      <td>0.312386</td>\n",
       "      <td>1.154198</td>\n",
       "      <td>-5.6</td>\n",
       "      <td>1.114162</td>\n",
       "      <td>1.525273</td>\n",
       "      <td>-11.584362</td>\n",
       "      <td>0.139812</td>\n",
       "    </tr>\n",
       "    <tr>\n",
       "      <th>3</th>\n",
       "      <td>25968</td>\n",
       "      <td>684</td>\n",
       "      <td>3</td>\n",
       "      <td>0.806028</td>\n",
       "      <td>6.504202</td>\n",
       "      <td>1.0</td>\n",
       "      <td>-0.179646</td>\n",
       "      <td>0.969221</td>\n",
       "      <td>-1.035153</td>\n",
       "      <td>-0.457195</td>\n",
       "      <td>0.254962</td>\n",
       "      <td>-2.7</td>\n",
       "      <td>-0.588873</td>\n",
       "      <td>0.608761</td>\n",
       "      <td>-4.241770</td>\n",
       "      <td>-0.462916</td>\n",
       "    </tr>\n",
       "    <tr>\n",
       "      <th>4</th>\n",
       "      <td>25968</td>\n",
       "      <td>684</td>\n",
       "      <td>4</td>\n",
       "      <td>1.288253</td>\n",
       "      <td>5.552521</td>\n",
       "      <td>1.0</td>\n",
       "      <td>-0.493805</td>\n",
       "      <td>-1.036124</td>\n",
       "      <td>-1.126402</td>\n",
       "      <td>2.008197</td>\n",
       "      <td>-0.730534</td>\n",
       "      <td>0.0</td>\n",
       "      <td>0.899566</td>\n",
       "      <td>-1.259615</td>\n",
       "      <td>-0.472222</td>\n",
       "      <td>-0.121483</td>\n",
       "    </tr>\n",
       "  </tbody>\n",
       "</table>\n",
       "</div>"
      ],
      "text/plain": [
       "   sequence  subject  step  sensor_00  sensor_01  sensor_02  sensor_03  \\\n",
       "0     25968      684     0   2.427357  19.639706        1.0  -1.466372   \n",
       "1     25968      684     1  -4.950541 -21.747899        1.0   0.983186   \n",
       "2     25968      684     2   1.136012 -10.756303        1.0   1.016814   \n",
       "3     25968      684     3   0.806028   6.504202        1.0  -0.179646   \n",
       "4     25968      684     4   1.288253   5.552521        1.0  -0.493805   \n",
       "\n",
       "   sensor_04  sensor_05  sensor_06  sensor_07  sensor_08  sensor_09  \\\n",
       "0  -1.289973  -4.207928   2.486339  -2.493893        8.0  -1.123555   \n",
       "1  -0.569053   1.845924  -3.887978   1.727481       -2.9   0.395231   \n",
       "2   0.964157   2.454749   0.312386   1.154198       -5.6   1.114162   \n",
       "3   0.969221  -1.035153  -0.457195   0.254962       -2.7  -0.588873   \n",
       "4  -1.036124  -1.126402   2.008197  -0.730534        0.0   0.899566   \n",
       "\n",
       "   sensor_10  sensor_11  sensor_12  \n",
       "0  -1.673048  10.980453   0.419011  \n",
       "1  -0.882233  -1.871399  -0.008525  \n",
       "2   1.525273 -11.584362   0.139812  \n",
       "3   0.608761  -4.241770  -0.462916  \n",
       "4  -1.259615  -0.472222  -0.121483  "
      ]
     },
     "metadata": {},
     "output_type": "display_data"
    },
    {
     "data": {
      "text/html": [
       "<div>\n",
       "<style scoped>\n",
       "    .dataframe tbody tr th:only-of-type {\n",
       "        vertical-align: middle;\n",
       "    }\n",
       "\n",
       "    .dataframe tbody tr th {\n",
       "        vertical-align: top;\n",
       "    }\n",
       "\n",
       "    .dataframe thead th {\n",
       "        text-align: right;\n",
       "    }\n",
       "</style>\n",
       "<table border=\"1\" class=\"dataframe\">\n",
       "  <thead>\n",
       "    <tr style=\"text-align: right;\">\n",
       "      <th></th>\n",
       "      <th>sequence</th>\n",
       "      <th>state</th>\n",
       "    </tr>\n",
       "  </thead>\n",
       "  <tbody>\n",
       "    <tr>\n",
       "      <th>0</th>\n",
       "      <td>0</td>\n",
       "      <td>0</td>\n",
       "    </tr>\n",
       "    <tr>\n",
       "      <th>1</th>\n",
       "      <td>1</td>\n",
       "      <td>1</td>\n",
       "    </tr>\n",
       "    <tr>\n",
       "      <th>2</th>\n",
       "      <td>2</td>\n",
       "      <td>1</td>\n",
       "    </tr>\n",
       "    <tr>\n",
       "      <th>3</th>\n",
       "      <td>3</td>\n",
       "      <td>1</td>\n",
       "    </tr>\n",
       "    <tr>\n",
       "      <th>4</th>\n",
       "      <td>4</td>\n",
       "      <td>1</td>\n",
       "    </tr>\n",
       "  </tbody>\n",
       "</table>\n",
       "</div>"
      ],
      "text/plain": [
       "   sequence  state\n",
       "0         0      0\n",
       "1         1      1\n",
       "2         2      1\n",
       "3         3      1\n",
       "4         4      1"
      ]
     },
     "metadata": {},
     "output_type": "display_data"
    },
    {
     "data": {
      "text/html": [
       "<div>\n",
       "<style scoped>\n",
       "    .dataframe tbody tr th:only-of-type {\n",
       "        vertical-align: middle;\n",
       "    }\n",
       "\n",
       "    .dataframe tbody tr th {\n",
       "        vertical-align: top;\n",
       "    }\n",
       "\n",
       "    .dataframe thead th {\n",
       "        text-align: right;\n",
       "    }\n",
       "</style>\n",
       "<table border=\"1\" class=\"dataframe\">\n",
       "  <thead>\n",
       "    <tr style=\"text-align: right;\">\n",
       "      <th></th>\n",
       "      <th>sequence</th>\n",
       "      <th>state</th>\n",
       "    </tr>\n",
       "  </thead>\n",
       "  <tbody>\n",
       "    <tr>\n",
       "      <th>0</th>\n",
       "      <td>25968</td>\n",
       "      <td>0</td>\n",
       "    </tr>\n",
       "    <tr>\n",
       "      <th>1</th>\n",
       "      <td>25969</td>\n",
       "      <td>0</td>\n",
       "    </tr>\n",
       "    <tr>\n",
       "      <th>2</th>\n",
       "      <td>25970</td>\n",
       "      <td>0</td>\n",
       "    </tr>\n",
       "    <tr>\n",
       "      <th>3</th>\n",
       "      <td>25971</td>\n",
       "      <td>0</td>\n",
       "    </tr>\n",
       "    <tr>\n",
       "      <th>4</th>\n",
       "      <td>25972</td>\n",
       "      <td>0</td>\n",
       "    </tr>\n",
       "  </tbody>\n",
       "</table>\n",
       "</div>"
      ],
      "text/plain": [
       "   sequence  state\n",
       "0     25968      0\n",
       "1     25969      0\n",
       "2     25970      0\n",
       "3     25971      0\n",
       "4     25972      0"
      ]
     },
     "metadata": {},
     "output_type": "display_data"
    }
   ],
   "source": [
    "import pandas as pd\n",
    "import numpy as np\n",
    "import warnings \n",
    "\n",
    "warnings.simplefilter(\"ignore\")\n",
    "train = pd.read_csv(\"../input/tabular-playground-series-apr-2022/train.csv\")\n",
    "test = pd.read_csv(\"../input/tabular-playground-series-apr-2022/test.csv\")\n",
    "test_pseudo = pd.read_csv(\"../input/tpsapr22-pseudo-labels/pseudo_labeled_test.csv\")\n",
    "train_labels = pd.read_csv(\"../input/tabular-playground-series-apr-2022/train_labels.csv\")\n",
    "sub = pd.read_csv(\"../input/tabular-playground-series-apr-2022/sample_submission.csv\")\n",
    "\n",
    "display(train.head())\n",
    "display(test.head())\n",
    "display(train_labels.head())\n",
    "display(sub.head())"
   ]
  },
  {
   "cell_type": "code",
   "execution_count": 2,
   "id": "caf190b6",
   "metadata": {
    "execution": {
     "iopub.execute_input": "2022-04-08T15:44:12.352731Z",
     "iopub.status.busy": "2022-04-08T15:44:12.345989Z",
     "iopub.status.idle": "2022-04-08T15:44:12.371392Z",
     "shell.execute_reply": "2022-04-08T15:44:12.372114Z",
     "shell.execute_reply.started": "2022-04-08T01:02:08.502189Z"
    },
    "papermill": {
     "duration": 0.057171,
     "end_time": "2022-04-08T15:44:12.372258",
     "exception": false,
     "start_time": "2022-04-08T15:44:12.315087",
     "status": "completed"
    },
    "tags": []
   },
   "outputs": [
    {
     "data": {
      "text/html": [
       "<div>\n",
       "<style scoped>\n",
       "    .dataframe tbody tr th:only-of-type {\n",
       "        vertical-align: middle;\n",
       "    }\n",
       "\n",
       "    .dataframe tbody tr th {\n",
       "        vertical-align: top;\n",
       "    }\n",
       "\n",
       "    .dataframe thead th {\n",
       "        text-align: right;\n",
       "    }\n",
       "</style>\n",
       "<table border=\"1\" class=\"dataframe\">\n",
       "  <thead>\n",
       "    <tr style=\"text-align: right;\">\n",
       "      <th></th>\n",
       "      <th>sequence</th>\n",
       "      <th>state</th>\n",
       "    </tr>\n",
       "  </thead>\n",
       "  <tbody>\n",
       "    <tr>\n",
       "      <th>7</th>\n",
       "      <td>25975</td>\n",
       "      <td>0.0</td>\n",
       "    </tr>\n",
       "    <tr>\n",
       "      <th>8</th>\n",
       "      <td>25976</td>\n",
       "      <td>1.0</td>\n",
       "    </tr>\n",
       "    <tr>\n",
       "      <th>9</th>\n",
       "      <td>25977</td>\n",
       "      <td>0.0</td>\n",
       "    </tr>\n",
       "    <tr>\n",
       "      <th>10</th>\n",
       "      <td>25978</td>\n",
       "      <td>0.0</td>\n",
       "    </tr>\n",
       "    <tr>\n",
       "      <th>19</th>\n",
       "      <td>25987</td>\n",
       "      <td>0.0</td>\n",
       "    </tr>\n",
       "  </tbody>\n",
       "</table>\n",
       "</div>"
      ],
      "text/plain": [
       "    sequence  state\n",
       "7      25975    0.0\n",
       "8      25976    1.0\n",
       "9      25977    0.0\n",
       "10     25978    0.0\n",
       "19     25987    0.0"
      ]
     },
     "execution_count": 2,
     "metadata": {},
     "output_type": "execute_result"
    }
   ],
   "source": [
    "th = 0.95\n",
    "test_pseudo_selected = test_pseudo.loc[((test_pseudo['state_proba']>=th) | (test_pseudo['state_proba']<=(1 - th))), \n",
    "                                      ['sequence', 'state_proba']]\n",
    "test_pseudo_selected.columns = ['sequence', 'state']\n",
    "test_pseudo_selected['state'] = test_pseudo_selected['state'].round()\n",
    "test_pseudo_selected.head()"
   ]
  },
  {
   "cell_type": "markdown",
   "id": "7f4d0066",
   "metadata": {
    "papermill": {
     "duration": 0.028632,
     "end_time": "2022-04-08T15:44:12.429923",
     "exception": false,
     "start_time": "2022-04-08T15:44:12.401291",
     "status": "completed"
    },
    "tags": []
   },
   "source": [
    "# Feature Engineering"
   ]
  },
  {
   "cell_type": "code",
   "execution_count": 3,
   "id": "c35b4d46",
   "metadata": {
    "_kg_hide-input": true,
    "execution": {
     "iopub.execute_input": "2022-04-08T15:44:12.498275Z",
     "iopub.status.busy": "2022-04-08T15:44:12.497368Z",
     "iopub.status.idle": "2022-04-08T15:44:12.500925Z",
     "shell.execute_reply": "2022-04-08T15:44:12.500336Z",
     "shell.execute_reply.started": "2022-04-08T01:02:08.527847Z"
    },
    "papermill": {
     "duration": 0.042331,
     "end_time": "2022-04-08T15:44:12.501070",
     "exception": false,
     "start_time": "2022-04-08T15:44:12.458739",
     "status": "completed"
    },
    "tags": []
   },
   "outputs": [],
   "source": [
    "def create_new_features(df):\n",
    "    df['sensor_02_num'] = df['sensor_02'] > -15\n",
    "    df['sensor_02_num'] = df['sensor_02_num'].astype(int)\n",
    "    df['sensor_sum1'] = (df['sensor_00'] + df['sensor_09'] + df['sensor_06'] + df['sensor_01'])\n",
    "    df['sensor_sum2'] = (df['sensor_01'] + df['sensor_11'] + df['sensor_09'] + df['sensor_06'] + df['sensor_00'])\n",
    "    df['sensor_sum3'] = (df['sensor_03'] + df['sensor_11'] + df['sensor_07'])\n",
    "    df['sensor_sum4'] = (df['sensor_04'] + df['sensor_10'])\n",
    "    \n",
    "    sensors = ['sensor_'+'%02d'%i for i in range(0, 13)]\n",
    "    sensors.extend(['sensor_02_num', 'sensor_sum1', 'sensor_sum2', 'sensor_sum3', 'sensor_sum4'])\n",
    "    \n",
    "    for sensor in sensors:\n",
    "        df[sensor + '_lag1'] = df.groupby('sequence')[sensor].shift(1)\n",
    "        df.fillna(0, inplace=True)\n",
    "        df[sensor + '_diff1'] = df[sensor] - df[sensor + '_lag1'] \n",
    "    \n",
    "    return df"
   ]
  },
  {
   "cell_type": "code",
   "execution_count": 4,
   "id": "ca40e71d",
   "metadata": {
    "execution": {
     "iopub.execute_input": "2022-04-08T15:44:12.568004Z",
     "iopub.status.busy": "2022-04-08T15:44:12.567194Z",
     "iopub.status.idle": "2022-04-08T15:44:25.938971Z",
     "shell.execute_reply": "2022-04-08T15:44:25.940340Z",
     "shell.execute_reply.started": "2022-04-08T01:02:08.539653Z"
    },
    "papermill": {
     "duration": 13.410252,
     "end_time": "2022-04-08T15:44:25.940747",
     "exception": false,
     "start_time": "2022-04-08T15:44:12.530495",
     "status": "completed"
    },
    "tags": []
   },
   "outputs": [],
   "source": [
    "train = create_new_features(train)\n",
    "test = create_new_features(test)"
   ]
  },
  {
   "cell_type": "code",
   "execution_count": 5,
   "id": "23f39892",
   "metadata": {
    "execution": {
     "iopub.execute_input": "2022-04-08T15:44:26.053878Z",
     "iopub.status.busy": "2022-04-08T15:44:26.052857Z",
     "iopub.status.idle": "2022-04-08T15:44:26.501062Z",
     "shell.execute_reply": "2022-04-08T15:44:26.500410Z",
     "shell.execute_reply.started": "2022-04-08T01:02:20.121663Z"
    },
    "papermill": {
     "duration": 0.510757,
     "end_time": "2022-04-08T15:44:26.501228",
     "exception": false,
     "start_time": "2022-04-08T15:44:25.990471",
     "status": "completed"
    },
    "tags": []
   },
   "outputs": [],
   "source": [
    "selected_test = test.loc[test['sequence'].isin(test_pseudo_selected['sequence']), :].copy()\n",
    "selected_test = selected_test.merge(test_pseudo_selected[['sequence', 'state']], on='sequence', how='left')\n",
    "selected_test.reset_index(inplace=True, drop=True)"
   ]
  },
  {
   "cell_type": "code",
   "execution_count": 6,
   "id": "828f59d9",
   "metadata": {
    "execution": {
     "iopub.execute_input": "2022-04-08T15:44:26.569672Z",
     "iopub.status.busy": "2022-04-08T15:44:26.567654Z",
     "iopub.status.idle": "2022-04-08T15:44:27.945138Z",
     "shell.execute_reply": "2022-04-08T15:44:27.945611Z",
     "shell.execute_reply.started": "2022-04-08T01:02:20.48883Z"
    },
    "papermill": {
     "duration": 1.41367,
     "end_time": "2022-04-08T15:44:27.945788",
     "exception": false,
     "start_time": "2022-04-08T15:44:26.532118",
     "status": "completed"
    },
    "tags": []
   },
   "outputs": [],
   "source": [
    "train = pd.merge(train, train_labels, how='left', on=\"sequence\")\n",
    "train = pd.concat([train, selected_test])\n",
    "groups = train['sequence']"
   ]
  },
  {
   "cell_type": "code",
   "execution_count": 7,
   "id": "cd0892c7",
   "metadata": {
    "execution": {
     "iopub.execute_input": "2022-04-08T15:44:28.013148Z",
     "iopub.status.busy": "2022-04-08T15:44:28.011849Z",
     "iopub.status.idle": "2022-04-08T15:44:29.034677Z",
     "shell.execute_reply": "2022-04-08T15:44:29.034077Z",
     "shell.execute_reply.started": "2022-04-08T01:02:21.611996Z"
    },
    "papermill": {
     "duration": 1.058759,
     "end_time": "2022-04-08T15:44:29.034908",
     "exception": false,
     "start_time": "2022-04-08T15:44:27.976149",
     "status": "completed"
    },
    "tags": []
   },
   "outputs": [],
   "source": [
    "Window = 60\n",
    "y = train['state'].to_numpy().reshape(-1, Window)\n",
    "train.drop([\"sequence\",\"step\",\"subject\",\"state\"], axis=1, inplace=True)\n",
    "test.drop([\"sequence\",\"step\",\"subject\"], axis=1, inplace=True)"
   ]
  },
  {
   "cell_type": "code",
   "execution_count": 8,
   "id": "d3cd18aa",
   "metadata": {
    "execution": {
     "iopub.execute_input": "2022-04-08T15:44:29.098562Z",
     "iopub.status.busy": "2022-04-08T15:44:29.097754Z",
     "iopub.status.idle": "2022-04-08T15:44:32.694491Z",
     "shell.execute_reply": "2022-04-08T15:44:32.693835Z",
     "shell.execute_reply.started": "2022-04-08T01:02:22.49174Z"
    },
    "papermill": {
     "duration": 3.630344,
     "end_time": "2022-04-08T15:44:32.694703",
     "exception": false,
     "start_time": "2022-04-08T15:44:29.064359",
     "status": "completed"
    },
    "tags": []
   },
   "outputs": [],
   "source": [
    "from sklearn.preprocessing import StandardScaler\n",
    "\n",
    "sc = StandardScaler()\n",
    "sc.fit(train)\n",
    "X_train = sc.transform(train)\n",
    "X_test = sc.transform(test)"
   ]
  },
  {
   "cell_type": "code",
   "execution_count": 9,
   "id": "3317c29a",
   "metadata": {
    "execution": {
     "iopub.execute_input": "2022-04-08T15:44:32.758677Z",
     "iopub.status.busy": "2022-04-08T15:44:32.756548Z",
     "iopub.status.idle": "2022-04-08T15:44:32.759466Z",
     "shell.execute_reply": "2022-04-08T15:44:32.760135Z",
     "shell.execute_reply.started": "2022-04-08T01:02:25.289541Z"
    },
    "papermill": {
     "duration": 0.037768,
     "end_time": "2022-04-08T15:44:32.760272",
     "exception": false,
     "start_time": "2022-04-08T15:44:32.722504",
     "status": "completed"
    },
    "tags": []
   },
   "outputs": [],
   "source": [
    "X_train = X_train.reshape(-1, Window, X_train.shape[-1])\n",
    "X_test = X_test.reshape(-1, Window, X_test.shape[-1])"
   ]
  },
  {
   "cell_type": "code",
   "execution_count": 10,
   "id": "dfaaa2e0",
   "metadata": {
    "execution": {
     "iopub.execute_input": "2022-04-08T15:44:32.824402Z",
     "iopub.status.busy": "2022-04-08T15:44:32.823312Z",
     "iopub.status.idle": "2022-04-08T15:44:32.827695Z",
     "shell.execute_reply": "2022-04-08T15:44:32.828231Z",
     "shell.execute_reply.started": "2022-04-08T01:02:25.296071Z"
    },
    "papermill": {
     "duration": 0.039416,
     "end_time": "2022-04-08T15:44:32.828382",
     "exception": false,
     "start_time": "2022-04-08T15:44:32.788966",
     "status": "completed"
    },
    "tags": []
   },
   "outputs": [
    {
     "name": "stdout",
     "output_type": "stream",
     "text": [
      "(28500, 60) (28500, 60, 54) (12218, 60, 54)\n"
     ]
    }
   ],
   "source": [
    "print(y.shape, X_train.shape, X_test.shape)"
   ]
  },
  {
   "cell_type": "code",
   "execution_count": 11,
   "id": "ff7e4207",
   "metadata": {
    "execution": {
     "iopub.execute_input": "2022-04-08T15:44:32.892471Z",
     "iopub.status.busy": "2022-04-08T15:44:32.890893Z",
     "iopub.status.idle": "2022-04-08T15:44:32.896634Z",
     "shell.execute_reply": "2022-04-08T15:44:32.896032Z",
     "shell.execute_reply.started": "2022-04-08T01:02:25.313132Z"
    },
    "papermill": {
     "duration": 0.038719,
     "end_time": "2022-04-08T15:44:32.896763",
     "exception": false,
     "start_time": "2022-04-08T15:44:32.858044",
     "status": "completed"
    },
    "tags": []
   },
   "outputs": [],
   "source": [
    "y_train = y.copy()"
   ]
  },
  {
   "cell_type": "code",
   "execution_count": 12,
   "id": "f52ae83a",
   "metadata": {
    "execution": {
     "iopub.execute_input": "2022-04-08T15:44:32.957444Z",
     "iopub.status.busy": "2022-04-08T15:44:32.956752Z",
     "iopub.status.idle": "2022-04-08T15:44:32.961337Z",
     "shell.execute_reply": "2022-04-08T15:44:32.960764Z",
     "shell.execute_reply.started": "2022-04-08T01:02:25.324164Z"
    },
    "papermill": {
     "duration": 0.03626,
     "end_time": "2022-04-08T15:44:32.961476",
     "exception": false,
     "start_time": "2022-04-08T15:44:32.925216",
     "status": "completed"
    },
    "tags": []
   },
   "outputs": [],
   "source": [
    "#y_train = y[:, 0:2]\n",
    "#y_train[:, 0] = np.logical_not(y_train[:, 0]).astype(int)\n",
    "#y_train"
   ]
  },
  {
   "cell_type": "markdown",
   "id": "d6253fc6",
   "metadata": {
    "papermill": {
     "duration": 0.029705,
     "end_time": "2022-04-08T15:44:33.020714",
     "exception": false,
     "start_time": "2022-04-08T15:44:32.991009",
     "status": "completed"
    },
    "tags": []
   },
   "source": [
    "# Modeling"
   ]
  },
  {
   "cell_type": "code",
   "execution_count": 13,
   "id": "6403e179",
   "metadata": {
    "_kg_hide-input": true,
    "execution": {
     "iopub.execute_input": "2022-04-08T15:44:33.091192Z",
     "iopub.status.busy": "2022-04-08T15:44:33.090492Z",
     "iopub.status.idle": "2022-04-08T15:44:38.498105Z",
     "shell.execute_reply": "2022-04-08T15:44:38.497339Z",
     "shell.execute_reply.started": "2022-04-08T01:02:25.329424Z"
    },
    "papermill": {
     "duration": 5.447524,
     "end_time": "2022-04-08T15:44:38.498259",
     "exception": false,
     "start_time": "2022-04-08T15:44:33.050735",
     "status": "completed"
    },
    "tags": []
   },
   "outputs": [],
   "source": [
    "from tensorflow.keras import *\n",
    "from tensorflow.keras.layers import *\n",
    "from tensorflow.keras.callbacks import *\n",
    "from tensorflow.keras.metrics import AUC\n",
    "\n",
    "def get_model():\n",
    "    input_layer = Input(shape=(X_train.shape[-2:]))\n",
    "    x1 = Bidirectional(LSTM(768, return_sequences=True))(input_layer)\n",
    "        \n",
    "    x21 = Bidirectional(LSTM(512, return_sequences=True))(x1)\n",
    "    x22 = Bidirectional(LSTM(512, return_sequences=True))(input_layer)\n",
    "    l2 = Concatenate(axis=2)([x21, x22])\n",
    "        \n",
    "    x31 = Bidirectional(LSTM(384, return_sequences=True))(l2)\n",
    "    x32 = Bidirectional(LSTM(384, return_sequences=True))(x21)\n",
    "    l3 = Concatenate(axis=2)([x31, x32])\n",
    "        \n",
    "    x41 = Bidirectional(LSTM(256, return_sequences=True))(l3)\n",
    "    x42 = Bidirectional(LSTM(128, return_sequences=True))(x32)\n",
    "    l4 = Concatenate(axis=2)([x41, x42])\n",
    "        \n",
    "    l5 = Concatenate(axis=2)([x1, l2, l3, l4])\n",
    "    x7 = Dense(128, activation='selu')(l5)\n",
    "    x8 = Dropout(0.3)(x7)\n",
    "    output_layer = Dense(units=1, activation=\"sigmoid\")(x8)\n",
    "    model = Model(inputs=input_layer, outputs=output_layer, name='DNN_Model')\n",
    "    model.compile(optimizer=\"adam\",loss=\"binary_crossentropy\", metrics=[AUC(name = 'auc')])\n",
    "    \n",
    "    return model"
   ]
  },
  {
   "cell_type": "code",
   "execution_count": 14,
   "id": "8a6f7d91",
   "metadata": {
    "execution": {
     "iopub.execute_input": "2022-04-08T15:44:38.562439Z",
     "iopub.status.busy": "2022-04-08T15:44:38.561638Z",
     "iopub.status.idle": "2022-04-08T15:44:47.249245Z",
     "shell.execute_reply": "2022-04-08T15:44:47.248651Z",
     "shell.execute_reply.started": "2022-04-08T01:02:30.625903Z"
    },
    "papermill": {
     "duration": 8.721031,
     "end_time": "2022-04-08T15:44:47.249393",
     "exception": false,
     "start_time": "2022-04-08T15:44:38.528362",
     "status": "completed"
    },
    "tags": []
   },
   "outputs": [
    {
     "name": "stderr",
     "output_type": "stream",
     "text": [
      "2022-04-08 15:44:38.645312: I tensorflow/stream_executor/cuda/cuda_gpu_executor.cc:937] successful NUMA node read from SysFS had negative value (-1), but there must be at least one NUMA node, so returning NUMA node zero\n",
      "2022-04-08 15:44:38.749087: I tensorflow/stream_executor/cuda/cuda_gpu_executor.cc:937] successful NUMA node read from SysFS had negative value (-1), but there must be at least one NUMA node, so returning NUMA node zero\n",
      "2022-04-08 15:44:38.750248: I tensorflow/stream_executor/cuda/cuda_gpu_executor.cc:937] successful NUMA node read from SysFS had negative value (-1), but there must be at least one NUMA node, so returning NUMA node zero\n",
      "2022-04-08 15:44:38.752536: I tensorflow/core/platform/cpu_feature_guard.cc:142] This TensorFlow binary is optimized with oneAPI Deep Neural Network Library (oneDNN) to use the following CPU instructions in performance-critical operations:  AVX2 FMA\n",
      "To enable them in other operations, rebuild TensorFlow with the appropriate compiler flags.\n",
      "2022-04-08 15:44:38.753317: I tensorflow/stream_executor/cuda/cuda_gpu_executor.cc:937] successful NUMA node read from SysFS had negative value (-1), but there must be at least one NUMA node, so returning NUMA node zero\n",
      "2022-04-08 15:44:38.754396: I tensorflow/stream_executor/cuda/cuda_gpu_executor.cc:937] successful NUMA node read from SysFS had negative value (-1), but there must be at least one NUMA node, so returning NUMA node zero\n",
      "2022-04-08 15:44:38.755481: I tensorflow/stream_executor/cuda/cuda_gpu_executor.cc:937] successful NUMA node read from SysFS had negative value (-1), but there must be at least one NUMA node, so returning NUMA node zero\n",
      "2022-04-08 15:44:40.915729: I tensorflow/stream_executor/cuda/cuda_gpu_executor.cc:937] successful NUMA node read from SysFS had negative value (-1), but there must be at least one NUMA node, so returning NUMA node zero\n",
      "2022-04-08 15:44:40.916815: I tensorflow/stream_executor/cuda/cuda_gpu_executor.cc:937] successful NUMA node read from SysFS had negative value (-1), but there must be at least one NUMA node, so returning NUMA node zero\n",
      "2022-04-08 15:44:40.917800: I tensorflow/stream_executor/cuda/cuda_gpu_executor.cc:937] successful NUMA node read from SysFS had negative value (-1), but there must be at least one NUMA node, so returning NUMA node zero\n",
      "2022-04-08 15:44:40.918627: I tensorflow/core/common_runtime/gpu/gpu_device.cc:1510] Created device /job:localhost/replica:0/task:0/device:GPU:0 with 15403 MB memory:  -> device: 0, name: Tesla P100-PCIE-16GB, pci bus id: 0000:00:04.0, compute capability: 6.0\n"
     ]
    },
    {
     "name": "stdout",
     "output_type": "stream",
     "text": [
      "Model: \"DNN_Model\"\n",
      "__________________________________________________________________________________________________\n",
      "Layer (type)                    Output Shape         Param #     Connected to                     \n",
      "==================================================================================================\n",
      "input_1 (InputLayer)            [(None, 60, 54)]     0                                            \n",
      "__________________________________________________________________________________________________\n",
      "bidirectional (Bidirectional)   (None, 60, 1536)     5056512     input_1[0][0]                    \n",
      "__________________________________________________________________________________________________\n",
      "bidirectional_1 (Bidirectional) (None, 60, 1024)     8392704     bidirectional[0][0]              \n",
      "__________________________________________________________________________________________________\n",
      "bidirectional_2 (Bidirectional) (None, 60, 1024)     2322432     input_1[0][0]                    \n",
      "__________________________________________________________________________________________________\n",
      "concatenate (Concatenate)       (None, 60, 2048)     0           bidirectional_1[0][0]            \n",
      "                                                                 bidirectional_2[0][0]            \n",
      "__________________________________________________________________________________________________\n",
      "bidirectional_3 (Bidirectional) (None, 60, 768)      7474176     concatenate[0][0]                \n",
      "__________________________________________________________________________________________________\n",
      "bidirectional_4 (Bidirectional) (None, 60, 768)      4328448     bidirectional_1[0][0]            \n",
      "__________________________________________________________________________________________________\n",
      "concatenate_1 (Concatenate)     (None, 60, 1536)     0           bidirectional_3[0][0]            \n",
      "                                                                 bidirectional_4[0][0]            \n",
      "__________________________________________________________________________________________________\n",
      "bidirectional_5 (Bidirectional) (None, 60, 512)      3672064     concatenate_1[0][0]              \n",
      "__________________________________________________________________________________________________\n",
      "bidirectional_6 (Bidirectional) (None, 60, 256)      918528      bidirectional_4[0][0]            \n",
      "__________________________________________________________________________________________________\n",
      "concatenate_2 (Concatenate)     (None, 60, 768)      0           bidirectional_5[0][0]            \n",
      "                                                                 bidirectional_6[0][0]            \n",
      "__________________________________________________________________________________________________\n",
      "concatenate_3 (Concatenate)     (None, 60, 5888)     0           bidirectional[0][0]              \n",
      "                                                                 concatenate[0][0]                \n",
      "                                                                 concatenate_1[0][0]              \n",
      "                                                                 concatenate_2[0][0]              \n",
      "__________________________________________________________________________________________________\n",
      "dense (Dense)                   (None, 60, 128)      753792      concatenate_3[0][0]              \n",
      "__________________________________________________________________________________________________\n",
      "dropout (Dropout)               (None, 60, 128)      0           dense[0][0]                      \n",
      "__________________________________________________________________________________________________\n",
      "dense_1 (Dense)                 (None, 60, 1)        129         dropout[0][0]                    \n",
      "==================================================================================================\n",
      "Total params: 32,918,785\n",
      "Trainable params: 32,918,785\n",
      "Non-trainable params: 0\n",
      "__________________________________________________________________________________________________\n"
     ]
    }
   ],
   "source": [
    "model = get_model()\n",
    "model.summary()"
   ]
  },
  {
   "cell_type": "code",
   "execution_count": 15,
   "id": "8779dafe",
   "metadata": {
    "execution": {
     "iopub.execute_input": "2022-04-08T15:44:47.318909Z",
     "iopub.status.busy": "2022-04-08T15:44:47.317781Z",
     "iopub.status.idle": "2022-04-08T15:44:48.238804Z",
     "shell.execute_reply": "2022-04-08T15:44:48.239428Z",
     "shell.execute_reply.started": "2022-04-08T01:02:37.866942Z"
    },
    "papermill": {
     "duration": 0.957979,
     "end_time": "2022-04-08T15:44:48.239631",
     "exception": false,
     "start_time": "2022-04-08T15:44:47.281652",
     "status": "completed"
    },
    "tags": []
   },
   "outputs": [
    {
     "data": {
      "image/png": "[encoded data removed]",
      "text/plain": [
       "<IPython.core.display.Image object>"
      ]
     },
     "execution_count": 15,
     "metadata": {},
     "output_type": "execute_result"
    }
   ],
   "source": [
    "utils.plot_model(model)"
   ]
  },
  {
   "cell_type": "markdown",
   "id": "4878f714",
   "metadata": {
    "papermill": {
     "duration": 0.033146,
     "end_time": "2022-04-08T15:44:48.307394",
     "exception": false,
     "start_time": "2022-04-08T15:44:48.274248",
     "status": "completed"
    },
    "tags": []
   },
   "source": [
    "# Predictions"
   ]
  },
  {
   "cell_type": "code",
   "execution_count": 16,
   "id": "fd7ac550",
   "metadata": {
    "_kg_hide-input": true,
    "execution": {
     "iopub.execute_input": "2022-04-08T15:44:48.383878Z",
     "iopub.status.busy": "2022-04-08T15:44:48.381462Z",
     "iopub.status.idle": "2022-04-08T15:44:48.384589Z",
     "shell.execute_reply": "2022-04-08T15:44:48.385106Z",
     "shell.execute_reply.started": "2022-04-08T01:02:38.721955Z"
    },
    "papermill": {
     "duration": 0.044928,
     "end_time": "2022-04-08T15:44:48.385249",
     "exception": false,
     "start_time": "2022-04-08T15:44:48.340321",
     "status": "completed"
    },
    "tags": []
   },
   "outputs": [],
   "source": [
    "import matplotlib.pyplot as plt\n",
    "\n",
    "def plot_hist(hist, metric='auc', ax=None, fold=0):\n",
    "    if ax==None:\n",
    "        plt.plot(hist.history[metric])\n",
    "        plt.plot(hist.history[\"val_\" + metric])\n",
    "        plt.title(f\"model performance fold {fold}\")\n",
    "        plt.ylabel(\"area_under_curve\")\n",
    "        plt.xlabel(\"epoch\")\n",
    "        plt.legend([\"train\", \"validation\"], loc=\"upper left\")\n",
    "        plt.show()\n",
    "        return\n",
    "    else:\n",
    "        ax.plot(hist.history[metric])\n",
    "        ax.plot(hist.history[\"val_\" + metric])\n",
    "        ax.set_title(f\"model performance fold {fold}\")\n",
    "        ax.set_ylabel(\"area_under_curve\")\n",
    "        ax.set_xlabel(\"epoch\")\n",
    "        ax.legend([\"train\", \"validation\"], loc=\"upper left\")"
   ]
  },
  {
   "cell_type": "code",
   "execution_count": 17,
   "id": "09b9efe6",
   "metadata": {
    "execution": {
     "iopub.execute_input": "2022-04-08T15:44:48.463945Z",
     "iopub.status.busy": "2022-04-08T15:44:48.463120Z",
     "iopub.status.idle": "2022-04-08T20:23:13.504353Z",
     "shell.execute_reply": "2022-04-08T20:23:13.504929Z",
     "shell.execute_reply.started": "2022-04-08T01:02:38.733672Z"
    },
    "papermill": {
     "duration": 16705.086767,
     "end_time": "2022-04-08T20:23:13.505168",
     "exception": false,
     "start_time": "2022-04-08T15:44:48.418401",
     "status": "completed"
    },
    "tags": []
   },
   "outputs": [
    {
     "name": "stdout",
     "output_type": "stream",
     "text": [
      "Fold: 1 "
     ]
    },
    {
     "name": "stderr",
     "output_type": "stream",
     "text": [
      "2022-04-08 15:44:55.664888: I tensorflow/compiler/mlir/mlir_graph_optimization_pass.cc:185] None of the MLIR Optimization Passes are enabled (registered 2)\n",
      "2022-04-08 15:45:17.122084: I tensorflow/stream_executor/cuda/cuda_dnn.cc:369] Loaded cuDNN version 8005\n"
     ]
    },
    {
     "name": "stdout",
     "output_type": "stream",
     "text": [
      "auc: 0.97601\n",
      "Fold: 2 auc: 0.96804\n",
      "Fold: 3 auc: 0.97327\n",
      "Fold: 4 auc: 0.97447\n",
      "Fold: 5 auc: 0.97252\n",
      "Fold: 6 auc: 0.96834\n",
      "Fold: 7 auc: 0.97134\n",
      "Fold: 8 auc: 0.97681\n",
      "Fold: 9 auc: 0.96947\n",
      "Fold: 10 auc: 0.97315\n"
     ]
    },
    {
     "data": {
      "image/png": "[encoded data removed]",
      "text/plain": [
       "<Figure size 1152x432 with 10 Axes>"
      ]
     },
     "metadata": {
      "needs_background": "light"
     },
     "output_type": "display_data"
    }
   ],
   "source": [
    "from sklearn.model_selection import KFold, GroupKFold\n",
    "from sklearn.metrics import roc_auc_score\n",
    "import gc\n",
    "\n",
    "test_preds = []\n",
    "auc = []\n",
    "nfold = 10\n",
    "ncols = 5\n",
    "nrows = round(nfold / ncols)\n",
    "fig, axes = plt.subplots(nrows, ncols, figsize=(16, round(nrows*16/ncols)))\n",
    "\n",
    "col, row = 0, 0\n",
    "kf = GroupKFold(n_splits=nfold)\n",
    "for fold, (train_idx, test_idx) in enumerate(kf.split(X_train, y_train, groups.unique())):\n",
    "    print(f\"Fold: {fold+1}\", end=' ')\n",
    "    X_train_part, X_valid = X_train[train_idx], X_train[test_idx]\n",
    "    y_train_part, y_valid = y_train[train_idx], y_train[test_idx]\n",
    "    \n",
    "    model = get_model()\n",
    "    lr = ReduceLROnPlateau(monitor=\"val_auc\", mode='max', factor=0.7, patience=4, verbose=False)\n",
    "    es = EarlyStopping(monitor='val_auc',mode='max', patience=10, verbose=False,restore_best_weights=True)\n",
    "    history = model.fit(X_train_part, y_train_part, validation_data=(X_valid, y_valid), epochs=30, batch_size=64, \n",
    "                        callbacks=[es,lr], verbose=False)\n",
    "    \n",
    "    y_pred = model.predict(X_valid).squeeze()\n",
    "    auc_score = roc_auc_score(y_valid, y_pred)\n",
    "    print(f'auc: {round(auc_score, 5)}')\n",
    "    test_preds.append(model.predict(X_test).squeeze())\n",
    "    auc.append(auc_score)\n",
    "    \n",
    "    plot_hist(history, metric='auc', ax=axes[row][col], fold=fold+1)\n",
    "    del X_train_part, X_valid, y_train_part, y_valid, model, history\n",
    "    gc.collect()\n",
    "    \n",
    "    col += 1\n",
    "    if col >= ncols:\n",
    "        row += 1\n",
    "        col = 0"
   ]
  },
  {
   "cell_type": "code",
   "execution_count": 18,
   "id": "21f74153",
   "metadata": {
    "execution": {
     "iopub.execute_input": "2022-04-08T20:23:13.604859Z",
     "iopub.status.busy": "2022-04-08T20:23:13.603683Z",
     "iopub.status.idle": "2022-04-08T20:23:13.607656Z",
     "shell.execute_reply": "2022-04-08T20:23:13.608230Z"
    },
    "papermill": {
     "duration": 0.056681,
     "end_time": "2022-04-08T20:23:13.608425",
     "exception": false,
     "start_time": "2022-04-08T20:23:13.551744",
     "status": "completed"
    },
    "tags": []
   },
   "outputs": [
    {
     "name": "stdout",
     "output_type": "stream",
     "text": [
      "the mean AUC for the 10 folds is : 97.234\n"
     ]
    }
   ],
   "source": [
    "print(f\"the mean AUC for the {kf.n_splits} folds is : {round(np.mean(auc)*100,3)}\")"
   ]
  },
  {
   "cell_type": "code",
   "execution_count": 19,
   "id": "53ce3806",
   "metadata": {
    "execution": {
     "iopub.execute_input": "2022-04-08T20:23:13.707106Z",
     "iopub.status.busy": "2022-04-08T20:23:13.706394Z",
     "iopub.status.idle": "2022-04-08T20:23:13.738411Z",
     "shell.execute_reply": "2022-04-08T20:23:13.737759Z"
    },
    "papermill": {
     "duration": 0.083778,
     "end_time": "2022-04-08T20:23:13.738586",
     "exception": false,
     "start_time": "2022-04-08T20:23:13.654808",
     "status": "completed"
    },
    "tags": []
   },
   "outputs": [],
   "source": [
    "sub_data = pd.read_csv(\"../input/tps-apr-2022-ensemble-solution/submission.csv\")"
   ]
  },
  {
   "cell_type": "code",
   "execution_count": 20,
   "id": "6fb3da9f",
   "metadata": {
    "execution": {
     "iopub.execute_input": "2022-04-08T20:23:13.841965Z",
     "iopub.status.busy": "2022-04-08T20:23:13.841268Z",
     "iopub.status.idle": "2022-04-08T20:23:13.906668Z",
     "shell.execute_reply": "2022-04-08T20:23:13.907230Z",
     "shell.execute_reply.started": "2022-04-08T01:30:13.908575Z"
    },
    "papermill": {
     "duration": 0.120766,
     "end_time": "2022-04-08T20:23:13.907405",
     "exception": false,
     "start_time": "2022-04-08T20:23:13.786639",
     "status": "completed"
    },
    "tags": []
   },
   "outputs": [
    {
     "data": {
      "text/html": [
       "<div>\n",
       "<style scoped>\n",
       "    .dataframe tbody tr th:only-of-type {\n",
       "        vertical-align: middle;\n",
       "    }\n",
       "\n",
       "    .dataframe tbody tr th {\n",
       "        vertical-align: top;\n",
       "    }\n",
       "\n",
       "    .dataframe thead th {\n",
       "        text-align: right;\n",
       "    }\n",
       "</style>\n",
       "<table border=\"1\" class=\"dataframe\">\n",
       "  <thead>\n",
       "    <tr style=\"text-align: right;\">\n",
       "      <th></th>\n",
       "      <th>sequence</th>\n",
       "      <th>state</th>\n",
       "    </tr>\n",
       "  </thead>\n",
       "  <tbody>\n",
       "    <tr>\n",
       "      <th>0</th>\n",
       "      <td>25968</td>\n",
       "      <td>0.981974</td>\n",
       "    </tr>\n",
       "    <tr>\n",
       "      <th>1</th>\n",
       "      <td>25969</td>\n",
       "      <td>0.988178</td>\n",
       "    </tr>\n",
       "    <tr>\n",
       "      <th>2</th>\n",
       "      <td>25970</td>\n",
       "      <td>0.007887</td>\n",
       "    </tr>\n",
       "    <tr>\n",
       "      <th>3</th>\n",
       "      <td>25971</td>\n",
       "      <td>0.802117</td>\n",
       "    </tr>\n",
       "    <tr>\n",
       "      <th>4</th>\n",
       "      <td>25972</td>\n",
       "      <td>0.377276</td>\n",
       "    </tr>\n",
       "    <tr>\n",
       "      <th>...</th>\n",
       "      <td>...</td>\n",
       "      <td>...</td>\n",
       "    </tr>\n",
       "    <tr>\n",
       "      <th>12213</th>\n",
       "      <td>38181</td>\n",
       "      <td>0.339028</td>\n",
       "    </tr>\n",
       "    <tr>\n",
       "      <th>12214</th>\n",
       "      <td>38182</td>\n",
       "      <td>0.617083</td>\n",
       "    </tr>\n",
       "    <tr>\n",
       "      <th>12215</th>\n",
       "      <td>38183</td>\n",
       "      <td>0.246915</td>\n",
       "    </tr>\n",
       "    <tr>\n",
       "      <th>12216</th>\n",
       "      <td>38184</td>\n",
       "      <td>0.076056</td>\n",
       "    </tr>\n",
       "    <tr>\n",
       "      <th>12217</th>\n",
       "      <td>38185</td>\n",
       "      <td>0.020351</td>\n",
       "    </tr>\n",
       "  </tbody>\n",
       "</table>\n",
       "<p>12218 rows × 2 columns</p>\n",
       "</div>"
      ],
      "text/plain": [
       "       sequence     state\n",
       "0         25968  0.981974\n",
       "1         25969  0.988178\n",
       "2         25970  0.007887\n",
       "3         25971  0.802117\n",
       "4         25972  0.377276\n",
       "...         ...       ...\n",
       "12213     38181  0.339028\n",
       "12214     38182  0.617083\n",
       "12215     38183  0.246915\n",
       "12216     38184  0.076056\n",
       "12217     38185  0.020351\n",
       "\n",
       "[12218 rows x 2 columns]"
      ]
     },
     "execution_count": 20,
     "metadata": {},
     "output_type": "execute_result"
    }
   ],
   "source": [
    "sub['state'] = sum(test_preds)/kf.n_splits \n",
    "sub['state'] = (sub['state'] * 0.35) + (sub_data['state'] * 0.65)\n",
    "sub.to_csv('submission.csv', index=False)\n",
    "sub  "
   ]
  },
  {
   "cell_type": "markdown",
   "id": "1f4db4ac",
   "metadata": {
    "papermill": {
     "duration": 0.046625,
     "end_time": "2022-04-08T20:23:14.001622",
     "exception": false,
     "start_time": "2022-04-08T20:23:13.954997",
     "status": "completed"
    },
    "tags": []
   },
   "source": [
    "# Referances:\n",
    "1. [notebook](https://www.kaggle.com/code/hamzaghanmi/tps-april-tensorflow-bi-lstm)\n",
    "2. [notebook](https://www.kaggle.com/code/cbeaud/tps-apr-2022-ensemble-solution/notebook)"
   ]
  }
 ],
 "metadata": {
  "kernelspec": {
   "display_name": "Python 3",
   "language": "python",
   "name": "python3"
  },
  "language_info": {
   "codemirror_mode": {
    "name": "ipython",
    "version": 3
   },
   "file_extension": ".py",
   "mimetype": "text/x-python",
   "name": "python",
   "nbconvert_exporter": "python",
   "pygments_lexer": "ipython3",
   "version": "3.7.12"
  },
  "papermill": {
   "default_parameters": {},
   "duration": 16769.243752,
   "end_time": "2022-04-08T20:23:17.857534",
   "environment_variables": {},
   "exception": null,
   "input_path": "__notebook__.ipynb",
   "output_path": "__notebook__.ipynb",
   "parameters": {},
   "start_time": "2022-04-08T15:43:48.613782",
   "version": "2.3.3"
  }
 },
 "nbformat": 4,
 "nbformat_minor": 5
}