{
 "cells": [
  {
   "cell_type": "code",
   "execution_count": 197,
   "id": "004fb920",
   "metadata": {},
   "outputs": [],
   "source": [
    "import pandas as pd\n",
    "import numpy as np\n",
    "import os\n",
    "from matplotlib import pyplot as plt"
   ]
  },
  {
   "cell_type": "code",
   "execution_count": 198,
   "id": "bdad0901",
   "metadata": {},
   "outputs": [
    {
     "name": "stdout",
     "output_type": "stream",
     "text": [
      "D:\\GitHub\\keras_learning\\training_project\\tabular_playground_series_Apr_2022\n"
     ]
    }
   ],
   "source": [
    "current_directory = os.getcwd()\n",
    "print(current_directory)\n",
    "train = pd.read_csv('data/train.csv')\n",
    "train_labels = pd.read_csv('data/train_labels.csv')\n",
    "test = pd.read_csv('data/test.csv')"
   ]
  },
  {
   "cell_type": "markdown",
   "id": "4c3c4d65",
   "metadata": {},
   "source": [
    "In this competition, you'll classify 60-second sequences of sensor data, indicating whether a subject was in either of two activity states for the duration of the sequence.\n",
    "\n",
    "在本次競賽中，您將對 60 秒的感測器資料序列進行分類，找出受試者在序列持續時間內處於兩種活動狀態的其中一種。\n",
    "\n",
    "## Files and Field Descriptions\n",
    "- train.csv - the training set, comprising ~26,000 60-second recordings of thirteen biological sensors for almost one thousand experimental participants\n",
    "    - sequence - a unique id for each sequence\n",
    "    - subject - a unique id for the subject in the experiment\n",
    "    - step - time step of the recording, in one second intervals\n",
    "    - sensor_00 - sensor_12 - the value for each of the thirteen sensors at that time step\n",
    "- train_labels.csv - the class label for each sequence.\n",
    "    - sequence - the unique id for each sequence.\n",
    "    - state - the state associated to each sequence. This is the target which you are trying to predict.\n",
    "- test.csv - the test set. For each of the ~12,000 sequences, you should predict a value for that sequence's state.\n",
    "- sample_submission.csv - a sample submission file in the correct format."
   ]
  },
  {
   "cell_type": "code",
   "execution_count": 199,
   "id": "a489276d",
   "metadata": {},
   "outputs": [
    {
     "data": {
      "text/plain": "         sequence  subject  step  sensor_00  sensor_01  sensor_02  sensor_03  \\\n0               0       47     0  -0.196291   0.112395   1.000000   0.329204   \n1               0       47     1  -0.447450   0.134454   1.000000  -0.658407   \n2               0       47     2   0.326893  -0.694328   1.000000   0.330088   \n3               0       47     3   0.523184   0.751050   1.000000   0.976991   \n4               0       47     4   0.272025   1.074580   1.000000  -0.136283   \n...           ...      ...   ...        ...        ...        ...        ...   \n1558075     25967      327    55  -0.282844  -1.217437  -1.666153   0.586726   \n1558076     25967      327    56   0.130603   0.349790  -1.666153  -0.324779   \n1558077     25967      327    57  -0.579598   0.429622  -1.666153   0.319469   \n1558078     25967      327    58   1.278980   1.711134  -1.522820   0.802655   \n1558079     25967      327    59  -1.136012  -3.702731  -1.332820  -0.766372   \n\n         sensor_04  sensor_05  sensor_06  sensor_07  sensor_08  sensor_09  \\\n0        -1.004660  -0.131638  -0.127505   0.368702       -0.1  -0.963873   \n1         0.162495   0.340314  -0.209472  -0.867176        0.2  -0.301301   \n2         0.473678   1.280479  -0.094718   0.535878        1.4   1.002168   \n3        -0.563287  -0.720269   0.793260   0.951145       -0.3  -0.995665   \n4         0.398579   0.044877   0.560109  -0.541985       -0.9   1.055636   \n...            ...        ...        ...        ...        ...        ...   \n1558075  -0.930698  -0.451010  -0.651184   0.368702        0.4   0.008671   \n1558076   0.775324  -0.332835   0.099271   0.122137       -0.2   0.644509   \n1558077   0.308861   0.282723  -0.512750   0.012214       -1.6  -0.424133   \n1558078  -0.460541  -0.055348   2.405282   0.043511        1.9   0.283960   \n1558079  -0.430027  -0.091997  -2.512750  -0.022901       -1.1  -0.653902   \n\n         sensor_10  sensor_11  sensor_12  \n0        -0.985069   0.531893   4.751492  \n1         0.082733  -0.231481   0.454390  \n2         0.449221  -0.586420  -4.736147  \n3        -0.434290   1.344650   0.429241  \n4         0.812631   0.123457  -0.223359  \n...            ...        ...        ...  \n1558075  -0.723536  -0.353909  -0.914749  \n1558076   0.691407  -0.613169  -0.515772  \n1558077   0.716855   1.628601   0.928389  \n1558078  -0.914914   0.364198   0.211424  \n1558079  -0.418516  -1.453704  -1.561381  \n\n[1558080 rows x 16 columns]",
      "text/html": "<div>\n<style scoped>\n    .dataframe tbody tr th:only-of-type {\n        vertical-align: middle;\n    }\n\n    .dataframe tbody tr th {\n        vertical-align: top;\n    }\n\n    .dataframe thead th {\n        text-align: right;\n    }\n</style>\n<table border=\"1\" class=\"dataframe\">\n  <thead>\n    <tr style=\"text-align: right;\">\n      <th></th>\n      <th>sequence</th>\n      <th>subject</th>\n      <th>step</th>\n      <th>sensor_00</th>\n      <th>sensor_01</th>\n      <th>sensor_02</th>\n      <th>sensor_03</th>\n      <th>sensor_04</th>\n      <th>sensor_05</th>\n      <th>sensor_06</th>\n      <th>sensor_07</th>\n      <th>sensor_08</th>\n      <th>sensor_09</th>\n      <th>sensor_10</th>\n      <th>sensor_11</th>\n      <th>sensor_12</th>\n    </tr>\n  </thead>\n  <tbody>\n    <tr>\n      <th>0</th>\n      <td>0</td>\n      <td>47</td>\n      <td>0</td>\n      <td>-0.196291</td>\n      <td>0.112395</td>\n      <td>1.000000</td>\n      <td>0.329204</td>\n      <td>-1.004660</td>\n      <td>-0.131638</td>\n      <td>-0.127505</td>\n      <td>0.368702</td>\n      <td>-0.1</td>\n      <td>-0.963873</td>\n      <td>-0.985069</td>\n      <td>0.531893</td>\n      <td>4.751492</td>\n    </tr>\n    <tr>\n      <th>1</th>\n      <td>0</td>\n      <td>47</td>\n      <td>1</td>\n      <td>-0.447450</td>\n      <td>0.134454</td>\n      <td>1.000000</td>\n      <td>-0.658407</td>\n      <td>0.162495</td>\n      <td>0.340314</td>\n      <td>-0.209472</td>\n      <td>-0.867176</td>\n      <td>0.2</td>\n      <td>-0.301301</td>\n      <td>0.082733</td>\n      <td>-0.231481</td>\n      <td>0.454390</td>\n    </tr>\n    <tr>\n      <th>2</th>\n      <td>0</td>\n      <td>47</td>\n      <td>2</td>\n      <td>0.326893</td>\n      <td>-0.694328</td>\n      <td>1.000000</td>\n      <td>0.330088</td>\n      <td>0.473678</td>\n      <td>1.280479</td>\n      <td>-0.094718</td>\n      <td>0.535878</td>\n      <td>1.4</td>\n      <td>1.002168</td>\n      <td>0.449221</td>\n      <td>-0.586420</td>\n      <td>-4.736147</td>\n    </tr>\n    <tr>\n      <th>3</th>\n      <td>0</td>\n      <td>47</td>\n      <td>3</td>\n      <td>0.523184</td>\n      <td>0.751050</td>\n      <td>1.000000</td>\n      <td>0.976991</td>\n      <td>-0.563287</td>\n      <td>-0.720269</td>\n      <td>0.793260</td>\n      <td>0.951145</td>\n      <td>-0.3</td>\n      <td>-0.995665</td>\n      <td>-0.434290</td>\n      <td>1.344650</td>\n      <td>0.429241</td>\n    </tr>\n    <tr>\n      <th>4</th>\n      <td>0</td>\n      <td>47</td>\n      <td>4</td>\n      <td>0.272025</td>\n      <td>1.074580</td>\n      <td>1.000000</td>\n      <td>-0.136283</td>\n      <td>0.398579</td>\n      <td>0.044877</td>\n      <td>0.560109</td>\n      <td>-0.541985</td>\n      <td>-0.9</td>\n      <td>1.055636</td>\n      <td>0.812631</td>\n      <td>0.123457</td>\n      <td>-0.223359</td>\n    </tr>\n    <tr>\n      <th>...</th>\n      <td>...</td>\n      <td>...</td>\n      <td>...</td>\n      <td>...</td>\n      <td>...</td>\n      <td>...</td>\n      <td>...</td>\n      <td>...</td>\n      <td>...</td>\n      <td>...</td>\n      <td>...</td>\n      <td>...</td>\n      <td>...</td>\n      <td>...</td>\n      <td>...</td>\n      <td>...</td>\n    </tr>\n    <tr>\n      <th>1558075</th>\n      <td>25967</td>\n      <td>327</td>\n      <td>55</td>\n      <td>-0.282844</td>\n      <td>-1.217437</td>\n      <td>-1.666153</td>\n      <td>0.586726</td>\n      <td>-0.930698</td>\n      <td>-0.451010</td>\n      <td>-0.651184</td>\n      <td>0.368702</td>\n      <td>0.4</td>\n      <td>0.008671</td>\n      <td>-0.723536</td>\n      <td>-0.353909</td>\n      <td>-0.914749</td>\n    </tr>\n    <tr>\n      <th>1558076</th>\n      <td>25967</td>\n      <td>327</td>\n      <td>56</td>\n      <td>0.130603</td>\n      <td>0.349790</td>\n      <td>-1.666153</td>\n      <td>-0.324779</td>\n      <td>0.775324</td>\n      <td>-0.332835</td>\n      <td>0.099271</td>\n      <td>0.122137</td>\n      <td>-0.2</td>\n      <td>0.644509</td>\n      <td>0.691407</td>\n      <td>-0.613169</td>\n      <td>-0.515772</td>\n    </tr>\n    <tr>\n      <th>1558077</th>\n      <td>25967</td>\n      <td>327</td>\n      <td>57</td>\n      <td>-0.579598</td>\n      <td>0.429622</td>\n      <td>-1.666153</td>\n      <td>0.319469</td>\n      <td>0.308861</td>\n      <td>0.282723</td>\n      <td>-0.512750</td>\n      <td>0.012214</td>\n      <td>-1.6</td>\n      <td>-0.424133</td>\n      <td>0.716855</td>\n      <td>1.628601</td>\n      <td>0.928389</td>\n    </tr>\n    <tr>\n      <th>1558078</th>\n      <td>25967</td>\n      <td>327</td>\n      <td>58</td>\n      <td>1.278980</td>\n      <td>1.711134</td>\n      <td>-1.522820</td>\n      <td>0.802655</td>\n      <td>-0.460541</td>\n      <td>-0.055348</td>\n      <td>2.405282</td>\n      <td>0.043511</td>\n      <td>1.9</td>\n      <td>0.283960</td>\n      <td>-0.914914</td>\n      <td>0.364198</td>\n      <td>0.211424</td>\n    </tr>\n    <tr>\n      <th>1558079</th>\n      <td>25967</td>\n      <td>327</td>\n      <td>59</td>\n      <td>-1.136012</td>\n      <td>-3.702731</td>\n      <td>-1.332820</td>\n      <td>-0.766372</td>\n      <td>-0.430027</td>\n      <td>-0.091997</td>\n      <td>-2.512750</td>\n      <td>-0.022901</td>\n      <td>-1.1</td>\n      <td>-0.653902</td>\n      <td>-0.418516</td>\n      <td>-1.453704</td>\n      <td>-1.561381</td>\n    </tr>\n  </tbody>\n</table>\n<p>1558080 rows × 16 columns</p>\n</div>"
     },
     "execution_count": 199,
     "metadata": {},
     "output_type": "execute_result"
    }
   ],
   "source": [
    "train"
   ]
  },
  {
   "cell_type": "markdown",
   "id": "6539b752",
   "metadata": {},
   "source": [
    "由上表與題目提示可得知，每一秒會記錄一列，每 60 列代表一個 `sequence`"
   ]
  },
  {
   "cell_type": "code",
   "execution_count": 200,
   "id": "68d15ca4",
   "metadata": {},
   "outputs": [
    {
     "data": {
      "text/plain": "       sequence  state\n0             0      0\n1             1      1\n2             2      1\n3             3      1\n4             4      1\n...         ...    ...\n25963     25963      1\n25964     25964      0\n25965     25965      1\n25966     25966      1\n25967     25967      0\n\n[25968 rows x 2 columns]",
      "text/html": "<div>\n<style scoped>\n    .dataframe tbody tr th:only-of-type {\n        vertical-align: middle;\n    }\n\n    .dataframe tbody tr th {\n        vertical-align: top;\n    }\n\n    .dataframe thead th {\n        text-align: right;\n    }\n</style>\n<table border=\"1\" class=\"dataframe\">\n  <thead>\n    <tr style=\"text-align: right;\">\n      <th></th>\n      <th>sequence</th>\n      <th>state</th>\n    </tr>\n  </thead>\n  <tbody>\n    <tr>\n      <th>0</th>\n      <td>0</td>\n      <td>0</td>\n    </tr>\n    <tr>\n      <th>1</th>\n      <td>1</td>\n      <td>1</td>\n    </tr>\n    <tr>\n      <th>2</th>\n      <td>2</td>\n      <td>1</td>\n    </tr>\n    <tr>\n      <th>3</th>\n      <td>3</td>\n      <td>1</td>\n    </tr>\n    <tr>\n      <th>4</th>\n      <td>4</td>\n      <td>1</td>\n    </tr>\n    <tr>\n      <th>...</th>\n      <td>...</td>\n      <td>...</td>\n    </tr>\n    <tr>\n      <th>25963</th>\n      <td>25963</td>\n      <td>1</td>\n    </tr>\n    <tr>\n      <th>25964</th>\n      <td>25964</td>\n      <td>0</td>\n    </tr>\n    <tr>\n      <th>25965</th>\n      <td>25965</td>\n      <td>1</td>\n    </tr>\n    <tr>\n      <th>25966</th>\n      <td>25966</td>\n      <td>1</td>\n    </tr>\n    <tr>\n      <th>25967</th>\n      <td>25967</td>\n      <td>0</td>\n    </tr>\n  </tbody>\n</table>\n<p>25968 rows × 2 columns</p>\n</div>"
     },
     "execution_count": 200,
     "metadata": {},
     "output_type": "execute_result"
    }
   ],
   "source": [
    "train_labels"
   ]
  },
  {
   "cell_type": "markdown",
   "id": "e4a76d87",
   "metadata": {},
   "source": [
    "確認資料是否有缺漏，本題的資料都很完美，沒有有缺漏的地方"
   ]
  },
  {
   "cell_type": "code",
   "execution_count": 201,
   "id": "68ca8905",
   "metadata": {},
   "outputs": [
    {
     "name": "stdout",
     "output_type": "stream",
     "text": [
      "<class 'pandas.core.frame.DataFrame'>\n",
      "RangeIndex: 1558080 entries, 0 to 1558079\n",
      "Data columns (total 16 columns):\n",
      " #   Column     Non-Null Count    Dtype  \n",
      "---  ------     --------------    -----  \n",
      " 0   sequence   1558080 non-null  int64  \n",
      " 1   subject    1558080 non-null  int64  \n",
      " 2   step       1558080 non-null  int64  \n",
      " 3   sensor_00  1558080 non-null  float64\n",
      " 4   sensor_01  1558080 non-null  float64\n",
      " 5   sensor_02  1558080 non-null  float64\n",
      " 6   sensor_03  1558080 non-null  float64\n",
      " 7   sensor_04  1558080 non-null  float64\n",
      " 8   sensor_05  1558080 non-null  float64\n",
      " 9   sensor_06  1558080 non-null  float64\n",
      " 10  sensor_07  1558080 non-null  float64\n",
      " 11  sensor_08  1558080 non-null  float64\n",
      " 12  sensor_09  1558080 non-null  float64\n",
      " 13  sensor_10  1558080 non-null  float64\n",
      " 14  sensor_11  1558080 non-null  float64\n",
      " 15  sensor_12  1558080 non-null  float64\n",
      "dtypes: float64(13), int64(3)\n",
      "memory usage: 190.2 MB\n"
     ]
    }
   ],
   "source": [
    "train.info()"
   ]
  },
  {
   "cell_type": "markdown",
   "id": "394b4db6",
   "metadata": {},
   "source": [
    "## 正規化資料"
   ]
  },
  {
   "cell_type": "markdown",
   "id": "e857522f",
   "metadata": {},
   "source": [
    "萃取需要的資料"
   ]
  },
  {
   "cell_type": "code",
   "execution_count": 202,
   "id": "4e5fa550",
   "metadata": {},
   "outputs": [],
   "source": [
    "x_train = train.loc[:, ['sensor_00', 'sensor_01', 'sensor_02', 'sensor_03', 'sensor_04', 'sensor_05', 'sensor_06', 'sensor_07', 'sensor_08', 'sensor_09', 'sensor_10', 'sensor_11', 'sensor_12']]\n",
    "x_test = test.loc[:, ['sensor_00', 'sensor_01', 'sensor_02', 'sensor_03', 'sensor_04', 'sensor_05', 'sensor_06', 'sensor_07', 'sensor_08', 'sensor_09', 'sensor_10', 'sensor_11', 'sensor_12']]\n",
    "y_labels = train_labels.loc[:, ['state']]\n",
    "x_train = x_train.to_numpy()\n",
    "x_test = x_test.to_numpy()\n",
    "y_labels = y_labels.to_numpy()"
   ]
  },
  {
   "cell_type": "code",
   "execution_count": 203,
   "id": "65b46597",
   "metadata": {},
   "outputs": [
    {
     "name": "stdout",
     "output_type": "stream",
     "text": [
      "(1558080, 13)\n",
      "(25968, 1)\n"
     ]
    }
   ],
   "source": [
    "print(x_train.shape)\n",
    "print(y_labels.shape)"
   ]
  },
  {
   "cell_type": "code",
   "execution_count": 204,
   "id": "012db34e",
   "metadata": {},
   "outputs": [],
   "source": [
    "mean = x_train.mean(axis=0)\n",
    "std = x_train.std(axis=0)\n",
    "\n",
    "x_train -= mean\n",
    "x_train /= std\n",
    "\n",
    "x_test -= mean\n",
    "x_test /= std"
   ]
  },
  {
   "cell_type": "markdown",
   "id": "3004e244",
   "metadata": {},
   "source": [
    "## 加回時間標籤"
   ]
  },
  {
   "cell_type": "code",
   "execution_count": 205,
   "id": "84864509",
   "metadata": {},
   "outputs": [],
   "source": [
    "sequence = 60\n",
    "# timestamp = []\n",
    "# times = int(x_train.shape[0] / sequence)\n",
    "# for i in range(times):\n",
    "#     for j in range(1, 61):\n",
    "#         timestamp.append(j)\n",
    "        \n",
    "# timestamp = np.array(timestamp)\n",
    "# print(timestamp.shape)# "
   ]
  },
  {
   "cell_type": "markdown",
   "id": "9a39693a",
   "metadata": {},
   "source": [
    "合併 timestamp 到原資料集"
   ]
  },
  {
   "cell_type": "code",
   "execution_count": 206,
   "id": "65c58daf",
   "metadata": {},
   "outputs": [],
   "source": [
    "# x_train = np.column_stack((x_train, timestamp))\n"
   ]
  },
  {
   "cell_type": "code",
   "execution_count": 207,
   "id": "0aac8ab9",
   "metadata": {},
   "outputs": [],
   "source": [
    "# print(x_train.shape[1])"
   ]
  },
  {
   "cell_type": "markdown",
   "id": "9f682763",
   "metadata": {},
   "source": [
    "## 整理資料"
   ]
  },
  {
   "cell_type": "markdown",
   "id": "cb254ea5",
   "metadata": {},
   "source": [
    "準備進入訓練的資料格式：設定 sequence\n",
    "sequence 設為 60 ，代表過去 60 秒的資訊。"
   ]
  },
  {
   "cell_type": "code",
   "execution_count": 208,
   "id": "c419e6bb",
   "metadata": {},
   "outputs": [
    {
     "data": {
      "text/plain": "(25968, 60, 13)"
     },
     "execution_count": 208,
     "metadata": {},
     "output_type": "execute_result"
    }
   ],
   "source": [
    "X_train = np.reshape(x_train, (-1, sequence, x_train.shape[1]))\n",
    "X_test = np.reshape(x_test, (-1, sequence, x_test.shape[1]))\n",
    "X_train.shape"
   ]
  },
  {
   "cell_type": "code",
   "execution_count": 209,
   "id": "ee0db4b6",
   "metadata": {},
   "outputs": [
    {
     "name": "stdout",
     "output_type": "stream",
     "text": [
      "(23372, 60, 13)\n",
      "(2596, 60, 13)\n"
     ]
    }
   ],
   "source": [
    "X_val = X_train[23372:]\n",
    "partial_x_train = X_train[:23372]\n",
    "Y_val = y_labels[23372:]\n",
    "partial_y_train = y_labels[:23372]\n",
    "\n",
    "print(partial_x_train.shape)\n",
    "print(X_val.shape)"
   ]
  },
  {
   "cell_type": "code",
   "execution_count": 210,
   "id": "064647df",
   "metadata": {},
   "outputs": [
    {
     "data": {
      "text/plain": "((60, 13),)"
     },
     "execution_count": 210,
     "metadata": {},
     "output_type": "execute_result"
    }
   ],
   "source": [
    "(partial_x_train.shape[1:],)"
   ]
  },
  {
   "cell_type": "markdown",
   "id": "89d86d50",
   "metadata": {},
   "source": [
    "## 搭建 LSTM 網路"
   ]
  },
  {
   "cell_type": "code",
   "execution_count": 211,
   "id": "cb26608d",
   "metadata": {},
   "outputs": [],
   "source": [
    "from keras.models import Sequential\n",
    "from keras.layers import LSTM, Dense, Conv1D, MaxPooling1D, Flatten\n",
    "from keras import optimizers\n",
    "from keras import losses\n",
    "from keras import metrics"
   ]
  },
  {
   "cell_type": "code",
   "execution_count": 212,
   "id": "0196d941",
   "metadata": {},
   "outputs": [
    {
     "name": "stdout",
     "output_type": "stream",
     "text": [
      "WARNING:tensorflow:Layer lstm_56 will not use cuDNN kernels since it doesn't meet the criteria. It will use a generic GPU kernel as fallback when running on GPU.\n",
      "WARNING:tensorflow:Layer lstm_57 will not use cuDNN kernels since it doesn't meet the criteria. It will use a generic GPU kernel as fallback when running on GPU.\n",
      "WARNING:tensorflow:Layer lstm_58 will not use cuDNN kernels since it doesn't meet the criteria. It will use a generic GPU kernel as fallback when running on GPU.\n",
      "Model: \"sequential_21\"\n",
      "_________________________________________________________________\n",
      " Layer (type)                Output Shape              Param #   \n",
      "=================================================================\n",
      " conv1d_32 (Conv1D)          (None, 56, 32)            2112      \n",
      "                                                                 \n",
      " max_pooling1d_31 (MaxPoolin  (None, 18, 32)           0         \n",
      " g1D)                                                            \n",
      "                                                                 \n",
      " conv1d_33 (Conv1D)          (None, 14, 64)            10304     \n",
      "                                                                 \n",
      " max_pooling1d_32 (MaxPoolin  (None, 4, 64)            0         \n",
      " g1D)                                                            \n",
      "                                                                 \n",
      " lstm_56 (LSTM)              (None, 4, 32)             12416     \n",
      "                                                                 \n",
      " lstm_57 (LSTM)              (None, 4, 32)             8320      \n",
      "                                                                 \n",
      " lstm_58 (LSTM)              (None, 32)                8320      \n",
      "                                                                 \n",
      " flatten_17 (Flatten)        (None, 32)                0         \n",
      "                                                                 \n",
      " dense_17 (Dense)            (None, 1)                 33        \n",
      "                                                                 \n",
      "=================================================================\n",
      "Total params: 41,505\n",
      "Trainable params: 41,505\n",
      "Non-trainable params: 0\n",
      "_________________________________________________________________\n"
     ]
    }
   ],
   "source": [
    "model = Sequential()\n",
    "model.add(Conv1D(32, 5, activation='relu', input_shape = partial_x_train.shape[1:]))\n",
    "model.add(MaxPooling1D(3))\n",
    "model.add(Conv1D(64, 5, activation='relu'))\n",
    "model.add(MaxPooling1D(3))\n",
    "model.add(LSTM(32, dropout=0.1, recurrent_dropout=0.5, return_sequences=True))\n",
    "model.add(LSTM(32, dropout=0.1, recurrent_dropout=0.5, return_sequences=True))\n",
    "model.add(LSTM(32, dropout=0.1, recurrent_dropout=0.5, return_sequences=False))\n",
    "model.add(Flatten())\n",
    "model.add(Dense(1, activation='sigmoid'))\n",
    "\n",
    "model.compile(optimizer=optimizers.rmsprop_v2.RMSprop(learning_rate=0.001),\n",
    "              loss=losses.binary_crossentropy,\n",
    "              metrics=[metrics.binary_accuracy])\n",
    "\n",
    "model.summary()"
   ]
  },
  {
   "cell_type": "code",
   "execution_count": 213,
   "id": "c4258179",
   "metadata": {},
   "outputs": [
    {
     "name": "stdout",
     "output_type": "stream",
     "text": [
      "Epoch 1/25\n",
      "390/390 [==============================] - 39s 84ms/step - loss: 0.6250 - binary_accuracy: 0.6470 - val_loss: 0.6782 - val_binary_accuracy: 0.5921\n",
      "Epoch 2/25\n",
      "390/390 [==============================] - 30s 78ms/step - loss: 0.5206 - binary_accuracy: 0.7438 - val_loss: 0.6164 - val_binary_accuracy: 0.7084\n",
      "Epoch 3/25\n",
      "390/390 [==============================] - 32s 81ms/step - loss: 0.4645 - binary_accuracy: 0.7777 - val_loss: 0.4514 - val_binary_accuracy: 0.7866\n",
      "Epoch 4/25\n",
      "390/390 [==============================] - 32s 81ms/step - loss: 0.4365 - binary_accuracy: 0.7924 - val_loss: 0.4499 - val_binary_accuracy: 0.7920\n",
      "Epoch 5/25\n",
      "390/390 [==============================] - 30s 77ms/step - loss: 0.4170 - binary_accuracy: 0.8058 - val_loss: 0.4083 - val_binary_accuracy: 0.8059\n",
      "Epoch 6/25\n",
      "390/390 [==============================] - 32s 82ms/step - loss: 0.3990 - binary_accuracy: 0.8141 - val_loss: 0.3986 - val_binary_accuracy: 0.8155\n",
      "Epoch 7/25\n",
      "390/390 [==============================] - 32s 83ms/step - loss: 0.3830 - binary_accuracy: 0.8231 - val_loss: 0.3810 - val_binary_accuracy: 0.8174\n",
      "Epoch 8/25\n",
      "390/390 [==============================] - 33s 84ms/step - loss: 0.3713 - binary_accuracy: 0.8286 - val_loss: 0.3920 - val_binary_accuracy: 0.8128\n",
      "Epoch 9/25\n",
      "390/390 [==============================] - 32s 82ms/step - loss: 0.3565 - binary_accuracy: 0.8382 - val_loss: 0.4339 - val_binary_accuracy: 0.8059\n",
      "Epoch 10/25\n",
      "390/390 [==============================] - 32s 81ms/step - loss: 0.3451 - binary_accuracy: 0.8445 - val_loss: 0.3914 - val_binary_accuracy: 0.8247\n",
      "Epoch 11/25\n",
      "390/390 [==============================] - 32s 83ms/step - loss: 0.3319 - binary_accuracy: 0.8516 - val_loss: 0.3806 - val_binary_accuracy: 0.8278\n",
      "Epoch 12/25\n",
      "390/390 [==============================] - 34s 87ms/step - loss: 0.3264 - binary_accuracy: 0.8569 - val_loss: 0.3668 - val_binary_accuracy: 0.8270\n",
      "Epoch 13/25\n",
      "390/390 [==============================] - 33s 83ms/step - loss: 0.3134 - binary_accuracy: 0.8626 - val_loss: 0.3682 - val_binary_accuracy: 0.8309\n",
      "Epoch 14/25\n",
      "390/390 [==============================] - 31s 79ms/step - loss: 0.3070 - binary_accuracy: 0.8676 - val_loss: 0.4017 - val_binary_accuracy: 0.8259\n",
      "Epoch 15/25\n",
      "390/390 [==============================] - 30s 76ms/step - loss: 0.2981 - binary_accuracy: 0.8688 - val_loss: 0.3950 - val_binary_accuracy: 0.8328\n",
      "Epoch 16/25\n",
      "390/390 [==============================] - 30s 76ms/step - loss: 0.2912 - binary_accuracy: 0.8725 - val_loss: 0.4375 - val_binary_accuracy: 0.8166\n",
      "Epoch 17/25\n",
      "390/390 [==============================] - 33s 84ms/step - loss: 0.2832 - binary_accuracy: 0.8778 - val_loss: 0.3658 - val_binary_accuracy: 0.8351\n",
      "Epoch 18/25\n",
      "390/390 [==============================] - 32s 81ms/step - loss: 0.2777 - binary_accuracy: 0.8773 - val_loss: 0.3778 - val_binary_accuracy: 0.8336\n",
      "Epoch 19/25\n",
      "390/390 [==============================] - 30s 77ms/step - loss: 0.2668 - binary_accuracy: 0.8835 - val_loss: 0.3970 - val_binary_accuracy: 0.8309\n",
      "Epoch 20/25\n",
      "390/390 [==============================] - 31s 79ms/step - loss: 0.2647 - binary_accuracy: 0.8861 - val_loss: 0.4107 - val_binary_accuracy: 0.8286\n",
      "Epoch 21/25\n",
      "390/390 [==============================] - 31s 79ms/step - loss: 0.2524 - binary_accuracy: 0.8923 - val_loss: 0.3787 - val_binary_accuracy: 0.8374\n",
      "Epoch 22/25\n",
      "390/390 [==============================] - 33s 85ms/step - loss: 0.2512 - binary_accuracy: 0.8933 - val_loss: 0.4034 - val_binary_accuracy: 0.8398\n",
      "Epoch 23/25\n",
      "390/390 [==============================] - 32s 82ms/step - loss: 0.2405 - binary_accuracy: 0.8977 - val_loss: 0.4190 - val_binary_accuracy: 0.8290\n",
      "Epoch 24/25\n",
      "390/390 [==============================] - 31s 81ms/step - loss: 0.2360 - binary_accuracy: 0.9002 - val_loss: 0.4291 - val_binary_accuracy: 0.8344\n",
      "Epoch 25/25\n",
      "390/390 [==============================] - 32s 82ms/step - loss: 0.2298 - binary_accuracy: 0.9021 - val_loss: 0.4327 - val_binary_accuracy: 0.8197\n"
     ]
    }
   ],
   "source": [
    "history = model.fit(partial_x_train,\n",
    "          partial_y_train,\n",
    "          epochs=25,\n",
    "          batch_size=60,\n",
    "          validation_data=(X_val, Y_val),\n",
    "          )"
   ]
  },
  {
   "cell_type": "markdown",
   "id": "50fcd935",
   "metadata": {},
   "source": [
    "## 視覺化結果"
   ]
  },
  {
   "cell_type": "code",
   "execution_count": 214,
   "id": "845f14d0",
   "metadata": {},
   "outputs": [
    {
     "data": {
      "text/plain": "<Figure size 432x288 with 1 Axes>",
      "image/png": "[encoded data removed]"
     },
     "metadata": {
      "needs_background": "light"
     },
     "output_type": "display_data"
    }
   ],
   "source": [
    "history_dict = history.history\n",
    "history_dict.keys()\n",
    "\n",
    "acc = history_dict['binary_accuracy']\n",
    "val_acc = history_dict['val_binary_accuracy']\n",
    "loss = history_dict['loss']\n",
    "val_loss = history_dict['val_loss']\n",
    "\n",
    "epochs = range(1, len(acc) + 1)\n",
    "\n",
    "# \"bo\" is for \"blue dot\"\n",
    "plt.plot(epochs, loss, 'bo', label='Training loss')\n",
    "# b is for \"solid blue line\"\n",
    "plt.plot(epochs, val_loss, 'y', label='Validation loss')\n",
    "plt.plot(epochs, acc, 'go', label='Training Acc')\n",
    "# b is for \"solid blue line\"\n",
    "plt.plot(epochs, val_acc, 'r', label='Validation Acc')\n",
    "plt.title('Training and validation loss')\n",
    "plt.xlabel('Epochs')\n",
    "plt.ylabel('Loss')\n",
    "plt.legend()\n",
    "\n",
    "plt.show()"
   ]
  },
  {
   "cell_type": "markdown",
   "id": "a2f3bc4c",
   "metadata": {},
   "source": [
    "## 預測真實資料"
   ]
  },
  {
   "cell_type": "code",
   "execution_count": 215,
   "id": "ed5fe815",
   "metadata": {
    "scrolled": true
   },
   "outputs": [],
   "source": [
    "y_pred = model.predict(X_test)\n",
    "\n",
    "y_pred = (y_pred[:] > 0.5).astype(int)\n",
    "\n",
    "y_pred = np.reshape(y_pred, (-1,))\n",
    "\n",
    "y_pred_df = pd.DataFrame(y_pred, columns=['state'])\n",
    "\n",
    "y_pred_df.insert(0, \"sequence\", np.arange(25968, 25968+y_pred_df.shape[0]))\n"
   ]
  },
  {
   "cell_type": "code",
   "execution_count": 216,
   "outputs": [
    {
     "data": {
      "text/plain": "       sequence  state\n0         25968      1\n1         25969      1\n2         25970      0\n3         25971      0\n4         25972      1\n...         ...    ...\n12213     38181      1\n12214     38182      1\n12215     38183      0\n12216     38184      1\n12217     38185      0\n\n[12218 rows x 2 columns]",
      "text/html": "<div>\n<style scoped>\n    .dataframe tbody tr th:only-of-type {\n        vertical-align: middle;\n    }\n\n    .dataframe tbody tr th {\n        vertical-align: top;\n    }\n\n    .dataframe thead th {\n        text-align: right;\n    }\n</style>\n<table border=\"1\" class=\"dataframe\">\n  <thead>\n    <tr style=\"text-align: right;\">\n      <th></th>\n      <th>sequence</th>\n      <th>state</th>\n    </tr>\n  </thead>\n  <tbody>\n    <tr>\n      <th>0</th>\n      <td>25968</td>\n      <td>1</td>\n    </tr>\n    <tr>\n      <th>1</th>\n      <td>25969</td>\n      <td>1</td>\n    </tr>\n    <tr>\n      <th>2</th>\n      <td>25970</td>\n      <td>0</td>\n    </tr>\n    <tr>\n      <th>3</th>\n      <td>25971</td>\n      <td>0</td>\n    </tr>\n    <tr>\n      <th>4</th>\n      <td>25972</td>\n      <td>1</td>\n    </tr>\n    <tr>\n      <th>...</th>\n      <td>...</td>\n      <td>...</td>\n    </tr>\n    <tr>\n      <th>12213</th>\n      <td>38181</td>\n      <td>1</td>\n    </tr>\n    <tr>\n      <th>12214</th>\n      <td>38182</td>\n      <td>1</td>\n    </tr>\n    <tr>\n      <th>12215</th>\n      <td>38183</td>\n      <td>0</td>\n    </tr>\n    <tr>\n      <th>12216</th>\n      <td>38184</td>\n      <td>1</td>\n    </tr>\n    <tr>\n      <th>12217</th>\n      <td>38185</td>\n      <td>0</td>\n    </tr>\n  </tbody>\n</table>\n<p>12218 rows × 2 columns</p>\n</div>"
     },
     "execution_count": 216,
     "metadata": {},
     "output_type": "execute_result"
    }
   ],
   "source": [
    "y_pred_df"
   ],
   "metadata": {
    "collapsed": false,
    "pycharm": {
     "name": "#%%\n"
    }
   }
  },
  {
   "cell_type": "code",
   "execution_count": 217,
   "id": "ef66d3df",
   "metadata": {},
   "outputs": [],
   "source": [
    "y_pred_df.to_csv('submission.csv', index=False)"
   ]
  }
 ],
 "metadata": {
  "kernelspec": {
   "display_name": "Python 3 (ipykernel)",
   "language": "python",
   "name": "python3"
  },
  "language_info": {
   "codemirror_mode": {
    "name": "ipython",
    "version": 3
   },
   "file_extension": ".py",
   "mimetype": "text/x-python",
   "name": "python",
   "nbconvert_exporter": "python",
   "pygments_lexer": "ipython3",
   "version": "3.9.5"
  }
 },
 "nbformat": 4,
 "nbformat_minor": 5
}