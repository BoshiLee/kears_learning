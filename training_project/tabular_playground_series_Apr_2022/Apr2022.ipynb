{
 "cells": [
  {
   "cell_type": "code",
   "execution_count": 1,
   "id": "004fb920",
   "metadata": {},
   "outputs": [],
   "source": [
    "import pandas as pd\n",
    "import numpy as np\n",
    "import os\n",
    "from matplotlib import pyplot as plt"
   ]
  },
  {
   "cell_type": "code",
   "execution_count": 2,
   "id": "bdad0901",
   "metadata": {},
   "outputs": [
    {
     "name": "stdout",
     "output_type": "stream",
     "text": [
      "D:\\boshi\\GitHub\\kears_learning\\training_project\\tabular_playground_series_Apr_2022\n"
     ]
    }
   ],
   "source": [
    "current_directory = os.getcwd()\n",
    "print(current_directory)\n",
    "train = pd.read_csv('data/train.csv')\n",
    "train_labels = pd.read_csv('data/train_labels.csv')\n",
    "test = pd.read_csv('data/test.csv')"
   ]
  },
  {
   "cell_type": "markdown",
   "id": "4c3c4d65",
   "metadata": {},
   "source": [
    "In this competition, you'll classify 60-second sequences of sensor data, indicating whether a subject was in either of two activity states for the duration of the sequence.\n",
    "\n",
    "在本次競賽中，您將對 60 秒的感測器資料序列進行分類，找出受試者在序列持續時間內處於兩種活動狀態的其中一種。\n",
    "\n",
    "## Files and Field Descriptions\n",
    "- train.csv - the training set, comprising ~26,000 60-second recordings of thirteen biological sensors for almost one thousand experimental participants\n",
    "    - sequence - a unique id for each sequence\n",
    "    - subject - a unique id for the subject in the experiment\n",
    "    - step - time step of the recording, in one second intervals\n",
    "    - sensor_00 - sensor_12 - the value for each of the thirteen sensors at that time step\n",
    "- train_labels.csv - the class label for each sequence.\n",
    "    - sequence - the unique id for each sequence.\n",
    "    - state - the state associated to each sequence. This is the target which you are trying to predict.\n",
    "- test.csv - the test set. For each of the ~12,000 sequences, you should predict a value for that sequence's state.\n",
    "- sample_submission.csv - a sample submission file in the correct format."
   ]
  },
  {
   "cell_type": "code",
   "execution_count": 3,
   "id": "d849ef78",
   "metadata": {
    "pycharm": {
     "name": "#%%\n"
    }
   },
   "outputs": [
    {
     "data": {
      "text/plain": "         sequence  subject  step  sensor_00  sensor_01  sensor_02  sensor_03  \\\n0               0       47     0  -0.196291   0.112395   1.000000   0.329204   \n1               0       47     1  -0.447450   0.134454   1.000000  -0.658407   \n2               0       47     2   0.326893  -0.694328   1.000000   0.330088   \n3               0       47     3   0.523184   0.751050   1.000000   0.976991   \n4               0       47     4   0.272025   1.074580   1.000000  -0.136283   \n...           ...      ...   ...        ...        ...        ...        ...   \n1558075     25967      327    55  -0.282844  -1.217437  -1.666153   0.586726   \n1558076     25967      327    56   0.130603   0.349790  -1.666153  -0.324779   \n1558077     25967      327    57  -0.579598   0.429622  -1.666153   0.319469   \n1558078     25967      327    58   1.278980   1.711134  -1.522820   0.802655   \n1558079     25967      327    59  -1.136012  -3.702731  -1.332820  -0.766372   \n\n         sensor_04  sensor_05  sensor_06  sensor_07  sensor_08  sensor_09  \\\n0        -1.004660  -0.131638  -0.127505   0.368702       -0.1  -0.963873   \n1         0.162495   0.340314  -0.209472  -0.867176        0.2  -0.301301   \n2         0.473678   1.280479  -0.094718   0.535878        1.4   1.002168   \n3        -0.563287  -0.720269   0.793260   0.951145       -0.3  -0.995665   \n4         0.398579   0.044877   0.560109  -0.541985       -0.9   1.055636   \n...            ...        ...        ...        ...        ...        ...   \n1558075  -0.930698  -0.451010  -0.651184   0.368702        0.4   0.008671   \n1558076   0.775324  -0.332835   0.099271   0.122137       -0.2   0.644509   \n1558077   0.308861   0.282723  -0.512750   0.012214       -1.6  -0.424133   \n1558078  -0.460541  -0.055348   2.405282   0.043511        1.9   0.283960   \n1558079  -0.430027  -0.091997  -2.512750  -0.022901       -1.1  -0.653902   \n\n         sensor_10  sensor_11  sensor_12  \n0        -0.985069   0.531893   4.751492  \n1         0.082733  -0.231481   0.454390  \n2         0.449221  -0.586420  -4.736147  \n3        -0.434290   1.344650   0.429241  \n4         0.812631   0.123457  -0.223359  \n...            ...        ...        ...  \n1558075  -0.723536  -0.353909  -0.914749  \n1558076   0.691407  -0.613169  -0.515772  \n1558077   0.716855   1.628601   0.928389  \n1558078  -0.914914   0.364198   0.211424  \n1558079  -0.418516  -1.453704  -1.561381  \n\n[1558080 rows x 16 columns]",
      "text/html": "<div>\n<style scoped>\n    .dataframe tbody tr th:only-of-type {\n        vertical-align: middle;\n    }\n\n    .dataframe tbody tr th {\n        vertical-align: top;\n    }\n\n    .dataframe thead th {\n        text-align: right;\n    }\n</style>\n<table border=\"1\" class=\"dataframe\">\n  <thead>\n    <tr style=\"text-align: right;\">\n      <th></th>\n      <th>sequence</th>\n      <th>subject</th>\n      <th>step</th>\n      <th>sensor_00</th>\n      <th>sensor_01</th>\n      <th>sensor_02</th>\n      <th>sensor_03</th>\n      <th>sensor_04</th>\n      <th>sensor_05</th>\n      <th>sensor_06</th>\n      <th>sensor_07</th>\n      <th>sensor_08</th>\n      <th>sensor_09</th>\n      <th>sensor_10</th>\n      <th>sensor_11</th>\n      <th>sensor_12</th>\n    </tr>\n  </thead>\n  <tbody>\n    <tr>\n      <th>0</th>\n      <td>0</td>\n      <td>47</td>\n      <td>0</td>\n      <td>-0.196291</td>\n      <td>0.112395</td>\n      <td>1.000000</td>\n      <td>0.329204</td>\n      <td>-1.004660</td>\n      <td>-0.131638</td>\n      <td>-0.127505</td>\n      <td>0.368702</td>\n      <td>-0.1</td>\n      <td>-0.963873</td>\n      <td>-0.985069</td>\n      <td>0.531893</td>\n      <td>4.751492</td>\n    </tr>\n    <tr>\n      <th>1</th>\n      <td>0</td>\n      <td>47</td>\n      <td>1</td>\n      <td>-0.447450</td>\n      <td>0.134454</td>\n      <td>1.000000</td>\n      <td>-0.658407</td>\n      <td>0.162495</td>\n      <td>0.340314</td>\n      <td>-0.209472</td>\n      <td>-0.867176</td>\n      <td>0.2</td>\n      <td>-0.301301</td>\n      <td>0.082733</td>\n      <td>-0.231481</td>\n      <td>0.454390</td>\n    </tr>\n    <tr>\n      <th>2</th>\n      <td>0</td>\n      <td>47</td>\n      <td>2</td>\n      <td>0.326893</td>\n      <td>-0.694328</td>\n      <td>1.000000</td>\n      <td>0.330088</td>\n      <td>0.473678</td>\n      <td>1.280479</td>\n      <td>-0.094718</td>\n      <td>0.535878</td>\n      <td>1.4</td>\n      <td>1.002168</td>\n      <td>0.449221</td>\n      <td>-0.586420</td>\n      <td>-4.736147</td>\n    </tr>\n    <tr>\n      <th>3</th>\n      <td>0</td>\n      <td>47</td>\n      <td>3</td>\n      <td>0.523184</td>\n      <td>0.751050</td>\n      <td>1.000000</td>\n      <td>0.976991</td>\n      <td>-0.563287</td>\n      <td>-0.720269</td>\n      <td>0.793260</td>\n      <td>0.951145</td>\n      <td>-0.3</td>\n      <td>-0.995665</td>\n      <td>-0.434290</td>\n      <td>1.344650</td>\n      <td>0.429241</td>\n    </tr>\n    <tr>\n      <th>4</th>\n      <td>0</td>\n      <td>47</td>\n      <td>4</td>\n      <td>0.272025</td>\n      <td>1.074580</td>\n      <td>1.000000</td>\n      <td>-0.136283</td>\n      <td>0.398579</td>\n      <td>0.044877</td>\n      <td>0.560109</td>\n      <td>-0.541985</td>\n      <td>-0.9</td>\n      <td>1.055636</td>\n      <td>0.812631</td>\n      <td>0.123457</td>\n      <td>-0.223359</td>\n    </tr>\n    <tr>\n      <th>...</th>\n      <td>...</td>\n      <td>...</td>\n      <td>...</td>\n      <td>...</td>\n      <td>...</td>\n      <td>...</td>\n      <td>...</td>\n      <td>...</td>\n      <td>...</td>\n      <td>...</td>\n      <td>...</td>\n      <td>...</td>\n      <td>...</td>\n      <td>...</td>\n      <td>...</td>\n      <td>...</td>\n    </tr>\n    <tr>\n      <th>1558075</th>\n      <td>25967</td>\n      <td>327</td>\n      <td>55</td>\n      <td>-0.282844</td>\n      <td>-1.217437</td>\n      <td>-1.666153</td>\n      <td>0.586726</td>\n      <td>-0.930698</td>\n      <td>-0.451010</td>\n      <td>-0.651184</td>\n      <td>0.368702</td>\n      <td>0.4</td>\n      <td>0.008671</td>\n      <td>-0.723536</td>\n      <td>-0.353909</td>\n      <td>-0.914749</td>\n    </tr>\n    <tr>\n      <th>1558076</th>\n      <td>25967</td>\n      <td>327</td>\n      <td>56</td>\n      <td>0.130603</td>\n      <td>0.349790</td>\n      <td>-1.666153</td>\n      <td>-0.324779</td>\n      <td>0.775324</td>\n      <td>-0.332835</td>\n      <td>0.099271</td>\n      <td>0.122137</td>\n      <td>-0.2</td>\n      <td>0.644509</td>\n      <td>0.691407</td>\n      <td>-0.613169</td>\n      <td>-0.515772</td>\n    </tr>\n    <tr>\n      <th>1558077</th>\n      <td>25967</td>\n      <td>327</td>\n      <td>57</td>\n      <td>-0.579598</td>\n      <td>0.429622</td>\n      <td>-1.666153</td>\n      <td>0.319469</td>\n      <td>0.308861</td>\n      <td>0.282723</td>\n      <td>-0.512750</td>\n      <td>0.012214</td>\n      <td>-1.6</td>\n      <td>-0.424133</td>\n      <td>0.716855</td>\n      <td>1.628601</td>\n      <td>0.928389</td>\n    </tr>\n    <tr>\n      <th>1558078</th>\n      <td>25967</td>\n      <td>327</td>\n      <td>58</td>\n      <td>1.278980</td>\n      <td>1.711134</td>\n      <td>-1.522820</td>\n      <td>0.802655</td>\n      <td>-0.460541</td>\n      <td>-0.055348</td>\n      <td>2.405282</td>\n      <td>0.043511</td>\n      <td>1.9</td>\n      <td>0.283960</td>\n      <td>-0.914914</td>\n      <td>0.364198</td>\n      <td>0.211424</td>\n    </tr>\n    <tr>\n      <th>1558079</th>\n      <td>25967</td>\n      <td>327</td>\n      <td>59</td>\n      <td>-1.136012</td>\n      <td>-3.702731</td>\n      <td>-1.332820</td>\n      <td>-0.766372</td>\n      <td>-0.430027</td>\n      <td>-0.091997</td>\n      <td>-2.512750</td>\n      <td>-0.022901</td>\n      <td>-1.1</td>\n      <td>-0.653902</td>\n      <td>-0.418516</td>\n      <td>-1.453704</td>\n      <td>-1.561381</td>\n    </tr>\n  </tbody>\n</table>\n<p>1558080 rows × 16 columns</p>\n</div>"
     },
     "execution_count": 3,
     "metadata": {},
     "output_type": "execute_result"
    }
   ],
   "source": [
    "train"
   ]
  },
  {
   "cell_type": "code",
   "execution_count": 4,
   "id": "2a150d70",
   "metadata": {
    "pycharm": {
     "name": "#%%\n"
    }
   },
   "outputs": [
    {
     "data": {
      "text/plain": "        sequence  subject  step  sensor_00  sensor_01  sensor_02  sensor_03  \\\n0          25968      684     0   2.427357  19.639706    1.00000  -1.466372   \n1          25968      684     1  -4.950541 -21.747899    1.00000   0.983186   \n2          25968      684     2   1.136012 -10.756303    1.00000   1.016814   \n3          25968      684     3   0.806028   6.504202    1.00000  -0.179646   \n4          25968      684     4   1.288253   5.552521    1.00000  -0.493805   \n...          ...      ...   ...        ...        ...        ...        ...   \n733075     38185      773    55   0.211747   2.005252   -1.33282   0.695575   \n733076     38185      773    56  -0.826121  -2.468487   -1.33282   0.381416   \n733077     38185      773    57   0.755023   1.469538   -1.33282  -1.253097   \n733078     38185      773    58  -0.187017   0.714286   -1.33282   0.077876   \n733079     38185      773    59  -0.414992  -2.858193   -1.33282   1.061062   \n\n        sensor_04  sensor_05  sensor_06  sensor_07  sensor_08  sensor_09  \\\n0       -1.289973  -4.207928   2.486339  -2.493893        8.0  -1.123555   \n1       -0.569053   1.845924  -3.887978   1.727481       -2.9   0.395231   \n2        0.964157   2.454749   0.312386   1.154198       -5.6   1.114162   \n3        0.969221  -1.035153  -0.457195   0.254962       -2.7  -0.588873   \n4       -1.036124  -1.126402   2.008197  -0.730534        0.0   0.899566   \n...           ...        ...        ...        ...        ...        ...   \n733075  -0.161327  -1.193717   0.421676   0.869466        0.0  -1.536850   \n733076   0.144745   1.060583  -0.765938   0.288550        0.2  -1.956647   \n733077  -0.414802   0.007479   0.907104  -1.556489        0.4   4.341763   \n733078   1.323245   0.159312  -0.397996   0.306870        0.1  -1.013728   \n733079  -0.264150  -0.449514  -0.601093   1.621374       -1.0  -3.650289   \n\n        sensor_10  sensor_11  sensor_12  \n0       -1.673048  10.980453   0.419011  \n1       -0.882233  -1.871399  -0.008525  \n2        1.525273 -11.584362   0.139812  \n3        0.608761  -4.241770  -0.462916  \n4       -1.259615  -0.472222  -0.121483  \n...           ...        ...        ...  \n733075   0.388101   2.205761 -91.610827  \n733076  -0.032158  -1.794239  72.414749  \n733077   0.150273   0.641975 -34.065644  \n733078  -0.608616   0.317901  65.659420  \n733079  -0.147107  -1.559671  57.189685  \n\n[733080 rows x 16 columns]",
      "text/html": "<div>\n<style scoped>\n    .dataframe tbody tr th:only-of-type {\n        vertical-align: middle;\n    }\n\n    .dataframe tbody tr th {\n        vertical-align: top;\n    }\n\n    .dataframe thead th {\n        text-align: right;\n    }\n</style>\n<table border=\"1\" class=\"dataframe\">\n  <thead>\n    <tr style=\"text-align: right;\">\n      <th></th>\n      <th>sequence</th>\n      <th>subject</th>\n      <th>step</th>\n      <th>sensor_00</th>\n      <th>sensor_01</th>\n      <th>sensor_02</th>\n      <th>sensor_03</th>\n      <th>sensor_04</th>\n      <th>sensor_05</th>\n      <th>sensor_06</th>\n      <th>sensor_07</th>\n      <th>sensor_08</th>\n      <th>sensor_09</th>\n      <th>sensor_10</th>\n      <th>sensor_11</th>\n      <th>sensor_12</th>\n    </tr>\n  </thead>\n  <tbody>\n    <tr>\n      <th>0</th>\n      <td>25968</td>\n      <td>684</td>\n      <td>0</td>\n      <td>2.427357</td>\n      <td>19.639706</td>\n      <td>1.00000</td>\n      <td>-1.466372</td>\n      <td>-1.289973</td>\n      <td>-4.207928</td>\n      <td>2.486339</td>\n      <td>-2.493893</td>\n      <td>8.0</td>\n      <td>-1.123555</td>\n      <td>-1.673048</td>\n      <td>10.980453</td>\n      <td>0.419011</td>\n    </tr>\n    <tr>\n      <th>1</th>\n      <td>25968</td>\n      <td>684</td>\n      <td>1</td>\n      <td>-4.950541</td>\n      <td>-21.747899</td>\n      <td>1.00000</td>\n      <td>0.983186</td>\n      <td>-0.569053</td>\n      <td>1.845924</td>\n      <td>-3.887978</td>\n      <td>1.727481</td>\n      <td>-2.9</td>\n      <td>0.395231</td>\n      <td>-0.882233</td>\n      <td>-1.871399</td>\n      <td>-0.008525</td>\n    </tr>\n    <tr>\n      <th>2</th>\n      <td>25968</td>\n      <td>684</td>\n      <td>2</td>\n      <td>1.136012</td>\n      <td>-10.756303</td>\n      <td>1.00000</td>\n      <td>1.016814</td>\n      <td>0.964157</td>\n      <td>2.454749</td>\n      <td>0.312386</td>\n      <td>1.154198</td>\n      <td>-5.6</td>\n      <td>1.114162</td>\n      <td>1.525273</td>\n      <td>-11.584362</td>\n      <td>0.139812</td>\n    </tr>\n    <tr>\n      <th>3</th>\n      <td>25968</td>\n      <td>684</td>\n      <td>3</td>\n      <td>0.806028</td>\n      <td>6.504202</td>\n      <td>1.00000</td>\n      <td>-0.179646</td>\n      <td>0.969221</td>\n      <td>-1.035153</td>\n      <td>-0.457195</td>\n      <td>0.254962</td>\n      <td>-2.7</td>\n      <td>-0.588873</td>\n      <td>0.608761</td>\n      <td>-4.241770</td>\n      <td>-0.462916</td>\n    </tr>\n    <tr>\n      <th>4</th>\n      <td>25968</td>\n      <td>684</td>\n      <td>4</td>\n      <td>1.288253</td>\n      <td>5.552521</td>\n      <td>1.00000</td>\n      <td>-0.493805</td>\n      <td>-1.036124</td>\n      <td>-1.126402</td>\n      <td>2.008197</td>\n      <td>-0.730534</td>\n      <td>0.0</td>\n      <td>0.899566</td>\n      <td>-1.259615</td>\n      <td>-0.472222</td>\n      <td>-0.121483</td>\n    </tr>\n    <tr>\n      <th>...</th>\n      <td>...</td>\n      <td>...</td>\n      <td>...</td>\n      <td>...</td>\n      <td>...</td>\n      <td>...</td>\n      <td>...</td>\n      <td>...</td>\n      <td>...</td>\n      <td>...</td>\n      <td>...</td>\n      <td>...</td>\n      <td>...</td>\n      <td>...</td>\n      <td>...</td>\n      <td>...</td>\n    </tr>\n    <tr>\n      <th>733075</th>\n      <td>38185</td>\n      <td>773</td>\n      <td>55</td>\n      <td>0.211747</td>\n      <td>2.005252</td>\n      <td>-1.33282</td>\n      <td>0.695575</td>\n      <td>-0.161327</td>\n      <td>-1.193717</td>\n      <td>0.421676</td>\n      <td>0.869466</td>\n      <td>0.0</td>\n      <td>-1.536850</td>\n      <td>0.388101</td>\n      <td>2.205761</td>\n      <td>-91.610827</td>\n    </tr>\n    <tr>\n      <th>733076</th>\n      <td>38185</td>\n      <td>773</td>\n      <td>56</td>\n      <td>-0.826121</td>\n      <td>-2.468487</td>\n      <td>-1.33282</td>\n      <td>0.381416</td>\n      <td>0.144745</td>\n      <td>1.060583</td>\n      <td>-0.765938</td>\n      <td>0.288550</td>\n      <td>0.2</td>\n      <td>-1.956647</td>\n      <td>-0.032158</td>\n      <td>-1.794239</td>\n      <td>72.414749</td>\n    </tr>\n    <tr>\n      <th>733077</th>\n      <td>38185</td>\n      <td>773</td>\n      <td>57</td>\n      <td>0.755023</td>\n      <td>1.469538</td>\n      <td>-1.33282</td>\n      <td>-1.253097</td>\n      <td>-0.414802</td>\n      <td>0.007479</td>\n      <td>0.907104</td>\n      <td>-1.556489</td>\n      <td>0.4</td>\n      <td>4.341763</td>\n      <td>0.150273</td>\n      <td>0.641975</td>\n      <td>-34.065644</td>\n    </tr>\n    <tr>\n      <th>733078</th>\n      <td>38185</td>\n      <td>773</td>\n      <td>58</td>\n      <td>-0.187017</td>\n      <td>0.714286</td>\n      <td>-1.33282</td>\n      <td>0.077876</td>\n      <td>1.323245</td>\n      <td>0.159312</td>\n      <td>-0.397996</td>\n      <td>0.306870</td>\n      <td>0.1</td>\n      <td>-1.013728</td>\n      <td>-0.608616</td>\n      <td>0.317901</td>\n      <td>65.659420</td>\n    </tr>\n    <tr>\n      <th>733079</th>\n      <td>38185</td>\n      <td>773</td>\n      <td>59</td>\n      <td>-0.414992</td>\n      <td>-2.858193</td>\n      <td>-1.33282</td>\n      <td>1.061062</td>\n      <td>-0.264150</td>\n      <td>-0.449514</td>\n      <td>-0.601093</td>\n      <td>1.621374</td>\n      <td>-1.0</td>\n      <td>-3.650289</td>\n      <td>-0.147107</td>\n      <td>-1.559671</td>\n      <td>57.189685</td>\n    </tr>\n  </tbody>\n</table>\n<p>733080 rows × 16 columns</p>\n</div>"
     },
     "execution_count": 4,
     "metadata": {},
     "output_type": "execute_result"
    }
   ],
   "source": [
    "test"
   ]
  },
  {
   "cell_type": "code",
   "execution_count": 5,
   "outputs": [
    {
     "data": {
      "text/plain": "       sequence  state\n0             0      0\n1             1      1\n2             2      1\n3             3      1\n4             4      1\n...         ...    ...\n25963     25963      1\n25964     25964      0\n25965     25965      1\n25966     25966      1\n25967     25967      0\n\n[25968 rows x 2 columns]",
      "text/html": "<div>\n<style scoped>\n    .dataframe tbody tr th:only-of-type {\n        vertical-align: middle;\n    }\n\n    .dataframe tbody tr th {\n        vertical-align: top;\n    }\n\n    .dataframe thead th {\n        text-align: right;\n    }\n</style>\n<table border=\"1\" class=\"dataframe\">\n  <thead>\n    <tr style=\"text-align: right;\">\n      <th></th>\n      <th>sequence</th>\n      <th>state</th>\n    </tr>\n  </thead>\n  <tbody>\n    <tr>\n      <th>0</th>\n      <td>0</td>\n      <td>0</td>\n    </tr>\n    <tr>\n      <th>1</th>\n      <td>1</td>\n      <td>1</td>\n    </tr>\n    <tr>\n      <th>2</th>\n      <td>2</td>\n      <td>1</td>\n    </tr>\n    <tr>\n      <th>3</th>\n      <td>3</td>\n      <td>1</td>\n    </tr>\n    <tr>\n      <th>4</th>\n      <td>4</td>\n      <td>1</td>\n    </tr>\n    <tr>\n      <th>...</th>\n      <td>...</td>\n      <td>...</td>\n    </tr>\n    <tr>\n      <th>25963</th>\n      <td>25963</td>\n      <td>1</td>\n    </tr>\n    <tr>\n      <th>25964</th>\n      <td>25964</td>\n      <td>0</td>\n    </tr>\n    <tr>\n      <th>25965</th>\n      <td>25965</td>\n      <td>1</td>\n    </tr>\n    <tr>\n      <th>25966</th>\n      <td>25966</td>\n      <td>1</td>\n    </tr>\n    <tr>\n      <th>25967</th>\n      <td>25967</td>\n      <td>0</td>\n    </tr>\n  </tbody>\n</table>\n<p>25968 rows × 2 columns</p>\n</div>"
     },
     "execution_count": 5,
     "metadata": {},
     "output_type": "execute_result"
    }
   ],
   "source": [
    "train_labels"
   ],
   "metadata": {
    "collapsed": false,
    "pycharm": {
     "name": "#%%\n"
    }
   }
  },
  {
   "cell_type": "markdown",
   "id": "6539b752",
   "metadata": {},
   "source": [
    "由上表與題目提示可得知，每一秒會記錄一列，每 60 列代表一個 `sequence`"
   ]
  },
  {
   "cell_type": "markdown",
   "id": "e4a76d87",
   "metadata": {},
   "source": [
    "確認資料是否有缺漏，本題的資料都很完美，沒有有缺漏的地方"
   ]
  },
  {
   "cell_type": "code",
   "execution_count": 6,
   "id": "68ca8905",
   "metadata": {},
   "outputs": [
    {
     "name": "stdout",
     "output_type": "stream",
     "text": [
      "<class 'pandas.core.frame.DataFrame'>\n",
      "RangeIndex: 1558080 entries, 0 to 1558079\n",
      "Data columns (total 16 columns):\n",
      " #   Column     Non-Null Count    Dtype  \n",
      "---  ------     --------------    -----  \n",
      " 0   sequence   1558080 non-null  int64  \n",
      " 1   subject    1558080 non-null  int64  \n",
      " 2   step       1558080 non-null  int64  \n",
      " 3   sensor_00  1558080 non-null  float64\n",
      " 4   sensor_01  1558080 non-null  float64\n",
      " 5   sensor_02  1558080 non-null  float64\n",
      " 6   sensor_03  1558080 non-null  float64\n",
      " 7   sensor_04  1558080 non-null  float64\n",
      " 8   sensor_05  1558080 non-null  float64\n",
      " 9   sensor_06  1558080 non-null  float64\n",
      " 10  sensor_07  1558080 non-null  float64\n",
      " 11  sensor_08  1558080 non-null  float64\n",
      " 12  sensor_09  1558080 non-null  float64\n",
      " 13  sensor_10  1558080 non-null  float64\n",
      " 14  sensor_11  1558080 non-null  float64\n",
      " 15  sensor_12  1558080 non-null  float64\n",
      "dtypes: float64(13), int64(3)\n",
      "memory usage: 190.2 MB\n"
     ]
    }
   ],
   "source": [
    "train.info()"
   ]
  },
  {
   "cell_type": "markdown",
   "id": "394b4db6",
   "metadata": {},
   "source": [
    "## 特徵工程"
   ]
  },
  {
   "cell_type": "markdown",
   "id": "e857522f",
   "metadata": {},
   "source": [
    "萃取需要的資料"
   ]
  },
  {
   "cell_type": "code",
   "execution_count": 7,
   "id": "a79acd11",
   "metadata": {
    "pycharm": {
     "name": "#%%\n"
    }
   },
   "outputs": [],
   "source": [
    "groups = train['sequence']"
   ]
  },
  {
   "cell_type": "code",
   "execution_count": 8,
   "outputs": [],
   "source": [
    "def create_new_features(df):\n",
    "    df['sensor_02_num'] = df['sensor_02'] > -15\n",
    "    df['sensor_02_num'] = df['sensor_02_num'].astype(int)\n",
    "    df['sensor_sum1'] = (df['sensor_00'] + df['sensor_09'] + df['sensor_06'] + df['sensor_01'])\n",
    "    df['sensor_sum2'] = (df['sensor_01'] + df['sensor_11'] + df['sensor_09'] + df['sensor_06'] + df['sensor_00'])\n",
    "    df['sensor_sum3'] = (df['sensor_03'] + df['sensor_11'] + df['sensor_07'])\n",
    "    df['sensor_sum4'] = (df['sensor_04'] + df['sensor_10'])\n",
    "\n",
    "    sensors = ['sensor_'+'%02d'%i for i in range(0, 13)]\n",
    "    sensors.extend(['sensor_02_num', 'sensor_sum1', 'sensor_sum2', 'sensor_sum3', 'sensor_sum4'])\n",
    "\n",
    "    for sensor in sensors:\n",
    "        df[sensor + '_lag1'] = df.groupby('sequence')[sensor].shift(1)\n",
    "        df.fillna(0, inplace=True)\n",
    "        df[sensor + '_diff1'] = df[sensor] - df[sensor + '_lag1']\n",
    "\n",
    "    return df"
   ],
   "metadata": {
    "collapsed": false,
    "pycharm": {
     "name": "#%%\n"
    }
   }
  },
  {
   "cell_type": "code",
   "execution_count": 9,
   "outputs": [],
   "source": [
    "train = create_new_features(train)\n",
    "test = create_new_features(test)"
   ],
   "metadata": {
    "collapsed": false,
    "pycharm": {
     "name": "#%%\n"
    }
   }
  },
  {
   "cell_type": "code",
   "execution_count": 10,
   "outputs": [],
   "source": [
    "Window = 60\n",
    "y = train_labels['state'].to_numpy()\n",
    "train.drop([\"sequence\",\"step\",\"subject\"], axis=1, inplace=True)\n",
    "test.drop([\"sequence\",\"step\",\"subject\"], axis=1, inplace=True)\n"
   ],
   "metadata": {
    "collapsed": false,
    "pycharm": {
     "name": "#%%\n"
    }
   }
  },
  {
   "cell_type": "code",
   "execution_count": 11,
   "outputs": [
    {
     "data": {
      "text/plain": "         sensor_00  sensor_01  sensor_02  sensor_03  sensor_04  sensor_05  \\\n0        -0.196291   0.112395   1.000000   0.329204  -1.004660  -0.131638   \n1        -0.447450   0.134454   1.000000  -0.658407   0.162495   0.340314   \n2         0.326893  -0.694328   1.000000   0.330088   0.473678   1.280479   \n3         0.523184   0.751050   1.000000   0.976991  -0.563287  -0.720269   \n4         0.272025   1.074580   1.000000  -0.136283   0.398579   0.044877   \n...            ...        ...        ...        ...        ...        ...   \n1558075  -0.282844  -1.217437  -1.666153   0.586726  -0.930698  -0.451010   \n1558076   0.130603   0.349790  -1.666153  -0.324779   0.775324  -0.332835   \n1558077  -0.579598   0.429622  -1.666153   0.319469   0.308861   0.282723   \n1558078   1.278980   1.711134  -1.522820   0.802655  -0.460541  -0.055348   \n1558079  -1.136012  -3.702731  -1.332820  -0.766372  -0.430027  -0.091997   \n\n         sensor_06  sensor_07  sensor_08  sensor_09  ...  sensor_02_num_lag1  \\\n0        -0.127505   0.368702       -0.1  -0.963873  ...                 0.0   \n1        -0.209472  -0.867176        0.2  -0.301301  ...                 1.0   \n2        -0.094718   0.535878        1.4   1.002168  ...                 1.0   \n3         0.793260   0.951145       -0.3  -0.995665  ...                 1.0   \n4         0.560109  -0.541985       -0.9   1.055636  ...                 1.0   \n...            ...        ...        ...        ...  ...                 ...   \n1558075  -0.651184   0.368702        0.4   0.008671  ...                 1.0   \n1558076   0.099271   0.122137       -0.2   0.644509  ...                 1.0   \n1558077  -0.512750   0.012214       -1.6  -0.424133  ...                 1.0   \n1558078   2.405282   0.043511        1.9   0.283960  ...                 1.0   \n1558079  -2.512750  -0.022901       -1.1  -0.653902  ...                 1.0   \n\n         sensor_02_num_diff1  sensor_sum1_lag1  sensor_sum1_diff1  \\\n0                        1.0          0.000000          -1.175273   \n1                        0.0         -1.175273           0.351505   \n2                        0.0         -0.823768           1.363784   \n3                        0.0          0.540016           0.531814   \n4                        0.0          1.071830           1.890520   \n...                      ...               ...                ...   \n1558075                  0.0         -0.269331          -1.873464   \n1558076                  0.0         -2.142794           3.366967   \n1558077                  0.0          1.224173          -2.311032   \n1558078                  0.0         -1.086860           6.766216   \n1558079                  0.0          5.679356         -13.684752   \n\n         sensor_sum2_lag1  sensor_sum2_diff1  sensor_sum3_lag1  \\\n0                0.000000          -0.643380          0.000000   \n1               -0.643380          -0.411870          1.229799   \n2               -1.055250           1.008846         -1.757064   \n3               -0.046404           2.462884          0.279547   \n4                2.416480           0.669326          3.272786   \n...                   ...                ...               ...   \n1558075         -0.997726          -1.498978         -4.421065   \n1558076         -2.496704           3.107708          0.601518   \n1558077          0.611004          -0.069263         -0.815810   \n1558078          0.541741           5.501813          1.960284   \n1558079          6.043554         -15.502653          1.210364   \n\n         sensor_sum3_diff1  sensor_sum4_lag1  sensor_sum4_diff1  \n0                 1.229799          0.000000          -1.989728  \n1                -2.986863         -1.989728           2.234957  \n2                 2.036611          0.245228           0.677672  \n3                 2.993240          0.922900          -1.920477  \n4                -3.827598         -0.997577           2.208786  \n...                    ...               ...                ...  \n1558075           5.022584         -0.911795          -0.742439  \n1558076          -1.417329         -1.654233           3.120965  \n1558077           2.776094          1.466731          -0.441016  \n1558078          -0.749920          1.025716          -2.401171  \n1558079          -3.453340         -1.375455           0.526912  \n\n[1558080 rows x 54 columns]",
      "text/html": "<div>\n<style scoped>\n    .dataframe tbody tr th:only-of-type {\n        vertical-align: middle;\n    }\n\n    .dataframe tbody tr th {\n        vertical-align: top;\n    }\n\n    .dataframe thead th {\n        text-align: right;\n    }\n</style>\n<table border=\"1\" class=\"dataframe\">\n  <thead>\n    <tr style=\"text-align: right;\">\n      <th></th>\n      <th>sensor_00</th>\n      <th>sensor_01</th>\n      <th>sensor_02</th>\n      <th>sensor_03</th>\n      <th>sensor_04</th>\n      <th>sensor_05</th>\n      <th>sensor_06</th>\n      <th>sensor_07</th>\n      <th>sensor_08</th>\n      <th>sensor_09</th>\n      <th>...</th>\n      <th>sensor_02_num_lag1</th>\n      <th>sensor_02_num_diff1</th>\n      <th>sensor_sum1_lag1</th>\n      <th>sensor_sum1_diff1</th>\n      <th>sensor_sum2_lag1</th>\n      <th>sensor_sum2_diff1</th>\n      <th>sensor_sum3_lag1</th>\n      <th>sensor_sum3_diff1</th>\n      <th>sensor_sum4_lag1</th>\n      <th>sensor_sum4_diff1</th>\n    </tr>\n  </thead>\n  <tbody>\n    <tr>\n      <th>0</th>\n      <td>-0.196291</td>\n      <td>0.112395</td>\n      <td>1.000000</td>\n      <td>0.329204</td>\n      <td>-1.004660</td>\n      <td>-0.131638</td>\n      <td>-0.127505</td>\n      <td>0.368702</td>\n      <td>-0.1</td>\n      <td>-0.963873</td>\n      <td>...</td>\n      <td>0.0</td>\n      <td>1.0</td>\n      <td>0.000000</td>\n      <td>-1.175273</td>\n      <td>0.000000</td>\n      <td>-0.643380</td>\n      <td>0.000000</td>\n      <td>1.229799</td>\n      <td>0.000000</td>\n      <td>-1.989728</td>\n    </tr>\n    <tr>\n      <th>1</th>\n      <td>-0.447450</td>\n      <td>0.134454</td>\n      <td>1.000000</td>\n      <td>-0.658407</td>\n      <td>0.162495</td>\n      <td>0.340314</td>\n      <td>-0.209472</td>\n      <td>-0.867176</td>\n      <td>0.2</td>\n      <td>-0.301301</td>\n      <td>...</td>\n      <td>1.0</td>\n      <td>0.0</td>\n      <td>-1.175273</td>\n      <td>0.351505</td>\n      <td>-0.643380</td>\n      <td>-0.411870</td>\n      <td>1.229799</td>\n      <td>-2.986863</td>\n      <td>-1.989728</td>\n      <td>2.234957</td>\n    </tr>\n    <tr>\n      <th>2</th>\n      <td>0.326893</td>\n      <td>-0.694328</td>\n      <td>1.000000</td>\n      <td>0.330088</td>\n      <td>0.473678</td>\n      <td>1.280479</td>\n      <td>-0.094718</td>\n      <td>0.535878</td>\n      <td>1.4</td>\n      <td>1.002168</td>\n      <td>...</td>\n      <td>1.0</td>\n      <td>0.0</td>\n      <td>-0.823768</td>\n      <td>1.363784</td>\n      <td>-1.055250</td>\n      <td>1.008846</td>\n      <td>-1.757064</td>\n      <td>2.036611</td>\n      <td>0.245228</td>\n      <td>0.677672</td>\n    </tr>\n    <tr>\n      <th>3</th>\n      <td>0.523184</td>\n      <td>0.751050</td>\n      <td>1.000000</td>\n      <td>0.976991</td>\n      <td>-0.563287</td>\n      <td>-0.720269</td>\n      <td>0.793260</td>\n      <td>0.951145</td>\n      <td>-0.3</td>\n      <td>-0.995665</td>\n      <td>...</td>\n      <td>1.0</td>\n      <td>0.0</td>\n      <td>0.540016</td>\n      <td>0.531814</td>\n      <td>-0.046404</td>\n      <td>2.462884</td>\n      <td>0.279547</td>\n      <td>2.993240</td>\n      <td>0.922900</td>\n      <td>-1.920477</td>\n    </tr>\n    <tr>\n      <th>4</th>\n      <td>0.272025</td>\n      <td>1.074580</td>\n      <td>1.000000</td>\n      <td>-0.136283</td>\n      <td>0.398579</td>\n      <td>0.044877</td>\n      <td>0.560109</td>\n      <td>-0.541985</td>\n      <td>-0.9</td>\n      <td>1.055636</td>\n      <td>...</td>\n      <td>1.0</td>\n      <td>0.0</td>\n      <td>1.071830</td>\n      <td>1.890520</td>\n      <td>2.416480</td>\n      <td>0.669326</td>\n      <td>3.272786</td>\n      <td>-3.827598</td>\n      <td>-0.997577</td>\n      <td>2.208786</td>\n    </tr>\n    <tr>\n      <th>...</th>\n      <td>...</td>\n      <td>...</td>\n      <td>...</td>\n      <td>...</td>\n      <td>...</td>\n      <td>...</td>\n      <td>...</td>\n      <td>...</td>\n      <td>...</td>\n      <td>...</td>\n      <td>...</td>\n      <td>...</td>\n      <td>...</td>\n      <td>...</td>\n      <td>...</td>\n      <td>...</td>\n      <td>...</td>\n      <td>...</td>\n      <td>...</td>\n      <td>...</td>\n      <td>...</td>\n    </tr>\n    <tr>\n      <th>1558075</th>\n      <td>-0.282844</td>\n      <td>-1.217437</td>\n      <td>-1.666153</td>\n      <td>0.586726</td>\n      <td>-0.930698</td>\n      <td>-0.451010</td>\n      <td>-0.651184</td>\n      <td>0.368702</td>\n      <td>0.4</td>\n      <td>0.008671</td>\n      <td>...</td>\n      <td>1.0</td>\n      <td>0.0</td>\n      <td>-0.269331</td>\n      <td>-1.873464</td>\n      <td>-0.997726</td>\n      <td>-1.498978</td>\n      <td>-4.421065</td>\n      <td>5.022584</td>\n      <td>-0.911795</td>\n      <td>-0.742439</td>\n    </tr>\n    <tr>\n      <th>1558076</th>\n      <td>0.130603</td>\n      <td>0.349790</td>\n      <td>-1.666153</td>\n      <td>-0.324779</td>\n      <td>0.775324</td>\n      <td>-0.332835</td>\n      <td>0.099271</td>\n      <td>0.122137</td>\n      <td>-0.2</td>\n      <td>0.644509</td>\n      <td>...</td>\n      <td>1.0</td>\n      <td>0.0</td>\n      <td>-2.142794</td>\n      <td>3.366967</td>\n      <td>-2.496704</td>\n      <td>3.107708</td>\n      <td>0.601518</td>\n      <td>-1.417329</td>\n      <td>-1.654233</td>\n      <td>3.120965</td>\n    </tr>\n    <tr>\n      <th>1558077</th>\n      <td>-0.579598</td>\n      <td>0.429622</td>\n      <td>-1.666153</td>\n      <td>0.319469</td>\n      <td>0.308861</td>\n      <td>0.282723</td>\n      <td>-0.512750</td>\n      <td>0.012214</td>\n      <td>-1.6</td>\n      <td>-0.424133</td>\n      <td>...</td>\n      <td>1.0</td>\n      <td>0.0</td>\n      <td>1.224173</td>\n      <td>-2.311032</td>\n      <td>0.611004</td>\n      <td>-0.069263</td>\n      <td>-0.815810</td>\n      <td>2.776094</td>\n      <td>1.466731</td>\n      <td>-0.441016</td>\n    </tr>\n    <tr>\n      <th>1558078</th>\n      <td>1.278980</td>\n      <td>1.711134</td>\n      <td>-1.522820</td>\n      <td>0.802655</td>\n      <td>-0.460541</td>\n      <td>-0.055348</td>\n      <td>2.405282</td>\n      <td>0.043511</td>\n      <td>1.9</td>\n      <td>0.283960</td>\n      <td>...</td>\n      <td>1.0</td>\n      <td>0.0</td>\n      <td>-1.086860</td>\n      <td>6.766216</td>\n      <td>0.541741</td>\n      <td>5.501813</td>\n      <td>1.960284</td>\n      <td>-0.749920</td>\n      <td>1.025716</td>\n      <td>-2.401171</td>\n    </tr>\n    <tr>\n      <th>1558079</th>\n      <td>-1.136012</td>\n      <td>-3.702731</td>\n      <td>-1.332820</td>\n      <td>-0.766372</td>\n      <td>-0.430027</td>\n      <td>-0.091997</td>\n      <td>-2.512750</td>\n      <td>-0.022901</td>\n      <td>-1.1</td>\n      <td>-0.653902</td>\n      <td>...</td>\n      <td>1.0</td>\n      <td>0.0</td>\n      <td>5.679356</td>\n      <td>-13.684752</td>\n      <td>6.043554</td>\n      <td>-15.502653</td>\n      <td>1.210364</td>\n      <td>-3.453340</td>\n      <td>-1.375455</td>\n      <td>0.526912</td>\n    </tr>\n  </tbody>\n</table>\n<p>1558080 rows × 54 columns</p>\n</div>"
     },
     "execution_count": 11,
     "metadata": {},
     "output_type": "execute_result"
    }
   ],
   "source": [
    "train"
   ],
   "metadata": {
    "collapsed": false,
    "pycharm": {
     "name": "#%%\n"
    }
   }
  },
  {
   "cell_type": "code",
   "execution_count": 12,
   "id": "6cfd4cfa",
   "metadata": {
    "pycharm": {
     "name": "#%%\n"
    }
   },
   "outputs": [
    {
     "data": {
      "text/plain": "(25968,)"
     },
     "execution_count": 12,
     "metadata": {},
     "output_type": "execute_result"
    }
   ],
   "source": [
    "y.shape"
   ]
  },
  {
   "cell_type": "code",
   "execution_count": 13,
   "id": "012db34e",
   "metadata": {},
   "outputs": [],
   "source": [
    "from sklearn.preprocessing import StandardScaler\n",
    "\n",
    "sc = StandardScaler()\n",
    "sc.fit(train)\n",
    "X_train = sc.transform(train)\n",
    "X_test = sc.transform(test)"
   ]
  },
  {
   "cell_type": "markdown",
   "id": "9f682763",
   "metadata": {},
   "source": [
    "## 整理資料"
   ]
  },
  {
   "cell_type": "markdown",
   "id": "cb254ea5",
   "metadata": {},
   "source": [
    "準備進入訓練的資料格式：設定 sequence\n",
    "sequence 設為 60 ，代表過去 60 秒的資訊。"
   ]
  },
  {
   "cell_type": "code",
   "execution_count": 14,
   "id": "c419e6bb",
   "metadata": {},
   "outputs": [],
   "source": [
    "y_train = y.copy()\n",
    "X_train = X_train.reshape(-1, Window, X_train.shape[-1])\n",
    "X_test = X_test.reshape(-1, Window, X_test.shape[-1])"
   ]
  },
  {
   "cell_type": "code",
   "execution_count": 15,
   "id": "ee0db4b6",
   "metadata": {},
   "outputs": [
    {
     "name": "stdout",
     "output_type": "stream",
     "text": [
      "(25968,) (25968, 60, 54) (12218, 60, 54)\n"
     ]
    }
   ],
   "source": [
    "print(y_train.shape, X_train.shape, X_test.shape)"
   ]
  },
  {
   "cell_type": "markdown",
   "id": "89d86d50",
   "metadata": {},
   "source": [
    "## 搭建 LSTM 網路"
   ]
  },
  {
   "cell_type": "code",
   "execution_count": 16,
   "id": "cb26608d",
   "metadata": {},
   "outputs": [],
   "source": [
    "from keras import Sequential\n",
    "from keras.layers import *\n",
    "from keras.callbacks import *\n",
    "from keras.metrics import AUC"
   ]
  },
  {
   "cell_type": "code",
   "execution_count": 17,
   "id": "0196d941",
   "metadata": {
    "scrolled": false
   },
   "outputs": [
    {
     "name": "stdout",
     "output_type": "stream",
     "text": [
      "Model: \"Bi_LSTM\"\n",
      "_________________________________________________________________\n",
      " Layer (type)                Output Shape              Param #   \n",
      "=================================================================\n",
      " bidirectional (Bidirectiona  (None, 60, 256)          187392    \n",
      " l)                                                              \n",
      "                                                                 \n",
      " bidirectional_1 (Bidirectio  (None, 60, 256)          394240    \n",
      " nal)                                                            \n",
      "                                                                 \n",
      " bidirectional_2 (Bidirectio  (None, 60, 256)          394240    \n",
      " nal)                                                            \n",
      "                                                                 \n",
      " bidirectional_3 (Bidirectio  (None, 60, 256)          394240    \n",
      " nal)                                                            \n",
      "                                                                 \n",
      " bidirectional_4 (Bidirectio  (None, 256)              394240    \n",
      " nal)                                                            \n",
      "                                                                 \n",
      " dense (Dense)               (None, 256)               65792     \n",
      "                                                                 \n",
      " dropout (Dropout)           (None, 256)               0         \n",
      "                                                                 \n",
      " dense_1 (Dense)             (None, 1)                 257       \n",
      "                                                                 \n",
      "=================================================================\n",
      "Total params: 1,830,401\n",
      "Trainable params: 1,830,401\n",
      "Non-trainable params: 0\n",
      "_________________________________________________________________\n"
     ]
    }
   ],
   "source": [
    "def get_model():\n",
    "    model = Sequential(name='Bi_LSTM')\n",
    "    model.add(Input(shape=X_train.shape[1:]))\n",
    "    model.add(Bidirectional(LSTM(128, return_sequences=True)))\n",
    "    model.add(Bidirectional(LSTM(128, return_sequences=True)))\n",
    "    model.add(Bidirectional(LSTM(128, return_sequences=True)))\n",
    "    model.add(Bidirectional(LSTM(128, return_sequences=True)))\n",
    "    model.add(Bidirectional(LSTM(128, return_sequences=False)))\n",
    "    model.add(Dense(256, activation='relu'))\n",
    "    model.add(Dropout(0.5))\n",
    "    model.add(Dense(1, activation=\"sigmoid\"))\n",
    "    model.compile(optimizer=\"adam\",loss=\"binary_crossentropy\", metrics=[AUC(name = 'auc')])\n",
    "    return  model\n",
    "\n",
    "\n",
    "model_info = get_model()\n",
    "model_info.summary()\n"
   ]
  },
  {
   "cell_type": "markdown",
   "id": "033709d1",
   "metadata": {},
   "source": [
    "Reson for why add Fallten in last dense\n",
    "\n",
    "An LSTM layer consists of different LSTM cells that are processed sequentially. As seen in the figure below, the first cell takes an input/embedding calculates a hidden state and the next cell uses its input and the hidden state at previous time step to compute its own hidden state. Basically the arrows between the cells also pass the hidden states. <b>If you do return_sequences=False, the lstm layer only outputs the very last hidden state! (h_4 in the figure). So, all those information from all inputs and cells are embedded in a single fixed size information and it can not contain lots of information.</b> This is why, your accuracy is not good when you only use the last hidden state.\n",
    "\n",
    "When you do `return_sequences=True`, lstm layer outputs every hidden state, so the next layers have access to all hidden states and they contain naturally more information. However, the LSTM layer returns a matrix. You can also see this in your model summary. It returns a matrix of size (None, 500, 128). None is basically number of samples in your batch, you can forget about it. 500 is your input size, and 128 is your hidden state size. <b>The dense layer can not process a matrix, it has to be a vector. That why you need to apply flatten and what it does is basically just to open up the 2D matrix and represent it as 1D vector.</b> Therefore, the size of your Flatten layer is 64000 because 500*128 = 64000. And Of course with more hidden states, the accuracy is better as they contain more information."
   ]
  },
  {
   "cell_type": "code",
   "execution_count": 18,
   "id": "8be3fba4",
   "metadata": {},
   "outputs": [
    {
     "data": {
      "image/png": "[encoded data removed]",
      "text/plain": "<IPython.core.display.Image object>"
     },
     "execution_count": 18,
     "metadata": {},
     "output_type": "execute_result"
    }
   ],
   "source": [
    "from keras.utils.vis_utils import plot_model\n",
    "plot_model(model_info)"
   ]
  },
  {
   "cell_type": "code",
   "execution_count": 19,
   "id": "833410b6",
   "metadata": {},
   "outputs": [],
   "source": [
    "def plot_hist(hist, metric='auc', ax=None, fold=0):\n",
    "    if ax==None:\n",
    "        plt.plot(hist.history[metric])\n",
    "        plt.plot(hist.history[\"val_\" + metric])\n",
    "        plt.title(f\"model performance fold {fold}\")\n",
    "        plt.ylabel(\"area_under_curve\")\n",
    "        plt.xlabel(\"epoch\")\n",
    "        plt.legend([\"train\", \"validation\"], loc=\"upper left\")\n",
    "        plt.show()\n",
    "        return\n",
    "    else:\n",
    "        ax.plot(hist.history[metric])\n",
    "        ax.plot(hist.history[\"val_\" + metric])\n",
    "        ax.set_title(f\"model performance fold {fold}\")\n",
    "        ax.set_ylabel(\"area_under_curve\")\n",
    "        ax.set_xlabel(\"epoch\")\n",
    "        ax.legend([\"train\", \"validation\"], loc=\"upper left\")"
   ]
  },
  {
   "cell_type": "code",
   "execution_count": 20,
   "id": "c4258179",
   "metadata": {
    "scrolled": true
   },
   "outputs": [
    {
     "name": "stdout",
     "output_type": "stream",
     "text": [
      "Fold: 1 Epoch 1/60\n",
      "305/305 [==============================] - 28s 59ms/step - loss: 0.6329 - auc: 0.6881 - val_loss: 0.5563 - val_auc: 0.7890 - lr: 0.0010\n",
      "Epoch 2/60\n",
      "305/305 [==============================] - 14s 46ms/step - loss: 0.4768 - auc: 0.8513 - val_loss: 0.4470 - val_auc: 0.8869 - lr: 0.0010\n",
      "Epoch 3/60\n",
      "305/305 [==============================] - 14s 47ms/step - loss: 0.3907 - auc: 0.9048 - val_loss: 0.3575 - val_auc: 0.9218 - lr: 0.0010\n",
      "Epoch 4/60\n",
      "305/305 [==============================] - 15s 48ms/step - loss: 0.3476 - auc: 0.9257 - val_loss: 0.3330 - val_auc: 0.9345 - lr: 0.0010\n",
      "Epoch 5/60\n",
      "305/305 [==============================] - 14s 47ms/step - loss: 0.2983 - auc: 0.9456 - val_loss: 0.3309 - val_auc: 0.9394 - lr: 0.0010\n",
      "Epoch 6/60\n",
      "305/305 [==============================] - 15s 48ms/step - loss: 0.2693 - auc: 0.9557 - val_loss: 0.3173 - val_auc: 0.9416 - lr: 0.0010\n",
      "Epoch 7/60\n",
      "305/305 [==============================] - 15s 49ms/step - loss: 0.2462 - auc: 0.9629 - val_loss: 0.3203 - val_auc: 0.9458 - lr: 0.0010\n",
      "Epoch 8/60\n",
      "305/305 [==============================] - 15s 49ms/step - loss: 0.2271 - auc: 0.9684 - val_loss: 0.2904 - val_auc: 0.9501 - lr: 0.0010\n",
      "Epoch 9/60\n",
      "305/305 [==============================] - 15s 48ms/step - loss: 0.1970 - auc: 0.9762 - val_loss: 0.3478 - val_auc: 0.9468 - lr: 0.0010\n",
      "Epoch 10/60\n",
      "305/305 [==============================] - 15s 48ms/step - loss: 0.1800 - auc: 0.9798 - val_loss: 0.3322 - val_auc: 0.9521 - lr: 0.0010\n",
      "Epoch 11/60\n",
      "305/305 [==============================] - 15s 49ms/step - loss: 0.1582 - auc: 0.9843 - val_loss: 0.3166 - val_auc: 0.9515 - lr: 0.0010\n",
      "Epoch 12/60\n",
      "305/305 [==============================] - 15s 50ms/step - loss: 0.1441 - auc: 0.9868 - val_loss: 0.3451 - val_auc: 0.9478 - lr: 0.0010\n",
      "Epoch 13/60\n",
      "305/305 [==============================] - 15s 49ms/step - loss: 0.1206 - auc: 0.9905 - val_loss: 0.3411 - val_auc: 0.9511 - lr: 0.0010\n",
      "Epoch 14/60\n",
      "305/305 [==============================] - 15s 50ms/step - loss: 0.1093 - auc: 0.9921 - val_loss: 0.3721 - val_auc: 0.9448 - lr: 0.0010\n",
      "Epoch 15/60\n",
      "305/305 [==============================] - 15s 50ms/step - loss: 0.0800 - auc: 0.9954 - val_loss: 0.3739 - val_auc: 0.9462 - lr: 7.0000e-04\n",
      "Epoch 16/60\n",
      "305/305 [==============================] - 15s 51ms/step - loss: 0.0606 - auc: 0.9972 - val_loss: 0.4138 - val_auc: 0.9423 - lr: 7.0000e-04\n",
      "Epoch 17/60\n",
      "305/305 [==============================] - 15s 49ms/step - loss: 0.0525 - auc: 0.9978 - val_loss: 0.5147 - val_auc: 0.9339 - lr: 7.0000e-04\n",
      "Epoch 18/60\n",
      "305/305 [==============================] - 15s 50ms/step - loss: 0.0437 - auc: 0.9984 - val_loss: 0.5751 - val_auc: 0.9362 - lr: 7.0000e-04\n",
      "Epoch 19/60\n",
      "305/305 [==============================] - 15s 50ms/step - loss: 0.0360 - auc: 0.9986 - val_loss: 0.5146 - val_auc: 0.9373 - lr: 4.9000e-04\n",
      "Epoch 20/60\n",
      "305/305 [==============================] - 15s 50ms/step - loss: 0.0241 - auc: 0.9994 - val_loss: 0.6058 - val_auc: 0.9318 - lr: 4.9000e-04\n",
      "auc: 0.95396\n",
      "Fold: 2 Epoch 1/60\n",
      "305/305 [==============================] - 28s 61ms/step - loss: 0.6330 - auc: 0.6924 - val_loss: 0.5560 - val_auc: 0.8007 - lr: 0.0010\n",
      "Epoch 2/60\n",
      "305/305 [==============================] - 15s 50ms/step - loss: 0.4931 - auc: 0.8400 - val_loss: 0.4080 - val_auc: 0.8960 - lr: 0.0010\n",
      "Epoch 3/60\n",
      "305/305 [==============================] - 15s 49ms/step - loss: 0.4134 - auc: 0.8935 - val_loss: 0.3847 - val_auc: 0.9116 - lr: 0.0010\n",
      "Epoch 4/60\n",
      "305/305 [==============================] - 15s 49ms/step - loss: 0.3552 - auc: 0.9222 - val_loss: 0.3542 - val_auc: 0.9273 - lr: 0.0010\n",
      "Epoch 5/60\n",
      "305/305 [==============================] - 15s 50ms/step - loss: 0.3171 - auc: 0.9386 - val_loss: 0.3220 - val_auc: 0.9413 - lr: 0.0010\n",
      "Epoch 6/60\n",
      "305/305 [==============================] - 15s 49ms/step - loss: 0.2837 - auc: 0.9509 - val_loss: 0.3001 - val_auc: 0.9478 - lr: 0.0010\n",
      "Epoch 7/60\n",
      "305/305 [==============================] - 15s 50ms/step - loss: 0.2589 - auc: 0.9591 - val_loss: 0.2814 - val_auc: 0.9526 - lr: 0.0010\n",
      "Epoch 8/60\n",
      "305/305 [==============================] - 15s 49ms/step - loss: 0.2327 - auc: 0.9669 - val_loss: 0.3112 - val_auc: 0.9480 - lr: 0.0010\n",
      "Epoch 9/60\n",
      "305/305 [==============================] - 15s 49ms/step - loss: 0.2148 - auc: 0.9717 - val_loss: 0.2740 - val_auc: 0.9548 - lr: 0.0010\n",
      "Epoch 10/60\n",
      "305/305 [==============================] - 15s 49ms/step - loss: 0.1810 - auc: 0.9798 - val_loss: 0.2870 - val_auc: 0.9556 - lr: 0.0010\n",
      "Epoch 11/60\n",
      "305/305 [==============================] - 15s 50ms/step - loss: 0.1606 - auc: 0.9838 - val_loss: 0.2834 - val_auc: 0.9528 - lr: 0.0010\n",
      "Epoch 12/60\n",
      "305/305 [==============================] - 15s 50ms/step - loss: 0.1473 - auc: 0.9864 - val_loss: 0.3172 - val_auc: 0.9538 - lr: 0.0010\n",
      "Epoch 13/60\n",
      "305/305 [==============================] - 15s 49ms/step - loss: 0.1293 - auc: 0.9893 - val_loss: 0.3661 - val_auc: 0.9497 - lr: 0.0010\n",
      "Epoch 14/60\n",
      "305/305 [==============================] - 15s 50ms/step - loss: 0.1178 - auc: 0.9910 - val_loss: 0.3477 - val_auc: 0.9534 - lr: 0.0010\n",
      "Epoch 15/60\n",
      "305/305 [==============================] - 15s 50ms/step - loss: 0.0781 - auc: 0.9955 - val_loss: 0.3559 - val_auc: 0.9528 - lr: 7.0000e-04\n",
      "Epoch 16/60\n",
      "305/305 [==============================] - 15s 50ms/step - loss: 0.0605 - auc: 0.9974 - val_loss: 0.4279 - val_auc: 0.9463 - lr: 7.0000e-04\n",
      "Epoch 17/60\n",
      "305/305 [==============================] - 15s 49ms/step - loss: 0.0608 - auc: 0.9973 - val_loss: 0.4466 - val_auc: 0.9419 - lr: 7.0000e-04\n",
      "Epoch 18/60\n",
      "305/305 [==============================] - 15s 50ms/step - loss: 0.0527 - auc: 0.9978 - val_loss: 0.4652 - val_auc: 0.9435 - lr: 7.0000e-04\n",
      "Epoch 19/60\n",
      "305/305 [==============================] - 15s 49ms/step - loss: 0.0300 - auc: 0.9991 - val_loss: 0.5794 - val_auc: 0.9342 - lr: 4.9000e-04\n",
      "Epoch 20/60\n",
      "305/305 [==============================] - 15s 49ms/step - loss: 0.0304 - auc: 0.9989 - val_loss: 0.5345 - val_auc: 0.9386 - lr: 4.9000e-04\n",
      "auc: 0.95601\n",
      "Fold: 3 Epoch 1/60\n",
      "305/305 [==============================] - 28s 62ms/step - loss: 0.6208 - auc: 0.7121 - val_loss: 0.6592 - val_auc: 0.7706 - lr: 0.0010\n",
      "Epoch 2/60\n",
      "305/305 [==============================] - 15s 49ms/step - loss: 0.4953 - auc: 0.8366 - val_loss: 0.4782 - val_auc: 0.8611 - lr: 0.0010\n",
      "Epoch 3/60\n",
      "305/305 [==============================] - 15s 49ms/step - loss: 0.4016 - auc: 0.8981 - val_loss: 0.3908 - val_auc: 0.9102 - lr: 0.0010\n",
      "Epoch 4/60\n",
      "305/305 [==============================] - 15s 50ms/step - loss: 0.3439 - auc: 0.9268 - val_loss: 0.3409 - val_auc: 0.9341 - lr: 0.0010\n",
      "Epoch 5/60\n",
      "305/305 [==============================] - 15s 49ms/step - loss: 0.2981 - auc: 0.9454 - val_loss: 0.3116 - val_auc: 0.9460 - lr: 0.0010\n",
      "Epoch 6/60\n",
      "305/305 [==============================] - 15s 50ms/step - loss: 0.2651 - auc: 0.9571 - val_loss: 0.2854 - val_auc: 0.9515 - lr: 0.0010\n",
      "Epoch 7/60\n",
      "305/305 [==============================] - 15s 50ms/step - loss: 0.2334 - auc: 0.9667 - val_loss: 0.2660 - val_auc: 0.9582 - lr: 0.0010\n",
      "Epoch 8/60\n",
      "305/305 [==============================] - 15s 50ms/step - loss: 0.2134 - auc: 0.9721 - val_loss: 0.3171 - val_auc: 0.9506 - lr: 0.0010\n",
      "Epoch 9/60\n",
      "305/305 [==============================] - 15s 48ms/step - loss: 0.1881 - auc: 0.9782 - val_loss: 0.2722 - val_auc: 0.9584 - lr: 0.0010\n",
      "Epoch 10/60\n",
      "305/305 [==============================] - 15s 50ms/step - loss: 0.1651 - auc: 0.9829 - val_loss: 0.2973 - val_auc: 0.9545 - lr: 0.0010\n",
      "Epoch 11/60\n",
      "305/305 [==============================] - 15s 50ms/step - loss: 0.1564 - auc: 0.9847 - val_loss: 0.2939 - val_auc: 0.9521 - lr: 0.0010\n",
      "Epoch 12/60\n",
      "305/305 [==============================] - 15s 49ms/step - loss: 0.1298 - auc: 0.9890 - val_loss: 0.3114 - val_auc: 0.9568 - lr: 0.0010\n",
      "Epoch 13/60\n",
      "305/305 [==============================] - 15s 50ms/step - loss: 0.1185 - auc: 0.9909 - val_loss: 0.3413 - val_auc: 0.9531 - lr: 0.0010\n",
      "Epoch 14/60\n",
      "305/305 [==============================] - 15s 49ms/step - loss: 0.0863 - auc: 0.9946 - val_loss: 0.3447 - val_auc: 0.9529 - lr: 7.0000e-04\n",
      "Epoch 15/60\n",
      "305/305 [==============================] - 15s 50ms/step - loss: 0.0687 - auc: 0.9965 - val_loss: 0.4100 - val_auc: 0.9450 - lr: 7.0000e-04\n",
      "Epoch 16/60\n",
      "305/305 [==============================] - 15s 50ms/step - loss: 0.0640 - auc: 0.9969 - val_loss: 0.3993 - val_auc: 0.9492 - lr: 7.0000e-04\n",
      "Epoch 17/60\n",
      "305/305 [==============================] - 15s 50ms/step - loss: 0.0618 - auc: 0.9971 - val_loss: 0.3861 - val_auc: 0.9507 - lr: 7.0000e-04\n",
      "Epoch 18/60\n",
      "305/305 [==============================] - 16s 51ms/step - loss: 0.0334 - auc: 0.9988 - val_loss: 0.5231 - val_auc: 0.9408 - lr: 4.9000e-04\n",
      "Epoch 19/60\n",
      "305/305 [==============================] - 15s 49ms/step - loss: 0.0316 - auc: 0.9989 - val_loss: 0.5030 - val_auc: 0.9396 - lr: 4.9000e-04\n",
      "auc: 0.95896\n",
      "Fold: 4 Epoch 1/60\n",
      "305/305 [==============================] - 26s 57ms/step - loss: 0.6097 - auc: 0.7296 - val_loss: 0.5012 - val_auc: 0.8452 - lr: 0.0010\n",
      "Epoch 2/60\n",
      "305/305 [==============================] - 14s 45ms/step - loss: 0.4584 - auc: 0.8655 - val_loss: 0.3815 - val_auc: 0.9107 - lr: 0.0010\n",
      "Epoch 3/60\n",
      "305/305 [==============================] - 14s 45ms/step - loss: 0.3727 - auc: 0.9140 - val_loss: 0.3767 - val_auc: 0.9216 - lr: 0.0010\n",
      "Epoch 4/60\n",
      "305/305 [==============================] - 14s 45ms/step - loss: 0.3353 - auc: 0.9311 - val_loss: 0.3201 - val_auc: 0.9389 - lr: 0.0010\n",
      "Epoch 5/60\n",
      "305/305 [==============================] - 14s 45ms/step - loss: 0.2944 - auc: 0.9471 - val_loss: 0.2939 - val_auc: 0.9478 - lr: 0.0010\n",
      "Epoch 6/60\n",
      "305/305 [==============================] - 14s 45ms/step - loss: 0.2630 - auc: 0.9578 - val_loss: 0.2997 - val_auc: 0.9480 - lr: 0.0010\n",
      "Epoch 7/60\n",
      "305/305 [==============================] - 14s 45ms/step - loss: 0.2372 - auc: 0.9657 - val_loss: 0.2967 - val_auc: 0.9511 - lr: 0.0010\n",
      "Epoch 8/60\n",
      "305/305 [==============================] - 14s 45ms/step - loss: 0.2180 - auc: 0.9709 - val_loss: 0.3265 - val_auc: 0.9502 - lr: 0.0010\n",
      "Epoch 9/60\n",
      "305/305 [==============================] - 14s 45ms/step - loss: 0.1983 - auc: 0.9758 - val_loss: 0.2827 - val_auc: 0.9541 - lr: 0.0010\n",
      "Epoch 10/60\n",
      "305/305 [==============================] - 14s 45ms/step - loss: 0.1871 - auc: 0.9784 - val_loss: 0.2820 - val_auc: 0.9533 - lr: 0.0010\n",
      "Epoch 11/60\n",
      "305/305 [==============================] - 14s 45ms/step - loss: 0.1576 - auc: 0.9845 - val_loss: 0.3137 - val_auc: 0.9521 - lr: 0.0010\n",
      "Epoch 12/60\n",
      "305/305 [==============================] - 14s 45ms/step - loss: 0.1527 - auc: 0.9852 - val_loss: 0.2995 - val_auc: 0.9566 - lr: 0.0010\n",
      "Epoch 13/60\n",
      "305/305 [==============================] - 14s 45ms/step - loss: 0.1234 - auc: 0.9900 - val_loss: 0.3264 - val_auc: 0.9518 - lr: 0.0010\n",
      "Epoch 14/60\n",
      "305/305 [==============================] - 14s 45ms/step - loss: 0.1186 - auc: 0.9908 - val_loss: 0.3413 - val_auc: 0.9507 - lr: 0.0010\n",
      "Epoch 15/60\n",
      "305/305 [==============================] - 14s 45ms/step - loss: 0.1049 - auc: 0.9926 - val_loss: 0.3317 - val_auc: 0.9526 - lr: 0.0010\n",
      "Epoch 16/60\n",
      "305/305 [==============================] - 14s 45ms/step - loss: 0.0969 - auc: 0.9936 - val_loss: 0.4179 - val_auc: 0.9426 - lr: 0.0010\n",
      "Epoch 17/60\n",
      "305/305 [==============================] - 14s 44ms/step - loss: 0.0655 - auc: 0.9969 - val_loss: 0.4653 - val_auc: 0.9413 - lr: 7.0000e-04\n",
      "Epoch 18/60\n",
      "305/305 [==============================] - 14s 44ms/step - loss: 0.0481 - auc: 0.9980 - val_loss: 0.5146 - val_auc: 0.9398 - lr: 7.0000e-04\n",
      "Epoch 19/60\n",
      "305/305 [==============================] - 14s 45ms/step - loss: 0.0482 - auc: 0.9979 - val_loss: 0.4342 - val_auc: 0.9423 - lr: 7.0000e-04\n",
      "Epoch 20/60\n",
      "305/305 [==============================] - 14s 45ms/step - loss: 0.0446 - auc: 0.9983 - val_loss: 0.4517 - val_auc: 0.9426 - lr: 7.0000e-04\n",
      "Epoch 21/60\n",
      "305/305 [==============================] - 14s 45ms/step - loss: 0.0224 - auc: 0.9993 - val_loss: 0.5661 - val_auc: 0.9367 - lr: 4.9000e-04\n",
      "Epoch 22/60\n",
      "305/305 [==============================] - 14s 47ms/step - loss: 0.0169 - auc: 0.9995 - val_loss: 0.5710 - val_auc: 0.9362 - lr: 4.9000e-04\n",
      "auc: 0.95744\n"
     ]
    },
    {
     "data": {
      "text/plain": "<Figure size 1152x288 with 4 Axes>",
      "image/png": "[encoded data removed]"
     },
     "metadata": {
      "needs_background": "light"
     },
     "output_type": "display_data"
    }
   ],
   "source": [
    "from sklearn.model_selection import KFold, GroupKFold\n",
    "from sklearn.metrics import roc_auc_score\n",
    "import gc\n",
    "\n",
    "def fit_model(folds, epochs=60, batch_size=32, verbose=True):\n",
    "    test_preds = []\n",
    "    auc = []\n",
    "    nfold = folds\n",
    "    ncols = 5 if folds > 5 else folds\n",
    "    nrows = int(round(nfold / ncols))\n",
    "\n",
    "    col, row = 0, 0\n",
    "    fig, axes = plt.subplots(nrows, ncols, figsize=(16, round(nrows*16/ncols)))\n",
    "\n",
    "    kf = GroupKFold(n_splits=nfold)\n",
    "    for fold, (train_idx, test_idx) in enumerate(kf.split(X_train, y_train, groups.unique())):\n",
    "        print(f\"Fold: {fold+1}\", end=' ')\n",
    "        X_train_part, X_valid = X_train[train_idx], X_train[test_idx]\n",
    "        y_train_part, y_valid = y_train[train_idx], y_train[test_idx]\n",
    "\n",
    "        model = get_model()\n",
    "        lr = ReduceLROnPlateau(monitor=\"val_auc\", mode='max', factor=0.7, patience=4, verbose=False)\n",
    "        es = EarlyStopping(monitor='val_auc',mode='max', patience=10, verbose=False,restore_best_weights=True)\n",
    "        history = model.fit(X_train_part, y_train_part, validation_data=(X_valid, y_valid), epochs=epochs, batch_size=batch_size,\n",
    "                            callbacks=[es,lr], verbose=verbose)\n",
    "\n",
    "        y_pred = model.predict(X_valid).squeeze()\n",
    "        auc_score = roc_auc_score(y_valid, y_pred)\n",
    "        print(f'auc: {round(auc_score, 5)}')\n",
    "        test_preds.append(model.predict(X_test).squeeze())\n",
    "        auc.append(auc_score)\n",
    "        model.save('fold_{}.h5'.format(fold+1))\n",
    "        plot_hist(history, metric='auc', ax=axes[col] if nrows <= 1 else axes[row][col], fold=fold+1)\n",
    "        del X_train_part, X_valid, y_train_part, y_valid, model, history\n",
    "        gc.collect()\n",
    "\n",
    "        col += 1\n",
    "        if col >= ncols:\n",
    "            row += 1\n",
    "            col = 0\n",
    "\n",
    "    return (test_preds, auc)\n",
    "\n",
    "folds = 4\n",
    "(test_preds, auc) = fit_model(folds, epochs=60, batch_size=64)"
   ]
  },
  {
   "cell_type": "markdown",
   "id": "a2f3bc4c",
   "metadata": {},
   "source": [
    "## 預測真實資料"
   ]
  },
  {
   "cell_type": "code",
   "execution_count": 21,
   "id": "7b639ef7",
   "metadata": {},
   "outputs": [
    {
     "name": "stdout",
     "output_type": "stream",
     "text": [
      "the mean AUC for the 4 folds is : 95.659\n"
     ]
    }
   ],
   "source": [
    "print(f\"the mean AUC for the {folds} folds is : {round(np.mean(auc)*100,3)}\")"
   ]
  },
  {
   "cell_type": "code",
   "execution_count": 22,
   "outputs": [
    {
     "data": {
      "text/plain": "[0.9539587161710658, 0.9560127742077598, 0.9589621996780366, 0.957438057947365]"
     },
     "execution_count": 22,
     "metadata": {},
     "output_type": "execute_result"
    }
   ],
   "source": [
    "auc"
   ],
   "metadata": {
    "collapsed": false,
    "pycharm": {
     "name": "#%%\n"
    }
   }
  },
  {
   "cell_type": "code",
   "execution_count": 23,
   "id": "d526cac1",
   "metadata": {},
   "outputs": [],
   "source": [
    "sub_data = pd.read_csv(\"data/sample_submission.csv\")"
   ]
  },
  {
   "cell_type": "code",
   "execution_count": 24,
   "outputs": [
    {
     "data": {
      "text/plain": "2"
     },
     "execution_count": 24,
     "metadata": {},
     "output_type": "execute_result"
    }
   ],
   "source": [
    "np.array(auc).argmax()"
   ],
   "metadata": {
    "collapsed": false,
    "pycharm": {
     "name": "#%%\n"
    }
   }
  },
  {
   "cell_type": "code",
   "execution_count": 25,
   "id": "33e14ec8",
   "metadata": {},
   "outputs": [],
   "source": [
    "sub_data['state'] = sum(test_preds)/folds"
   ]
  },
  {
   "cell_type": "code",
   "execution_count": 26,
   "id": "01f2a997",
   "metadata": {},
   "outputs": [],
   "source": [
    "sub_data.state = (sub_data.state > 0.5).astype(int)"
   ]
  },
  {
   "cell_type": "code",
   "execution_count": 27,
   "id": "60354a78",
   "metadata": {
    "scrolled": false
   },
   "outputs": [
    {
     "data": {
      "text/plain": "       sequence  state\n0         25968      1\n1         25969      1\n2         25970      0\n3         25971      1\n4         25972      1\n...         ...    ...\n12213     38181      0\n12214     38182      1\n12215     38183      0\n12216     38184      0\n12217     38185      0\n\n[12218 rows x 2 columns]",
      "text/html": "<div>\n<style scoped>\n    .dataframe tbody tr th:only-of-type {\n        vertical-align: middle;\n    }\n\n    .dataframe tbody tr th {\n        vertical-align: top;\n    }\n\n    .dataframe thead th {\n        text-align: right;\n    }\n</style>\n<table border=\"1\" class=\"dataframe\">\n  <thead>\n    <tr style=\"text-align: right;\">\n      <th></th>\n      <th>sequence</th>\n      <th>state</th>\n    </tr>\n  </thead>\n  <tbody>\n    <tr>\n      <th>0</th>\n      <td>25968</td>\n      <td>1</td>\n    </tr>\n    <tr>\n      <th>1</th>\n      <td>25969</td>\n      <td>1</td>\n    </tr>\n    <tr>\n      <th>2</th>\n      <td>25970</td>\n      <td>0</td>\n    </tr>\n    <tr>\n      <th>3</th>\n      <td>25971</td>\n      <td>1</td>\n    </tr>\n    <tr>\n      <th>4</th>\n      <td>25972</td>\n      <td>1</td>\n    </tr>\n    <tr>\n      <th>...</th>\n      <td>...</td>\n      <td>...</td>\n    </tr>\n    <tr>\n      <th>12213</th>\n      <td>38181</td>\n      <td>0</td>\n    </tr>\n    <tr>\n      <th>12214</th>\n      <td>38182</td>\n      <td>1</td>\n    </tr>\n    <tr>\n      <th>12215</th>\n      <td>38183</td>\n      <td>0</td>\n    </tr>\n    <tr>\n      <th>12216</th>\n      <td>38184</td>\n      <td>0</td>\n    </tr>\n    <tr>\n      <th>12217</th>\n      <td>38185</td>\n      <td>0</td>\n    </tr>\n  </tbody>\n</table>\n<p>12218 rows × 2 columns</p>\n</div>"
     },
     "execution_count": 27,
     "metadata": {},
     "output_type": "execute_result"
    }
   ],
   "source": [
    "sub_data"
   ]
  },
  {
   "cell_type": "code",
   "execution_count": 28,
   "id": "c416366a",
   "metadata": {},
   "outputs": [],
   "source": [
    "sub_data.to_csv('submission.csv', index=False)"
   ]
  }
 ],
 "metadata": {
  "kernelspec": {
   "display_name": "Python 3 (ipykernel)",
   "language": "python",
   "name": "python3"
  },
  "language_info": {
   "codemirror_mode": {
    "name": "ipython",
    "version": 3
   },
   "file_extension": ".py",
   "mimetype": "text/x-python",
   "name": "python",
   "nbconvert_exporter": "python",
   "pygments_lexer": "ipython3",
   "version": "3.9.5"
  }
 },
 "nbformat": 4,
 "nbformat_minor": 5
}