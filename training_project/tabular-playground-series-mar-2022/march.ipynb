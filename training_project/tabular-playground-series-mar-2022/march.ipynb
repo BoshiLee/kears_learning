{
 "cells": [
  {
   "cell_type": "code",
   "execution_count": 1,
   "metadata": {
    "collapsed": true
   },
   "outputs": [],
   "source": [
    "import pandas as pd\n",
    "import numpy as np\n",
    "import os\n",
    "from matplotlib import pyplot as plt"
   ]
  },
  {
   "cell_type": "markdown",
   "source": [
    "## Files and Field Descriptions\n",
    "- train.csv - the training set, comprising measurements of traffic congestion across 65 roadways from April through September of 1991.\n",
    "    - row_id - a unique identifier for this instance\n",
    "    - time - the 20-minute period in which each measurement was taken\n",
    "    - x - the east-west midpoint coordinate of the roadway\n",
    "    - y - the north-south midpoint coordinate of the roadway\n",
    "    - direction - the direction of travel of the roadway. EB indicates \"eastbound\" travel, for example, while SW indicates a \"southwest\" direction of travel.\n",
    "    - congestion - congestion levels for the roadway during each hour; the target. The congestion measurements have been normalized to the range 0 to 100.\n",
    "- test.csv - the test set; you will make hourly predictions for roadways identified by a coordinate location and a direction of travel on the day of 1991-09-30.\n",
    "- sample_submission.csv - a sample submission file in the correct format"
   ],
   "metadata": {
    "collapsed": false
   }
  },
  {
   "cell_type": "code",
   "execution_count": 2,
   "outputs": [
    {
     "name": "stdout",
     "output_type": "stream",
     "text": [
      "D:\\GitHub\\keras_learning\\training_project\\tabular-playground-series-mar-2022\n"
     ]
    }
   ],
   "source": [
    "current_directory = os.getcwd()\n",
    "print(current_directory)\n",
    "train = pd.read_csv('data/train.csv')\n",
    "test = pd.read_csv('data/test.csv')"
   ],
   "metadata": {
    "collapsed": false,
    "pycharm": {
     "name": "#%%\n"
    }
   }
  },
  {
   "cell_type": "code",
   "execution_count": 3,
   "outputs": [
    {
     "data": {
      "text/plain": "0      881\n1       48\n2      256\n3      164\n4      180\n      ... \n96     216\n97     104\n98      87\n99      42\n100    222\nName: congestion, Length: 101, dtype: int64"
     },
     "execution_count": 3,
     "metadata": {},
     "output_type": "execute_result"
    }
   ],
   "source": [
    "train.congestion.value_counts().sort_index()"
   ],
   "metadata": {
    "collapsed": false,
    "pycharm": {
     "name": "#%%\n"
    }
   }
  },
  {
   "cell_type": "code",
   "execution_count": 4,
   "outputs": [
    {
     "data": {
      "text/plain": "<Figure size 720x432 with 1 Axes>",
      "image/png": "[encoded data removed]"
     },
     "metadata": {
      "needs_background": "light"
     },
     "output_type": "display_data"
    }
   ],
   "source": [
    "plt.figure(figsize=(10, 6))\n",
    "plt.bar( range(0,101),train.congestion.value_counts().sort_index(), width=1, color = \"#093260\")\n",
    "plt.ylabel('Frequency')\n",
    "plt.xlabel('Congestion')\n",
    "plt.show()"
   ],
   "metadata": {
    "collapsed": false,
    "pycharm": {
     "name": "#%%\n"
    }
   }
  },
  {
   "cell_type": "code",
   "execution_count": 5,
   "outputs": [
    {
     "name": "stdout",
     "output_type": "stream",
     "text": [
      "Unique values of x:  [0 1 2]\n",
      "Unique values of y:  [0 1 2 3]\n",
      "Unique directions:  ['EB' 'NB' 'SB' 'WB' 'NE' 'SW' 'NW' 'SE']\n"
     ]
    }
   ],
   "source": [
    "unique_x = train.x.unique()\n",
    "unique_y = train.y.unique()\n",
    "unique_direction = train.direction.unique()\n",
    "\n",
    "print(\"Unique values of x: \", unique_x)\n",
    "print(\"Unique values of y: \", unique_y)\n",
    "print(\"Unique directions: \", unique_direction)\n"
   ],
   "metadata": {
    "collapsed": false,
    "pycharm": {
     "name": "#%%\n"
    }
   }
  },
  {
   "cell_type": "code",
   "execution_count": 6,
   "outputs": [
    {
     "name": "stdout",
     "output_type": "stream",
     "text": [
      "directions counts:\n",
      " EB    156708\n",
      "NB    156708\n",
      "SB    156708\n",
      "WB    143649\n",
      "NE     91413\n",
      "SW     91413\n",
      "NW     26118\n",
      "SE     26118\n",
      "Name: direction, dtype: int64\n"
     ]
    },
    {
     "data": {
      "text/plain": "<Figure size 720x360 with 1 Axes>",
      "image/png": "[encoded data removed]"
     },
     "metadata": {
      "needs_background": "light"
     },
     "output_type": "display_data"
    }
   ],
   "source": [
    "print('directions counts:\\n', train.direction.value_counts())\n",
    "\n",
    "plt.figure(figsize=(10, 5))\n",
    "plt.bar(unique_direction, train.direction.value_counts(), width=0.4, color = \"#093260\")\n",
    "\n",
    "plt.ylabel('Frequency')\n",
    "plt.xlabel('Congestion')\n",
    "plt.show()"
   ],
   "metadata": {
    "collapsed": false,
    "pycharm": {
     "name": "#%%\n"
    }
   }
  },
  {
   "cell_type": "code",
   "execution_count": 7,
   "outputs": [],
   "source": [
    "x_train = pd.concat([train, test])\n",
    "x_train = x_train.drop('congestion', axis=1)\n",
    "y_train = train['congestion']"
   ],
   "metadata": {
    "collapsed": false,
    "pycharm": {
     "name": "#%%\n"
    }
   }
  },
  {
   "cell_type": "code",
   "execution_count": 8,
   "outputs": [],
   "source": [
    "cat_dir = []\n",
    "\n",
    "### map each color to an integer\n",
    "mapping = {}\n",
    "\n",
    "for i in range(unique_direction.shape[0]):\n",
    "  mapping[unique_direction[i]] = i\n",
    "\n",
    "# integer representation\n",
    "for x in x_train.direction:\n",
    "  cat_dir.append(mapping[x])"
   ],
   "metadata": {
    "collapsed": false,
    "pycharm": {
     "name": "#%%\n"
    }
   }
  },
  {
   "cell_type": "code",
   "execution_count": 9,
   "outputs": [],
   "source": [
    "x_train.drop('direction',axis =1)\n",
    "x_train['direction'] = cat_dir"
   ],
   "metadata": {
    "collapsed": false,
    "pycharm": {
     "name": "#%%\n"
    }
   }
  },
  {
   "cell_type": "code",
   "execution_count": 10,
   "outputs": [],
   "source": [
    "x_train = x_train.drop('row_id',axis =1)"
   ],
   "metadata": {
    "collapsed": false,
    "pycharm": {
     "name": "#%%\n"
    }
   }
  },
  {
   "cell_type": "code",
   "execution_count": 11,
   "outputs": [],
   "source": [
    "x_train['time'] = pd.to_datetime(x_train['time'])"
   ],
   "metadata": {
    "collapsed": false,
    "pycharm": {
     "name": "#%%\n"
    }
   }
  },
  {
   "cell_type": "code",
   "execution_count": 12,
   "outputs": [],
   "source": [
    "x_train['month'] = x_train['time'].dt.month\n",
    "x_train['day'] = x_train['time'].dt.day\n",
    "x_train['hour'] = x_train['time'].dt.hour\n",
    "x_train['minute'] = x_train['time'].dt.minute\n",
    "x_train['second'] = x_train['time'].dt.second\n",
    "x_train = x_train.drop(['time'],axis=1)"
   ],
   "metadata": {
    "collapsed": false,
    "pycharm": {
     "name": "#%%\n"
    }
   }
  },
  {
   "cell_type": "code",
   "execution_count": 13,
   "outputs": [
    {
     "data": {
      "text/plain": "array([[<AxesSubplot:title={'center':'x'}>,\n        <AxesSubplot:title={'center':'y'}>,\n        <AxesSubplot:title={'center':'direction'}>],\n       [<AxesSubplot:title={'center':'month'}>,\n        <AxesSubplot:title={'center':'day'}>,\n        <AxesSubplot:title={'center':'hour'}>],\n       [<AxesSubplot:title={'center':'minute'}>,\n        <AxesSubplot:title={'center':'second'}>, <AxesSubplot:>]],\n      dtype=object)"
     },
     "execution_count": 13,
     "metadata": {},
     "output_type": "execute_result"
    },
    {
     "data": {
      "text/plain": "<Figure size 1440x1080 with 9 Axes>",
      "image/png": "[encoded data removed]"
     },
     "metadata": {
      "needs_background": "light"
     },
     "output_type": "display_data"
    }
   ],
   "source": [
    "x_train.hist(bins=50, figsize=(20,15))"
   ],
   "metadata": {
    "collapsed": false,
    "pycharm": {
     "name": "#%%\n"
    }
   }
  },
  {
   "cell_type": "code",
   "execution_count": 14,
   "outputs": [],
   "source": [
    "x_train = x_train.drop(['second'],axis=1)"
   ],
   "metadata": {
    "collapsed": false,
    "pycharm": {
     "name": "#%%\n"
    }
   }
  },
  {
   "cell_type": "code",
   "execution_count": 15,
   "outputs": [
    {
     "data": {
      "text/plain": "   x  y  direction  month  day  hour  minute\n0  0  0          0      4    1     0       0\n1  0  0          1      4    1     0       0\n2  0  0          2      4    1     0       0\n3  0  1          0      4    1     0       0\n4  0  1          1      4    1     0       0\n5  0  1          2      4    1     0       0\n6  0  1          3      4    1     0       0\n7  0  2          0      4    1     0       0\n8  0  2          1      4    1     0       0\n9  0  2          2      4    1     0       0",
      "text/html": "<div>\n<style scoped>\n    .dataframe tbody tr th:only-of-type {\n        vertical-align: middle;\n    }\n\n    .dataframe tbody tr th {\n        vertical-align: top;\n    }\n\n    .dataframe thead th {\n        text-align: right;\n    }\n</style>\n<table border=\"1\" class=\"dataframe\">\n  <thead>\n    <tr style=\"text-align: right;\">\n      <th></th>\n      <th>x</th>\n      <th>y</th>\n      <th>direction</th>\n      <th>month</th>\n      <th>day</th>\n      <th>hour</th>\n      <th>minute</th>\n    </tr>\n  </thead>\n  <tbody>\n    <tr>\n      <th>0</th>\n      <td>0</td>\n      <td>0</td>\n      <td>0</td>\n      <td>4</td>\n      <td>1</td>\n      <td>0</td>\n      <td>0</td>\n    </tr>\n    <tr>\n      <th>1</th>\n      <td>0</td>\n      <td>0</td>\n      <td>1</td>\n      <td>4</td>\n      <td>1</td>\n      <td>0</td>\n      <td>0</td>\n    </tr>\n    <tr>\n      <th>2</th>\n      <td>0</td>\n      <td>0</td>\n      <td>2</td>\n      <td>4</td>\n      <td>1</td>\n      <td>0</td>\n      <td>0</td>\n    </tr>\n    <tr>\n      <th>3</th>\n      <td>0</td>\n      <td>1</td>\n      <td>0</td>\n      <td>4</td>\n      <td>1</td>\n      <td>0</td>\n      <td>0</td>\n    </tr>\n    <tr>\n      <th>4</th>\n      <td>0</td>\n      <td>1</td>\n      <td>1</td>\n      <td>4</td>\n      <td>1</td>\n      <td>0</td>\n      <td>0</td>\n    </tr>\n    <tr>\n      <th>5</th>\n      <td>0</td>\n      <td>1</td>\n      <td>2</td>\n      <td>4</td>\n      <td>1</td>\n      <td>0</td>\n      <td>0</td>\n    </tr>\n    <tr>\n      <th>6</th>\n      <td>0</td>\n      <td>1</td>\n      <td>3</td>\n      <td>4</td>\n      <td>1</td>\n      <td>0</td>\n      <td>0</td>\n    </tr>\n    <tr>\n      <th>7</th>\n      <td>0</td>\n      <td>2</td>\n      <td>0</td>\n      <td>4</td>\n      <td>1</td>\n      <td>0</td>\n      <td>0</td>\n    </tr>\n    <tr>\n      <th>8</th>\n      <td>0</td>\n      <td>2</td>\n      <td>1</td>\n      <td>4</td>\n      <td>1</td>\n      <td>0</td>\n      <td>0</td>\n    </tr>\n    <tr>\n      <th>9</th>\n      <td>0</td>\n      <td>2</td>\n      <td>2</td>\n      <td>4</td>\n      <td>1</td>\n      <td>0</td>\n      <td>0</td>\n    </tr>\n  </tbody>\n</table>\n</div>"
     },
     "execution_count": 15,
     "metadata": {},
     "output_type": "execute_result"
    }
   ],
   "source": [
    "x_train.head(10)"
   ],
   "metadata": {
    "collapsed": false,
    "pycharm": {
     "name": "#%%\n"
    }
   }
  },
  {
   "cell_type": "code",
   "execution_count": 16,
   "outputs": [
    {
     "name": "stdout",
     "output_type": "stream",
     "text": [
      "<class 'pandas.core.frame.DataFrame'>\n",
      "Int64Index: 851175 entries, 0 to 2339\n",
      "Data columns (total 7 columns):\n",
      " #   Column     Non-Null Count   Dtype\n",
      "---  ------     --------------   -----\n",
      " 0   x          851175 non-null  int64\n",
      " 1   y          851175 non-null  int64\n",
      " 2   direction  851175 non-null  int64\n",
      " 3   month      851175 non-null  int64\n",
      " 4   day        851175 non-null  int64\n",
      " 5   hour       851175 non-null  int64\n",
      " 6   minute     851175 non-null  int64\n",
      "dtypes: int64(7)\n",
      "memory usage: 52.0 MB\n"
     ]
    }
   ],
   "source": [
    "x_train.info()"
   ],
   "metadata": {
    "collapsed": false,
    "pycharm": {
     "name": "#%%\n"
    }
   }
  },
  {
   "cell_type": "code",
   "execution_count": 17,
   "outputs": [],
   "source": [
    "mean = x_train.mean(axis=0)\n",
    "std = x_train.std(axis=0)\n",
    "\n",
    "x_train -= mean\n",
    "x_train /= std"
   ],
   "metadata": {
    "collapsed": false,
    "pycharm": {
     "name": "#%%\n"
    }
   }
  },
  {
   "cell_type": "code",
   "execution_count": 18,
   "outputs": [
    {
     "data": {
      "text/plain": "          x         y  direction     month       day      hour    minute\n0 -1.420452 -1.496971  -1.286808 -1.469052 -1.671976 -1.659647 -1.225493\n1 -1.420452 -1.496971  -0.757425 -1.469052 -1.671976 -1.659647 -1.225493\n2 -1.420452 -1.496971  -0.228042 -1.469052 -1.671976 -1.659647 -1.225493\n3 -1.420452 -0.579017  -1.286808 -1.469052 -1.671976 -1.659647 -1.225493\n4 -1.420452 -0.579017  -0.757425 -1.469052 -1.671976 -1.659647 -1.225493\n5 -1.420452 -0.579017  -0.228042 -1.469052 -1.671976 -1.659647 -1.225493\n6 -1.420452 -0.579017   0.301341 -1.469052 -1.671976 -1.659647 -1.225493\n7 -1.420452  0.338937  -1.286808 -1.469052 -1.671976 -1.659647 -1.225493\n8 -1.420452  0.338937  -0.757425 -1.469052 -1.671976 -1.659647 -1.225493\n9 -1.420452  0.338937  -0.228042 -1.469052 -1.671976 -1.659647 -1.225493",
      "text/html": "<div>\n<style scoped>\n    .dataframe tbody tr th:only-of-type {\n        vertical-align: middle;\n    }\n\n    .dataframe tbody tr th {\n        vertical-align: top;\n    }\n\n    .dataframe thead th {\n        text-align: right;\n    }\n</style>\n<table border=\"1\" class=\"dataframe\">\n  <thead>\n    <tr style=\"text-align: right;\">\n      <th></th>\n      <th>x</th>\n      <th>y</th>\n      <th>direction</th>\n      <th>month</th>\n      <th>day</th>\n      <th>hour</th>\n      <th>minute</th>\n    </tr>\n  </thead>\n  <tbody>\n    <tr>\n      <th>0</th>\n      <td>-1.420452</td>\n      <td>-1.496971</td>\n      <td>-1.286808</td>\n      <td>-1.469052</td>\n      <td>-1.671976</td>\n      <td>-1.659647</td>\n      <td>-1.225493</td>\n    </tr>\n    <tr>\n      <th>1</th>\n      <td>-1.420452</td>\n      <td>-1.496971</td>\n      <td>-0.757425</td>\n      <td>-1.469052</td>\n      <td>-1.671976</td>\n      <td>-1.659647</td>\n      <td>-1.225493</td>\n    </tr>\n    <tr>\n      <th>2</th>\n      <td>-1.420452</td>\n      <td>-1.496971</td>\n      <td>-0.228042</td>\n      <td>-1.469052</td>\n      <td>-1.671976</td>\n      <td>-1.659647</td>\n      <td>-1.225493</td>\n    </tr>\n    <tr>\n      <th>3</th>\n      <td>-1.420452</td>\n      <td>-0.579017</td>\n      <td>-1.286808</td>\n      <td>-1.469052</td>\n      <td>-1.671976</td>\n      <td>-1.659647</td>\n      <td>-1.225493</td>\n    </tr>\n    <tr>\n      <th>4</th>\n      <td>-1.420452</td>\n      <td>-0.579017</td>\n      <td>-0.757425</td>\n      <td>-1.469052</td>\n      <td>-1.671976</td>\n      <td>-1.659647</td>\n      <td>-1.225493</td>\n    </tr>\n    <tr>\n      <th>5</th>\n      <td>-1.420452</td>\n      <td>-0.579017</td>\n      <td>-0.228042</td>\n      <td>-1.469052</td>\n      <td>-1.671976</td>\n      <td>-1.659647</td>\n      <td>-1.225493</td>\n    </tr>\n    <tr>\n      <th>6</th>\n      <td>-1.420452</td>\n      <td>-0.579017</td>\n      <td>0.301341</td>\n      <td>-1.469052</td>\n      <td>-1.671976</td>\n      <td>-1.659647</td>\n      <td>-1.225493</td>\n    </tr>\n    <tr>\n      <th>7</th>\n      <td>-1.420452</td>\n      <td>0.338937</td>\n      <td>-1.286808</td>\n      <td>-1.469052</td>\n      <td>-1.671976</td>\n      <td>-1.659647</td>\n      <td>-1.225493</td>\n    </tr>\n    <tr>\n      <th>8</th>\n      <td>-1.420452</td>\n      <td>0.338937</td>\n      <td>-0.757425</td>\n      <td>-1.469052</td>\n      <td>-1.671976</td>\n      <td>-1.659647</td>\n      <td>-1.225493</td>\n    </tr>\n    <tr>\n      <th>9</th>\n      <td>-1.420452</td>\n      <td>0.338937</td>\n      <td>-0.228042</td>\n      <td>-1.469052</td>\n      <td>-1.671976</td>\n      <td>-1.659647</td>\n      <td>-1.225493</td>\n    </tr>\n  </tbody>\n</table>\n</div>"
     },
     "execution_count": 18,
     "metadata": {},
     "output_type": "execute_result"
    }
   ],
   "source": [
    "x_train.head(10)"
   ],
   "metadata": {
    "collapsed": false,
    "pycharm": {
     "name": "#%%\n"
    }
   }
  },
  {
   "cell_type": "code",
   "execution_count": 19,
   "outputs": [
    {
     "name": "stdout",
     "output_type": "stream",
     "text": [
      "848835\n",
      "(851175, 7)\n"
     ]
    }
   ],
   "source": [
    "print(y_train.shape[-1])\n",
    "print(x_train.shape)\n"
   ],
   "metadata": {
    "collapsed": false,
    "pycharm": {
     "name": "#%%\n"
    }
   }
  },
  {
   "cell_type": "code",
   "execution_count": 20,
   "outputs": [],
   "source": [
    "x_test = x_train[y_train.shape[-1]:]\n",
    "x_train = x_train[:y_train.shape[-1]]"
   ],
   "metadata": {
    "collapsed": false,
    "pycharm": {
     "name": "#%%\n"
    }
   }
  },
  {
   "cell_type": "markdown",
   "source": [
    "Spilt train and test form x_train"
   ],
   "metadata": {
    "collapsed": false
   }
  },
  {
   "cell_type": "code",
   "execution_count": 21,
   "outputs": [
    {
     "name": "stdout",
     "output_type": "stream",
     "text": [
      "(2340, 7)\n",
      "(848835, 7)\n",
      "(848835,)\n"
     ]
    }
   ],
   "source": [
    "print(x_test.shape)\n",
    "print(x_train.shape)\n",
    "print(y_train.shape)"
   ],
   "metadata": {
    "collapsed": false,
    "pycharm": {
     "name": "#%%\n"
    }
   }
  },
  {
   "cell_type": "code",
   "execution_count": 22,
   "outputs": [
    {
     "data": {
      "text/plain": "array([70, 49, 24, ..., 68, 17, 24], dtype=int64)"
     },
     "execution_count": 22,
     "metadata": {},
     "output_type": "execute_result"
    }
   ],
   "source": [
    "x_train.to_numpy()\n",
    "y_train.to_numpy()"
   ],
   "metadata": {
    "collapsed": false,
    "pycharm": {
     "name": "#%%\n"
    }
   }
  },
  {
   "cell_type": "code",
   "execution_count": 33,
   "outputs": [],
   "source": [
    "from keras.models import Sequential\n",
    "from keras.layers import BatchNormalization, Dense, Dropout\n",
    "from keras import optimizers\n",
    "from keras import losses\n",
    "from keras import metrics"
   ],
   "metadata": {
    "collapsed": false,
    "pycharm": {
     "name": "#%%\n"
    }
   }
  },
  {
   "cell_type": "code",
   "execution_count": 46,
   "outputs": [],
   "source": [
    "def build_model(input_shape):\n",
    "\n",
    "        model = Sequential()\n",
    "        model.add(Dense(32, activation='relu', input_shape=input_shape))\n",
    "        model.add(Dropout(0.5))\n",
    "        model.add(Dense(64, activation='relu'))\n",
    "        model.add(Dropout(0.5))\n",
    "        model.add(Dense(32, activation='relu'))\n",
    "        model.add(Dropout(0.5))\n",
    "        model.add(Dense(1, activation='relu'))\n",
    "        model.compile(optimizer=optimizers.rmsprop_v2.RMSprop(learning_rate=0.001), loss=losses.mse, metrics=metrics.mae)\n",
    "\n",
    "        return model"
   ],
   "metadata": {
    "collapsed": false,
    "pycharm": {
     "name": "#%%\n"
    }
   }
  },
  {
   "cell_type": "code",
   "execution_count": 47,
   "outputs": [],
   "source": [
    "import numpy as np\n",
    "\n",
    "k = 4\n",
    "num_val_samples = len(x_train) // k\n",
    "num_epochs = 200\n",
    "def fitModel(train, target, epochs, input_shape, folds=4):\n",
    "    all_mae_histories = []\n",
    "    for i in range(folds):\n",
    "        print('processing fold #', i)\n",
    "        # Prepare the validation data: data from partition # k\n",
    "        val_data = train[i * num_val_samples: (i + 1) * num_val_samples]\n",
    "        val_targets = target[i * num_val_samples: (i + 1) * num_val_samples]\n",
    "    \n",
    "        # Prepare the training data: data from all other partitions\n",
    "        partial_x_train = np.concatenate(\n",
    "            [train[:i * num_val_samples],\n",
    "             train[(i + 1) * num_val_samples:]],\n",
    "            axis=0)\n",
    "        partial_y_train = np.concatenate(\n",
    "            [target[:i * num_val_samples],\n",
    "             target[(i + 1) * num_val_samples:]],\n",
    "            axis=0)\n",
    "    \n",
    "        # Build the Keras model (already compiled)\n",
    "        model = build_model(input_shape=input_shape)\n",
    "        # Train the model (in silent mode, verbose=0)\n",
    "        history = model.fit(partial_x_train, partial_y_train,\n",
    "                            validation_data=(val_data, val_targets),\n",
    "                            epochs=epochs, batch_size=1)\n",
    "        mae_history = history.history['mae']\n",
    "        all_mae_histories.append(mae_history)\n",
    "        return average_mae_history"
   ],
   "metadata": {
    "collapsed": false,
    "pycharm": {
     "name": "#%%\n"
    }
   }
  },
  {
   "cell_type": "code",
   "execution_count": null,
   "outputs": [
    {
     "name": "stdout",
     "output_type": "stream",
     "text": [
      "processing fold # 0\n",
      "Epoch 1/200\n",
      "636627/636627 [==============================] - 2614s 4ms/step - loss: 282.2336 - mean_absolute_error: 13.4778 - val_loss: 202.3158 - val_mean_absolute_error: 11.5596\n",
      "Epoch 2/200\n",
      "636627/636627 [==============================] - 2583s 4ms/step - loss: 231.3265 - mean_absolute_error: 12.2465 - val_loss: 196.3843 - val_mean_absolute_error: 11.4685\n",
      "Epoch 3/200\n",
      "460983/636627 [====================>.........] - ETA: 9:48 - loss: 224.1876 - mean_absolute_error: 11.9770"
     ]
    }
   ],
   "source": [
    "all_mae_histories = fitModel(x_train, y_train, num_epochs, input_shape=(x_train.shape[1],))\n",
    "average_mae_history = [\n",
    "    np.mean([x[i] for x in all_mae_histories]) for i in range(num_epochs)]"
   ],
   "metadata": {
    "collapsed": false,
    "pycharm": {
     "name": "#%%\n",
     "is_executing": true
    }
   }
  },
  {
   "cell_type": "code",
   "execution_count": null,
   "outputs": [],
   "source": [
    "import matplotlib.pyplot as plt\n",
    "\n",
    "plt.plot(range(1, len(average_mae_history) + 1), average_mae_history)\n",
    "plt.xlabel('Epochs')\n",
    "plt.ylabel('Validation MAE')\n",
    "plt.show()"
   ],
   "metadata": {
    "collapsed": false,
    "pycharm": {
     "name": "#%%\n"
    }
   }
  }
 ],
 "metadata": {
  "kernelspec": {
   "display_name": "Python 3",
   "language": "python",
   "name": "python3"
  },
  "language_info": {
   "codemirror_mode": {
    "name": "ipython",
    "version": 2
   },
   "file_extension": ".py",
   "mimetype": "text/x-python",
   "name": "python",
   "nbconvert_exporter": "python",
   "pygments_lexer": "ipython2",
   "version": "2.7.6"
  }
 },
 "nbformat": 4,
 "nbformat_minor": 0
}