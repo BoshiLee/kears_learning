{
 "cells": [
  {
   "cell_type": "code",
   "execution_count": 30,
   "metadata": {},
   "outputs": [],
   "source": [
    "import pandas as pd\n",
    "import numpy as np\n",
    "import os\n",
    "from matplotlib import pyplot as plt"
   ]
  },
  {
   "cell_type": "markdown",
   "metadata": {},
   "source": [
    "## Files and Field Descriptions\n",
    "- train.csv - the training set, comprising measurements of traffic congestion across 65 roadways from April through September of 1991.\n",
    "    - row_id - a unique identifier for this instance\n",
    "    - time - the 20-minute period in which each measurement was taken\n",
    "    - x - the east-west midpoint coordinate of the roadway\n",
    "    - y - the north-south midpoint coordinate of the roadway\n",
    "    - direction - the direction of travel of the roadway. EB indicates \"eastbound\" travel, for example, while SW indicates a \"southwest\" direction of travel.\n",
    "    - congestion - congestion levels for the roadway during each hour; the target. The congestion measurements have been normalized to the range 0 to 100.\n",
    "- test.csv - the test set; you will make hourly predictions for roadways identified by a coordinate location and a direction of travel on the day of 1991-09-30.\n",
    "- sample_submission.csv - a sample submission file in the correct format"
   ]
  },
  {
   "cell_type": "code",
   "execution_count": 31,
   "metadata": {
    "pycharm": {
     "name": "#%%\n"
    }
   },
   "outputs": [
    {
     "name": "stdout",
     "output_type": "stream",
     "text": [
      "/home/data_sci/tabular-playground-series-mar-2022\n"
     ]
    }
   ],
   "source": [
    "current_directory = os.getcwd()\n",
    "print(current_directory)\n",
    "train = pd.read_csv('data/train.csv')\n",
    "test = pd.read_csv('data/test.csv')"
   ]
  },
  {
   "cell_type": "code",
   "execution_count": 32,
   "metadata": {
    "pycharm": {
     "name": "#%%\n"
    }
   },
   "outputs": [
    {
     "data": {
      "text/plain": [
       "0      881\n",
       "1       48\n",
       "2      256\n",
       "3      164\n",
       "4      180\n",
       "      ... \n",
       "96     216\n",
       "97     104\n",
       "98      87\n",
       "99      42\n",
       "100    222\n",
       "Name: congestion, Length: 101, dtype: int64"
      ]
     },
     "execution_count": 32,
     "metadata": {},
     "output_type": "execute_result"
    }
   ],
   "source": [
    "train.congestion.value_counts().sort_index()"
   ]
  },
  {
   "cell_type": "code",
   "execution_count": 4,
   "metadata": {
    "pycharm": {
     "name": "#%%\n"
    }
   },
   "outputs": [
    {
     "data": {
      "image/png": "[encoded data removed]",
      "text/plain": [
       "<Figure size 720x432 with 1 Axes>"
      ]
     },
     "metadata": {
      "needs_background": "light"
     },
     "output_type": "display_data"
    }
   ],
   "source": [
    "plt.figure(figsize=(10, 6))\n",
    "plt.bar( range(0,101),train.congestion.value_counts().sort_index(), width=1, color = \"#093260\")\n",
    "plt.ylabel('Frequency')\n",
    "plt.xlabel('Congestion')\n",
    "plt.show()"
   ]
  },
  {
   "cell_type": "code",
   "execution_count": 33,
   "metadata": {
    "pycharm": {
     "name": "#%%\n"
    }
   },
   "outputs": [
    {
     "name": "stdout",
     "output_type": "stream",
     "text": [
      "Unique values of x:  [0 1 2]\n",
      "Unique values of y:  [0 1 2 3]\n",
      "Unique directions:  ['EB' 'NB' 'SB' 'WB' 'NE' 'SW' 'NW' 'SE']\n"
     ]
    }
   ],
   "source": [
    "unique_x = train.x.unique()\n",
    "unique_y = train.y.unique()\n",
    "unique_direction = train.direction.unique()\n",
    "\n",
    "print(\"Unique values of x: \", unique_x)\n",
    "print(\"Unique values of y: \", unique_y)\n",
    "print(\"Unique directions: \", unique_direction)\n"
   ]
  },
  {
   "cell_type": "code",
   "execution_count": 34,
   "metadata": {
    "pycharm": {
     "name": "#%%\n"
    }
   },
   "outputs": [
    {
     "name": "stdout",
     "output_type": "stream",
     "text": [
      "directions counts:\n",
      " EB    156708\n",
      "NB    156708\n",
      "SB    156708\n",
      "WB    143649\n",
      "NE     91413\n",
      "SW     91413\n",
      "NW     26118\n",
      "SE     26118\n",
      "Name: direction, dtype: int64\n"
     ]
    },
    {
     "data": {
      "image/png": "[encoded data removed]",
      "text/plain": [
       "<Figure size 720x360 with 1 Axes>"
      ]
     },
     "metadata": {
      "needs_background": "light"
     },
     "output_type": "display_data"
    }
   ],
   "source": [
    "print('directions counts:\\n', train.direction.value_counts())\n",
    "\n",
    "plt.figure(figsize=(10, 5))\n",
    "plt.bar(unique_direction, train.direction.value_counts(), width=0.4, color = \"#093260\")\n",
    "\n",
    "plt.ylabel('Frequency')\n",
    "plt.xlabel('Congestion')\n",
    "plt.show()"
   ]
  },
  {
   "cell_type": "code",
   "execution_count": 35,
   "metadata": {
    "pycharm": {
     "name": "#%%\n"
    }
   },
   "outputs": [],
   "source": [
    "x_train = pd.concat([train, test])\n",
    "x_train = x_train.drop('congestion', axis=1)\n",
    "y_train = train['congestion']"
   ]
  },
  {
   "cell_type": "code",
   "execution_count": 36,
   "metadata": {
    "pycharm": {
     "name": "#%%\n"
    }
   },
   "outputs": [],
   "source": [
    "cat_dir = []\n",
    "\n",
    "### map each color to an integer\n",
    "mapping = {}\n",
    "\n",
    "for i in range(unique_direction.shape[0]):\n",
    "  mapping[unique_direction[i]] = i\n",
    "\n",
    "# integer representation\n",
    "for x in x_train.direction:\n",
    "  cat_dir.append(mapping[x])"
   ]
  },
  {
   "cell_type": "code",
   "execution_count": 37,
   "metadata": {
    "pycharm": {
     "name": "#%%\n"
    }
   },
   "outputs": [],
   "source": [
    "x_train.drop('direction',axis =1)\n",
    "x_train['direction'] = cat_dir"
   ]
  },
  {
   "cell_type": "code",
   "execution_count": 38,
   "metadata": {
    "pycharm": {
     "name": "#%%\n"
    }
   },
   "outputs": [],
   "source": [
    "x_train = x_train.drop('row_id',axis =1)"
   ]
  },
  {
   "cell_type": "code",
   "execution_count": 39,
   "metadata": {
    "pycharm": {
     "name": "#%%\n"
    }
   },
   "outputs": [],
   "source": [
    "x_train['time'] = pd.to_datetime(x_train['time'])"
   ]
  },
  {
   "cell_type": "code",
   "execution_count": 40,
   "metadata": {
    "pycharm": {
     "name": "#%%\n"
    }
   },
   "outputs": [],
   "source": [
    "x_train['month'] = x_train['time'].dt.month\n",
    "x_train['day'] = x_train['time'].dt.day\n",
    "x_train['hour'] = x_train['time'].dt.hour\n",
    "x_train['minute'] = x_train['time'].dt.minute\n",
    "x_train['second'] = x_train['time'].dt.second\n",
    "x_train = x_train.drop(['time'],axis=1)"
   ]
  },
  {
   "cell_type": "code",
   "execution_count": 41,
   "metadata": {
    "pycharm": {
     "name": "#%%\n"
    }
   },
   "outputs": [
    {
     "data": {
      "text/plain": [
       "array([[<AxesSubplot:title={'center':'x'}>,\n",
       "        <AxesSubplot:title={'center':'y'}>,\n",
       "        <AxesSubplot:title={'center':'direction'}>],\n",
       "       [<AxesSubplot:title={'center':'month'}>,\n",
       "        <AxesSubplot:title={'center':'day'}>,\n",
       "        <AxesSubplot:title={'center':'hour'}>],\n",
       "       [<AxesSubplot:title={'center':'minute'}>,\n",
       "        <AxesSubplot:title={'center':'second'}>, <AxesSubplot:>]],\n",
       "      dtype=object)"
      ]
     },
     "execution_count": 41,
     "metadata": {},
     "output_type": "execute_result"
    },
    {
     "data": {
      "image/png": "[encoded data removed]",
      "text/plain": [
       "<Figure size 1440x1080 with 9 Axes>"
      ]
     },
     "metadata": {
      "needs_background": "light"
     },
     "output_type": "display_data"
    }
   ],
   "source": [
    "x_train.hist(bins=50, figsize=(20,15))"
   ]
  },
  {
   "cell_type": "code",
   "execution_count": 42,
   "metadata": {
    "pycharm": {
     "name": "#%%\n"
    }
   },
   "outputs": [],
   "source": [
    "x_train = x_train.drop(['second'],axis=1)"
   ]
  },
  {
   "cell_type": "code",
   "execution_count": 43,
   "metadata": {
    "pycharm": {
     "name": "#%%\n"
    }
   },
   "outputs": [
    {
     "data": {
      "text/html": [
       "<div>\n",
       "<style scoped>\n",
       "    .dataframe tbody tr th:only-of-type {\n",
       "        vertical-align: middle;\n",
       "    }\n",
       "\n",
       "    .dataframe tbody tr th {\n",
       "        vertical-align: top;\n",
       "    }\n",
       "\n",
       "    .dataframe thead th {\n",
       "        text-align: right;\n",
       "    }\n",
       "</style>\n",
       "<table border=\"1\" class=\"dataframe\">\n",
       "  <thead>\n",
       "    <tr style=\"text-align: right;\">\n",
       "      <th></th>\n",
       "      <th>x</th>\n",
       "      <th>y</th>\n",
       "      <th>direction</th>\n",
       "      <th>month</th>\n",
       "      <th>day</th>\n",
       "      <th>hour</th>\n",
       "      <th>minute</th>\n",
       "    </tr>\n",
       "  </thead>\n",
       "  <tbody>\n",
       "    <tr>\n",
       "      <th>0</th>\n",
       "      <td>0</td>\n",
       "      <td>0</td>\n",
       "      <td>0</td>\n",
       "      <td>4</td>\n",
       "      <td>1</td>\n",
       "      <td>0</td>\n",
       "      <td>0</td>\n",
       "    </tr>\n",
       "    <tr>\n",
       "      <th>1</th>\n",
       "      <td>0</td>\n",
       "      <td>0</td>\n",
       "      <td>1</td>\n",
       "      <td>4</td>\n",
       "      <td>1</td>\n",
       "      <td>0</td>\n",
       "      <td>0</td>\n",
       "    </tr>\n",
       "    <tr>\n",
       "      <th>2</th>\n",
       "      <td>0</td>\n",
       "      <td>0</td>\n",
       "      <td>2</td>\n",
       "      <td>4</td>\n",
       "      <td>1</td>\n",
       "      <td>0</td>\n",
       "      <td>0</td>\n",
       "    </tr>\n",
       "    <tr>\n",
       "      <th>3</th>\n",
       "      <td>0</td>\n",
       "      <td>1</td>\n",
       "      <td>0</td>\n",
       "      <td>4</td>\n",
       "      <td>1</td>\n",
       "      <td>0</td>\n",
       "      <td>0</td>\n",
       "    </tr>\n",
       "    <tr>\n",
       "      <th>4</th>\n",
       "      <td>0</td>\n",
       "      <td>1</td>\n",
       "      <td>1</td>\n",
       "      <td>4</td>\n",
       "      <td>1</td>\n",
       "      <td>0</td>\n",
       "      <td>0</td>\n",
       "    </tr>\n",
       "    <tr>\n",
       "      <th>5</th>\n",
       "      <td>0</td>\n",
       "      <td>1</td>\n",
       "      <td>2</td>\n",
       "      <td>4</td>\n",
       "      <td>1</td>\n",
       "      <td>0</td>\n",
       "      <td>0</td>\n",
       "    </tr>\n",
       "    <tr>\n",
       "      <th>6</th>\n",
       "      <td>0</td>\n",
       "      <td>1</td>\n",
       "      <td>3</td>\n",
       "      <td>4</td>\n",
       "      <td>1</td>\n",
       "      <td>0</td>\n",
       "      <td>0</td>\n",
       "    </tr>\n",
       "    <tr>\n",
       "      <th>7</th>\n",
       "      <td>0</td>\n",
       "      <td>2</td>\n",
       "      <td>0</td>\n",
       "      <td>4</td>\n",
       "      <td>1</td>\n",
       "      <td>0</td>\n",
       "      <td>0</td>\n",
       "    </tr>\n",
       "    <tr>\n",
       "      <th>8</th>\n",
       "      <td>0</td>\n",
       "      <td>2</td>\n",
       "      <td>1</td>\n",
       "      <td>4</td>\n",
       "      <td>1</td>\n",
       "      <td>0</td>\n",
       "      <td>0</td>\n",
       "    </tr>\n",
       "    <tr>\n",
       "      <th>9</th>\n",
       "      <td>0</td>\n",
       "      <td>2</td>\n",
       "      <td>2</td>\n",
       "      <td>4</td>\n",
       "      <td>1</td>\n",
       "      <td>0</td>\n",
       "      <td>0</td>\n",
       "    </tr>\n",
       "  </tbody>\n",
       "</table>\n",
       "</div>"
      ],
      "text/plain": [
       "   x  y  direction  month  day  hour  minute\n",
       "0  0  0          0      4    1     0       0\n",
       "1  0  0          1      4    1     0       0\n",
       "2  0  0          2      4    1     0       0\n",
       "3  0  1          0      4    1     0       0\n",
       "4  0  1          1      4    1     0       0\n",
       "5  0  1          2      4    1     0       0\n",
       "6  0  1          3      4    1     0       0\n",
       "7  0  2          0      4    1     0       0\n",
       "8  0  2          1      4    1     0       0\n",
       "9  0  2          2      4    1     0       0"
      ]
     },
     "execution_count": 43,
     "metadata": {},
     "output_type": "execute_result"
    }
   ],
   "source": [
    "x_train.head(10)"
   ]
  },
  {
   "cell_type": "code",
   "execution_count": 44,
   "metadata": {
    "pycharm": {
     "name": "#%%\n"
    }
   },
   "outputs": [
    {
     "name": "stdout",
     "output_type": "stream",
     "text": [
      "<class 'pandas.core.frame.DataFrame'>\n",
      "Int64Index: 851175 entries, 0 to 2339\n",
      "Data columns (total 7 columns):\n",
      " #   Column     Non-Null Count   Dtype\n",
      "---  ------     --------------   -----\n",
      " 0   x          851175 non-null  int64\n",
      " 1   y          851175 non-null  int64\n",
      " 2   direction  851175 non-null  int64\n",
      " 3   month      851175 non-null  int64\n",
      " 4   day        851175 non-null  int64\n",
      " 5   hour       851175 non-null  int64\n",
      " 6   minute     851175 non-null  int64\n",
      "dtypes: int64(7)\n",
      "memory usage: 52.0 MB\n"
     ]
    }
   ],
   "source": [
    "x_train.info()"
   ]
  },
  {
   "cell_type": "code",
   "execution_count": 45,
   "metadata": {
    "pycharm": {
     "name": "#%%\n"
    }
   },
   "outputs": [],
   "source": [
    "mean = x_train.mean(axis=0)\n",
    "std = x_train.std(axis=0)\n",
    "\n",
    "x_train -= mean\n",
    "x_train /= std"
   ]
  },
  {
   "cell_type": "code",
   "execution_count": 46,
   "metadata": {
    "pycharm": {
     "name": "#%%\n"
    }
   },
   "outputs": [
    {
     "data": {
      "text/html": [
       "<div>\n",
       "<style scoped>\n",
       "    .dataframe tbody tr th:only-of-type {\n",
       "        vertical-align: middle;\n",
       "    }\n",
       "\n",
       "    .dataframe tbody tr th {\n",
       "        vertical-align: top;\n",
       "    }\n",
       "\n",
       "    .dataframe thead th {\n",
       "        text-align: right;\n",
       "    }\n",
       "</style>\n",
       "<table border=\"1\" class=\"dataframe\">\n",
       "  <thead>\n",
       "    <tr style=\"text-align: right;\">\n",
       "      <th></th>\n",
       "      <th>x</th>\n",
       "      <th>y</th>\n",
       "      <th>direction</th>\n",
       "      <th>month</th>\n",
       "      <th>day</th>\n",
       "      <th>hour</th>\n",
       "      <th>minute</th>\n",
       "    </tr>\n",
       "  </thead>\n",
       "  <tbody>\n",
       "    <tr>\n",
       "      <th>0</th>\n",
       "      <td>-1.420452</td>\n",
       "      <td>-1.496971</td>\n",
       "      <td>-1.286808</td>\n",
       "      <td>-1.469052</td>\n",
       "      <td>-1.671976</td>\n",
       "      <td>-1.659647</td>\n",
       "      <td>-1.225493</td>\n",
       "    </tr>\n",
       "    <tr>\n",
       "      <th>1</th>\n",
       "      <td>-1.420452</td>\n",
       "      <td>-1.496971</td>\n",
       "      <td>-0.757425</td>\n",
       "      <td>-1.469052</td>\n",
       "      <td>-1.671976</td>\n",
       "      <td>-1.659647</td>\n",
       "      <td>-1.225493</td>\n",
       "    </tr>\n",
       "    <tr>\n",
       "      <th>2</th>\n",
       "      <td>-1.420452</td>\n",
       "      <td>-1.496971</td>\n",
       "      <td>-0.228042</td>\n",
       "      <td>-1.469052</td>\n",
       "      <td>-1.671976</td>\n",
       "      <td>-1.659647</td>\n",
       "      <td>-1.225493</td>\n",
       "    </tr>\n",
       "    <tr>\n",
       "      <th>3</th>\n",
       "      <td>-1.420452</td>\n",
       "      <td>-0.579017</td>\n",
       "      <td>-1.286808</td>\n",
       "      <td>-1.469052</td>\n",
       "      <td>-1.671976</td>\n",
       "      <td>-1.659647</td>\n",
       "      <td>-1.225493</td>\n",
       "    </tr>\n",
       "    <tr>\n",
       "      <th>4</th>\n",
       "      <td>-1.420452</td>\n",
       "      <td>-0.579017</td>\n",
       "      <td>-0.757425</td>\n",
       "      <td>-1.469052</td>\n",
       "      <td>-1.671976</td>\n",
       "      <td>-1.659647</td>\n",
       "      <td>-1.225493</td>\n",
       "    </tr>\n",
       "    <tr>\n",
       "      <th>5</th>\n",
       "      <td>-1.420452</td>\n",
       "      <td>-0.579017</td>\n",
       "      <td>-0.228042</td>\n",
       "      <td>-1.469052</td>\n",
       "      <td>-1.671976</td>\n",
       "      <td>-1.659647</td>\n",
       "      <td>-1.225493</td>\n",
       "    </tr>\n",
       "    <tr>\n",
       "      <th>6</th>\n",
       "      <td>-1.420452</td>\n",
       "      <td>-0.579017</td>\n",
       "      <td>0.301341</td>\n",
       "      <td>-1.469052</td>\n",
       "      <td>-1.671976</td>\n",
       "      <td>-1.659647</td>\n",
       "      <td>-1.225493</td>\n",
       "    </tr>\n",
       "    <tr>\n",
       "      <th>7</th>\n",
       "      <td>-1.420452</td>\n",
       "      <td>0.338937</td>\n",
       "      <td>-1.286808</td>\n",
       "      <td>-1.469052</td>\n",
       "      <td>-1.671976</td>\n",
       "      <td>-1.659647</td>\n",
       "      <td>-1.225493</td>\n",
       "    </tr>\n",
       "    <tr>\n",
       "      <th>8</th>\n",
       "      <td>-1.420452</td>\n",
       "      <td>0.338937</td>\n",
       "      <td>-0.757425</td>\n",
       "      <td>-1.469052</td>\n",
       "      <td>-1.671976</td>\n",
       "      <td>-1.659647</td>\n",
       "      <td>-1.225493</td>\n",
       "    </tr>\n",
       "    <tr>\n",
       "      <th>9</th>\n",
       "      <td>-1.420452</td>\n",
       "      <td>0.338937</td>\n",
       "      <td>-0.228042</td>\n",
       "      <td>-1.469052</td>\n",
       "      <td>-1.671976</td>\n",
       "      <td>-1.659647</td>\n",
       "      <td>-1.225493</td>\n",
       "    </tr>\n",
       "  </tbody>\n",
       "</table>\n",
       "</div>"
      ],
      "text/plain": [
       "          x         y  direction     month       day      hour    minute\n",
       "0 -1.420452 -1.496971  -1.286808 -1.469052 -1.671976 -1.659647 -1.225493\n",
       "1 -1.420452 -1.496971  -0.757425 -1.469052 -1.671976 -1.659647 -1.225493\n",
       "2 -1.420452 -1.496971  -0.228042 -1.469052 -1.671976 -1.659647 -1.225493\n",
       "3 -1.420452 -0.579017  -1.286808 -1.469052 -1.671976 -1.659647 -1.225493\n",
       "4 -1.420452 -0.579017  -0.757425 -1.469052 -1.671976 -1.659647 -1.225493\n",
       "5 -1.420452 -0.579017  -0.228042 -1.469052 -1.671976 -1.659647 -1.225493\n",
       "6 -1.420452 -0.579017   0.301341 -1.469052 -1.671976 -1.659647 -1.225493\n",
       "7 -1.420452  0.338937  -1.286808 -1.469052 -1.671976 -1.659647 -1.225493\n",
       "8 -1.420452  0.338937  -0.757425 -1.469052 -1.671976 -1.659647 -1.225493\n",
       "9 -1.420452  0.338937  -0.228042 -1.469052 -1.671976 -1.659647 -1.225493"
      ]
     },
     "execution_count": 46,
     "metadata": {},
     "output_type": "execute_result"
    }
   ],
   "source": [
    "x_train.head(10)"
   ]
  },
  {
   "cell_type": "code",
   "execution_count": 47,
   "metadata": {
    "pycharm": {
     "name": "#%%\n"
    }
   },
   "outputs": [
    {
     "name": "stdout",
     "output_type": "stream",
     "text": [
      "848835\n",
      "(851175, 7)\n"
     ]
    }
   ],
   "source": [
    "print(y_train.shape[-1])\n",
    "print(x_train.shape)\n"
   ]
  },
  {
   "cell_type": "code",
   "execution_count": 48,
   "metadata": {
    "pycharm": {
     "name": "#%%\n"
    }
   },
   "outputs": [],
   "source": [
    "x_test = x_train[y_train.shape[-1]:]\n",
    "x_train = x_train[:y_train.shape[-1]]"
   ]
  },
  {
   "cell_type": "markdown",
   "metadata": {},
   "source": [
    "Spilt train and test form x_train"
   ]
  },
  {
   "cell_type": "code",
   "execution_count": 49,
   "metadata": {
    "pycharm": {
     "name": "#%%\n"
    }
   },
   "outputs": [
    {
     "name": "stdout",
     "output_type": "stream",
     "text": [
      "(2340, 7)\n",
      "(848835, 7)\n",
      "(848835,)\n"
     ]
    }
   ],
   "source": [
    "print(x_test.shape)\n",
    "print(x_train.shape)\n",
    "print(y_train.shape)"
   ]
  },
  {
   "cell_type": "code",
   "execution_count": 50,
   "metadata": {
    "pycharm": {
     "name": "#%%\n"
    }
   },
   "outputs": [],
   "source": [
    "x_train = x_train.to_numpy()\n",
    "y_train = y_train.to_numpy()"
   ]
  },
  {
   "cell_type": "code",
   "execution_count": 51,
   "metadata": {
    "pycharm": {
     "name": "#%%\n"
    }
   },
   "outputs": [],
   "source": [
    "from keras.models import Sequential\n",
    "from keras.layers import BatchNormalization, Dense, Dropout\n",
    "from keras import optimizers\n",
    "from keras import losses\n",
    "from keras import metrics\n"
   ]
  },
  {
   "cell_type": "code",
   "execution_count": 24,
   "metadata": {
    "pycharm": {
     "name": "#%%\n"
    }
   },
   "outputs": [],
   "source": [
    "def build_model(input_shape):\n",
    "\n",
    "        model = Sequential()\n",
    "        model.add(Dense(32, activation='relu', input_shape=input_shape))\n",
    "        model.add(Dropout(0.2))\n",
    "        model.add(Dense(64, activation='relu'))\n",
    "        model.add(Dropout(0.2))\n",
    "        model.add(Dense(128, activation='relu'))\n",
    "        model.add(Dropout(0.5))\n",
    "        model.add(Dense(32, activation='relu'))\n",
    "        model.add(Dropout(0.2))\n",
    "        model.add(Dense(1, activation='relu'))\n",
    "        model.compile(optimizer=optimizers.adam_v2.Adam(learning_rate=0.001), loss=losses.mse, metrics=metrics.mse)\n",
    "\n",
    "        return model"
   ]
  },
  {
   "cell_type": "code",
   "execution_count": 25,
   "metadata": {},
   "outputs": [],
   "source": [
    "from keras import backend as K\n",
    "\n",
    "# Some memory clean-up\n",
    "K.clear_session()"
   ]
  },
  {
   "cell_type": "code",
   "execution_count": 26,
   "metadata": {
    "pycharm": {
     "name": "#%%\n"
    }
   },
   "outputs": [
    {
     "name": "stdout",
     "output_type": "stream",
     "text": [
      "Proccessing Fold# 1\n"
     ]
    },
    {
     "name": "stderr",
     "output_type": "stream",
     "text": [
      "2022-04-11 07:38:27.086310: I tensorflow/stream_executor/cuda/cuda_gpu_executor.cc:922] could not open file to read NUMA node: /sys/bus/pci/devices/0000:01:00.0/numa_node\n",
      "Your kernel may have been built without NUMA support.\n",
      "2022-04-11 07:38:27.112111: I tensorflow/stream_executor/cuda/cuda_gpu_executor.cc:922] could not open file to read NUMA node: /sys/bus/pci/devices/0000:01:00.0/numa_node\n",
      "Your kernel may have been built without NUMA support.\n",
      "2022-04-11 07:38:27.112488: I tensorflow/stream_executor/cuda/cuda_gpu_executor.cc:922] could not open file to read NUMA node: /sys/bus/pci/devices/0000:01:00.0/numa_node\n",
      "Your kernel may have been built without NUMA support.\n",
      "2022-04-11 07:38:27.113149: I tensorflow/core/platform/cpu_feature_guard.cc:151] This TensorFlow binary is optimized with oneAPI Deep Neural Network Library (oneDNN) to use the following CPU instructions in performance-critical operations:  AVX2 FMA\n",
      "To enable them in other operations, rebuild TensorFlow with the appropriate compiler flags.\n",
      "2022-04-11 07:38:27.114061: I tensorflow/stream_executor/cuda/cuda_gpu_executor.cc:922] could not open file to read NUMA node: /sys/bus/pci/devices/0000:01:00.0/numa_node\n",
      "Your kernel may have been built without NUMA support.\n",
      "2022-04-11 07:38:27.114401: I tensorflow/stream_executor/cuda/cuda_gpu_executor.cc:922] could not open file to read NUMA node: /sys/bus/pci/devices/0000:01:00.0/numa_node\n",
      "Your kernel may have been built without NUMA support.\n",
      "2022-04-11 07:38:27.114748: I tensorflow/stream_executor/cuda/cuda_gpu_executor.cc:922] could not open file to read NUMA node: /sys/bus/pci/devices/0000:01:00.0/numa_node\n",
      "Your kernel may have been built without NUMA support.\n",
      "2022-04-11 07:38:27.602721: I tensorflow/stream_executor/cuda/cuda_gpu_executor.cc:922] could not open file to read NUMA node: /sys/bus/pci/devices/0000:01:00.0/numa_node\n",
      "Your kernel may have been built without NUMA support.\n",
      "2022-04-11 07:38:27.603128: I tensorflow/stream_executor/cuda/cuda_gpu_executor.cc:922] could not open file to read NUMA node: /sys/bus/pci/devices/0000:01:00.0/numa_node\n",
      "Your kernel may have been built without NUMA support.\n",
      "2022-04-11 07:38:27.603143: I tensorflow/core/common_runtime/gpu/gpu_device.cc:1609] Could not identify NUMA node of platform GPU id 0, defaulting to 0.  Your kernel may not have been built with NUMA support.\n",
      "2022-04-11 07:38:27.603486: I tensorflow/stream_executor/cuda/cuda_gpu_executor.cc:922] could not open file to read NUMA node: /sys/bus/pci/devices/0000:01:00.0/numa_node\n",
      "Your kernel may have been built without NUMA support.\n",
      "2022-04-11 07:38:27.603533: I tensorflow/core/common_runtime/gpu/gpu_device.cc:1525] Created device /job:localhost/replica:0/task:0/device:GPU:0 with 8926 MB memory:  -> device: 0, name: NVIDIA GeForce RTX 2080 Ti, pci bus id: 0000:01:00.0, compute capability: 7.5\n"
     ]
    },
    {
     "name": "stdout",
     "output_type": "stream",
     "text": [
      "Epoch 1/50\n",
      "1451/1451 - 8s - loss: 373.0241 - mean_squared_error: 373.0241 - val_loss: 202.6047 - val_mean_squared_error: 202.6047 - 8s/epoch - 6ms/step\n",
      "Epoch 2/50\n",
      "1451/1451 - 8s - loss: 246.5273 - mean_squared_error: 246.5273 - val_loss: 157.4619 - val_mean_squared_error: 157.4619 - 8s/epoch - 6ms/step\n",
      "Epoch 3/50\n",
      "1451/1451 - 8s - loss: 209.1185 - mean_squared_error: 209.1185 - val_loss: 139.2977 - val_mean_squared_error: 139.2977 - 8s/epoch - 6ms/step\n",
      "Epoch 4/50\n",
      "1451/1451 - 8s - loss: 187.1575 - mean_squared_error: 187.1575 - val_loss: 126.5839 - val_mean_squared_error: 126.5839 - 8s/epoch - 6ms/step\n",
      "Epoch 5/50\n",
      "1451/1451 - 8s - loss: 172.9893 - mean_squared_error: 172.9893 - val_loss: 125.8317 - val_mean_squared_error: 125.8317 - 8s/epoch - 6ms/step\n",
      "Epoch 6/50\n",
      "1451/1451 - 8s - loss: 163.5336 - mean_squared_error: 163.5336 - val_loss: 120.3323 - val_mean_squared_error: 120.3323 - 8s/epoch - 6ms/step\n",
      "Epoch 7/50\n",
      "1451/1451 - 8s - loss: 157.0465 - mean_squared_error: 157.0465 - val_loss: 119.4350 - val_mean_squared_error: 119.4350 - 8s/epoch - 6ms/step\n",
      "Epoch 8/50\n",
      "1451/1451 - 8s - loss: 153.0621 - mean_squared_error: 153.0621 - val_loss: 115.7483 - val_mean_squared_error: 115.7483 - 8s/epoch - 6ms/step\n",
      "Epoch 9/50\n",
      "1451/1451 - 8s - loss: 149.5657 - mean_squared_error: 149.5657 - val_loss: 112.1292 - val_mean_squared_error: 112.1292 - 8s/epoch - 6ms/step\n",
      "Epoch 10/50\n",
      "1451/1451 - 8s - loss: 147.2976 - mean_squared_error: 147.2976 - val_loss: 110.8696 - val_mean_squared_error: 110.8696 - 8s/epoch - 6ms/step\n",
      "Epoch 11/50\n",
      "1451/1451 - 8s - loss: 145.1091 - mean_squared_error: 145.1091 - val_loss: 109.8689 - val_mean_squared_error: 109.8689 - 8s/epoch - 6ms/step\n",
      "Epoch 12/50\n",
      "1451/1451 - 8s - loss: 143.3191 - mean_squared_error: 143.3191 - val_loss: 111.4553 - val_mean_squared_error: 111.4553 - 8s/epoch - 6ms/step\n",
      "Epoch 13/50\n",
      "1451/1451 - 8s - loss: 141.8001 - mean_squared_error: 141.8001 - val_loss: 110.8361 - val_mean_squared_error: 110.8361 - 8s/epoch - 6ms/step\n",
      "Epoch 14/50\n",
      "1451/1451 - 8s - loss: 140.0591 - mean_squared_error: 140.0591 - val_loss: 109.9159 - val_mean_squared_error: 109.9159 - 8s/epoch - 6ms/step\n",
      "Epoch 15/50\n",
      "1451/1451 - 8s - loss: 138.5310 - mean_squared_error: 138.5310 - val_loss: 108.5382 - val_mean_squared_error: 108.5382 - 8s/epoch - 6ms/step\n",
      "Epoch 16/50\n",
      "1451/1451 - 8s - loss: 137.0781 - mean_squared_error: 137.0781 - val_loss: 108.9749 - val_mean_squared_error: 108.9749 - 8s/epoch - 6ms/step\n",
      "Epoch 17/50\n",
      "1451/1451 - 8s - loss: 135.9974 - mean_squared_error: 135.9974 - val_loss: 106.1034 - val_mean_squared_error: 106.1034 - 8s/epoch - 6ms/step\n",
      "Epoch 18/50\n",
      "1451/1451 - 8s - loss: 134.7533 - mean_squared_error: 134.7533 - val_loss: 107.7069 - val_mean_squared_error: 107.7069 - 8s/epoch - 6ms/step\n",
      "Epoch 19/50\n",
      "1451/1451 - 8s - loss: 133.5977 - mean_squared_error: 133.5977 - val_loss: 110.0405 - val_mean_squared_error: 110.0405 - 8s/epoch - 6ms/step\n",
      "Epoch 20/50\n",
      "1451/1451 - 8s - loss: 132.3853 - mean_squared_error: 132.3853 - val_loss: 105.9170 - val_mean_squared_error: 105.9170 - 8s/epoch - 6ms/step\n",
      "Epoch 21/50\n",
      "1451/1451 - 8s - loss: 131.3475 - mean_squared_error: 131.3475 - val_loss: 108.0511 - val_mean_squared_error: 108.0511 - 8s/epoch - 6ms/step\n",
      "Epoch 22/50\n",
      "1451/1451 - 8s - loss: 130.6941 - mean_squared_error: 130.6941 - val_loss: 108.9187 - val_mean_squared_error: 108.9187 - 8s/epoch - 6ms/step\n",
      "Epoch 23/50\n",
      "1451/1451 - 8s - loss: 129.5169 - mean_squared_error: 129.5169 - val_loss: 110.8217 - val_mean_squared_error: 110.8217 - 8s/epoch - 6ms/step\n",
      "Epoch 24/50\n",
      "1451/1451 - 8s - loss: 128.7618 - mean_squared_error: 128.7618 - val_loss: 108.4414 - val_mean_squared_error: 108.4414 - 8s/epoch - 6ms/step\n",
      "Epoch 25/50\n",
      "1451/1451 - 8s - loss: 127.8026 - mean_squared_error: 127.8026 - val_loss: 108.1240 - val_mean_squared_error: 108.1240 - 8s/epoch - 6ms/step\n",
      "Epoch 26/50\n",
      "1451/1451 - 8s - loss: 126.7679 - mean_squared_error: 126.7679 - val_loss: 109.9576 - val_mean_squared_error: 109.9576 - 8s/epoch - 6ms/step\n",
      "Epoch 27/50\n",
      "1451/1451 - 8s - loss: 126.1139 - mean_squared_error: 126.1139 - val_loss: 110.3741 - val_mean_squared_error: 110.3741 - 8s/epoch - 6ms/step\n",
      "Epoch 28/50\n",
      "1451/1451 - 8s - loss: 125.4039 - mean_squared_error: 125.4039 - val_loss: 108.7606 - val_mean_squared_error: 108.7606 - 8s/epoch - 6ms/step\n",
      "Epoch 29/50\n",
      "1451/1451 - 8s - loss: 124.8394 - mean_squared_error: 124.8394 - val_loss: 108.8206 - val_mean_squared_error: 108.8206 - 8s/epoch - 6ms/step\n",
      "Epoch 30/50\n",
      "1451/1451 - 8s - loss: 124.1958 - mean_squared_error: 124.1958 - val_loss: 108.2605 - val_mean_squared_error: 108.2605 - 8s/epoch - 6ms/step\n",
      "Epoch 31/50\n",
      "1451/1451 - 8s - loss: 123.3941 - mean_squared_error: 123.3941 - val_loss: 109.2474 - val_mean_squared_error: 109.2474 - 8s/epoch - 6ms/step\n",
      "Epoch 32/50\n",
      "1451/1451 - 8s - loss: 122.7212 - mean_squared_error: 122.7212 - val_loss: 109.6788 - val_mean_squared_error: 109.6788 - 8s/epoch - 6ms/step\n",
      "Epoch 33/50\n",
      "1451/1451 - 8s - loss: 122.2874 - mean_squared_error: 122.2874 - val_loss: 106.2752 - val_mean_squared_error: 106.2752 - 8s/epoch - 6ms/step\n",
      "Epoch 34/50\n",
      "1451/1451 - 8s - loss: 121.4523 - mean_squared_error: 121.4523 - val_loss: 108.3722 - val_mean_squared_error: 108.3722 - 8s/epoch - 6ms/step\n",
      "Epoch 35/50\n",
      "1451/1451 - 8s - loss: 121.0841 - mean_squared_error: 121.0841 - val_loss: 107.8465 - val_mean_squared_error: 107.8465 - 8s/epoch - 6ms/step\n",
      "Epoch 36/50\n",
      "1451/1451 - 8s - loss: 120.8243 - mean_squared_error: 120.8243 - val_loss: 109.2005 - val_mean_squared_error: 109.2005 - 8s/epoch - 6ms/step\n",
      "Epoch 37/50\n",
      "1451/1451 - 8s - loss: 120.2952 - mean_squared_error: 120.2952 - val_loss: 108.4202 - val_mean_squared_error: 108.4202 - 8s/epoch - 6ms/step\n",
      "Epoch 38/50\n",
      "1451/1451 - 8s - loss: 119.8876 - mean_squared_error: 119.8876 - val_loss: 109.9087 - val_mean_squared_error: 109.9087 - 8s/epoch - 6ms/step\n",
      "Epoch 39/50\n",
      "1451/1451 - 8s - loss: 119.5282 - mean_squared_error: 119.5282 - val_loss: 107.7272 - val_mean_squared_error: 107.7272 - 8s/epoch - 6ms/step\n",
      "Epoch 40/50\n",
      "1451/1451 - 8s - loss: 119.3299 - mean_squared_error: 119.3299 - val_loss: 106.4912 - val_mean_squared_error: 106.4912 - 8s/epoch - 6ms/step\n",
      "Epoch 41/50\n",
      "1451/1451 - 8s - loss: 118.8158 - mean_squared_error: 118.8158 - val_loss: 108.0089 - val_mean_squared_error: 108.0089 - 8s/epoch - 6ms/step\n",
      "Epoch 42/50\n",
      "1451/1451 - 8s - loss: 118.3685 - mean_squared_error: 118.3685 - val_loss: 107.2916 - val_mean_squared_error: 107.2916 - 8s/epoch - 6ms/step\n",
      "Epoch 43/50\n",
      "1451/1451 - 8s - loss: 118.2585 - mean_squared_error: 118.2585 - val_loss: 108.0632 - val_mean_squared_error: 108.0632 - 8s/epoch - 6ms/step\n",
      "Epoch 44/50\n",
      "1451/1451 - 8s - loss: 117.8790 - mean_squared_error: 117.8790 - val_loss: 106.6456 - val_mean_squared_error: 106.6456 - 8s/epoch - 6ms/step\n",
      "Epoch 45/50\n",
      "1451/1451 - 8s - loss: 117.7016 - mean_squared_error: 117.7016 - val_loss: 107.1499 - val_mean_squared_error: 107.1499 - 8s/epoch - 6ms/step\n",
      "Epoch 46/50\n",
      "1451/1451 - 8s - loss: 117.5326 - mean_squared_error: 117.5326 - val_loss: 106.5431 - val_mean_squared_error: 106.5431 - 8s/epoch - 6ms/step\n",
      "Epoch 47/50\n",
      "1451/1451 - 8s - loss: 117.2890 - mean_squared_error: 117.2890 - val_loss: 110.0032 - val_mean_squared_error: 110.0032 - 8s/epoch - 6ms/step\n",
      "Epoch 48/50\n",
      "1451/1451 - 8s - loss: 117.0581 - mean_squared_error: 117.0581 - val_loss: 108.6485 - val_mean_squared_error: 108.6485 - 8s/epoch - 6ms/step\n",
      "Epoch 49/50\n",
      "1451/1451 - 8s - loss: 116.9493 - mean_squared_error: 116.9493 - val_loss: 109.2827 - val_mean_squared_error: 109.2827 - 8s/epoch - 6ms/step\n",
      "Epoch 50/50\n",
      "1451/1451 - 8s - loss: 116.5737 - mean_squared_error: 116.5737 - val_loss: 109.8666 - val_mean_squared_error: 109.8666 - 8s/epoch - 6ms/step\n",
      "SCORE FOLD 1 = [113.49705825805664]\n",
      "Proccessing Fold# 2\n",
      "Epoch 1/50\n",
      "1451/1451 - 9s - loss: 363.9384 - mean_squared_error: 363.9384 - val_loss: 203.9978 - val_mean_squared_error: 203.9978 - 9s/epoch - 6ms/step\n",
      "Epoch 2/50\n",
      "1451/1451 - 8s - loss: 237.5114 - mean_squared_error: 237.5114 - val_loss: 157.7165 - val_mean_squared_error: 157.7165 - 8s/epoch - 6ms/step\n",
      "Epoch 3/50\n",
      "1451/1451 - 8s - loss: 200.8717 - mean_squared_error: 200.8717 - val_loss: 133.1806 - val_mean_squared_error: 133.1806 - 8s/epoch - 6ms/step\n",
      "Epoch 4/50\n",
      "1451/1451 - 8s - loss: 179.5034 - mean_squared_error: 179.5034 - val_loss: 119.9210 - val_mean_squared_error: 119.9210 - 8s/epoch - 6ms/step\n"
     ]
    },
    {
     "name": "stdout",
     "output_type": "stream",
     "text": [
      "Epoch 5/50\n",
      "1451/1451 - 8s - loss: 167.9283 - mean_squared_error: 167.9283 - val_loss: 118.0697 - val_mean_squared_error: 118.0697 - 8s/epoch - 6ms/step\n",
      "Epoch 6/50\n",
      "1451/1451 - 8s - loss: 159.7539 - mean_squared_error: 159.7539 - val_loss: 119.9870 - val_mean_squared_error: 119.9870 - 8s/epoch - 6ms/step\n",
      "Epoch 7/50\n",
      "1451/1451 - 8s - loss: 154.2776 - mean_squared_error: 154.2776 - val_loss: 116.1708 - val_mean_squared_error: 116.1708 - 8s/epoch - 6ms/step\n",
      "Epoch 8/50\n",
      "1451/1451 - 8s - loss: 151.3074 - mean_squared_error: 151.3074 - val_loss: 113.3839 - val_mean_squared_error: 113.3839 - 8s/epoch - 6ms/step\n",
      "Epoch 9/50\n",
      "1451/1451 - 8s - loss: 148.4848 - mean_squared_error: 148.4848 - val_loss: 112.8192 - val_mean_squared_error: 112.8192 - 8s/epoch - 6ms/step\n",
      "Epoch 10/50\n",
      "1451/1451 - 8s - loss: 145.9243 - mean_squared_error: 145.9243 - val_loss: 110.2076 - val_mean_squared_error: 110.2076 - 8s/epoch - 6ms/step\n",
      "Epoch 11/50\n",
      "1451/1451 - 8s - loss: 143.8607 - mean_squared_error: 143.8607 - val_loss: 112.5683 - val_mean_squared_error: 112.5683 - 8s/epoch - 6ms/step\n",
      "Epoch 12/50\n",
      "1451/1451 - 8s - loss: 142.1948 - mean_squared_error: 142.1948 - val_loss: 116.2245 - val_mean_squared_error: 116.2245 - 8s/epoch - 6ms/step\n",
      "Epoch 13/50\n",
      "1451/1451 - 8s - loss: 140.6353 - mean_squared_error: 140.6353 - val_loss: 110.8625 - val_mean_squared_error: 110.8625 - 8s/epoch - 6ms/step\n",
      "Epoch 14/50\n",
      "1451/1451 - 8s - loss: 139.1866 - mean_squared_error: 139.1866 - val_loss: 109.9727 - val_mean_squared_error: 109.9727 - 8s/epoch - 6ms/step\n",
      "Epoch 15/50\n",
      "1451/1451 - 8s - loss: 137.7343 - mean_squared_error: 137.7343 - val_loss: 113.5475 - val_mean_squared_error: 113.5475 - 8s/epoch - 6ms/step\n",
      "Epoch 16/50\n",
      "1451/1451 - 8s - loss: 136.7916 - mean_squared_error: 136.7916 - val_loss: 112.6997 - val_mean_squared_error: 112.6997 - 8s/epoch - 6ms/step\n",
      "Epoch 17/50\n",
      "1451/1451 - 8s - loss: 135.3419 - mean_squared_error: 135.3419 - val_loss: 109.5474 - val_mean_squared_error: 109.5474 - 8s/epoch - 6ms/step\n",
      "Epoch 18/50\n",
      "1451/1451 - 8s - loss: 134.3530 - mean_squared_error: 134.3530 - val_loss: 111.7754 - val_mean_squared_error: 111.7754 - 8s/epoch - 6ms/step\n",
      "Epoch 19/50\n",
      "1451/1451 - 8s - loss: 133.5404 - mean_squared_error: 133.5404 - val_loss: 114.7637 - val_mean_squared_error: 114.7637 - 8s/epoch - 6ms/step\n",
      "Epoch 20/50\n",
      "1451/1451 - 8s - loss: 132.5804 - mean_squared_error: 132.5804 - val_loss: 113.9343 - val_mean_squared_error: 113.9343 - 8s/epoch - 6ms/step\n",
      "Epoch 21/50\n",
      "1451/1451 - 8s - loss: 131.7883 - mean_squared_error: 131.7883 - val_loss: 113.0202 - val_mean_squared_error: 113.0202 - 8s/epoch - 6ms/step\n",
      "Epoch 22/50\n",
      "1451/1451 - 8s - loss: 131.0248 - mean_squared_error: 131.0248 - val_loss: 112.7049 - val_mean_squared_error: 112.7049 - 8s/epoch - 6ms/step\n",
      "Epoch 23/50\n",
      "1451/1451 - 8s - loss: 130.1211 - mean_squared_error: 130.1211 - val_loss: 112.8443 - val_mean_squared_error: 112.8443 - 8s/epoch - 6ms/step\n",
      "Epoch 24/50\n",
      "1451/1451 - 8s - loss: 129.4855 - mean_squared_error: 129.4855 - val_loss: 113.2363 - val_mean_squared_error: 113.2363 - 8s/epoch - 6ms/step\n",
      "Epoch 25/50\n",
      "1451/1451 - 8s - loss: 128.6698 - mean_squared_error: 128.6698 - val_loss: 116.2638 - val_mean_squared_error: 116.2638 - 8s/epoch - 6ms/step\n",
      "Epoch 26/50\n",
      "1451/1451 - 8s - loss: 128.2725 - mean_squared_error: 128.2725 - val_loss: 111.4451 - val_mean_squared_error: 111.4451 - 8s/epoch - 6ms/step\n",
      "Epoch 27/50\n",
      "1451/1451 - 8s - loss: 127.0642 - mean_squared_error: 127.0642 - val_loss: 113.2947 - val_mean_squared_error: 113.2947 - 8s/epoch - 6ms/step\n",
      "Epoch 28/50\n",
      "1451/1451 - 8s - loss: 126.2474 - mean_squared_error: 126.2474 - val_loss: 113.9297 - val_mean_squared_error: 113.9297 - 8s/epoch - 6ms/step\n",
      "Epoch 29/50\n",
      "1451/1451 - 8s - loss: 125.7108 - mean_squared_error: 125.7108 - val_loss: 112.1358 - val_mean_squared_error: 112.1358 - 8s/epoch - 6ms/step\n",
      "Epoch 30/50\n",
      "1451/1451 - 8s - loss: 125.2981 - mean_squared_error: 125.2981 - val_loss: 111.8193 - val_mean_squared_error: 111.8193 - 8s/epoch - 6ms/step\n",
      "Epoch 31/50\n",
      "1451/1451 - 8s - loss: 124.5018 - mean_squared_error: 124.5018 - val_loss: 114.4474 - val_mean_squared_error: 114.4474 - 8s/epoch - 6ms/step\n",
      "Epoch 32/50\n",
      "1451/1451 - 8s - loss: 124.3547 - mean_squared_error: 124.3547 - val_loss: 111.3453 - val_mean_squared_error: 111.3453 - 8s/epoch - 6ms/step\n",
      "Epoch 33/50\n",
      "1451/1451 - 8s - loss: 123.7188 - mean_squared_error: 123.7188 - val_loss: 111.7884 - val_mean_squared_error: 111.7884 - 8s/epoch - 6ms/step\n",
      "Epoch 34/50\n",
      "1451/1451 - 8s - loss: 123.3330 - mean_squared_error: 123.3330 - val_loss: 113.7420 - val_mean_squared_error: 113.7420 - 8s/epoch - 6ms/step\n",
      "Epoch 35/50\n",
      "1451/1451 - 8s - loss: 122.6452 - mean_squared_error: 122.6452 - val_loss: 110.4184 - val_mean_squared_error: 110.4184 - 8s/epoch - 6ms/step\n",
      "Epoch 36/50\n",
      "1451/1451 - 8s - loss: 122.2551 - mean_squared_error: 122.2551 - val_loss: 113.5211 - val_mean_squared_error: 113.5211 - 8s/epoch - 6ms/step\n",
      "Epoch 37/50\n",
      "1451/1451 - 8s - loss: 121.7480 - mean_squared_error: 121.7480 - val_loss: 111.8874 - val_mean_squared_error: 111.8874 - 8s/epoch - 6ms/step\n",
      "Epoch 38/50\n",
      "1451/1451 - 8s - loss: 121.6008 - mean_squared_error: 121.6008 - val_loss: 110.9791 - val_mean_squared_error: 110.9791 - 8s/epoch - 6ms/step\n",
      "Epoch 39/50\n",
      "1451/1451 - 8s - loss: 121.1446 - mean_squared_error: 121.1446 - val_loss: 110.4768 - val_mean_squared_error: 110.4768 - 8s/epoch - 6ms/step\n",
      "Epoch 40/50\n",
      "1451/1451 - 8s - loss: 120.9793 - mean_squared_error: 120.9793 - val_loss: 110.3244 - val_mean_squared_error: 110.3244 - 8s/epoch - 6ms/step\n",
      "Epoch 41/50\n",
      "1451/1451 - 8s - loss: 120.2478 - mean_squared_error: 120.2478 - val_loss: 111.3859 - val_mean_squared_error: 111.3859 - 8s/epoch - 6ms/step\n",
      "Epoch 42/50\n",
      "1451/1451 - 8s - loss: 120.0984 - mean_squared_error: 120.0984 - val_loss: 112.1384 - val_mean_squared_error: 112.1384 - 8s/epoch - 6ms/step\n",
      "Epoch 43/50\n",
      "1451/1451 - 8s - loss: 119.7541 - mean_squared_error: 119.7541 - val_loss: 111.4763 - val_mean_squared_error: 111.4763 - 8s/epoch - 6ms/step\n",
      "Epoch 44/50\n",
      "1451/1451 - 8s - loss: 119.6734 - mean_squared_error: 119.6734 - val_loss: 112.8420 - val_mean_squared_error: 112.8420 - 8s/epoch - 6ms/step\n",
      "Epoch 45/50\n",
      "1451/1451 - 8s - loss: 119.3704 - mean_squared_error: 119.3704 - val_loss: 113.4681 - val_mean_squared_error: 113.4681 - 8s/epoch - 6ms/step\n",
      "Epoch 46/50\n",
      "1451/1451 - 8s - loss: 118.9801 - mean_squared_error: 118.9801 - val_loss: 113.7222 - val_mean_squared_error: 113.7222 - 8s/epoch - 6ms/step\n",
      "Epoch 47/50\n",
      "1451/1451 - 8s - loss: 118.9703 - mean_squared_error: 118.9703 - val_loss: 112.5609 - val_mean_squared_error: 112.5609 - 8s/epoch - 6ms/step\n",
      "Epoch 48/50\n",
      "1451/1451 - 8s - loss: 118.3915 - mean_squared_error: 118.3915 - val_loss: 109.3090 - val_mean_squared_error: 109.3090 - 8s/epoch - 6ms/step\n",
      "Epoch 49/50\n",
      "1451/1451 - 8s - loss: 118.3359 - mean_squared_error: 118.3359 - val_loss: 112.1044 - val_mean_squared_error: 112.1044 - 8s/epoch - 6ms/step\n",
      "Epoch 50/50\n",
      "1451/1451 - 8s - loss: 118.0810 - mean_squared_error: 118.0810 - val_loss: 112.2299 - val_mean_squared_error: 112.2299 - 8s/epoch - 6ms/step\n",
      "SCORE FOLD 2 = [116.04423553466796]\n",
      "Proccessing Fold# 3\n",
      "Epoch 1/50\n",
      "1451/1451 - 9s - loss: 375.6234 - mean_squared_error: 375.6234 - val_loss: 202.2084 - val_mean_squared_error: 202.2084 - 9s/epoch - 6ms/step\n",
      "Epoch 2/50\n",
      "1451/1451 - 8s - loss: 250.7193 - mean_squared_error: 250.7193 - val_loss: 164.6035 - val_mean_squared_error: 164.6035 - 8s/epoch - 6ms/step\n",
      "Epoch 3/50\n",
      "1451/1451 - 8s - loss: 213.7439 - mean_squared_error: 213.7439 - val_loss: 151.9465 - val_mean_squared_error: 151.9465 - 8s/epoch - 6ms/step\n",
      "Epoch 4/50\n",
      "1451/1451 - 8s - loss: 190.8911 - mean_squared_error: 190.8911 - val_loss: 140.0103 - val_mean_squared_error: 140.0103 - 8s/epoch - 6ms/step\n",
      "Epoch 5/50\n",
      "1451/1451 - 8s - loss: 173.3736 - mean_squared_error: 173.3736 - val_loss: 120.2962 - val_mean_squared_error: 120.2962 - 8s/epoch - 6ms/step\n",
      "Epoch 6/50\n",
      "1451/1451 - 8s - loss: 162.2560 - mean_squared_error: 162.2560 - val_loss: 112.6694 - val_mean_squared_error: 112.6694 - 8s/epoch - 6ms/step\n",
      "Epoch 7/50\n",
      "1451/1451 - 8s - loss: 156.1549 - mean_squared_error: 156.1549 - val_loss: 118.3253 - val_mean_squared_error: 118.3253 - 8s/epoch - 6ms/step\n",
      "Epoch 8/50\n",
      "1451/1451 - 8s - loss: 151.7621 - mean_squared_error: 151.7621 - val_loss: 113.0926 - val_mean_squared_error: 113.0926 - 8s/epoch - 6ms/step\n"
     ]
    },
    {
     "name": "stdout",
     "output_type": "stream",
     "text": [
      "Epoch 9/50\n",
      "1451/1451 - 8s - loss: 149.0495 - mean_squared_error: 149.0495 - val_loss: 115.3499 - val_mean_squared_error: 115.3499 - 8s/epoch - 6ms/step\n",
      "Epoch 10/50\n",
      "1451/1451 - 8s - loss: 146.3054 - mean_squared_error: 146.3054 - val_loss: 114.7448 - val_mean_squared_error: 114.7448 - 8s/epoch - 6ms/step\n",
      "Epoch 11/50\n",
      "1451/1451 - 8s - loss: 144.2872 - mean_squared_error: 144.2872 - val_loss: 114.1474 - val_mean_squared_error: 114.1474 - 8s/epoch - 6ms/step\n",
      "Epoch 12/50\n",
      "1451/1451 - 8s - loss: 142.3597 - mean_squared_error: 142.3597 - val_loss: 113.7727 - val_mean_squared_error: 113.7727 - 8s/epoch - 6ms/step\n",
      "Epoch 13/50\n",
      "1451/1451 - 8s - loss: 140.5183 - mean_squared_error: 140.5183 - val_loss: 110.0888 - val_mean_squared_error: 110.0888 - 8s/epoch - 6ms/step\n",
      "Epoch 14/50\n",
      "1451/1451 - 8s - loss: 139.1264 - mean_squared_error: 139.1264 - val_loss: 112.0925 - val_mean_squared_error: 112.0925 - 8s/epoch - 6ms/step\n",
      "Epoch 15/50\n",
      "1451/1451 - 8s - loss: 138.0469 - mean_squared_error: 138.0469 - val_loss: 114.0746 - val_mean_squared_error: 114.0746 - 8s/epoch - 6ms/step\n",
      "Epoch 16/50\n",
      "1451/1451 - 9s - loss: 136.4177 - mean_squared_error: 136.4177 - val_loss: 110.6674 - val_mean_squared_error: 110.6674 - 9s/epoch - 6ms/step\n",
      "Epoch 17/50\n",
      "1451/1451 - 9s - loss: 135.3637 - mean_squared_error: 135.3637 - val_loss: 112.3886 - val_mean_squared_error: 112.3886 - 9s/epoch - 6ms/step\n",
      "Epoch 18/50\n",
      "1451/1451 - 8s - loss: 133.8760 - mean_squared_error: 133.8760 - val_loss: 111.2026 - val_mean_squared_error: 111.2026 - 8s/epoch - 6ms/step\n",
      "Epoch 19/50\n",
      "1451/1451 - 8s - loss: 133.0244 - mean_squared_error: 133.0244 - val_loss: 112.2375 - val_mean_squared_error: 112.2375 - 8s/epoch - 6ms/step\n",
      "Epoch 20/50\n",
      "1451/1451 - 8s - loss: 131.8873 - mean_squared_error: 131.8873 - val_loss: 113.5486 - val_mean_squared_error: 113.5486 - 8s/epoch - 6ms/step\n",
      "Epoch 21/50\n",
      "1451/1451 - 8s - loss: 130.9713 - mean_squared_error: 130.9713 - val_loss: 108.9376 - val_mean_squared_error: 108.9376 - 8s/epoch - 6ms/step\n",
      "Epoch 22/50\n",
      "1451/1451 - 8s - loss: 129.8782 - mean_squared_error: 129.8782 - val_loss: 110.1752 - val_mean_squared_error: 110.1752 - 8s/epoch - 6ms/step\n",
      "Epoch 23/50\n",
      "1451/1451 - 8s - loss: 128.6423 - mean_squared_error: 128.6423 - val_loss: 111.2730 - val_mean_squared_error: 111.2730 - 8s/epoch - 6ms/step\n",
      "Epoch 24/50\n",
      "1451/1451 - 8s - loss: 128.2740 - mean_squared_error: 128.2740 - val_loss: 110.1478 - val_mean_squared_error: 110.1478 - 8s/epoch - 6ms/step\n",
      "Epoch 25/50\n",
      "1451/1451 - 8s - loss: 127.4489 - mean_squared_error: 127.4489 - val_loss: 112.4540 - val_mean_squared_error: 112.4540 - 8s/epoch - 6ms/step\n",
      "Epoch 26/50\n",
      "1451/1451 - 8s - loss: 126.5377 - mean_squared_error: 126.5377 - val_loss: 110.2302 - val_mean_squared_error: 110.2302 - 8s/epoch - 6ms/step\n",
      "Epoch 27/50\n",
      "1451/1451 - 8s - loss: 125.7306 - mean_squared_error: 125.7306 - val_loss: 110.8820 - val_mean_squared_error: 110.8820 - 8s/epoch - 6ms/step\n",
      "Epoch 28/50\n",
      "1451/1451 - 8s - loss: 125.2585 - mean_squared_error: 125.2585 - val_loss: 112.2398 - val_mean_squared_error: 112.2398 - 8s/epoch - 6ms/step\n",
      "Epoch 29/50\n",
      "1451/1451 - 8s - loss: 124.5774 - mean_squared_error: 124.5774 - val_loss: 107.0254 - val_mean_squared_error: 107.0254 - 8s/epoch - 6ms/step\n",
      "Epoch 30/50\n",
      "1451/1451 - 8s - loss: 123.8738 - mean_squared_error: 123.8738 - val_loss: 111.2825 - val_mean_squared_error: 111.2825 - 8s/epoch - 6ms/step\n",
      "Epoch 31/50\n",
      "1451/1451 - 8s - loss: 123.4541 - mean_squared_error: 123.4541 - val_loss: 111.4369 - val_mean_squared_error: 111.4369 - 8s/epoch - 6ms/step\n",
      "Epoch 32/50\n",
      "1451/1451 - 8s - loss: 122.5105 - mean_squared_error: 122.5105 - val_loss: 108.6334 - val_mean_squared_error: 108.6334 - 8s/epoch - 6ms/step\n",
      "Epoch 33/50\n",
      "1451/1451 - 8s - loss: 122.2827 - mean_squared_error: 122.2827 - val_loss: 111.3262 - val_mean_squared_error: 111.3262 - 8s/epoch - 6ms/step\n",
      "Epoch 34/50\n",
      "1451/1451 - 8s - loss: 121.6284 - mean_squared_error: 121.6284 - val_loss: 109.9568 - val_mean_squared_error: 109.9568 - 8s/epoch - 6ms/step\n",
      "Epoch 35/50\n",
      "1451/1451 - 8s - loss: 121.2422 - mean_squared_error: 121.2422 - val_loss: 108.5009 - val_mean_squared_error: 108.5009 - 8s/epoch - 6ms/step\n",
      "Epoch 36/50\n",
      "1451/1451 - 8s - loss: 120.6213 - mean_squared_error: 120.6213 - val_loss: 112.0920 - val_mean_squared_error: 112.0920 - 8s/epoch - 6ms/step\n",
      "Epoch 37/50\n",
      "1451/1451 - 8s - loss: 120.4397 - mean_squared_error: 120.4397 - val_loss: 111.1794 - val_mean_squared_error: 111.1794 - 8s/epoch - 6ms/step\n",
      "Epoch 38/50\n",
      "1451/1451 - 8s - loss: 119.5604 - mean_squared_error: 119.5604 - val_loss: 111.7533 - val_mean_squared_error: 111.7533 - 8s/epoch - 6ms/step\n",
      "Epoch 39/50\n",
      "1451/1451 - 8s - loss: 119.4358 - mean_squared_error: 119.4358 - val_loss: 110.8566 - val_mean_squared_error: 110.8566 - 8s/epoch - 6ms/step\n",
      "Epoch 40/50\n",
      "1451/1451 - 8s - loss: 119.0504 - mean_squared_error: 119.0504 - val_loss: 109.5805 - val_mean_squared_error: 109.5805 - 8s/epoch - 6ms/step\n",
      "Epoch 41/50\n",
      "1451/1451 - 8s - loss: 118.8008 - mean_squared_error: 118.8008 - val_loss: 109.8884 - val_mean_squared_error: 109.8884 - 8s/epoch - 6ms/step\n",
      "Epoch 42/50\n",
      "1451/1451 - 8s - loss: 118.5890 - mean_squared_error: 118.5890 - val_loss: 107.7564 - val_mean_squared_error: 107.7564 - 8s/epoch - 6ms/step\n",
      "Epoch 43/50\n",
      "1451/1451 - 8s - loss: 117.9194 - mean_squared_error: 117.9194 - val_loss: 110.5870 - val_mean_squared_error: 110.5870 - 8s/epoch - 6ms/step\n",
      "Epoch 44/50\n",
      "1451/1451 - 8s - loss: 117.8923 - mean_squared_error: 117.8923 - val_loss: 108.2763 - val_mean_squared_error: 108.2763 - 8s/epoch - 6ms/step\n",
      "Epoch 45/50\n",
      "1451/1451 - 8s - loss: 117.5280 - mean_squared_error: 117.5280 - val_loss: 108.5524 - val_mean_squared_error: 108.5524 - 8s/epoch - 6ms/step\n",
      "Epoch 46/50\n",
      "1451/1451 - 8s - loss: 117.2313 - mean_squared_error: 117.2313 - val_loss: 109.4943 - val_mean_squared_error: 109.4943 - 8s/epoch - 6ms/step\n",
      "Epoch 47/50\n",
      "1451/1451 - 8s - loss: 117.0434 - mean_squared_error: 117.0434 - val_loss: 110.1094 - val_mean_squared_error: 110.1094 - 8s/epoch - 6ms/step\n",
      "Epoch 48/50\n",
      "1451/1451 - 8s - loss: 116.9560 - mean_squared_error: 116.9560 - val_loss: 111.0834 - val_mean_squared_error: 111.0834 - 8s/epoch - 6ms/step\n",
      "Epoch 49/50\n",
      "1451/1451 - 8s - loss: 116.5749 - mean_squared_error: 116.5749 - val_loss: 109.6223 - val_mean_squared_error: 109.6223 - 8s/epoch - 6ms/step\n",
      "Epoch 50/50\n",
      "1451/1451 - 8s - loss: 116.6614 - mean_squared_error: 116.6614 - val_loss: 108.7841 - val_mean_squared_error: 108.7841 - 8s/epoch - 6ms/step\n",
      "SCORE FOLD 3 = [115.6317007446289]\n",
      "Proccessing Fold# 4\n",
      "Epoch 1/50\n",
      "1451/1451 - 9s - loss: 375.3507 - mean_squared_error: 375.3507 - val_loss: 213.5474 - val_mean_squared_error: 213.5474 - 9s/epoch - 6ms/step\n",
      "Epoch 2/50\n",
      "1451/1451 - 8s - loss: 246.3990 - mean_squared_error: 246.3990 - val_loss: 176.2171 - val_mean_squared_error: 176.2171 - 8s/epoch - 6ms/step\n",
      "Epoch 3/50\n",
      "1451/1451 - 8s - loss: 211.8836 - mean_squared_error: 211.8836 - val_loss: 146.2797 - val_mean_squared_error: 146.2797 - 8s/epoch - 6ms/step\n",
      "Epoch 4/50\n",
      "1451/1451 - 8s - loss: 183.6821 - mean_squared_error: 183.6821 - val_loss: 127.8718 - val_mean_squared_error: 127.8718 - 8s/epoch - 6ms/step\n",
      "Epoch 5/50\n",
      "1451/1451 - 9s - loss: 167.8404 - mean_squared_error: 167.8404 - val_loss: 123.2327 - val_mean_squared_error: 123.2327 - 9s/epoch - 6ms/step\n",
      "Epoch 6/50\n",
      "1451/1451 - 8s - loss: 158.6369 - mean_squared_error: 158.6369 - val_loss: 119.7368 - val_mean_squared_error: 119.7368 - 8s/epoch - 6ms/step\n",
      "Epoch 7/50\n",
      "1451/1451 - 8s - loss: 153.6160 - mean_squared_error: 153.6160 - val_loss: 116.7108 - val_mean_squared_error: 116.7108 - 8s/epoch - 6ms/step\n",
      "Epoch 8/50\n",
      "1451/1451 - 8s - loss: 149.3809 - mean_squared_error: 149.3809 - val_loss: 119.3515 - val_mean_squared_error: 119.3515 - 8s/epoch - 6ms/step\n",
      "Epoch 9/50\n",
      "1451/1451 - 8s - loss: 146.6712 - mean_squared_error: 146.6712 - val_loss: 112.4112 - val_mean_squared_error: 112.4112 - 8s/epoch - 6ms/step\n",
      "Epoch 10/50\n",
      "1451/1451 - 8s - loss: 144.1706 - mean_squared_error: 144.1706 - val_loss: 113.5309 - val_mean_squared_error: 113.5309 - 8s/epoch - 6ms/step\n",
      "Epoch 11/50\n",
      "1451/1451 - 8s - loss: 141.8962 - mean_squared_error: 141.8962 - val_loss: 112.2326 - val_mean_squared_error: 112.2326 - 8s/epoch - 6ms/step\n",
      "Epoch 12/50\n",
      "1451/1451 - 8s - loss: 139.9797 - mean_squared_error: 139.9797 - val_loss: 111.3530 - val_mean_squared_error: 111.3530 - 8s/epoch - 6ms/step\n"
     ]
    },
    {
     "name": "stdout",
     "output_type": "stream",
     "text": [
      "Epoch 13/50\n",
      "1451/1451 - 8s - loss: 138.6336 - mean_squared_error: 138.6336 - val_loss: 108.2236 - val_mean_squared_error: 108.2236 - 8s/epoch - 6ms/step\n",
      "Epoch 14/50\n",
      "1451/1451 - 8s - loss: 137.2773 - mean_squared_error: 137.2773 - val_loss: 110.6406 - val_mean_squared_error: 110.6406 - 8s/epoch - 6ms/step\n",
      "Epoch 15/50\n",
      "1451/1451 - 8s - loss: 135.9601 - mean_squared_error: 135.9601 - val_loss: 108.4015 - val_mean_squared_error: 108.4015 - 8s/epoch - 6ms/step\n",
      "Epoch 16/50\n",
      "1451/1451 - 8s - loss: 134.7859 - mean_squared_error: 134.7859 - val_loss: 109.9704 - val_mean_squared_error: 109.9704 - 8s/epoch - 6ms/step\n",
      "Epoch 17/50\n",
      "1451/1451 - 9s - loss: 133.1341 - mean_squared_error: 133.1341 - val_loss: 108.7673 - val_mean_squared_error: 108.7673 - 9s/epoch - 6ms/step\n",
      "Epoch 18/50\n",
      "1451/1451 - 8s - loss: 132.6087 - mean_squared_error: 132.6087 - val_loss: 108.7374 - val_mean_squared_error: 108.7374 - 8s/epoch - 6ms/step\n",
      "Epoch 19/50\n",
      "1451/1451 - 8s - loss: 131.3884 - mean_squared_error: 131.3884 - val_loss: 107.4605 - val_mean_squared_error: 107.4605 - 8s/epoch - 6ms/step\n",
      "Epoch 20/50\n",
      "1451/1451 - 8s - loss: 130.1504 - mean_squared_error: 130.1504 - val_loss: 107.0398 - val_mean_squared_error: 107.0398 - 8s/epoch - 6ms/step\n",
      "Epoch 21/50\n",
      "1451/1451 - 8s - loss: 129.6824 - mean_squared_error: 129.6824 - val_loss: 108.0514 - val_mean_squared_error: 108.0514 - 8s/epoch - 6ms/step\n",
      "Epoch 22/50\n",
      "1451/1451 - 8s - loss: 128.9399 - mean_squared_error: 128.9399 - val_loss: 106.4893 - val_mean_squared_error: 106.4893 - 8s/epoch - 6ms/step\n",
      "Epoch 23/50\n",
      "1451/1451 - 8s - loss: 128.0349 - mean_squared_error: 128.0349 - val_loss: 107.2368 - val_mean_squared_error: 107.2368 - 8s/epoch - 6ms/step\n",
      "Epoch 24/50\n",
      "1451/1451 - 8s - loss: 127.3262 - mean_squared_error: 127.3262 - val_loss: 105.8619 - val_mean_squared_error: 105.8619 - 8s/epoch - 6ms/step\n",
      "Epoch 25/50\n",
      "1451/1451 - 8s - loss: 126.6527 - mean_squared_error: 126.6527 - val_loss: 107.0443 - val_mean_squared_error: 107.0443 - 8s/epoch - 6ms/step\n",
      "Epoch 26/50\n",
      "1451/1451 - 8s - loss: 125.8052 - mean_squared_error: 125.8052 - val_loss: 105.9784 - val_mean_squared_error: 105.9784 - 8s/epoch - 6ms/step\n",
      "Epoch 27/50\n",
      "1451/1451 - 8s - loss: 125.1544 - mean_squared_error: 125.1544 - val_loss: 107.9162 - val_mean_squared_error: 107.9162 - 8s/epoch - 6ms/step\n",
      "Epoch 28/50\n",
      "1451/1451 - 8s - loss: 124.7852 - mean_squared_error: 124.7852 - val_loss: 108.7859 - val_mean_squared_error: 108.7859 - 8s/epoch - 6ms/step\n",
      "Epoch 29/50\n",
      "1451/1451 - 8s - loss: 123.9980 - mean_squared_error: 123.9980 - val_loss: 108.5892 - val_mean_squared_error: 108.5892 - 8s/epoch - 6ms/step\n",
      "Epoch 30/50\n",
      "1451/1451 - 8s - loss: 123.3587 - mean_squared_error: 123.3587 - val_loss: 106.2657 - val_mean_squared_error: 106.2657 - 8s/epoch - 6ms/step\n",
      "Epoch 31/50\n",
      "1451/1451 - 8s - loss: 122.8388 - mean_squared_error: 122.8388 - val_loss: 108.0277 - val_mean_squared_error: 108.0277 - 8s/epoch - 6ms/step\n",
      "Epoch 32/50\n",
      "1451/1451 - 8s - loss: 122.3252 - mean_squared_error: 122.3252 - val_loss: 106.3335 - val_mean_squared_error: 106.3335 - 8s/epoch - 6ms/step\n",
      "Epoch 33/50\n",
      "1451/1451 - 8s - loss: 121.9233 - mean_squared_error: 121.9233 - val_loss: 108.2283 - val_mean_squared_error: 108.2283 - 8s/epoch - 6ms/step\n",
      "Epoch 34/50\n",
      "1451/1451 - 8s - loss: 121.6003 - mean_squared_error: 121.6003 - val_loss: 107.7227 - val_mean_squared_error: 107.7227 - 8s/epoch - 6ms/step\n",
      "Epoch 35/50\n",
      "1451/1451 - 8s - loss: 121.3168 - mean_squared_error: 121.3168 - val_loss: 107.3984 - val_mean_squared_error: 107.3984 - 8s/epoch - 6ms/step\n",
      "Epoch 36/50\n",
      "1451/1451 - 8s - loss: 120.8345 - mean_squared_error: 120.8345 - val_loss: 108.1309 - val_mean_squared_error: 108.1309 - 8s/epoch - 6ms/step\n",
      "Epoch 37/50\n",
      "1451/1451 - 8s - loss: 120.4038 - mean_squared_error: 120.4038 - val_loss: 109.7845 - val_mean_squared_error: 109.7845 - 8s/epoch - 6ms/step\n",
      "Epoch 38/50\n",
      "1451/1451 - 8s - loss: 119.8564 - mean_squared_error: 119.8564 - val_loss: 108.4423 - val_mean_squared_error: 108.4423 - 8s/epoch - 6ms/step\n",
      "Epoch 39/50\n",
      "1451/1451 - 8s - loss: 119.6222 - mean_squared_error: 119.6222 - val_loss: 106.8610 - val_mean_squared_error: 106.8610 - 8s/epoch - 6ms/step\n",
      "Epoch 40/50\n",
      "1451/1451 - 8s - loss: 119.3042 - mean_squared_error: 119.3042 - val_loss: 108.0804 - val_mean_squared_error: 108.0804 - 8s/epoch - 6ms/step\n",
      "Epoch 41/50\n",
      "1451/1451 - 8s - loss: 118.9334 - mean_squared_error: 118.9334 - val_loss: 105.7567 - val_mean_squared_error: 105.7567 - 8s/epoch - 6ms/step\n",
      "Epoch 42/50\n",
      "1451/1451 - 8s - loss: 118.7627 - mean_squared_error: 118.7627 - val_loss: 106.5811 - val_mean_squared_error: 106.5811 - 8s/epoch - 6ms/step\n",
      "Epoch 43/50\n",
      "1451/1451 - 8s - loss: 118.6781 - mean_squared_error: 118.6781 - val_loss: 106.7676 - val_mean_squared_error: 106.7676 - 8s/epoch - 6ms/step\n",
      "Epoch 44/50\n",
      "1451/1451 - 8s - loss: 118.3015 - mean_squared_error: 118.3015 - val_loss: 107.9338 - val_mean_squared_error: 107.9338 - 8s/epoch - 6ms/step\n",
      "Epoch 45/50\n",
      "1451/1451 - 8s - loss: 117.9431 - mean_squared_error: 117.9431 - val_loss: 108.8546 - val_mean_squared_error: 108.8546 - 8s/epoch - 6ms/step\n",
      "Epoch 46/50\n",
      "1451/1451 - 8s - loss: 117.8055 - mean_squared_error: 117.8055 - val_loss: 107.4930 - val_mean_squared_error: 107.4930 - 8s/epoch - 6ms/step\n",
      "Epoch 47/50\n",
      "1451/1451 - 8s - loss: 117.6451 - mean_squared_error: 117.6451 - val_loss: 105.9859 - val_mean_squared_error: 105.9859 - 8s/epoch - 6ms/step\n",
      "Epoch 48/50\n",
      "1451/1451 - 8s - loss: 117.3447 - mean_squared_error: 117.3447 - val_loss: 107.6309 - val_mean_squared_error: 107.6309 - 8s/epoch - 6ms/step\n",
      "Epoch 49/50\n",
      "1451/1451 - 9s - loss: 117.2483 - mean_squared_error: 117.2483 - val_loss: 109.5047 - val_mean_squared_error: 109.5047 - 9s/epoch - 6ms/step\n",
      "Epoch 50/50\n",
      "1451/1451 - 9s - loss: 116.9958 - mean_squared_error: 116.9958 - val_loss: 107.8834 - val_mean_squared_error: 107.8834 - 9s/epoch - 6ms/step\n",
      "SCORE FOLD 4 = [113.74673385620117]\n",
      "Proccessing Fold# 5\n",
      "Epoch 1/50\n",
      "1451/1451 - 9s - loss: 386.2488 - mean_squared_error: 386.2488 - val_loss: 208.6145 - val_mean_squared_error: 208.6145 - 9s/epoch - 6ms/step\n",
      "Epoch 2/50\n",
      "1451/1451 - 8s - loss: 260.9526 - mean_squared_error: 260.9526 - val_loss: 171.4435 - val_mean_squared_error: 171.4435 - 8s/epoch - 6ms/step\n",
      "Epoch 3/50\n",
      "1451/1451 - 8s - loss: 222.4400 - mean_squared_error: 222.4400 - val_loss: 145.3765 - val_mean_squared_error: 145.3765 - 8s/epoch - 6ms/step\n",
      "Epoch 4/50\n",
      "1451/1451 - 8s - loss: 196.6622 - mean_squared_error: 196.6622 - val_loss: 131.6145 - val_mean_squared_error: 131.6145 - 8s/epoch - 6ms/step\n",
      "Epoch 5/50\n",
      "1451/1451 - 8s - loss: 183.4384 - mean_squared_error: 183.4384 - val_loss: 128.5409 - val_mean_squared_error: 128.5409 - 8s/epoch - 6ms/step\n",
      "Epoch 6/50\n",
      "1451/1451 - 8s - loss: 173.7386 - mean_squared_error: 173.7386 - val_loss: 117.4834 - val_mean_squared_error: 117.4834 - 8s/epoch - 6ms/step\n",
      "Epoch 7/50\n",
      "1451/1451 - 8s - loss: 165.8280 - mean_squared_error: 165.8280 - val_loss: 118.1504 - val_mean_squared_error: 118.1504 - 8s/epoch - 6ms/step\n",
      "Epoch 8/50\n",
      "1451/1451 - 8s - loss: 160.4260 - mean_squared_error: 160.4260 - val_loss: 117.1463 - val_mean_squared_error: 117.1463 - 8s/epoch - 6ms/step\n",
      "Epoch 9/50\n",
      "1451/1451 - 8s - loss: 157.0328 - mean_squared_error: 157.0328 - val_loss: 111.0711 - val_mean_squared_error: 111.0711 - 8s/epoch - 6ms/step\n",
      "Epoch 10/50\n",
      "1451/1451 - 8s - loss: 153.8794 - mean_squared_error: 153.8794 - val_loss: 111.8762 - val_mean_squared_error: 111.8762 - 8s/epoch - 6ms/step\n",
      "Epoch 11/50\n",
      "1451/1451 - 8s - loss: 150.6660 - mean_squared_error: 150.6660 - val_loss: 113.2302 - val_mean_squared_error: 113.2302 - 8s/epoch - 6ms/step\n",
      "Epoch 12/50\n",
      "1451/1451 - 8s - loss: 148.7327 - mean_squared_error: 148.7327 - val_loss: 109.8605 - val_mean_squared_error: 109.8605 - 8s/epoch - 6ms/step\n",
      "Epoch 13/50\n",
      "1451/1451 - 8s - loss: 146.4470 - mean_squared_error: 146.4470 - val_loss: 110.9564 - val_mean_squared_error: 110.9564 - 8s/epoch - 6ms/step\n",
      "Epoch 14/50\n",
      "1451/1451 - 8s - loss: 144.9200 - mean_squared_error: 144.9200 - val_loss: 111.6473 - val_mean_squared_error: 111.6473 - 8s/epoch - 6ms/step\n",
      "Epoch 15/50\n",
      "1451/1451 - 8s - loss: 143.0667 - mean_squared_error: 143.0667 - val_loss: 112.8603 - val_mean_squared_error: 112.8603 - 8s/epoch - 6ms/step\n",
      "Epoch 16/50\n",
      "1451/1451 - 8s - loss: 141.0717 - mean_squared_error: 141.0717 - val_loss: 111.0575 - val_mean_squared_error: 111.0575 - 8s/epoch - 6ms/step\n"
     ]
    },
    {
     "name": "stdout",
     "output_type": "stream",
     "text": [
      "Epoch 17/50\n",
      "1451/1451 - 8s - loss: 139.2487 - mean_squared_error: 139.2487 - val_loss: 109.5550 - val_mean_squared_error: 109.5550 - 8s/epoch - 6ms/step\n",
      "Epoch 18/50\n",
      "1451/1451 - 8s - loss: 137.9786 - mean_squared_error: 137.9786 - val_loss: 108.7303 - val_mean_squared_error: 108.7303 - 8s/epoch - 6ms/step\n",
      "Epoch 19/50\n",
      "1451/1451 - 8s - loss: 136.3570 - mean_squared_error: 136.3570 - val_loss: 105.8314 - val_mean_squared_error: 105.8314 - 8s/epoch - 6ms/step\n",
      "Epoch 20/50\n",
      "1451/1451 - 8s - loss: 134.6464 - mean_squared_error: 134.6464 - val_loss: 107.8802 - val_mean_squared_error: 107.8802 - 8s/epoch - 6ms/step\n",
      "Epoch 21/50\n",
      "1451/1451 - 8s - loss: 133.7519 - mean_squared_error: 133.7519 - val_loss: 106.1457 - val_mean_squared_error: 106.1457 - 8s/epoch - 6ms/step\n",
      "Epoch 22/50\n",
      "1451/1451 - 8s - loss: 132.6151 - mean_squared_error: 132.6151 - val_loss: 107.3049 - val_mean_squared_error: 107.3049 - 8s/epoch - 6ms/step\n",
      "Epoch 23/50\n",
      "1451/1451 - 8s - loss: 131.4152 - mean_squared_error: 131.4152 - val_loss: 110.4403 - val_mean_squared_error: 110.4403 - 8s/epoch - 6ms/step\n",
      "Epoch 24/50\n",
      "1451/1451 - 8s - loss: 130.1553 - mean_squared_error: 130.1553 - val_loss: 104.6967 - val_mean_squared_error: 104.6967 - 8s/epoch - 6ms/step\n",
      "Epoch 25/50\n",
      "1451/1451 - 8s - loss: 129.0369 - mean_squared_error: 129.0369 - val_loss: 105.1486 - val_mean_squared_error: 105.1486 - 8s/epoch - 6ms/step\n",
      "Epoch 26/50\n",
      "1451/1451 - 8s - loss: 127.9360 - mean_squared_error: 127.9360 - val_loss: 108.0402 - val_mean_squared_error: 108.0402 - 8s/epoch - 6ms/step\n",
      "Epoch 27/50\n",
      "1451/1451 - 8s - loss: 126.9942 - mean_squared_error: 126.9942 - val_loss: 107.5511 - val_mean_squared_error: 107.5511 - 8s/epoch - 6ms/step\n",
      "Epoch 28/50\n",
      "1451/1451 - 9s - loss: 126.3326 - mean_squared_error: 126.3326 - val_loss: 106.1806 - val_mean_squared_error: 106.1806 - 9s/epoch - 6ms/step\n",
      "Epoch 29/50\n",
      "1451/1451 - 8s - loss: 125.5381 - mean_squared_error: 125.5381 - val_loss: 108.0676 - val_mean_squared_error: 108.0676 - 8s/epoch - 6ms/step\n",
      "Epoch 30/50\n",
      "1451/1451 - 8s - loss: 124.6454 - mean_squared_error: 124.6454 - val_loss: 107.4651 - val_mean_squared_error: 107.4651 - 8s/epoch - 6ms/step\n",
      "Epoch 31/50\n",
      "1451/1451 - 8s - loss: 123.8869 - mean_squared_error: 123.8869 - val_loss: 107.5051 - val_mean_squared_error: 107.5051 - 8s/epoch - 6ms/step\n",
      "Epoch 32/50\n",
      "1451/1451 - 8s - loss: 123.2508 - mean_squared_error: 123.2508 - val_loss: 107.0848 - val_mean_squared_error: 107.0848 - 8s/epoch - 6ms/step\n",
      "Epoch 33/50\n",
      "1451/1451 - 8s - loss: 122.5645 - mean_squared_error: 122.5645 - val_loss: 109.4143 - val_mean_squared_error: 109.4143 - 8s/epoch - 6ms/step\n",
      "Epoch 34/50\n",
      "1451/1451 - 8s - loss: 121.5623 - mean_squared_error: 121.5623 - val_loss: 107.4268 - val_mean_squared_error: 107.4268 - 8s/epoch - 6ms/step\n",
      "Epoch 35/50\n",
      "1451/1451 - 8s - loss: 121.3518 - mean_squared_error: 121.3518 - val_loss: 107.5203 - val_mean_squared_error: 107.5203 - 8s/epoch - 6ms/step\n",
      "Epoch 36/50\n",
      "1451/1451 - 8s - loss: 120.9806 - mean_squared_error: 120.9806 - val_loss: 105.2760 - val_mean_squared_error: 105.2760 - 8s/epoch - 6ms/step\n",
      "Epoch 37/50\n",
      "1451/1451 - 8s - loss: 120.4166 - mean_squared_error: 120.4166 - val_loss: 109.1010 - val_mean_squared_error: 109.1010 - 8s/epoch - 6ms/step\n",
      "Epoch 38/50\n",
      "1451/1451 - 8s - loss: 119.8317 - mean_squared_error: 119.8317 - val_loss: 108.5103 - val_mean_squared_error: 108.5103 - 8s/epoch - 6ms/step\n",
      "Epoch 39/50\n",
      "1451/1451 - 8s - loss: 119.6138 - mean_squared_error: 119.6138 - val_loss: 106.3494 - val_mean_squared_error: 106.3494 - 8s/epoch - 6ms/step\n",
      "Epoch 40/50\n",
      "1451/1451 - 8s - loss: 119.0571 - mean_squared_error: 119.0571 - val_loss: 108.6431 - val_mean_squared_error: 108.6431 - 8s/epoch - 6ms/step\n",
      "Epoch 41/50\n",
      "1451/1451 - 8s - loss: 118.6224 - mean_squared_error: 118.6224 - val_loss: 108.4781 - val_mean_squared_error: 108.4781 - 8s/epoch - 6ms/step\n",
      "Epoch 42/50\n",
      "1451/1451 - 8s - loss: 118.2689 - mean_squared_error: 118.2689 - val_loss: 107.4320 - val_mean_squared_error: 107.4320 - 8s/epoch - 6ms/step\n",
      "Epoch 43/50\n",
      "1451/1451 - 8s - loss: 117.9301 - mean_squared_error: 117.9301 - val_loss: 109.3144 - val_mean_squared_error: 109.3144 - 8s/epoch - 6ms/step\n",
      "Epoch 44/50\n",
      "1451/1451 - 8s - loss: 117.8102 - mean_squared_error: 117.8102 - val_loss: 106.3083 - val_mean_squared_error: 106.3083 - 8s/epoch - 6ms/step\n",
      "Epoch 45/50\n",
      "1451/1451 - 8s - loss: 117.6036 - mean_squared_error: 117.6036 - val_loss: 107.1290 - val_mean_squared_error: 107.1290 - 8s/epoch - 6ms/step\n",
      "Epoch 46/50\n",
      "1451/1451 - 8s - loss: 117.1815 - mean_squared_error: 117.1815 - val_loss: 108.1053 - val_mean_squared_error: 108.1053 - 8s/epoch - 6ms/step\n",
      "Epoch 47/50\n",
      "1451/1451 - 8s - loss: 117.0869 - mean_squared_error: 117.0869 - val_loss: 108.0653 - val_mean_squared_error: 108.0653 - 8s/epoch - 6ms/step\n",
      "Epoch 48/50\n",
      "1451/1451 - 8s - loss: 116.8423 - mean_squared_error: 116.8423 - val_loss: 108.9461 - val_mean_squared_error: 108.9461 - 8s/epoch - 6ms/step\n",
      "Epoch 49/50\n",
      "1451/1451 - 8s - loss: 116.6396 - mean_squared_error: 116.6396 - val_loss: 108.3904 - val_mean_squared_error: 108.3904 - 8s/epoch - 6ms/step\n",
      "Epoch 50/50\n",
      "1451/1451 - 8s - loss: 116.2535 - mean_squared_error: 116.2535 - val_loss: 108.4309 - val_mean_squared_error: 108.4309 - 8s/epoch - 6ms/step\n",
      "SCORE FOLD 5 = [113.82795791625976]\n",
      "Proccessing Fold# 6\n",
      "Epoch 1/50\n",
      "1451/1451 - 9s - loss: 382.6616 - mean_squared_error: 382.6616 - val_loss: 200.4088 - val_mean_squared_error: 200.4088 - 9s/epoch - 6ms/step\n",
      "Epoch 2/50\n",
      "1451/1451 - 8s - loss: 247.2844 - mean_squared_error: 247.2844 - val_loss: 165.8284 - val_mean_squared_error: 165.8284 - 8s/epoch - 6ms/step\n",
      "Epoch 3/50\n",
      "1451/1451 - 8s - loss: 211.3885 - mean_squared_error: 211.3885 - val_loss: 143.7676 - val_mean_squared_error: 143.7676 - 8s/epoch - 6ms/step\n",
      "Epoch 4/50\n",
      "1451/1451 - 9s - loss: 192.2003 - mean_squared_error: 192.2003 - val_loss: 130.1150 - val_mean_squared_error: 130.1150 - 9s/epoch - 6ms/step\n",
      "Epoch 5/50\n",
      "1451/1451 - 8s - loss: 178.2907 - mean_squared_error: 178.2907 - val_loss: 122.1902 - val_mean_squared_error: 122.1902 - 8s/epoch - 6ms/step\n",
      "Epoch 6/50\n",
      "1451/1451 - 8s - loss: 168.6841 - mean_squared_error: 168.6841 - val_loss: 121.7937 - val_mean_squared_error: 121.7937 - 8s/epoch - 6ms/step\n",
      "Epoch 7/50\n",
      "1451/1451 - 8s - loss: 162.0537 - mean_squared_error: 162.0537 - val_loss: 116.1007 - val_mean_squared_error: 116.1007 - 8s/epoch - 6ms/step\n",
      "Epoch 8/50\n",
      "1451/1451 - 8s - loss: 156.8299 - mean_squared_error: 156.8299 - val_loss: 112.2080 - val_mean_squared_error: 112.2080 - 8s/epoch - 6ms/step\n",
      "Epoch 9/50\n",
      "1451/1451 - 8s - loss: 152.9759 - mean_squared_error: 152.9759 - val_loss: 112.9314 - val_mean_squared_error: 112.9314 - 8s/epoch - 6ms/step\n",
      "Epoch 10/50\n",
      "1451/1451 - 8s - loss: 150.1357 - mean_squared_error: 150.1357 - val_loss: 110.0451 - val_mean_squared_error: 110.0451 - 8s/epoch - 6ms/step\n",
      "Epoch 11/50\n",
      "1451/1451 - 8s - loss: 147.7628 - mean_squared_error: 147.7628 - val_loss: 110.5030 - val_mean_squared_error: 110.5030 - 8s/epoch - 6ms/step\n",
      "Epoch 12/50\n",
      "1451/1451 - 8s - loss: 145.4550 - mean_squared_error: 145.4550 - val_loss: 108.1087 - val_mean_squared_error: 108.1087 - 8s/epoch - 6ms/step\n",
      "Epoch 13/50\n",
      "1451/1451 - 8s - loss: 143.6025 - mean_squared_error: 143.6025 - val_loss: 108.1809 - val_mean_squared_error: 108.1809 - 8s/epoch - 6ms/step\n",
      "Epoch 14/50\n",
      "1451/1451 - 8s - loss: 141.7600 - mean_squared_error: 141.7600 - val_loss: 107.9160 - val_mean_squared_error: 107.9160 - 8s/epoch - 6ms/step\n",
      "Epoch 15/50\n",
      "1451/1451 - 8s - loss: 140.2926 - mean_squared_error: 140.2926 - val_loss: 109.6219 - val_mean_squared_error: 109.6219 - 8s/epoch - 6ms/step\n",
      "Epoch 16/50\n",
      "1451/1451 - 8s - loss: 138.6453 - mean_squared_error: 138.6453 - val_loss: 109.0147 - val_mean_squared_error: 109.0147 - 8s/epoch - 6ms/step\n",
      "Epoch 17/50\n",
      "1451/1451 - 8s - loss: 137.1074 - mean_squared_error: 137.1074 - val_loss: 107.1517 - val_mean_squared_error: 107.1517 - 8s/epoch - 6ms/step\n",
      "Epoch 18/50\n",
      "1451/1451 - 8s - loss: 136.1323 - mean_squared_error: 136.1323 - val_loss: 108.7275 - val_mean_squared_error: 108.7275 - 8s/epoch - 6ms/step\n",
      "Epoch 19/50\n",
      "1451/1451 - 8s - loss: 134.5903 - mean_squared_error: 134.5903 - val_loss: 108.0199 - val_mean_squared_error: 108.0199 - 8s/epoch - 6ms/step\n",
      "Epoch 20/50\n",
      "1451/1451 - 8s - loss: 133.3557 - mean_squared_error: 133.3557 - val_loss: 107.1135 - val_mean_squared_error: 107.1135 - 8s/epoch - 6ms/step\n"
     ]
    },
    {
     "name": "stdout",
     "output_type": "stream",
     "text": [
      "Epoch 21/50\n",
      "1451/1451 - 8s - loss: 132.2643 - mean_squared_error: 132.2643 - val_loss: 108.6983 - val_mean_squared_error: 108.6983 - 8s/epoch - 6ms/step\n",
      "Epoch 22/50\n",
      "1451/1451 - 8s - loss: 131.2049 - mean_squared_error: 131.2049 - val_loss: 108.0593 - val_mean_squared_error: 108.0593 - 8s/epoch - 6ms/step\n",
      "Epoch 23/50\n",
      "1451/1451 - 8s - loss: 129.9997 - mean_squared_error: 129.9997 - val_loss: 105.3998 - val_mean_squared_error: 105.3998 - 8s/epoch - 6ms/step\n",
      "Epoch 24/50\n",
      "1451/1451 - 8s - loss: 129.3356 - mean_squared_error: 129.3356 - val_loss: 106.8662 - val_mean_squared_error: 106.8662 - 8s/epoch - 6ms/step\n",
      "Epoch 25/50\n",
      "1451/1451 - 8s - loss: 128.1872 - mean_squared_error: 128.1872 - val_loss: 105.0819 - val_mean_squared_error: 105.0819 - 8s/epoch - 6ms/step\n",
      "Epoch 26/50\n",
      "1451/1451 - 8s - loss: 127.3727 - mean_squared_error: 127.3727 - val_loss: 105.3224 - val_mean_squared_error: 105.3224 - 8s/epoch - 6ms/step\n",
      "Epoch 27/50\n",
      "1451/1451 - 8s - loss: 126.6953 - mean_squared_error: 126.6953 - val_loss: 104.5955 - val_mean_squared_error: 104.5955 - 8s/epoch - 6ms/step\n",
      "Epoch 28/50\n",
      "1451/1451 - 8s - loss: 125.9855 - mean_squared_error: 125.9855 - val_loss: 107.1137 - val_mean_squared_error: 107.1137 - 8s/epoch - 6ms/step\n",
      "Epoch 29/50\n",
      "1451/1451 - 8s - loss: 125.1868 - mean_squared_error: 125.1868 - val_loss: 104.7468 - val_mean_squared_error: 104.7468 - 8s/epoch - 6ms/step\n",
      "Epoch 30/50\n",
      "1451/1451 - 8s - loss: 124.3244 - mean_squared_error: 124.3244 - val_loss: 107.4279 - val_mean_squared_error: 107.4279 - 8s/epoch - 6ms/step\n",
      "Epoch 31/50\n",
      "1451/1451 - 8s - loss: 123.5971 - mean_squared_error: 123.5971 - val_loss: 107.5560 - val_mean_squared_error: 107.5560 - 8s/epoch - 6ms/step\n",
      "Epoch 32/50\n",
      "1451/1451 - 8s - loss: 123.0434 - mean_squared_error: 123.0434 - val_loss: 106.5491 - val_mean_squared_error: 106.5491 - 8s/epoch - 6ms/step\n",
      "Epoch 33/50\n",
      "1451/1451 - 8s - loss: 122.6739 - mean_squared_error: 122.6739 - val_loss: 107.3204 - val_mean_squared_error: 107.3204 - 8s/epoch - 6ms/step\n",
      "Epoch 34/50\n",
      "1451/1451 - 8s - loss: 121.8840 - mean_squared_error: 121.8840 - val_loss: 108.5988 - val_mean_squared_error: 108.5988 - 8s/epoch - 6ms/step\n",
      "Epoch 35/50\n",
      "1451/1451 - 8s - loss: 121.2927 - mean_squared_error: 121.2927 - val_loss: 107.3372 - val_mean_squared_error: 107.3372 - 8s/epoch - 6ms/step\n",
      "Epoch 36/50\n",
      "1451/1451 - 8s - loss: 121.0768 - mean_squared_error: 121.0768 - val_loss: 107.2145 - val_mean_squared_error: 107.2145 - 8s/epoch - 6ms/step\n",
      "Epoch 37/50\n",
      "1451/1451 - 8s - loss: 120.5188 - mean_squared_error: 120.5188 - val_loss: 105.1895 - val_mean_squared_error: 105.1895 - 8s/epoch - 6ms/step\n",
      "Epoch 38/50\n",
      "1451/1451 - 8s - loss: 120.0685 - mean_squared_error: 120.0685 - val_loss: 107.7200 - val_mean_squared_error: 107.7200 - 8s/epoch - 6ms/step\n",
      "Epoch 39/50\n",
      "1451/1451 - 8s - loss: 119.6904 - mean_squared_error: 119.6904 - val_loss: 106.3321 - val_mean_squared_error: 106.3321 - 8s/epoch - 6ms/step\n",
      "Epoch 40/50\n",
      "1451/1451 - 8s - loss: 119.2427 - mean_squared_error: 119.2427 - val_loss: 109.1169 - val_mean_squared_error: 109.1169 - 8s/epoch - 6ms/step\n",
      "Epoch 41/50\n",
      "1451/1451 - 8s - loss: 118.9889 - mean_squared_error: 118.9889 - val_loss: 106.3729 - val_mean_squared_error: 106.3729 - 8s/epoch - 6ms/step\n",
      "Epoch 42/50\n",
      "1451/1451 - 8s - loss: 118.6374 - mean_squared_error: 118.6374 - val_loss: 105.9153 - val_mean_squared_error: 105.9153 - 8s/epoch - 6ms/step\n",
      "Epoch 43/50\n",
      "1451/1451 - 8s - loss: 118.3326 - mean_squared_error: 118.3326 - val_loss: 107.3961 - val_mean_squared_error: 107.3961 - 8s/epoch - 6ms/step\n",
      "Epoch 44/50\n",
      "1451/1451 - 8s - loss: 118.1274 - mean_squared_error: 118.1274 - val_loss: 106.0570 - val_mean_squared_error: 106.0570 - 8s/epoch - 6ms/step\n",
      "Epoch 45/50\n",
      "1451/1451 - 8s - loss: 117.7053 - mean_squared_error: 117.7053 - val_loss: 109.1025 - val_mean_squared_error: 109.1025 - 8s/epoch - 6ms/step\n",
      "Epoch 46/50\n",
      "1451/1451 - 8s - loss: 117.2877 - mean_squared_error: 117.2877 - val_loss: 105.9958 - val_mean_squared_error: 105.9958 - 8s/epoch - 6ms/step\n",
      "Epoch 47/50\n",
      "1451/1451 - 8s - loss: 117.1868 - mean_squared_error: 117.1868 - val_loss: 107.8746 - val_mean_squared_error: 107.8746 - 8s/epoch - 6ms/step\n",
      "Epoch 48/50\n",
      "1451/1451 - 8s - loss: 116.9996 - mean_squared_error: 116.9996 - val_loss: 105.2546 - val_mean_squared_error: 105.2546 - 8s/epoch - 6ms/step\n",
      "Epoch 49/50\n",
      "1451/1451 - 8s - loss: 116.8011 - mean_squared_error: 116.8011 - val_loss: 106.5303 - val_mean_squared_error: 106.5303 - 8s/epoch - 6ms/step\n",
      "Epoch 50/50\n",
      "1451/1451 - 8s - loss: 116.5078 - mean_squared_error: 116.5078 - val_loss: 106.7153 - val_mean_squared_error: 106.7153 - 8s/epoch - 6ms/step\n",
      "SCORE FOLD 6 = [112.46415390014648]\n",
      "Proccessing Fold# 7\n",
      "Epoch 1/50\n",
      "1451/1451 - 9s - loss: 377.0637 - mean_squared_error: 377.0637 - val_loss: 205.7979 - val_mean_squared_error: 205.7979 - 9s/epoch - 6ms/step\n",
      "Epoch 2/50\n",
      "1451/1451 - 8s - loss: 249.5680 - mean_squared_error: 249.5680 - val_loss: 167.9128 - val_mean_squared_error: 167.9128 - 8s/epoch - 6ms/step\n",
      "Epoch 3/50\n",
      "1451/1451 - 8s - loss: 213.0764 - mean_squared_error: 213.0764 - val_loss: 140.3741 - val_mean_squared_error: 140.3741 - 8s/epoch - 6ms/step\n",
      "Epoch 4/50\n",
      "1451/1451 - 8s - loss: 189.9481 - mean_squared_error: 189.9481 - val_loss: 125.8386 - val_mean_squared_error: 125.8386 - 8s/epoch - 6ms/step\n",
      "Epoch 5/50\n",
      "1451/1451 - 8s - loss: 174.0435 - mean_squared_error: 174.0435 - val_loss: 123.6434 - val_mean_squared_error: 123.6434 - 8s/epoch - 6ms/step\n",
      "Epoch 6/50\n",
      "1451/1451 - 8s - loss: 162.7523 - mean_squared_error: 162.7523 - val_loss: 112.5370 - val_mean_squared_error: 112.5370 - 8s/epoch - 6ms/step\n",
      "Epoch 7/50\n",
      "1451/1451 - 8s - loss: 155.9830 - mean_squared_error: 155.9830 - val_loss: 111.5591 - val_mean_squared_error: 111.5591 - 8s/epoch - 6ms/step\n",
      "Epoch 8/50\n",
      "1451/1451 - 8s - loss: 152.1897 - mean_squared_error: 152.1897 - val_loss: 109.9774 - val_mean_squared_error: 109.9774 - 8s/epoch - 6ms/step\n",
      "Epoch 9/50\n",
      "1451/1451 - 8s - loss: 148.4284 - mean_squared_error: 148.4284 - val_loss: 111.2548 - val_mean_squared_error: 111.2548 - 8s/epoch - 6ms/step\n",
      "Epoch 10/50\n",
      "1451/1451 - 8s - loss: 145.8672 - mean_squared_error: 145.8672 - val_loss: 110.9773 - val_mean_squared_error: 110.9773 - 8s/epoch - 6ms/step\n",
      "Epoch 11/50\n",
      "1451/1451 - 8s - loss: 143.5329 - mean_squared_error: 143.5329 - val_loss: 108.1606 - val_mean_squared_error: 108.1606 - 8s/epoch - 6ms/step\n",
      "Epoch 12/50\n",
      "1451/1451 - 8s - loss: 141.5726 - mean_squared_error: 141.5726 - val_loss: 108.1589 - val_mean_squared_error: 108.1589 - 8s/epoch - 6ms/step\n",
      "Epoch 13/50\n",
      "1451/1451 - 8s - loss: 140.0172 - mean_squared_error: 140.0172 - val_loss: 109.0585 - val_mean_squared_error: 109.0585 - 8s/epoch - 6ms/step\n",
      "Epoch 14/50\n",
      "1451/1451 - 8s - loss: 138.7033 - mean_squared_error: 138.7033 - val_loss: 109.3251 - val_mean_squared_error: 109.3251 - 8s/epoch - 6ms/step\n",
      "Epoch 15/50\n",
      "1451/1451 - 8s - loss: 137.4695 - mean_squared_error: 137.4695 - val_loss: 109.4949 - val_mean_squared_error: 109.4949 - 8s/epoch - 6ms/step\n",
      "Epoch 16/50\n",
      "1451/1451 - 8s - loss: 136.0277 - mean_squared_error: 136.0277 - val_loss: 107.5288 - val_mean_squared_error: 107.5288 - 8s/epoch - 6ms/step\n",
      "Epoch 17/50\n",
      "1451/1451 - 8s - loss: 134.6878 - mean_squared_error: 134.6878 - val_loss: 107.2278 - val_mean_squared_error: 107.2278 - 8s/epoch - 6ms/step\n",
      "Epoch 18/50\n",
      "1451/1451 - 8s - loss: 133.6564 - mean_squared_error: 133.6564 - val_loss: 107.7798 - val_mean_squared_error: 107.7798 - 8s/epoch - 6ms/step\n",
      "Epoch 19/50\n",
      "1451/1451 - 8s - loss: 132.1152 - mean_squared_error: 132.1152 - val_loss: 107.7939 - val_mean_squared_error: 107.7939 - 8s/epoch - 6ms/step\n",
      "Epoch 20/50\n",
      "1451/1451 - 8s - loss: 131.4409 - mean_squared_error: 131.4409 - val_loss: 108.7277 - val_mean_squared_error: 108.7277 - 8s/epoch - 6ms/step\n",
      "Epoch 21/50\n",
      "1451/1451 - 8s - loss: 130.2254 - mean_squared_error: 130.2254 - val_loss: 107.3723 - val_mean_squared_error: 107.3723 - 8s/epoch - 6ms/step\n",
      "Epoch 22/50\n",
      "1451/1451 - 8s - loss: 129.2888 - mean_squared_error: 129.2888 - val_loss: 109.6566 - val_mean_squared_error: 109.6566 - 8s/epoch - 6ms/step\n",
      "Epoch 23/50\n",
      "1451/1451 - 8s - loss: 128.3463 - mean_squared_error: 128.3463 - val_loss: 109.3251 - val_mean_squared_error: 109.3251 - 8s/epoch - 6ms/step\n",
      "Epoch 24/50\n",
      "1451/1451 - 8s - loss: 127.4568 - mean_squared_error: 127.4568 - val_loss: 108.3258 - val_mean_squared_error: 108.3258 - 8s/epoch - 6ms/step\n"
     ]
    },
    {
     "name": "stdout",
     "output_type": "stream",
     "text": [
      "Epoch 25/50\n",
      "1451/1451 - 8s - loss: 126.8024 - mean_squared_error: 126.8024 - val_loss: 108.5569 - val_mean_squared_error: 108.5569 - 8s/epoch - 6ms/step\n",
      "Epoch 26/50\n",
      "1451/1451 - 8s - loss: 125.8696 - mean_squared_error: 125.8696 - val_loss: 107.0905 - val_mean_squared_error: 107.0905 - 8s/epoch - 6ms/step\n",
      "Epoch 27/50\n",
      "1451/1451 - 8s - loss: 125.3719 - mean_squared_error: 125.3719 - val_loss: 107.2016 - val_mean_squared_error: 107.2016 - 8s/epoch - 6ms/step\n",
      "Epoch 28/50\n",
      "1451/1451 - 8s - loss: 124.7513 - mean_squared_error: 124.7513 - val_loss: 105.8948 - val_mean_squared_error: 105.8948 - 8s/epoch - 6ms/step\n",
      "Epoch 29/50\n",
      "1451/1451 - 8s - loss: 123.8493 - mean_squared_error: 123.8493 - val_loss: 110.8443 - val_mean_squared_error: 110.8443 - 8s/epoch - 6ms/step\n",
      "Epoch 30/50\n",
      "1451/1451 - 8s - loss: 123.6518 - mean_squared_error: 123.6518 - val_loss: 107.7842 - val_mean_squared_error: 107.7842 - 8s/epoch - 6ms/step\n",
      "Epoch 31/50\n",
      "1451/1451 - 8s - loss: 122.8562 - mean_squared_error: 122.8562 - val_loss: 107.7428 - val_mean_squared_error: 107.7428 - 8s/epoch - 6ms/step\n",
      "Epoch 32/50\n",
      "1451/1451 - 8s - loss: 122.2603 - mean_squared_error: 122.2603 - val_loss: 107.1446 - val_mean_squared_error: 107.1446 - 8s/epoch - 6ms/step\n",
      "Epoch 33/50\n",
      "1451/1451 - 8s - loss: 121.9195 - mean_squared_error: 121.9195 - val_loss: 106.8711 - val_mean_squared_error: 106.8711 - 8s/epoch - 6ms/step\n",
      "Epoch 34/50\n",
      "1451/1451 - 8s - loss: 121.5011 - mean_squared_error: 121.5011 - val_loss: 107.8411 - val_mean_squared_error: 107.8411 - 8s/epoch - 6ms/step\n",
      "Epoch 35/50\n",
      "1451/1451 - 8s - loss: 120.8354 - mean_squared_error: 120.8354 - val_loss: 106.9104 - val_mean_squared_error: 106.9104 - 8s/epoch - 6ms/step\n",
      "Epoch 36/50\n",
      "1451/1451 - 8s - loss: 120.3202 - mean_squared_error: 120.3202 - val_loss: 107.1570 - val_mean_squared_error: 107.1570 - 8s/epoch - 6ms/step\n",
      "Epoch 37/50\n",
      "1451/1451 - 8s - loss: 119.9498 - mean_squared_error: 119.9498 - val_loss: 109.9818 - val_mean_squared_error: 109.9818 - 8s/epoch - 6ms/step\n",
      "Epoch 38/50\n",
      "1451/1451 - 8s - loss: 119.8154 - mean_squared_error: 119.8154 - val_loss: 107.1855 - val_mean_squared_error: 107.1855 - 8s/epoch - 6ms/step\n",
      "Epoch 39/50\n",
      "1451/1451 - 8s - loss: 119.5346 - mean_squared_error: 119.5346 - val_loss: 108.5754 - val_mean_squared_error: 108.5754 - 8s/epoch - 6ms/step\n",
      "Epoch 40/50\n",
      "1451/1451 - 8s - loss: 118.8200 - mean_squared_error: 118.8200 - val_loss: 107.8277 - val_mean_squared_error: 107.8277 - 8s/epoch - 6ms/step\n",
      "Epoch 41/50\n",
      "1451/1451 - 8s - loss: 118.6463 - mean_squared_error: 118.6463 - val_loss: 107.1060 - val_mean_squared_error: 107.1060 - 8s/epoch - 6ms/step\n",
      "Epoch 42/50\n",
      "1451/1451 - 8s - loss: 118.2812 - mean_squared_error: 118.2812 - val_loss: 108.8957 - val_mean_squared_error: 108.8957 - 8s/epoch - 6ms/step\n",
      "Epoch 43/50\n",
      "1451/1451 - 8s - loss: 118.0935 - mean_squared_error: 118.0935 - val_loss: 107.8708 - val_mean_squared_error: 107.8708 - 8s/epoch - 6ms/step\n",
      "Epoch 44/50\n",
      "1451/1451 - 8s - loss: 117.8990 - mean_squared_error: 117.8990 - val_loss: 109.8656 - val_mean_squared_error: 109.8656 - 8s/epoch - 6ms/step\n",
      "Epoch 45/50\n",
      "1451/1451 - 8s - loss: 117.5131 - mean_squared_error: 117.5131 - val_loss: 107.1987 - val_mean_squared_error: 107.1987 - 8s/epoch - 6ms/step\n",
      "Epoch 46/50\n",
      "1451/1451 - 8s - loss: 117.3895 - mean_squared_error: 117.3895 - val_loss: 107.1561 - val_mean_squared_error: 107.1561 - 8s/epoch - 6ms/step\n",
      "Epoch 47/50\n",
      "1451/1451 - 8s - loss: 117.2150 - mean_squared_error: 117.2150 - val_loss: 107.9428 - val_mean_squared_error: 107.9428 - 8s/epoch - 6ms/step\n",
      "Epoch 48/50\n",
      "1451/1451 - 8s - loss: 117.0271 - mean_squared_error: 117.0271 - val_loss: 107.6802 - val_mean_squared_error: 107.6802 - 8s/epoch - 6ms/step\n",
      "Epoch 49/50\n",
      "1451/1451 - 8s - loss: 116.8295 - mean_squared_error: 116.8295 - val_loss: 107.5381 - val_mean_squared_error: 107.5381 - 8s/epoch - 6ms/step\n",
      "Epoch 50/50\n",
      "1451/1451 - 8s - loss: 116.5494 - mean_squared_error: 116.5494 - val_loss: 108.3787 - val_mean_squared_error: 108.3787 - 8s/epoch - 6ms/step\n",
      "SCORE FOLD 7 = [112.84100845336914]\n",
      "Proccessing Fold# 8\n",
      "Epoch 1/50\n",
      "1451/1451 - 9s - loss: 382.0316 - mean_squared_error: 382.0316 - val_loss: 206.9357 - val_mean_squared_error: 206.9357 - 9s/epoch - 6ms/step\n",
      "Epoch 2/50\n",
      "1451/1451 - 8s - loss: 251.8790 - mean_squared_error: 251.8790 - val_loss: 166.0267 - val_mean_squared_error: 166.0267 - 8s/epoch - 6ms/step\n",
      "Epoch 3/50\n",
      "1451/1451 - 8s - loss: 215.6084 - mean_squared_error: 215.6084 - val_loss: 144.2648 - val_mean_squared_error: 144.2648 - 8s/epoch - 6ms/step\n",
      "Epoch 4/50\n",
      "1451/1451 - 8s - loss: 194.0516 - mean_squared_error: 194.0516 - val_loss: 133.8514 - val_mean_squared_error: 133.8514 - 8s/epoch - 6ms/step\n",
      "Epoch 5/50\n",
      "1451/1451 - 8s - loss: 180.3092 - mean_squared_error: 180.3092 - val_loss: 128.4244 - val_mean_squared_error: 128.4244 - 8s/epoch - 6ms/step\n",
      "Epoch 6/50\n",
      "1451/1451 - 8s - loss: 168.4650 - mean_squared_error: 168.4650 - val_loss: 120.2152 - val_mean_squared_error: 120.2152 - 8s/epoch - 6ms/step\n",
      "Epoch 7/50\n",
      "1451/1451 - 8s - loss: 160.6404 - mean_squared_error: 160.6404 - val_loss: 115.3035 - val_mean_squared_error: 115.3035 - 8s/epoch - 6ms/step\n",
      "Epoch 8/50\n",
      "1451/1451 - 8s - loss: 156.3177 - mean_squared_error: 156.3177 - val_loss: 115.2765 - val_mean_squared_error: 115.2765 - 8s/epoch - 6ms/step\n",
      "Epoch 9/50\n",
      "1451/1451 - 8s - loss: 152.9109 - mean_squared_error: 152.9109 - val_loss: 112.1257 - val_mean_squared_error: 112.1257 - 8s/epoch - 6ms/step\n",
      "Epoch 10/50\n",
      "1451/1451 - 8s - loss: 150.3361 - mean_squared_error: 150.3361 - val_loss: 113.8510 - val_mean_squared_error: 113.8510 - 8s/epoch - 6ms/step\n",
      "Epoch 11/50\n",
      "1451/1451 - 8s - loss: 147.6512 - mean_squared_error: 147.6512 - val_loss: 111.2755 - val_mean_squared_error: 111.2755 - 8s/epoch - 6ms/step\n",
      "Epoch 12/50\n",
      "1451/1451 - 9s - loss: 145.7975 - mean_squared_error: 145.7975 - val_loss: 110.1717 - val_mean_squared_error: 110.1717 - 9s/epoch - 6ms/step\n",
      "Epoch 13/50\n",
      "1451/1451 - 8s - loss: 143.8487 - mean_squared_error: 143.8487 - val_loss: 109.2793 - val_mean_squared_error: 109.2793 - 8s/epoch - 6ms/step\n",
      "Epoch 14/50\n",
      "1451/1451 - 8s - loss: 142.0015 - mean_squared_error: 142.0015 - val_loss: 109.6172 - val_mean_squared_error: 109.6172 - 8s/epoch - 6ms/step\n",
      "Epoch 15/50\n",
      "1451/1451 - 8s - loss: 140.8389 - mean_squared_error: 140.8389 - val_loss: 111.5503 - val_mean_squared_error: 111.5503 - 8s/epoch - 6ms/step\n",
      "Epoch 16/50\n",
      "1451/1451 - 8s - loss: 138.9484 - mean_squared_error: 138.9484 - val_loss: 107.5521 - val_mean_squared_error: 107.5521 - 8s/epoch - 6ms/step\n",
      "Epoch 17/50\n",
      "1451/1451 - 8s - loss: 137.3645 - mean_squared_error: 137.3645 - val_loss: 110.7815 - val_mean_squared_error: 110.7815 - 8s/epoch - 6ms/step\n",
      "Epoch 18/50\n",
      "1451/1451 - 8s - loss: 136.0847 - mean_squared_error: 136.0847 - val_loss: 109.2184 - val_mean_squared_error: 109.2184 - 8s/epoch - 6ms/step\n",
      "Epoch 19/50\n",
      "1451/1451 - 8s - loss: 134.6422 - mean_squared_error: 134.6422 - val_loss: 107.5090 - val_mean_squared_error: 107.5090 - 8s/epoch - 6ms/step\n",
      "Epoch 20/50\n",
      "1451/1451 - 8s - loss: 133.8367 - mean_squared_error: 133.8367 - val_loss: 106.1882 - val_mean_squared_error: 106.1882 - 8s/epoch - 6ms/step\n",
      "Epoch 21/50\n",
      "1451/1451 - 8s - loss: 133.0023 - mean_squared_error: 133.0023 - val_loss: 107.0858 - val_mean_squared_error: 107.0858 - 8s/epoch - 6ms/step\n",
      "Epoch 22/50\n",
      "1451/1451 - 8s - loss: 131.4672 - mean_squared_error: 131.4672 - val_loss: 106.6065 - val_mean_squared_error: 106.6065 - 8s/epoch - 6ms/step\n",
      "Epoch 23/50\n",
      "1451/1451 - 8s - loss: 130.4857 - mean_squared_error: 130.4857 - val_loss: 108.2531 - val_mean_squared_error: 108.2531 - 8s/epoch - 6ms/step\n",
      "Epoch 24/50\n",
      "1451/1451 - 8s - loss: 129.4703 - mean_squared_error: 129.4703 - val_loss: 105.2415 - val_mean_squared_error: 105.2415 - 8s/epoch - 6ms/step\n",
      "Epoch 25/50\n",
      "1451/1451 - 8s - loss: 128.8463 - mean_squared_error: 128.8463 - val_loss: 107.5305 - val_mean_squared_error: 107.5305 - 8s/epoch - 6ms/step\n",
      "Epoch 26/50\n",
      "1451/1451 - 8s - loss: 127.9460 - mean_squared_error: 127.9460 - val_loss: 105.7062 - val_mean_squared_error: 105.7062 - 8s/epoch - 6ms/step\n",
      "Epoch 27/50\n",
      "1451/1451 - 8s - loss: 127.0555 - mean_squared_error: 127.0555 - val_loss: 108.4181 - val_mean_squared_error: 108.4181 - 8s/epoch - 6ms/step\n",
      "Epoch 28/50\n",
      "1451/1451 - 8s - loss: 126.1724 - mean_squared_error: 126.1724 - val_loss: 107.4790 - val_mean_squared_error: 107.4790 - 8s/epoch - 6ms/step\n"
     ]
    },
    {
     "name": "stdout",
     "output_type": "stream",
     "text": [
      "Epoch 29/50\n",
      "1451/1451 - 8s - loss: 125.2223 - mean_squared_error: 125.2223 - val_loss: 105.7856 - val_mean_squared_error: 105.7856 - 8s/epoch - 6ms/step\n",
      "Epoch 30/50\n",
      "1451/1451 - 8s - loss: 124.7679 - mean_squared_error: 124.7679 - val_loss: 105.3553 - val_mean_squared_error: 105.3553 - 8s/epoch - 6ms/step\n",
      "Epoch 31/50\n",
      "1451/1451 - 8s - loss: 124.1043 - mean_squared_error: 124.1043 - val_loss: 106.3376 - val_mean_squared_error: 106.3376 - 8s/epoch - 6ms/step\n",
      "Epoch 32/50\n",
      "1451/1451 - 8s - loss: 123.6671 - mean_squared_error: 123.6671 - val_loss: 106.9327 - val_mean_squared_error: 106.9327 - 8s/epoch - 6ms/step\n",
      "Epoch 33/50\n",
      "1451/1451 - 8s - loss: 122.9480 - mean_squared_error: 122.9480 - val_loss: 109.2053 - val_mean_squared_error: 109.2053 - 8s/epoch - 6ms/step\n",
      "Epoch 34/50\n",
      "1451/1451 - 8s - loss: 122.3880 - mean_squared_error: 122.3880 - val_loss: 109.8199 - val_mean_squared_error: 109.8199 - 8s/epoch - 6ms/step\n",
      "Epoch 35/50\n",
      "1451/1451 - 8s - loss: 121.7560 - mean_squared_error: 121.7560 - val_loss: 105.9004 - val_mean_squared_error: 105.9004 - 8s/epoch - 6ms/step\n",
      "Epoch 36/50\n",
      "1451/1451 - 9s - loss: 121.3185 - mean_squared_error: 121.3185 - val_loss: 105.0647 - val_mean_squared_error: 105.0647 - 9s/epoch - 6ms/step\n",
      "Epoch 37/50\n",
      "1451/1451 - 8s - loss: 120.7322 - mean_squared_error: 120.7322 - val_loss: 105.9262 - val_mean_squared_error: 105.9262 - 8s/epoch - 6ms/step\n",
      "Epoch 38/50\n",
      "1451/1451 - 8s - loss: 120.3218 - mean_squared_error: 120.3218 - val_loss: 107.8049 - val_mean_squared_error: 107.8049 - 8s/epoch - 6ms/step\n",
      "Epoch 39/50\n",
      "1451/1451 - 8s - loss: 119.8485 - mean_squared_error: 119.8485 - val_loss: 106.3422 - val_mean_squared_error: 106.3422 - 8s/epoch - 6ms/step\n",
      "Epoch 40/50\n",
      "1451/1451 - 8s - loss: 119.2929 - mean_squared_error: 119.2929 - val_loss: 105.1358 - val_mean_squared_error: 105.1358 - 8s/epoch - 6ms/step\n",
      "Epoch 41/50\n",
      "1451/1451 - 8s - loss: 119.0817 - mean_squared_error: 119.0817 - val_loss: 105.1096 - val_mean_squared_error: 105.1096 - 8s/epoch - 6ms/step\n",
      "Epoch 42/50\n",
      "1451/1451 - 8s - loss: 118.6531 - mean_squared_error: 118.6531 - val_loss: 103.8476 - val_mean_squared_error: 103.8476 - 8s/epoch - 6ms/step\n",
      "Epoch 43/50\n",
      "1451/1451 - 8s - loss: 118.4625 - mean_squared_error: 118.4625 - val_loss: 105.7031 - val_mean_squared_error: 105.7031 - 8s/epoch - 6ms/step\n",
      "Epoch 44/50\n",
      "1451/1451 - 8s - loss: 118.2605 - mean_squared_error: 118.2605 - val_loss: 107.6180 - val_mean_squared_error: 107.6180 - 8s/epoch - 6ms/step\n",
      "Epoch 45/50\n",
      "1451/1451 - 8s - loss: 117.9922 - mean_squared_error: 117.9922 - val_loss: 107.2737 - val_mean_squared_error: 107.2737 - 8s/epoch - 6ms/step\n",
      "Epoch 46/50\n",
      "1451/1451 - 9s - loss: 117.7636 - mean_squared_error: 117.7636 - val_loss: 105.4325 - val_mean_squared_error: 105.4325 - 9s/epoch - 6ms/step\n",
      "Epoch 47/50\n",
      "1451/1451 - 9s - loss: 117.3490 - mean_squared_error: 117.3490 - val_loss: 107.1486 - val_mean_squared_error: 107.1486 - 9s/epoch - 6ms/step\n",
      "Epoch 48/50\n",
      "1451/1451 - 9s - loss: 117.2746 - mean_squared_error: 117.2746 - val_loss: 105.3433 - val_mean_squared_error: 105.3433 - 9s/epoch - 6ms/step\n",
      "Epoch 49/50\n",
      "1451/1451 - 9s - loss: 117.1014 - mean_squared_error: 117.1014 - val_loss: 104.8838 - val_mean_squared_error: 104.8838 - 9s/epoch - 6ms/step\n",
      "Epoch 50/50\n",
      "1451/1451 - 8s - loss: 116.9268 - mean_squared_error: 116.9268 - val_loss: 105.6804 - val_mean_squared_error: 105.6804 - 8s/epoch - 6ms/step\n",
      "SCORE FOLD 8 = [112.86779541015625]\n"
     ]
    }
   ],
   "source": [
    "import numpy as np\n",
    "from sklearn.model_selection import KFold\n",
    "from sklearn.model_selection import StratifiedKFold\n",
    "num_of_epochs = 50\n",
    "def fitModel(inputs, targets, epochs, input_shape, batch_size=512, folds=8):\n",
    "    seed = 124\n",
    "    np.random.seed(seed)\n",
    "    kfold = StratifiedKFold(n_splits=folds, shuffle=True, random_state=seed)\n",
    "    all_mae_histories = []\n",
    "    pred_folds = []\n",
    "#     early_stop_cb = EarlyStopping(monitor= 'val_loss', patience=5, verbose=0, mode='auto', baseline=None, restore_best_weights=True)\n",
    "    k = 1\n",
    "    for train, test in kfold.split(inputs, targets):\n",
    "        print('Proccessing Fold#', k)\n",
    "        \n",
    "        # create model\n",
    "        model = build_model(input_shape=input_shape)\n",
    "        \n",
    "        # Train the model (in silent mode, verbose=0)\n",
    "        history = model.fit(inputs[train], targets[train],\n",
    "                            validation_data=(inputs[test], targets[test]),\n",
    "                            epochs=epochs, \n",
    "                            batch_size=batch_size,\n",
    "                            verbose=2,\n",
    "#                             call_back=early_stop_cb,\n",
    "                           )\n",
    "        # evaluate the model\n",
    "        # dict_keys(['loss', 'mean_squared_error', 'val_loss', 'val_mean_squared_error'])\n",
    "        mae_history = history.history['val_mean_squared_error']\n",
    "        all_mae_histories.append(mae_history)\n",
    "        score_fold = [np.mean(mae_history)]\n",
    "        print('SCORE FOLD {} = {}'.format(k,score_fold))\n",
    "        pred = np.round(model.predict(x_test))\n",
    "        pred_folds.append(pred)\n",
    "        model.save('fold_{}.h5'.format(k))\n",
    "        k += 1\n",
    "    return all_mae_histories, pred_folds\n",
    "    \n",
    "(all_mae_histories, pred_folds) = fitModel(x_train, y_train, epochs=num_of_epochs, input_shape=(x_train.shape[1],))"
   ]
  },
  {
   "cell_type": "code",
   "execution_count": 27,
   "metadata": {
    "pycharm": {
     "is_executing": true,
     "name": "#%%\n"
    }
   },
   "outputs": [
    {
     "data": {
      "text/plain": [
       "(8, 2340, 1)"
      ]
     },
     "execution_count": 27,
     "metadata": {},
     "output_type": "execute_result"
    }
   ],
   "source": [
    "average_mae_history = [np.mean([x[i] for x in all_mae_histories]) for i in range(num_of_epochs)]\n",
    "np.array(pred_folds).shape"
   ]
  },
  {
   "cell_type": "code",
   "execution_count": 28,
   "metadata": {
    "pycharm": {
     "name": "#%%\n"
    }
   },
   "outputs": [
    {
     "data": {
      "image/png": "[encoded data removed]",
      "text/plain": [
       "<Figure size 432x288 with 1 Axes>"
      ]
     },
     "metadata": {
      "needs_background": "light"
     },
     "output_type": "display_data"
    }
   ],
   "source": [
    "import matplotlib.pyplot as plt\n",
    "\n",
    "plt.plot(range(1, len(average_mae_history) + 1), average_mae_history)\n",
    "plt.xlabel('Epochs')\n",
    "plt.ylabel('Validation MAE')\n",
    "plt.show()"
   ]
  },
  {
   "cell_type": "code",
   "execution_count": 85,
   "metadata": {
    "scrolled": true
   },
   "outputs": [],
   "source": [
    "from keras import models\n",
    "model = models.load_model('fold_8.h5')\n",
    "y_pred = model.predict(x_test)\n"
   ]
  },
  {
   "cell_type": "code",
   "execution_count": 86,
   "metadata": {},
   "outputs": [],
   "source": [
    "y_pred = np.reshape(y_pred, (-1,))"
   ]
  },
  {
   "cell_type": "code",
   "execution_count": 87,
   "metadata": {},
   "outputs": [],
   "source": [
    "sample = pd.read_csv('data/sample_submission.csv')"
   ]
  },
  {
   "cell_type": "code",
   "execution_count": 88,
   "metadata": {
    "scrolled": true
   },
   "outputs": [],
   "source": [
    "sample.congestion = y_pred"
   ]
  },
  {
   "cell_type": "code",
   "execution_count": 89,
   "metadata": {
    "scrolled": true
   },
   "outputs": [],
   "source": [
    "sample = sample.round(1)"
   ]
  },
  {
   "cell_type": "code",
   "execution_count": 90,
   "metadata": {},
   "outputs": [
    {
     "data": {
      "text/html": [
       "<div>\n",
       "<style scoped>\n",
       "    .dataframe tbody tr th:only-of-type {\n",
       "        vertical-align: middle;\n",
       "    }\n",
       "\n",
       "    .dataframe tbody tr th {\n",
       "        vertical-align: top;\n",
       "    }\n",
       "\n",
       "    .dataframe thead th {\n",
       "        text-align: right;\n",
       "    }\n",
       "</style>\n",
       "<table border=\"1\" class=\"dataframe\">\n",
       "  <thead>\n",
       "    <tr style=\"text-align: right;\">\n",
       "      <th></th>\n",
       "      <th>row_id</th>\n",
       "      <th>congestion</th>\n",
       "    </tr>\n",
       "  </thead>\n",
       "  <tbody>\n",
       "    <tr>\n",
       "      <th>0</th>\n",
       "      <td>848835</td>\n",
       "      <td>46.799999</td>\n",
       "    </tr>\n",
       "    <tr>\n",
       "      <th>1</th>\n",
       "      <td>848836</td>\n",
       "      <td>36.400002</td>\n",
       "    </tr>\n",
       "    <tr>\n",
       "      <th>2</th>\n",
       "      <td>848837</td>\n",
       "      <td>49.500000</td>\n",
       "    </tr>\n",
       "    <tr>\n",
       "      <th>3</th>\n",
       "      <td>848838</td>\n",
       "      <td>31.299999</td>\n",
       "    </tr>\n",
       "    <tr>\n",
       "      <th>4</th>\n",
       "      <td>848839</td>\n",
       "      <td>65.900002</td>\n",
       "    </tr>\n",
       "    <tr>\n",
       "      <th>...</th>\n",
       "      <td>...</td>\n",
       "      <td>...</td>\n",
       "    </tr>\n",
       "    <tr>\n",
       "      <th>2335</th>\n",
       "      <td>851170</td>\n",
       "      <td>56.700001</td>\n",
       "    </tr>\n",
       "    <tr>\n",
       "      <th>2336</th>\n",
       "      <td>851171</td>\n",
       "      <td>32.299999</td>\n",
       "    </tr>\n",
       "    <tr>\n",
       "      <th>2337</th>\n",
       "      <td>851172</td>\n",
       "      <td>64.199997</td>\n",
       "    </tr>\n",
       "    <tr>\n",
       "      <th>2338</th>\n",
       "      <td>851173</td>\n",
       "      <td>25.100000</td>\n",
       "    </tr>\n",
       "    <tr>\n",
       "      <th>2339</th>\n",
       "      <td>851174</td>\n",
       "      <td>44.299999</td>\n",
       "    </tr>\n",
       "  </tbody>\n",
       "</table>\n",
       "<p>2340 rows × 2 columns</p>\n",
       "</div>"
      ],
      "text/plain": [
       "      row_id  congestion\n",
       "0     848835   46.799999\n",
       "1     848836   36.400002\n",
       "2     848837   49.500000\n",
       "3     848838   31.299999\n",
       "4     848839   65.900002\n",
       "...      ...         ...\n",
       "2335  851170   56.700001\n",
       "2336  851171   32.299999\n",
       "2337  851172   64.199997\n",
       "2338  851173   25.100000\n",
       "2339  851174   44.299999\n",
       "\n",
       "[2340 rows x 2 columns]"
      ]
     },
     "execution_count": 90,
     "metadata": {},
     "output_type": "execute_result"
    }
   ],
   "source": [
    "sample"
   ]
  },
  {
   "cell_type": "code",
   "execution_count": 91,
   "metadata": {},
   "outputs": [],
   "source": [
    "sample.to_csv('submission.csv', index=False)"
   ]
  },
  {
   "cell_type": "code",
   "execution_count": null,
   "metadata": {},
   "outputs": [],
   "source": []
  }
 ],
 "metadata": {
  "kernelspec": {
   "display_name": "Python 3 (ipykernel)",
   "language": "python",
   "name": "python3"
  },
  "language_info": {
   "codemirror_mode": {
    "name": "ipython",
    "version": 3
   },
   "file_extension": ".py",
   "mimetype": "text/x-python",
   "name": "python",
   "nbconvert_exporter": "python",
   "pygments_lexer": "ipython3",
   "version": "3.9.5"
  }
 },
 "nbformat": 4,
 "nbformat_minor": 1
}
