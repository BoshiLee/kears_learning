{
 "cells": [
  {
   "cell_type": "code",
   "execution_count": 2,
   "metadata": {
    "collapsed": true,
    "pycharm": {
     "name": "#%%\n"
    }
   },
   "outputs": [
    {
     "ename": "ImportError",
     "evalue": "cannot import name 'BatchNormalization' from 'keras.layers.normalization' (C:\\Users\\boshi\\anaconda3\\envs\\boshi_intretech\\lib\\site-packages\\keras\\layers\\normalization\\__init__.py)",
     "output_type": "error",
     "traceback": [
      "\u001B[1;31m---------------------------------------------------------------------------\u001B[0m",
      "\u001B[1;31mImportError\u001B[0m                               Traceback (most recent call last)",
      "\u001B[1;32m~\\AppData\\Local\\Temp/ipykernel_6244/2530155231.py\u001B[0m in \u001B[0;36m<module>\u001B[1;34m\u001B[0m\n\u001B[1;32m----> 1\u001B[1;33m \u001B[1;32mfrom\u001B[0m \u001B[0mimageai\u001B[0m\u001B[1;33m.\u001B[0m\u001B[0mDetection\u001B[0m \u001B[1;32mimport\u001B[0m \u001B[0mObjectDetection\u001B[0m\u001B[1;33m\u001B[0m\u001B[1;33m\u001B[0m\u001B[0m\n\u001B[0m\u001B[0;32m      2\u001B[0m \u001B[1;32mfrom\u001B[0m \u001B[0measygui\u001B[0m \u001B[1;32mimport\u001B[0m \u001B[0mfileopenbox\u001B[0m\u001B[1;33m\u001B[0m\u001B[1;33m\u001B[0m\u001B[0m\n\u001B[0;32m      3\u001B[0m \u001B[1;32mfrom\u001B[0m \u001B[0mdatetime\u001B[0m \u001B[1;32mimport\u001B[0m \u001B[0mdatetime\u001B[0m\u001B[1;33m\u001B[0m\u001B[1;33m\u001B[0m\u001B[0m\n\u001B[0;32m      4\u001B[0m \u001B[1;32mimport\u001B[0m \u001B[0mcv2\u001B[0m\u001B[1;33m\u001B[0m\u001B[1;33m\u001B[0m\u001B[0m\n\u001B[0;32m      5\u001B[0m \u001B[1;33m\u001B[0m\u001B[0m\n",
      "\u001B[1;32m~\\anaconda3\\envs\\boshi_intretech\\lib\\site-packages\\imageai\\Detection\\__init__.py\u001B[0m in \u001B[0;36m<module>\u001B[1;34m\u001B[0m\n\u001B[0;32m     15\u001B[0m \u001B[1;32mimport\u001B[0m \u001B[0mcolorsys\u001B[0m\u001B[1;33m\u001B[0m\u001B[1;33m\u001B[0m\u001B[0m\n\u001B[0;32m     16\u001B[0m \u001B[1;33m\u001B[0m\u001B[0m\n\u001B[1;32m---> 17\u001B[1;33m \u001B[1;32mfrom\u001B[0m \u001B[0mimageai\u001B[0m\u001B[1;33m.\u001B[0m\u001B[0mDetection\u001B[0m\u001B[1;33m.\u001B[0m\u001B[0mYOLOv3\u001B[0m\u001B[1;33m.\u001B[0m\u001B[0mmodels\u001B[0m \u001B[1;32mimport\u001B[0m \u001B[0myolo_main\u001B[0m\u001B[1;33m,\u001B[0m \u001B[0mtiny_yolo_main\u001B[0m\u001B[1;33m\u001B[0m\u001B[1;33m\u001B[0m\u001B[0m\n\u001B[0m\u001B[0;32m     18\u001B[0m \u001B[1;32mfrom\u001B[0m \u001B[0mimageai\u001B[0m\u001B[1;33m.\u001B[0m\u001B[0mDetection\u001B[0m\u001B[1;33m.\u001B[0m\u001B[0mYOLOv3\u001B[0m\u001B[1;33m.\u001B[0m\u001B[0mutils\u001B[0m \u001B[1;32mimport\u001B[0m \u001B[0mletterbox_image\u001B[0m\u001B[1;33m,\u001B[0m \u001B[0myolo_eval\u001B[0m\u001B[1;33m\u001B[0m\u001B[1;33m\u001B[0m\u001B[0m\n\u001B[0;32m     19\u001B[0m \u001B[1;33m\u001B[0m\u001B[0m\n",
      "\u001B[1;32m~\\anaconda3\\envs\\boshi_intretech\\lib\\site-packages\\imageai\\Detection\\YOLOv3\\models.py\u001B[0m in \u001B[0;36m<module>\u001B[1;34m\u001B[0m\n\u001B[0;32m      6\u001B[0m \u001B[1;32mfrom\u001B[0m \u001B[0mkeras\u001B[0m\u001B[1;33m.\u001B[0m\u001B[0mlayers\u001B[0m \u001B[1;32mimport\u001B[0m \u001B[0mConv2D\u001B[0m\u001B[1;33m,\u001B[0m \u001B[0mMaxPool2D\u001B[0m\u001B[1;33m,\u001B[0m \u001B[0mAdd\u001B[0m\u001B[1;33m,\u001B[0m \u001B[0mZeroPadding2D\u001B[0m\u001B[1;33m,\u001B[0m \u001B[0mUpSampling2D\u001B[0m\u001B[1;33m,\u001B[0m \u001B[0mConcatenate\u001B[0m\u001B[1;33m\u001B[0m\u001B[1;33m\u001B[0m\u001B[0m\n\u001B[0;32m      7\u001B[0m \u001B[1;32mfrom\u001B[0m \u001B[0mkeras\u001B[0m\u001B[1;33m.\u001B[0m\u001B[0mlayers\u001B[0m\u001B[1;33m.\u001B[0m\u001B[0madvanced_activations\u001B[0m \u001B[1;32mimport\u001B[0m \u001B[0mLeakyReLU\u001B[0m\u001B[1;33m\u001B[0m\u001B[1;33m\u001B[0m\u001B[0m\n\u001B[1;32m----> 8\u001B[1;33m \u001B[1;32mfrom\u001B[0m \u001B[0mkeras\u001B[0m\u001B[1;33m.\u001B[0m\u001B[0mlayers\u001B[0m\u001B[1;33m.\u001B[0m\u001B[0mnormalization\u001B[0m \u001B[1;32mimport\u001B[0m \u001B[0mBatchNormalization\u001B[0m\u001B[1;33m\u001B[0m\u001B[1;33m\u001B[0m\u001B[0m\n\u001B[0m\u001B[0;32m      9\u001B[0m \u001B[1;32mfrom\u001B[0m \u001B[0mkeras\u001B[0m\u001B[1;33m.\u001B[0m\u001B[0mregularizers\u001B[0m \u001B[1;32mimport\u001B[0m \u001B[0ml2\u001B[0m\u001B[1;33m\u001B[0m\u001B[1;33m\u001B[0m\u001B[0m\n\u001B[0;32m     10\u001B[0m \u001B[1;32mfrom\u001B[0m \u001B[0mkeras\u001B[0m\u001B[1;33m.\u001B[0m\u001B[0mmodels\u001B[0m \u001B[1;32mimport\u001B[0m \u001B[0mModel\u001B[0m\u001B[1;33m,\u001B[0m \u001B[0mInput\u001B[0m\u001B[1;33m\u001B[0m\u001B[1;33m\u001B[0m\u001B[0m\n",
      "\u001B[1;31mImportError\u001B[0m: cannot import name 'BatchNormalization' from 'keras.layers.normalization' (C:\\Users\\boshi\\anaconda3\\envs\\boshi_intretech\\lib\\site-packages\\keras\\layers\\normalization\\__init__.py)"
     ]
    }
   ],
   "source": [
    "from imageai.Detection import ObjectDetection\n",
    "from easygui import fileopenbox\n",
    "from datetime import datetime\n",
    "import cv2\n",
    "\n",
    "outputfile ='image_out_yolov3.jpg'\n",
    "\n",
    "detector = ObjectDetection()\n",
    "detector.setModelTypeAsYOLOv3()\n",
    "detector.setModelPath( \"yolo.h5\")\n",
    "print('[INFO] loading YOLOv3 Model........')\n",
    "detector.loadModel()\n",
    "\n",
    "while(1):\n",
    "    print('[INFO] Select input image ...')\n",
    "    inputfile=fileopenbox(msg='Select an image file...',title='Object Detection',default='../image_data/coco/test2017/*.jpg')\n",
    "    t1= datetime.now()#测试起始时间\n",
    "    detections = detector.detectObjectsFromImage(input_image= inputfile, output_image_path=outputfile)\n",
    "    t2 = datetime.now()#测试结束时间\n",
    "    print('Time spend for object_detection: ', t2-t1)#显示总的时间开销\n",
    "\n",
    "    for eachObject in detections:\n",
    "        print(eachObject[\"name\"] , \" : \" , eachObject[\"percentage_probability\"] )\n",
    "\n",
    "\n",
    "    image = cv2.imread(outputfile)\n",
    "    # show the output image\n",
    "    cv2.imshow(\"Output\", image)\n",
    "    key=cv2.waitKey(0)\n",
    "    if key == ord('q'):     # press q to quit the program or other key to continue...\n",
    "        break"
   ]
  }
 ],
 "metadata": {
  "kernelspec": {
   "display_name": "Python 3",
   "language": "python",
   "name": "python3"
  },
  "language_info": {
   "codemirror_mode": {
    "name": "ipython",
    "version": 2
   },
   "file_extension": ".py",
   "mimetype": "text/x-python",
   "name": "python",
   "nbconvert_exporter": "python",
   "pygments_lexer": "ipython2",
   "version": "2.7.6"
  }
 },
 "nbformat": 4,
 "nbformat_minor": 0
}