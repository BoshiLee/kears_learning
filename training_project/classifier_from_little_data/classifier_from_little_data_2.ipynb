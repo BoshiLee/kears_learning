{
 "cells": [
  {
   "cell_type": "markdown",
   "id": "3b46170a",
   "metadata": {},
   "source": [
    "It uses data that can be downloaded at:\n",
    "https://www.kaggle.com/c/dogs-vs-cats/data\n",
    "In our setup, we:\n",
    "- created a data/ folder\n",
    "- created train/ and validation/ subfolders inside data/\n",
    "- created cats/ and dogs/ subfolders inside train/ and validation/\n",
    "- put the cat pictures index 0-999 in data/train/cats\n",
    "- put the cat pictures index 1000-1399 in data/validation/cats\n",
    "- put the dogs pictures index 0-999 in data/train/dogs\n",
    "- put the dog pictures index 1000-1399 in data/validation/dogs\n",
    "So that we have 1000 training examples for each class, and 400 validation examples for each class.\n",
    "In summary, this is our directory structure:\n",
    "```\n",
    "data/\n",
    "    train/\n",
    "        \n",
    "        cats/\n",
    "            cat.0.jpg\n",
    "            cat.1.jpg\n",
    "            ...\n",
    "        dogs/\n",
    "            dog.0.jpg\n",
    "            dog.1.jpg\n",
    "            ...  \n",
    "    validation/\n",
    "        cats/\n",
    "            cat.1000.jpg\n",
    "            cat.1001.jpg\n",
    "            ...\n",
    "        dogs/\n",
    "            dog.1000.jpg\n",
    "            dog.1001.jpg\n",
    "            ..."
   ]
  },
  {
   "cell_type": "code",
   "execution_count": 2,
   "id": "d85842e6",
   "metadata": {},
   "outputs": [],
   "source": [
    "import numpy as np\n",
    "from keras.preprocessing.image import ImageDataGenerator\n",
    "from keras.models import Sequential\n",
    "from keras.layers import Dropout, Flatten, Dense\n",
    "from keras import applications\n",
    "from tensorflow import keras"
   ]
  },
  {
   "cell_type": "code",
   "execution_count": 2,
   "id": "da1c42bb",
   "metadata": {},
   "outputs": [],
   "source": [
    "# dimensions of our images.\n",
    "img_width, img_height = 150, 150"
   ]
  },
  {
   "cell_type": "code",
   "execution_count": 4,
   "id": "d4137365",
   "metadata": {},
   "outputs": [],
   "source": [
    "top_model_weights_path = 'first_try.h5'\n",
    "train_data_dir = 'data/train'\n",
    "validation_data_dir = 'data/validation'\n",
    "nb_train_samples = 2000\n",
    "nb_validation_samples = 800\n",
    "epochs = 50\n",
    "batch_size = 16"
   ]
  },
  {
   "cell_type": "code",
   "execution_count": 4,
   "id": "ddbfccec",
   "metadata": {},
   "outputs": [],
   "source": [
    "def save_bottlebeck_features():\n",
    "    datagen = ImageDataGenerator(rescale=1. / 255)\n",
    "\n",
    "    # build the VGG16 network\n",
    "    model = applications.vgg16.VGG16(include_top=False, weights='imagenet')\n",
    "\n",
    "    generator = datagen.flow_from_directory(\n",
    "        train_data_dir,\n",
    "        target_size=(img_width, img_height),\n",
    "        batch_size=batch_size,\n",
    "        class_mode=None,\n",
    "        shuffle=False)\n",
    "    bottleneck_features_train = model.predict_generator(\n",
    "        generator, nb_train_samples // batch_size)\n",
    "    np.save(open('bottleneck_features_train.npy', 'wb'),\n",
    "            bottleneck_features_train)\n",
    "\n",
    "    generator = datagen.flow_from_directory(\n",
    "        validation_data_dir,\n",
    "        target_size=(img_width, img_height),\n",
    "        batch_size=batch_size,\n",
    "        class_mode=None,\n",
    "        shuffle=False)\n",
    "    bottleneck_features_validation = model.predict_generator(\n",
    "        generator, nb_validation_samples // batch_size)\n",
    "    np.save(open('bottleneck_features_validation.npy', 'wb'),\n",
    "            bottleneck_features_validation)"
   ]
  },
  {
   "cell_type": "code",
   "execution_count": 5,
   "id": "dc14ee6a",
   "metadata": {},
   "outputs": [],
   "source": [
    "def train_top_model():\n",
    "    train_data = np.load(open('bottleneck_features_train.npy','rb'))\n",
    "    train_labels = np.array([0] * 1000 + [1] * 1000)\n",
    "\n",
    "    validation_data = np.load(open('bottleneck_features_validation.npy','rb'))\n",
    "    validation_labels = np.array([0] * 400 + [1] * 400)\n",
    "\n",
    "    model = Sequential()\n",
    "    model.add(Flatten(input_shape=train_data.shape[1:]))\n",
    "    model.add(Dense(256, activation='relu'))\n",
    "    model.add(Dropout(0.5))\n",
    "    model.add(Dense(1, activation='sigmoid'))\n",
    "\n",
    "    model.compile(optimizer='rmsprop',\n",
    "                  loss='binary_crossentropy', metrics=['accuracy'])\n",
    "\n",
    "    model.fit(train_data, train_labels,\n",
    "              epochs=epochs,\n",
    "              batch_size=batch_size,\n",
    "              validation_data=(validation_data, validation_labels))\n",
    "    model.save_weights(top_model_weights_path)"
   ]
  },
  {
   "cell_type": "code",
   "execution_count": 6,
   "id": "6e1efda5",
   "metadata": {
    "pycharm": {
     "name": "#%%\n"
    }
   },
   "outputs": [
    {
     "name": "stdout",
     "output_type": "stream",
     "text": [
      "Found 2000 images belonging to 2 classes.\n"
     ]
    },
    {
     "name": "stderr",
     "output_type": "stream",
     "text": [
      "C:\\Users\\boshi\\AppData\\Local\\Temp/ipykernel_13500/1865155454.py:13: UserWarning: `Model.predict_generator` is deprecated and will be removed in a future version. Please use `Model.predict`, which supports generators.\n",
      "  bottleneck_features_train = model.predict_generator(\n"
     ]
    },
    {
     "name": "stdout",
     "output_type": "stream",
     "text": [
      "Found 23000 images belonging to 2 classes.\n"
     ]
    },
    {
     "name": "stderr",
     "output_type": "stream",
     "text": [
      "C:\\Users\\boshi\\AppData\\Local\\Temp/ipykernel_13500/1865155454.py:24: UserWarning: `Model.predict_generator` is deprecated and will be removed in a future version. Please use `Model.predict`, which supports generators.\n",
      "  bottleneck_features_validation = model.predict_generator(\n"
     ]
    },
    {
     "name": "stdout",
     "output_type": "stream",
     "text": [
      "Epoch 1/50\n",
      "125/125 [==============================] - 1s 5ms/step - loss: 0.8359 - accuracy: 0.7610 - val_loss: 2.4024 - val_accuracy: 0.5038\n",
      "Epoch 2/50\n",
      "125/125 [==============================] - 1s 5ms/step - loss: 0.3801 - accuracy: 0.8440 - val_loss: 2.4137 - val_accuracy: 0.4963\n",
      "Epoch 3/50\n",
      "125/125 [==============================] - 1s 5ms/step - loss: 0.3538 - accuracy: 0.8710 - val_loss: 2.7196 - val_accuracy: 0.4888\n",
      "Epoch 4/50\n",
      "125/125 [==============================] - 1s 5ms/step - loss: 0.2592 - accuracy: 0.8975 - val_loss: 3.1834 - val_accuracy: 0.4900\n",
      "Epoch 5/50\n",
      "125/125 [==============================] - 1s 5ms/step - loss: 0.2438 - accuracy: 0.9110 - val_loss: 3.4919 - val_accuracy: 0.4837\n",
      "Epoch 6/50\n",
      "125/125 [==============================] - 1s 5ms/step - loss: 0.2079 - accuracy: 0.9220 - val_loss: 3.3400 - val_accuracy: 0.4837\n",
      "Epoch 7/50\n",
      "125/125 [==============================] - 1s 5ms/step - loss: 0.2088 - accuracy: 0.9240 - val_loss: 3.5506 - val_accuracy: 0.4825\n",
      "Epoch 8/50\n",
      "125/125 [==============================] - 1s 5ms/step - loss: 0.1918 - accuracy: 0.9325 - val_loss: 4.2881 - val_accuracy: 0.4888\n",
      "Epoch 9/50\n",
      "125/125 [==============================] - 1s 5ms/step - loss: 0.1631 - accuracy: 0.9395 - val_loss: 4.4705 - val_accuracy: 0.4800\n",
      "Epoch 10/50\n",
      "125/125 [==============================] - 1s 5ms/step - loss: 0.1418 - accuracy: 0.9475 - val_loss: 3.7770 - val_accuracy: 0.4875\n",
      "Epoch 11/50\n",
      "125/125 [==============================] - 1s 5ms/step - loss: 0.1122 - accuracy: 0.9565 - val_loss: 4.0863 - val_accuracy: 0.4837\n",
      "Epoch 12/50\n",
      "125/125 [==============================] - 1s 5ms/step - loss: 0.1196 - accuracy: 0.9585 - val_loss: 4.6392 - val_accuracy: 0.4863\n",
      "Epoch 13/50\n",
      "125/125 [==============================] - 1s 5ms/step - loss: 0.1041 - accuracy: 0.9625 - val_loss: 4.7858 - val_accuracy: 0.4750\n",
      "Epoch 14/50\n",
      "125/125 [==============================] - 1s 5ms/step - loss: 0.0926 - accuracy: 0.9675 - val_loss: 6.4431 - val_accuracy: 0.4888\n",
      "Epoch 15/50\n",
      "125/125 [==============================] - 1s 5ms/step - loss: 0.0722 - accuracy: 0.9735 - val_loss: 5.6679 - val_accuracy: 0.4837\n",
      "Epoch 16/50\n",
      "125/125 [==============================] - 1s 5ms/step - loss: 0.0793 - accuracy: 0.9750 - val_loss: 6.4844 - val_accuracy: 0.4863\n",
      "Epoch 17/50\n",
      "125/125 [==============================] - 1s 5ms/step - loss: 0.0592 - accuracy: 0.9810 - val_loss: 8.6894 - val_accuracy: 0.4888\n",
      "Epoch 18/50\n",
      "125/125 [==============================] - 1s 5ms/step - loss: 0.0554 - accuracy: 0.9790 - val_loss: 7.2116 - val_accuracy: 0.4938\n",
      "Epoch 19/50\n",
      "125/125 [==============================] - 1s 5ms/step - loss: 0.0427 - accuracy: 0.9830 - val_loss: 6.9558 - val_accuracy: 0.4850\n",
      "Epoch 20/50\n",
      "125/125 [==============================] - 1s 5ms/step - loss: 0.0465 - accuracy: 0.9855 - val_loss: 7.6065 - val_accuracy: 0.4825\n",
      "Epoch 21/50\n",
      "125/125 [==============================] - 1s 5ms/step - loss: 0.0505 - accuracy: 0.9840 - val_loss: 7.9020 - val_accuracy: 0.4837\n",
      "Epoch 22/50\n",
      "125/125 [==============================] - 1s 5ms/step - loss: 0.0514 - accuracy: 0.9825 - val_loss: 7.7065 - val_accuracy: 0.4837\n",
      "Epoch 23/50\n",
      "125/125 [==============================] - 1s 5ms/step - loss: 0.0230 - accuracy: 0.9910 - val_loss: 7.9459 - val_accuracy: 0.4850\n",
      "Epoch 24/50\n",
      "125/125 [==============================] - 1s 5ms/step - loss: 0.0395 - accuracy: 0.9875 - val_loss: 9.6291 - val_accuracy: 0.4925\n",
      "Epoch 25/50\n",
      "125/125 [==============================] - 1s 5ms/step - loss: 0.0288 - accuracy: 0.9900 - val_loss: 8.8745 - val_accuracy: 0.4863\n",
      "Epoch 26/50\n",
      "125/125 [==============================] - 1s 5ms/step - loss: 0.0374 - accuracy: 0.9855 - val_loss: 10.8774 - val_accuracy: 0.4812\n",
      "Epoch 27/50\n",
      "125/125 [==============================] - 1s 5ms/step - loss: 0.0329 - accuracy: 0.9895 - val_loss: 10.6870 - val_accuracy: 0.4837\n",
      "Epoch 28/50\n",
      "125/125 [==============================] - 1s 5ms/step - loss: 0.0280 - accuracy: 0.9910 - val_loss: 11.1744 - val_accuracy: 0.4850\n",
      "Epoch 29/50\n",
      "125/125 [==============================] - 1s 5ms/step - loss: 0.0317 - accuracy: 0.9885 - val_loss: 10.2218 - val_accuracy: 0.4875\n",
      "Epoch 30/50\n",
      "125/125 [==============================] - 1s 5ms/step - loss: 0.0248 - accuracy: 0.9925 - val_loss: 10.7711 - val_accuracy: 0.4825\n",
      "Epoch 31/50\n",
      "125/125 [==============================] - 1s 5ms/step - loss: 0.0310 - accuracy: 0.9890 - val_loss: 11.6246 - val_accuracy: 0.4850\n",
      "Epoch 32/50\n",
      "125/125 [==============================] - 1s 5ms/step - loss: 0.0294 - accuracy: 0.9910 - val_loss: 11.2562 - val_accuracy: 0.4863\n",
      "Epoch 33/50\n",
      "125/125 [==============================] - 1s 5ms/step - loss: 0.0203 - accuracy: 0.9910 - val_loss: 9.6244 - val_accuracy: 0.4837\n",
      "Epoch 34/50\n",
      "125/125 [==============================] - 1s 5ms/step - loss: 0.0299 - accuracy: 0.9915 - val_loss: 11.3945 - val_accuracy: 0.4888\n",
      "Epoch 35/50\n",
      "125/125 [==============================] - 1s 5ms/step - loss: 0.0144 - accuracy: 0.9955 - val_loss: 13.2713 - val_accuracy: 0.4863\n",
      "Epoch 36/50\n",
      "125/125 [==============================] - 1s 5ms/step - loss: 0.0218 - accuracy: 0.9925 - val_loss: 12.3257 - val_accuracy: 0.4888\n",
      "Epoch 37/50\n",
      "125/125 [==============================] - 1s 5ms/step - loss: 0.0144 - accuracy: 0.9955 - val_loss: 11.3086 - val_accuracy: 0.4913\n",
      "Epoch 38/50\n",
      "125/125 [==============================] - 1s 5ms/step - loss: 0.0164 - accuracy: 0.9950 - val_loss: 14.2420 - val_accuracy: 0.4888\n",
      "Epoch 39/50\n",
      "125/125 [==============================] - 1s 5ms/step - loss: 0.0268 - accuracy: 0.9920 - val_loss: 11.4343 - val_accuracy: 0.4800\n",
      "Epoch 40/50\n",
      "125/125 [==============================] - 1s 5ms/step - loss: 0.0117 - accuracy: 0.9955 - val_loss: 12.8042 - val_accuracy: 0.4925\n",
      "Epoch 41/50\n",
      "125/125 [==============================] - 1s 5ms/step - loss: 0.0198 - accuracy: 0.9955 - val_loss: 14.4112 - val_accuracy: 0.4850\n",
      "Epoch 42/50\n",
      "125/125 [==============================] - 1s 5ms/step - loss: 0.0170 - accuracy: 0.9955 - val_loss: 12.6689 - val_accuracy: 0.4863\n",
      "Epoch 43/50\n",
      "125/125 [==============================] - 1s 5ms/step - loss: 0.0189 - accuracy: 0.9955 - val_loss: 14.5625 - val_accuracy: 0.4762\n",
      "Epoch 44/50\n",
      "125/125 [==============================] - 1s 5ms/step - loss: 0.0154 - accuracy: 0.9955 - val_loss: 13.2770 - val_accuracy: 0.4850\n",
      "Epoch 45/50\n",
      "125/125 [==============================] - 1s 5ms/step - loss: 0.0189 - accuracy: 0.9940 - val_loss: 14.3215 - val_accuracy: 0.4750\n",
      "Epoch 46/50\n",
      "125/125 [==============================] - 1s 5ms/step - loss: 0.0177 - accuracy: 0.9935 - val_loss: 13.7984 - val_accuracy: 0.4825\n",
      "Epoch 47/50\n",
      "125/125 [==============================] - 1s 5ms/step - loss: 0.0047 - accuracy: 0.9990 - val_loss: 15.4009 - val_accuracy: 0.4812\n",
      "Epoch 48/50\n",
      "125/125 [==============================] - 1s 5ms/step - loss: 0.0129 - accuracy: 0.9975 - val_loss: 15.4866 - val_accuracy: 0.4875\n",
      "Epoch 49/50\n",
      "125/125 [==============================] - 1s 5ms/step - loss: 0.0103 - accuracy: 0.9975 - val_loss: 16.2710 - val_accuracy: 0.4825\n",
      "Epoch 50/50\n",
      "125/125 [==============================] - 1s 5ms/step - loss: 0.0157 - accuracy: 0.9960 - val_loss: 14.4543 - val_accuracy: 0.4863\n"
     ]
    }
   ],
   "source": [
    "save_bottlebeck_features()\n",
    "train_top_model()"
   ]
  }
 ],
 "metadata": {
  "kernelspec": {
   "display_name": "Python 3 (ipykernel)",
   "language": "python",
   "name": "python3"
  },
  "language_info": {
   "codemirror_mode": {
    "name": "ipython",
    "version": 3
   },
   "file_extension": ".py",
   "mimetype": "text/x-python",
   "name": "python",
   "nbconvert_exporter": "python",
   "pygments_lexer": "ipython3",
   "version": "3.9.7"
  }
 },
 "nbformat": 4,
 "nbformat_minor": 5
}