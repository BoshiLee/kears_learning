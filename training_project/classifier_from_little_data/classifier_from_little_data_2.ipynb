{
 "cells": [
  {
   "cell_type": "markdown",
   "id": "3b46170a",
   "metadata": {},
   "source": [
    "It uses data that can be downloaded at:\n",
    "https://www.kaggle.com/c/dogs-vs-cats/data\n",
    "In our setup, we:\n",
    "- created a data/ folder\n",
    "- created train/ and validation/ subfolders inside data/\n",
    "- created cats/ and dogs/ subfolders inside train/ and validation/\n",
    "- put the cat pictures index 0-999 in data/train/cats\n",
    "- put the cat pictures index 1000-1399 in data/validation/cats\n",
    "- put the dogs pictures index 0-999 in data/train/dogs\n",
    "- put the dog pictures index 1000-1399 in data/validation/dogs\n",
    "So that we have 1000 training examples for each class, and 400 validation examples for each class.\n",
    "In summary, this is our directory structure:\n",
    "```\n",
    "data/\n",
    "    train/\n",
    "        \n",
    "        cats/\n",
    "            cat.0.jpg\n",
    "            cat.1.jpg\n",
    "            ...\n",
    "        dogs/\n",
    "            dog.0.jpg\n",
    "            dog.1.jpg\n",
    "            ...  \n",
    "    validation/\n",
    "        cats/\n",
    "            cat.1000.jpg\n",
    "            cat.1001.jpg\n",
    "            ...\n",
    "        dogs/\n",
    "            dog.1000.jpg\n",
    "            dog.1001.jpg\n",
    "            ..."
   ]
  },
  {
   "cell_type": "code",
   "execution_count": 1,
   "id": "d85842e6",
   "metadata": {},
   "outputs": [],
   "source": [
    "import numpy as np\n",
    "import tensorflow as tf\n",
    "from keras.preprocessing.image import ImageDataGenerator\n",
    "from keras.models import Sequential\n",
    "from keras.layers import Dropout, Flatten, Dense\n",
    "from keras import applications\n"
   ]
  },
  {
   "cell_type": "code",
   "execution_count": 2,
   "id": "da1c42bb",
   "metadata": {},
   "outputs": [],
   "source": [
    "# dimensions of our images.\n",
    "img_width, img_height = 150, 150"
   ]
  },
  {
   "cell_type": "code",
   "execution_count": 3,
   "id": "d4137365",
   "metadata": {},
   "outputs": [],
   "source": [
    "top_model_weights_path = 'bottleneck_fc_model.h5'\n",
    "train_data_dir = 'data/train'\n",
    "validation_data_dir = 'data/validation'\n",
    "nb_train_samples = 2000\n",
    "nb_validation_samples = 800\n",
    "epochs = 50\n",
    "batch_size = 16"
   ]
  },
  {
   "cell_type": "code",
   "execution_count": 4,
   "id": "ddbfccec",
   "metadata": {},
   "outputs": [],
   "source": [
    "def save_bottlebeck_features():\n",
    "    datagen = ImageDataGenerator(rescale=1. / 255)\n",
    "\n",
    "    # build the VGG16 network\n",
    "    model = applications.vgg16.VGG16(include_top=False, weights='imagenet')\n",
    "\n",
    "    generator = datagen.flow_from_directory(\n",
    "        train_data_dir,\n",
    "        target_size=(img_width, img_height),\n",
    "        batch_size=batch_size,\n",
    "        class_mode=None,\n",
    "        shuffle=False)\n",
    "    bottleneck_features_train = model.predict_generator(\n",
    "        generator, nb_train_samples // batch_size)\n",
    "    np.save(open('bottleneck_features_train.npy', 'wb'),\n",
    "            bottleneck_features_train)\n",
    "\n",
    "    generator = datagen.flow_from_directory(\n",
    "        validation_data_dir,\n",
    "        target_size=(img_width, img_height),\n",
    "        batch_size=batch_size,\n",
    "        class_mode=None,\n",
    "        shuffle=False)\n",
    "    bottleneck_features_validation = model.predict_generator(\n",
    "        generator, nb_validation_samples // batch_size)\n",
    "    np.save(open('bottleneck_features_validation.npy', 'wb'),\n",
    "            bottleneck_features_validation)"
   ]
  },
  {
   "cell_type": "code",
   "execution_count": 5,
   "id": "dc14ee6a",
   "metadata": {},
   "outputs": [],
   "source": [
    "def train_top_model():\n",
    "    train_data = np.load(open('bottleneck_features_train.npy','rb'))\n",
    "    train_labels = np.array([0] * 1000 + [1] * 1000)\n",
    "\n",
    "    validation_data = np.load(open('bottleneck_features_validation.npy','rb'))\n",
    "    validation_labels = np.array([0] * 400 + [1] * 400)\n",
    "\n",
    "    model = Sequential()\n",
    "    model.add(Flatten(input_shape=train_data.shape[1:]))\n",
    "    model.add(Dense(256, activation='relu'))\n",
    "    model.add(Dropout(0.5))\n",
    "    model.add(Dense(1, activation='sigmoid'))\n",
    "\n",
    "    model.compile(optimizer='rmsprop',\n",
    "                  loss='binary_crossentropy', metrics=['accuracy'])\n",
    "\n",
    "    model.fit(train_data, train_labels,\n",
    "              epochs=epochs,\n",
    "              batch_size=batch_size,\n",
    "              validation_data=(validation_data, validation_labels))\n",
    "    model.save_weights(top_model_weights_path)"
   ]
  },
  {
   "cell_type": "code",
   "execution_count": 6,
   "id": "6e1efda5",
   "metadata": {
    "pycharm": {
     "name": "#%%\n"
    }
   },
   "outputs": [
    {
     "name": "stdout",
     "output_type": "stream",
     "text": [
      "Found 2000 images belonging to 2 classes.\n"
     ]
    },
    {
     "name": "stderr",
     "output_type": "stream",
     "text": [
      "C:\\Users\\boshi\\AppData\\Local\\Temp/ipykernel_7360/3673972680.py:13: UserWarning: `Model.predict_generator` is deprecated and will be removed in a future version. Please use `Model.predict`, which supports generators.\n",
      "  bottleneck_features_train = model.predict_generator(\n"
     ]
    },
    {
     "name": "stdout",
     "output_type": "stream",
     "text": [
      "Found 23000 images belonging to 2 classes.\n"
     ]
    },
    {
     "name": "stderr",
     "output_type": "stream",
     "text": [
      "C:\\Users\\boshi\\AppData\\Local\\Temp/ipykernel_7360/3673972680.py:24: UserWarning: `Model.predict_generator` is deprecated and will be removed in a future version. Please use `Model.predict`, which supports generators.\n",
      "  bottleneck_features_validation = model.predict_generator(\n"
     ]
    },
    {
     "name": "stdout",
     "output_type": "stream",
     "text": [
      "Epoch 1/50\n",
      "125/125 [==============================] - 1s 5ms/step - loss: 0.6506 - accuracy: 0.7755 - val_loss: 1.4565 - val_accuracy: 0.4913\n",
      "Epoch 2/50\n",
      "125/125 [==============================] - 1s 5ms/step - loss: 0.3512 - accuracy: 0.8560 - val_loss: 1.4605 - val_accuracy: 0.4913\n",
      "Epoch 3/50\n",
      "125/125 [==============================] - 1s 5ms/step - loss: 0.3009 - accuracy: 0.8790 - val_loss: 2.8835 - val_accuracy: 0.4988\n",
      "Epoch 4/50\n",
      "125/125 [==============================] - 1s 5ms/step - loss: 0.2522 - accuracy: 0.9015 - val_loss: 2.3581 - val_accuracy: 0.4863\n",
      "Epoch 5/50\n",
      "125/125 [==============================] - 1s 5ms/step - loss: 0.2274 - accuracy: 0.9085 - val_loss: 3.4225 - val_accuracy: 0.4863\n",
      "Epoch 6/50\n",
      "125/125 [==============================] - 1s 4ms/step - loss: 0.2036 - accuracy: 0.9230 - val_loss: 3.3492 - val_accuracy: 0.4812\n",
      "Epoch 7/50\n",
      "125/125 [==============================] - 1s 5ms/step - loss: 0.1776 - accuracy: 0.9355 - val_loss: 3.2560 - val_accuracy: 0.4800\n",
      "Epoch 8/50\n",
      "125/125 [==============================] - 1s 5ms/step - loss: 0.1685 - accuracy: 0.9395 - val_loss: 4.1323 - val_accuracy: 0.4875\n",
      "Epoch 9/50\n",
      "125/125 [==============================] - 1s 5ms/step - loss: 0.1474 - accuracy: 0.9495 - val_loss: 3.7886 - val_accuracy: 0.4825\n",
      "Epoch 10/50\n",
      "125/125 [==============================] - 1s 5ms/step - loss: 0.1417 - accuracy: 0.9495 - val_loss: 3.2706 - val_accuracy: 0.4900\n",
      "Epoch 11/50\n",
      "125/125 [==============================] - 1s 5ms/step - loss: 0.1052 - accuracy: 0.9585 - val_loss: 6.2767 - val_accuracy: 0.4963\n",
      "Epoch 12/50\n",
      "125/125 [==============================] - 1s 5ms/step - loss: 0.1004 - accuracy: 0.9600 - val_loss: 4.2723 - val_accuracy: 0.4888\n",
      "Epoch 13/50\n",
      "125/125 [==============================] - 1s 5ms/step - loss: 0.0748 - accuracy: 0.9710 - val_loss: 6.1796 - val_accuracy: 0.4913\n",
      "Epoch 14/50\n",
      "125/125 [==============================] - 1s 5ms/step - loss: 0.0936 - accuracy: 0.9650 - val_loss: 6.7905 - val_accuracy: 0.5025\n",
      "Epoch 15/50\n",
      "125/125 [==============================] - 1s 5ms/step - loss: 0.0743 - accuracy: 0.9675 - val_loss: 5.8589 - val_accuracy: 0.4900\n",
      "Epoch 16/50\n",
      "125/125 [==============================] - 1s 5ms/step - loss: 0.0686 - accuracy: 0.9740 - val_loss: 5.5269 - val_accuracy: 0.4837\n",
      "Epoch 17/50\n",
      "125/125 [==============================] - 1s 5ms/step - loss: 0.0643 - accuracy: 0.9805 - val_loss: 5.4212 - val_accuracy: 0.4800\n",
      "Epoch 18/50\n",
      "125/125 [==============================] - 1s 4ms/step - loss: 0.0694 - accuracy: 0.9720 - val_loss: 6.7125 - val_accuracy: 0.4800\n",
      "Epoch 19/50\n",
      "125/125 [==============================] - 1s 5ms/step - loss: 0.0596 - accuracy: 0.9795 - val_loss: 5.9997 - val_accuracy: 0.4800\n",
      "Epoch 20/50\n",
      "125/125 [==============================] - 1s 5ms/step - loss: 0.0557 - accuracy: 0.9775 - val_loss: 7.0844 - val_accuracy: 0.4850\n",
      "Epoch 21/50\n",
      "125/125 [==============================] - 1s 5ms/step - loss: 0.0382 - accuracy: 0.9845 - val_loss: 8.3088 - val_accuracy: 0.4900\n",
      "Epoch 22/50\n",
      "125/125 [==============================] - 1s 5ms/step - loss: 0.0412 - accuracy: 0.9830 - val_loss: 9.5139 - val_accuracy: 0.4875\n",
      "Epoch 23/50\n",
      "125/125 [==============================] - 1s 4ms/step - loss: 0.0520 - accuracy: 0.9855 - val_loss: 6.8250 - val_accuracy: 0.4900\n",
      "Epoch 24/50\n",
      "125/125 [==============================] - 1s 5ms/step - loss: 0.0471 - accuracy: 0.9840 - val_loss: 8.4688 - val_accuracy: 0.4900\n",
      "Epoch 25/50\n",
      "125/125 [==============================] - 1s 5ms/step - loss: 0.0283 - accuracy: 0.9875 - val_loss: 8.4540 - val_accuracy: 0.4913\n",
      "Epoch 26/50\n",
      "125/125 [==============================] - 1s 5ms/step - loss: 0.0403 - accuracy: 0.9860 - val_loss: 8.5329 - val_accuracy: 0.4888\n",
      "Epoch 27/50\n",
      "125/125 [==============================] - 1s 5ms/step - loss: 0.0211 - accuracy: 0.9920 - val_loss: 10.6192 - val_accuracy: 0.4812\n",
      "Epoch 28/50\n",
      "125/125 [==============================] - 1s 4ms/step - loss: 0.0316 - accuracy: 0.9895 - val_loss: 9.3400 - val_accuracy: 0.4900\n",
      "Epoch 29/50\n",
      "125/125 [==============================] - 1s 4ms/step - loss: 0.0209 - accuracy: 0.9905 - val_loss: 10.6184 - val_accuracy: 0.4900\n",
      "Epoch 30/50\n",
      "125/125 [==============================] - 1s 5ms/step - loss: 0.0257 - accuracy: 0.9915 - val_loss: 8.0639 - val_accuracy: 0.4825\n",
      "Epoch 31/50\n",
      "125/125 [==============================] - 1s 4ms/step - loss: 0.0248 - accuracy: 0.9930 - val_loss: 11.9796 - val_accuracy: 0.4900\n",
      "Epoch 32/50\n",
      "125/125 [==============================] - 1s 4ms/step - loss: 0.0212 - accuracy: 0.9955 - val_loss: 10.7832 - val_accuracy: 0.4837\n",
      "Epoch 33/50\n",
      "125/125 [==============================] - 1s 5ms/step - loss: 0.0172 - accuracy: 0.9930 - val_loss: 11.4299 - val_accuracy: 0.4875\n",
      "Epoch 34/50\n",
      "125/125 [==============================] - 1s 4ms/step - loss: 0.0182 - accuracy: 0.9935 - val_loss: 12.4162 - val_accuracy: 0.4888\n",
      "Epoch 35/50\n",
      "125/125 [==============================] - 1s 5ms/step - loss: 0.0284 - accuracy: 0.9930 - val_loss: 10.1994 - val_accuracy: 0.4825\n",
      "Epoch 36/50\n",
      "125/125 [==============================] - 1s 4ms/step - loss: 0.0182 - accuracy: 0.9930 - val_loss: 10.7771 - val_accuracy: 0.4900\n",
      "Epoch 37/50\n",
      "125/125 [==============================] - 1s 4ms/step - loss: 0.0089 - accuracy: 0.9970 - val_loss: 11.6515 - val_accuracy: 0.4938\n",
      "Epoch 38/50\n",
      "125/125 [==============================] - 1s 5ms/step - loss: 0.0226 - accuracy: 0.9940 - val_loss: 10.1579 - val_accuracy: 0.4875\n",
      "Epoch 39/50\n",
      "125/125 [==============================] - 1s 5ms/step - loss: 0.0126 - accuracy: 0.9980 - val_loss: 11.3696 - val_accuracy: 0.4775\n",
      "Epoch 40/50\n",
      "125/125 [==============================] - 1s 5ms/step - loss: 0.0170 - accuracy: 0.9945 - val_loss: 9.8738 - val_accuracy: 0.4800\n",
      "Epoch 41/50\n",
      "125/125 [==============================] - 1s 5ms/step - loss: 0.0234 - accuracy: 0.9935 - val_loss: 12.3417 - val_accuracy: 0.4863\n",
      "Epoch 42/50\n",
      "125/125 [==============================] - 1s 5ms/step - loss: 0.0055 - accuracy: 0.9985 - val_loss: 12.6539 - val_accuracy: 0.4925\n",
      "Epoch 43/50\n",
      "125/125 [==============================] - 1s 4ms/step - loss: 0.0258 - accuracy: 0.9925 - val_loss: 12.1813 - val_accuracy: 0.4888\n",
      "Epoch 44/50\n",
      "125/125 [==============================] - 1s 4ms/step - loss: 0.0085 - accuracy: 0.9970 - val_loss: 12.8181 - val_accuracy: 0.4850\n",
      "Epoch 45/50\n",
      "125/125 [==============================] - 1s 5ms/step - loss: 0.0059 - accuracy: 0.9980 - val_loss: 11.6964 - val_accuracy: 0.4800\n",
      "Epoch 46/50\n",
      "125/125 [==============================] - 1s 5ms/step - loss: 0.0156 - accuracy: 0.9950 - val_loss: 11.6773 - val_accuracy: 0.4825\n",
      "Epoch 47/50\n",
      "125/125 [==============================] - 1s 4ms/step - loss: 0.0147 - accuracy: 0.9965 - val_loss: 11.6499 - val_accuracy: 0.4900\n",
      "Epoch 48/50\n",
      "125/125 [==============================] - 1s 5ms/step - loss: 0.0052 - accuracy: 0.9985 - val_loss: 12.5061 - val_accuracy: 0.4837\n",
      "Epoch 49/50\n",
      "125/125 [==============================] - 1s 4ms/step - loss: 0.0063 - accuracy: 0.9985 - val_loss: 11.8619 - val_accuracy: 0.4787\n",
      "Epoch 50/50\n",
      "125/125 [==============================] - 1s 5ms/step - loss: 0.0184 - accuracy: 0.9965 - val_loss: 11.8365 - val_accuracy: 0.4875\n"
     ]
    }
   ],
   "source": [
    "save_bottlebeck_features()\n",
    "train_top_model()"
   ]
  }
 ],
 "metadata": {
  "kernelspec": {
   "display_name": "Python 3 (ipykernel)",
   "language": "python",
   "name": "python3"
  },
  "language_info": {
   "codemirror_mode": {
    "name": "ipython",
    "version": 3
   },
   "file_extension": ".py",
   "mimetype": "text/x-python",
   "name": "python",
   "nbconvert_exporter": "python",
   "pygments_lexer": "ipython3",
   "version": "3.9.7"
  }
 },
 "nbformat": 4,
 "nbformat_minor": 5
}